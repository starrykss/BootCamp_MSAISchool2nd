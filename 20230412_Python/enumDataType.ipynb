{
 "cells": [
  {
   "attachments": {},
   "cell_type": "markdown",
   "metadata": {},
   "source": [
    "# **열거형 자료 구조**\n",
    "---"
   ]
  },
  {
   "attachments": {},
   "cell_type": "markdown",
   "metadata": {},
   "source": [
    "## **List**\n",
    "\n",
    "- 가장 많이 사용하는 객체\n",
    "- 가장 사용하기 무거운 객체\n",
    "\n",
    "---"
   ]
  },
  {
   "cell_type": "code",
   "execution_count": 45,
   "metadata": {},
   "outputs": [
    {
     "name": "stdout",
     "output_type": "stream",
     "text": [
      "['red', 'green', 'gold']\n",
      "<class 'list'>\n"
     ]
    }
   ],
   "source": [
    "colors = ['red', 'green', 'gold']\n",
    "print(colors)\n",
    "print(type(colors))    # 타입 확인"
   ]
  },
  {
   "cell_type": "code",
   "execution_count": 46,
   "metadata": {},
   "outputs": [
    {
     "name": "stdout",
     "output_type": "stream",
     "text": [
      "['red', 'green', 'gold', 'blue']\n"
     ]
    }
   ],
   "source": [
    "colors.append('blue')    # 요소 추가\n",
    "print(colors)"
   ]
  },
  {
   "cell_type": "code",
   "execution_count": 47,
   "metadata": {},
   "outputs": [
    {
     "name": "stdout",
     "output_type": "stream",
     "text": [
      "['red', 'black', 'green', 'gold', 'blue']\n"
     ]
    }
   ],
   "source": [
    "colors.insert(1, 'black')    # 원하는 위치에 요소 삽입하기\n",
    "print(colors)"
   ]
  },
  {
   "cell_type": "code",
   "execution_count": 48,
   "metadata": {},
   "outputs": [
    {
     "name": "stdout",
     "output_type": "stream",
     "text": [
      "['red', 'black', 'green', 'gold', 'blue', 'white', 'gray']\n"
     ]
    }
   ],
   "source": [
    "colors.extend(['white', 'gray'])    # 동시에 여러 요소 삽입하기 (맨 뒤쪽에)\n",
    "print(colors)"
   ]
  },
  {
   "cell_type": "code",
   "execution_count": 49,
   "metadata": {},
   "outputs": [
    {
     "name": "stdout",
     "output_type": "stream",
     "text": [
      "['red', 'black', 'green', 'gold', 'blue', 'white', 'gray', 'rainbow', 'brown', 'red']\n"
     ]
    }
   ],
   "source": [
    "# 다음처럼, 연산자를 이용하는 방법은 혼란을 야기할 수 있기 때문에, 가급적 사용하지 않도록 한다.\n",
    "colors += [\"rainbow\", \"brown\"]\n",
    "colors = colors + ['red']\n",
    "print(colors)"
   ]
  },
  {
   "cell_type": "code",
   "execution_count": 50,
   "metadata": {},
   "outputs": [
    {
     "name": "stdout",
     "output_type": "stream",
     "text": [
      "0\n",
      "9\n"
     ]
    }
   ],
   "source": [
    "print(colors.index('red'))       # red 요소의 첫 번째 인덱스 출력\n",
    "print(colors.index('red', 1))    # 첫 번째 인덱스부터 시작하여 red 요소를 찾아 그 인덱스를 출력"
   ]
  },
  {
   "cell_type": "code",
   "execution_count": 51,
   "metadata": {},
   "outputs": [
    {
     "name": "stdout",
     "output_type": "stream",
     "text": [
      "2\n"
     ]
    }
   ],
   "source": [
    "print(colors.count('red'))    # red 요소의 총 개수 구하기"
   ]
  },
  {
   "attachments": {},
   "cell_type": "markdown",
   "metadata": {},
   "source": [
    "- 리스트는 스택 구조로 이루어져 있다."
   ]
  },
  {
   "cell_type": "code",
   "execution_count": 52,
   "metadata": {},
   "outputs": [
    {
     "data": {
      "text/plain": [
       "'red'"
      ]
     },
     "execution_count": 52,
     "metadata": {},
     "output_type": "execute_result"
    }
   ],
   "source": [
    "colors.pop()    # 맨 앞의 요소를 뺴낸다."
   ]
  },
  {
   "cell_type": "code",
   "execution_count": 53,
   "metadata": {},
   "outputs": [
    {
     "data": {
      "text/plain": [
       "'black'"
      ]
     },
     "execution_count": 53,
     "metadata": {},
     "output_type": "execute_result"
    }
   ],
   "source": [
    "colors.pop(1)   # 첫 번째 인덱스의 요소를 빼낸다."
   ]
  },
  {
   "cell_type": "code",
   "execution_count": 54,
   "metadata": {},
   "outputs": [
    {
     "name": "stdout",
     "output_type": "stream",
     "text": [
      "['red', 'green', 'gold', 'blue', 'white', 'gray', 'rainbow', 'brown']\n"
     ]
    }
   ],
   "source": [
    "print(colors)"
   ]
  },
  {
   "cell_type": "code",
   "execution_count": 55,
   "metadata": {},
   "outputs": [
    {
     "name": "stdout",
     "output_type": "stream",
     "text": [
      "['red', 'green', 'blue', 'white', 'gray', 'rainbow', 'brown']\n"
     ]
    }
   ],
   "source": [
    "# remove는 해당 값을 삭제 할 수 있다.\n",
    "colors.remove('gold')    # gold 요소 삭제\n",
    "print(colors)"
   ]
  },
  {
   "cell_type": "code",
   "execution_count": 57,
   "metadata": {},
   "outputs": [
    {
     "name": "stdout",
     "output_type": "stream",
     "text": [
      "['blue', 'brown', 'gray', 'green', 'rainbow', 'red', 'white']\n",
      "['white', 'red', 'rainbow', 'green', 'gray', 'brown', 'blue']\n"
     ]
    }
   ],
   "source": [
    "colors.sort()     # 정렬 (기본값 : 오름차순)\n",
    "print(colors)\n",
    "\n",
    "colors.sort(reverse=True)    # 정렬 (내림차순)\n",
    "print(colors)"
   ]
  },
  {
   "attachments": {},
   "cell_type": "markdown",
   "metadata": {},
   "source": [
    "## **세트(Set)**\n",
    "\n",
    "- 메모리도 덜 차지하고 CPU 부하도 덜 일으키는 장점이 있다.\n",
    "---"
   ]
  },
  {
   "cell_type": "code",
   "execution_count": 60,
   "metadata": {},
   "outputs": [],
   "source": [
    "a = { 1, 2, 3 }    # Curly Brace로 표현한다.\n",
    "b = { 3, 4, 5 }"
   ]
  },
  {
   "cell_type": "code",
   "execution_count": 61,
   "metadata": {},
   "outputs": [
    {
     "name": "stdout",
     "output_type": "stream",
     "text": [
      "{1, 2, 3} {3, 4, 5}\n",
      "<class 'set'>\n"
     ]
    }
   ],
   "source": [
    "print(a, b)\n",
    "print(type(a))"
   ]
  },
  {
   "cell_type": "code",
   "execution_count": 63,
   "metadata": {},
   "outputs": [
    {
     "name": "stdout",
     "output_type": "stream",
     "text": [
      "{1, 2, 3, 4, 5}\n",
      "{3}\n"
     ]
    }
   ],
   "source": [
    "# 합집합, 교집합을 구할 수 있다.\n",
    "print(a.union(b))           # 합집합 출력\n",
    "print(a.intersection(b))    # 교집합 출력"
   ]
  },
  {
   "cell_type": "code",
   "execution_count": null,
   "metadata": {},
   "outputs": [],
   "source": [
    "print(a - b)                # 차집합 출력\n",
    "print(a | b)                # 합집합\n",
    "print(a & b)                # 교집합"
   ]
  }
 ],
 "metadata": {
  "kernelspec": {
   "display_name": "Python 3",
   "language": "python",
   "name": "python3"
  },
  "language_info": {
   "codemirror_mode": {
    "name": "ipython",
    "version": 3
   },
   "file_extension": ".py",
   "mimetype": "text/x-python",
   "name": "python",
   "nbconvert_exporter": "python",
   "pygments_lexer": "ipython3",
   "version": "3.9.13"
  },
  "orig_nbformat": 4
 },
 "nbformat": 4,
 "nbformat_minor": 2
}
