{
 "cells": [
  {
   "attachments": {},
   "cell_type": "markdown",
   "metadata": {},
   "source": [
    "# **제어문**\n",
    "---"
   ]
  },
  {
   "cell_type": "code",
   "execution_count": 1,
   "metadata": {},
   "outputs": [
    {
     "name": "stdout",
     "output_type": "stream",
     "text": [
      "value is bigger than 5\n"
     ]
    }
   ],
   "source": [
    "# 조건에 따라서 다른 결과를 얻기 위해서 사용하는 것\n",
    "\n",
    "value = 10\n",
    "if value >  5 :\n",
    "    print('value is bigger than 5')"
   ]
  },
  {
   "cell_type": "code",
   "execution_count": 2,
   "metadata": {},
   "outputs": [
    {
     "name": "stdout",
     "output_type": "stream",
     "text": [
      "banana\n"
     ]
    }
   ],
   "source": [
    "money = 10\n",
    "\n",
    "if money > 100:\n",
    "    item = 'apple'\n",
    "else:\n",
    "    item = 'banana'\n",
    "\n",
    "print(item)"
   ]
  },
  {
   "cell_type": "code",
   "execution_count": 8,
   "metadata": {},
   "outputs": [
    {
     "name": "stdout",
     "output_type": "stream",
     "text": [
      "Your score is 77 and your grade is C.\n"
     ]
    }
   ],
   "source": [
    "# 성적 처리\n",
    "\n",
    "score = int(input(\"Input your score:  \"))    # 입력 받기\n",
    "\n",
    "if 90 <= score <= 100:\n",
    "    grade = 'A'\n",
    "elif 80 <= score < 90:\n",
    "    grade = 'B'\n",
    "elif 70 <= score < 80:\n",
    "    grade = 'C'\n",
    "elif 60 <= score < 70:\n",
    "    grade = 'D'\n",
    "else:\n",
    "    grade = 'F'\n",
    "\n",
    "print(\"Your score is {} and your grade is {}.\".format(score, grade))"
   ]
  },
  {
   "attachments": {},
   "cell_type": "markdown",
   "metadata": {},
   "source": [
    "## **`bool`**\n",
    "---"
   ]
  },
  {
   "cell_type": "code",
   "execution_count": 15,
   "metadata": {},
   "outputs": [
    {
     "name": "stdout",
     "output_type": "stream",
     "text": [
      "True\n",
      "False\n",
      "True\n",
      "False\n",
      "True\n",
      "True\n",
      "False\n",
      "True\n",
      "False\n"
     ]
    }
   ],
   "source": [
    "# 조건식의 참과 거짓\n",
    "print(bool(True))\n",
    "print(bool(False))\n",
    "print(bool(123))\n",
    "print(bool(0))     # 0은 False 이다.\n",
    "print(bool(-1))    # -1도 True이다. (0을 제외한 나머지 숫자는 True이다.)\n",
    "print(bool('apple'))\n",
    "print(bool(''))    # 내용이 없으면 False\n",
    "print(bool(' '))   # 공백은 True\n",
    "print(bool())"
   ]
  },
  {
   "attachments": {},
   "cell_type": "markdown",
   "metadata": {},
   "source": [
    "## **반복문 (`while` and `for`)**\n",
    "---"
   ]
  },
  {
   "cell_type": "code",
   "execution_count": 16,
   "metadata": {},
   "outputs": [
    {
     "name": "stdout",
     "output_type": "stream",
     "text": [
      "5\n",
      "4\n",
      "3\n",
      "2\n",
      "1\n"
     ]
    }
   ],
   "source": [
    "value = 5\n",
    "while value > 0:\n",
    "    print(value)\n",
    "    value -= 1"
   ]
  },
  {
   "cell_type": "code",
   "execution_count": 17,
   "metadata": {},
   "outputs": [
    {
     "name": "stdout",
     "output_type": "stream",
     "text": [
      "Apple\n",
      "100\n",
      "15.23\n"
     ]
    }
   ],
   "source": [
    "l = ['Apple', 100, 15.23]\n",
    "for i in l:\n",
    "    print(i)"
   ]
  },
  {
   "cell_type": "code",
   "execution_count": 25,
   "metadata": {},
   "outputs": [
    {
     "name": "stdout",
     "output_type": "stream",
     "text": [
      "i * 1 = 2\n",
      "i * 1 = 3\n",
      "i * 1 = 4\n",
      "i * 1 = 5\n",
      "i * 1 = 6\n",
      "i * 1 = 7\n",
      "i * 1 = 8\n",
      "i * 1 = 9\n",
      "i * 2 = 4\n",
      "i * 2 = 6\n",
      "i * 2 = 8\n",
      "i * 2 = 10\n",
      "i * 2 = 12\n",
      "i * 2 = 14\n",
      "i * 2 = 16\n",
      "i * 2 = 18\n",
      "i * 3 = 6\n",
      "i * 3 = 9\n",
      "i * 3 = 12\n",
      "i * 3 = 15\n",
      "i * 3 = 18\n",
      "i * 3 = 21\n",
      "i * 3 = 24\n",
      "i * 3 = 27\n",
      "i * 4 = 8\n",
      "i * 4 = 12\n",
      "i * 4 = 16\n",
      "i * 4 = 20\n",
      "i * 4 = 24\n",
      "i * 4 = 28\n",
      "i * 4 = 32\n",
      "i * 4 = 36\n",
      "i * 5 = 10\n",
      "i * 5 = 15\n",
      "i * 5 = 20\n",
      "i * 5 = 25\n",
      "i * 5 = 30\n",
      "i * 5 = 35\n",
      "i * 5 = 40\n",
      "i * 5 = 45\n",
      "i * 6 = 12\n",
      "i * 6 = 18\n",
      "i * 6 = 24\n",
      "i * 6 = 30\n",
      "i * 6 = 36\n",
      "i * 6 = 42\n",
      "i * 6 = 48\n",
      "i * 6 = 54\n",
      "i * 7 = 14\n",
      "i * 7 = 21\n",
      "i * 7 = 28\n",
      "i * 7 = 35\n",
      "i * 7 = 42\n",
      "i * 7 = 49\n",
      "i * 7 = 56\n",
      "i * 7 = 63\n",
      "i * 8 = 16\n",
      "i * 8 = 24\n",
      "i * 8 = 32\n",
      "i * 8 = 40\n",
      "i * 8 = 48\n",
      "i * 8 = 56\n",
      "i * 8 = 64\n",
      "i * 8 = 72\n",
      "i * 9 = 18\n",
      "i * 9 = 27\n",
      "i * 9 = 36\n",
      "i * 9 = 45\n",
      "i * 9 = 54\n",
      "i * 9 = 63\n",
      "i * 9 = 72\n",
      "i * 9 = 81\n"
     ]
    },
    {
     "data": {
      "text/plain": [
       "'\\nfor i in loop1:\\n    for j in loop2:\\n        print(i, \"*\", j, \"=\", i * j)\\n'"
      ]
     },
     "execution_count": 25,
     "metadata": {},
     "output_type": "execute_result"
    }
   ],
   "source": [
    "# 구구단 출력\n",
    "loop1 = [2, 3, 4, 5, 6, 7, 8, 9]\n",
    "loop2 = [1, 2, 3, 4, 5, 6, 7, 8, 9]\n",
    "\n",
    "for i in loop2:\n",
    "    for j in loop1:\n",
    "        print(\"i * {0} = {1}\".format(i, i * j))\n",
    "\"\"\"\n",
    "for i in loop1:\n",
    "    for j in loop2:\n",
    "        print(i, \"*\", j, \"=\", i * j)\n",
    "\"\"\"\n",
    "\n",
    "        "
   ]
  },
  {
   "cell_type": "code",
   "execution_count": null,
   "metadata": {},
   "outputs": [],
   "source": []
  }
 ],
 "metadata": {
  "kernelspec": {
   "display_name": "base",
   "language": "python",
   "name": "python3"
  },
  "language_info": {
   "name": "python",
   "version": "3.10.9"
  },
  "orig_nbformat": 4
 },
 "nbformat": 4,
 "nbformat_minor": 2
}
