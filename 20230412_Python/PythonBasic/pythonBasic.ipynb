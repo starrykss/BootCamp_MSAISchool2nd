{
  "cells": [
    {
      "attachments": {},
      "cell_type": "markdown",
      "metadata": {
        "id": "vgSOtnq0JtZd"
      },
      "source": [
        "# **파이썬 기초**\n",
        "---"
      ]
    },
    {
      "cell_type": "code",
      "execution_count": null,
      "metadata": {
        "colab": {
          "base_uri": "https://localhost:8080/"
        },
        "id": "i08YOgWkDKAs",
        "outputId": "39e3396b-5e55-40d4-d51c-58096ed0f9b0"
      },
      "outputs": [
        {
          "name": "stdout",
          "output_type": "stream",
          "text": [
            "Hello World\n"
          ]
        }
      ],
      "source": [
        "print('Hello World')"
      ]
    },
    {
      "cell_type": "code",
      "execution_count": null,
      "metadata": {
        "id": "u5fuaPeZDiWW"
      },
      "outputs": [],
      "source": [
        "# 텍스트를 삽입할 수도 있다."
      ]
    },
    {
      "cell_type": "markdown",
      "metadata": {
        "id": "SOgifGySEZZL"
      },
      "source": [
        "첫 번째 파이썬 코드를 실행했습니다."
      ]
    },
    {
      "cell_type": "markdown",
      "metadata": {
        "id": "XPsBJm-MFInt"
      },
      "source": [
        "# 큰 글씨\n",
        "아이유 콘서트 티켓 빡셈.\n",
        "\n",
        "![아이유](https://pbs.twimg.com/profile_images/1374979417915547648/vKspl9Et_400x400.jpg)\n",
        "## 다음 큰 글씨\n",
        "### 다음 큰 글씨\n",
        "#### 다음 큰 글씨\n",
        "##### 다음 큰 글씨 (5개까지 가능하다.)\n",
        "\n",
        "\n",
        "이러한 문법을 Markdown 이라고 한다.\n",
        "\n",
        "🔶 [마크다운 공부하기](https://gist.github.com/ihoneymon/652be052a0727ad59601)"
      ]
    },
    {
      "cell_type": "markdown",
      "metadata": {
        "id": "EKS1mUheJpKQ"
      },
      "source": [
        "# **변수 규칙**\n",
        "---\n"
      ]
    },
    {
      "cell_type": "code",
      "execution_count": null,
      "metadata": {
        "colab": {
          "base_uri": "https://localhost:8080/"
        },
        "id": "7Zwp7qobEXy8",
        "outputId": "6ffa3a07-6955-46a8-ca7e-809d5a7aeb11"
      },
      "outputs": [
        {
          "name": "stdout",
          "output_type": "stream",
          "text": [
            "2\n"
          ]
        }
      ],
      "source": [
        "a = 1\n",
        "b = 2\n",
        "print(a * b)"
      ]
    },
    {
      "cell_type": "code",
      "execution_count": null,
      "metadata": {
        "colab": {
          "base_uri": "https://localhost:8080/"
        },
        "id": "veafutVnJye9",
        "outputId": "92cdfb2c-563e-429a-ac37-0b4b61768726"
      },
      "outputs": [
        {
          "name": "stdout",
          "output_type": "stream",
          "text": [
            "3, 100\n"
          ]
        }
      ],
      "source": [
        "# 2a = 3    # 변수명은 숫자로 시작할 수 없다.\n",
        "# $a = 3    # 변수명은 특수 문자로 시작할 수 없다.\n",
        "a = 3       # 변수명은 항상 문자로 시작해야 한다.\n",
        "학생수 = 100\n",
        "\n",
        "print(\"{}, {}\".format(a, 학생수))"
      ]
    },
    {
      "cell_type": "code",
      "execution_count": null,
      "metadata": {
        "colab": {
          "base_uri": "https://localhost:8080/"
        },
        "id": "46lGun7ILPQ3",
        "outputId": "b3e3b998-9985-4b11-cac0-3157f9dff195"
      },
      "outputs": [
        {
          "name": "stdout",
          "output_type": "stream",
          "text": [
            "100 100 Seoul\n"
          ]
        }
      ],
      "source": [
        "stn_c = 100            # 과거에는 변수 이름을 줄여야할 정도로 환경이 열악했던 때였다.\n",
        "student_count = 100    # 지금은 가독성을 높이는 것이 중요한 시대가 되었으므로, Full-word로 쓰는게 좋다.\n",
        "address =\"Seoul\"       # Juso와 같이 로마자 표기법으로 쓰지 않고, 정확한 영어로 쓰는 것이 좋다.\n",
        "\n",
        "print(stn_c, student_count, address)"
      ]
    },
    {
      "cell_type": "code",
      "execution_count": null,
      "metadata": {
        "colab": {
          "base_uri": "https://localhost:8080/"
        },
        "id": "Pp0nfTVCL8Cl",
        "outputId": "0be8cdb9-57e4-45ee-c64b-ddef85765fa0"
      },
      "outputs": [
        {
          "name": "stdout",
          "output_type": "stream",
          "text": [
            "1\n"
          ]
        }
      ],
      "source": [
        "friend = 1\n",
        "Friend = 10\n",
        "print(friend)    # 1 출력, 변수명은 대소문자를 구별하여 사용한다."
      ]
    },
    {
      "cell_type": "code",
      "execution_count": null,
      "metadata": {
        "colab": {
          "base_uri": "https://localhost:8080/",
          "height": 137
        },
        "id": "0OPBntF0Qx1O",
        "outputId": "6caf2a71-9c46-4f1f-a25b-369cef27ee2a"
      },
      "outputs": [
        {
          "ename": "SyntaxError",
          "evalue": "ignored",
          "output_type": "error",
          "traceback": [
            "\u001b[0;36m  File \u001b[0;32m\"<ipython-input-16-9f0d9c1f2b2a>\"\u001b[0;36m, line \u001b[0;32m3\u001b[0m\n\u001b[0;31m    for = 1\u001b[0m\n\u001b[0m        ^\u001b[0m\n\u001b[0;31mSyntaxError\u001b[0m\u001b[0;31m:\u001b[0m invalid syntax\n"
          ]
        }
      ],
      "source": [
        "# 예약어는 변수명으로 사용할 수 없다.\n",
        "# 예 : for, if, try 등\n",
        "for = 1"
      ]
    },
    {
      "cell_type": "code",
      "execution_count": null,
      "metadata": {
        "colab": {
          "base_uri": "https://localhost:8080/"
        },
        "id": "r5sr-yriQ2ta",
        "outputId": "20fae555-cb85-4a99-a46f-dd88acc48eca"
      },
      "outputs": [
        {
          "name": "stdout",
          "output_type": "stream",
          "text": [
            "2023 4\n"
          ]
        }
      ],
      "source": [
        "# 숫자형\n",
        "year = 2023\n",
        "month = 4\n",
        "print(year, month)"
      ]
    },
    {
      "cell_type": "code",
      "execution_count": null,
      "metadata": {
        "colab": {
          "base_uri": "https://localhost:8080/"
        },
        "id": "B47LNk3lRUcN",
        "outputId": "b73deb2d-d442-4d46-c07c-daaede285bd8"
      },
      "outputs": [
        {
          "name": "stdout",
          "output_type": "stream",
          "text": [
            "<class 'int'>\n",
            "<class 'str'>\n"
          ]
        }
      ],
      "source": [
        "year = 2023            # 정수형(int)\n",
        "print(type(year))      # type() 함수는 해당 객체의 자료형(Data Type)을 반환해준다.\n",
        "\n",
        "year = '이천이십삼년'  # 문자열(string)\n",
        "print(type(year))"
      ]
    },
    {
      "cell_type": "code",
      "execution_count": null,
      "metadata": {
        "colab": {
          "base_uri": "https://localhost:8080/"
        },
        "id": "p52SeTnLRj1Y",
        "outputId": "a6bdf70f-a85b-4086-c957-4ad9ec5c3600"
      },
      "outputs": [
        {
          "name": "stdout",
          "output_type": "stream",
          "text": [
            "8\n",
            "2\n",
            "16\n"
          ]
        }
      ],
      "source": [
        "# 8진수\n",
        "# 정수 앞에 0o를 붙이면 8진수\n",
        "print(0o10)    # 8진수를 10진수로 출력\n",
        "\n",
        "# 정수 앞에 0b를 붙이면 2진수\n",
        "print(0b10)    # 2진수를 10진수로 출력\n",
        "\n",
        "# 정수 앞에 0x를 붙이면 16진수\n",
        "print(0x10)    # 16진수를 10진수로 출력력"
      ]
    },
    {
      "cell_type": "code",
      "execution_count": null,
      "metadata": {
        "colab": {
          "base_uri": "https://localhost:8080/"
        },
        "id": "KMiefVeVSgut",
        "outputId": "36e1ff36-59f1-485b-e292-04a7388c2706"
      },
      "outputs": [
        {
          "name": "stdout",
          "output_type": "stream",
          "text": [
            "<class 'int'>\n",
            "<class 'str'>\n",
            "<class 'str'>\n",
            "<class 'str'>\n",
            "0b100110\n",
            "0o46\n",
            "0x26\n"
          ]
        }
      ],
      "source": [
        "# 다음은 10진수를 받아서 각 진수로 변환한다.\n",
        "# 결과가 문자형이다.\n",
        "\n",
        "print(type(38))\n",
        "print(type(bin(38)))    # 38이라는 10진수를 2진수로 변환한다.\n",
        "print(type(oct(38)))    # 38이라는 10진수를 8진수로 변환한다.\n",
        "print(type(hex(38)))    # 38이라는 10진수를 16진수로 변환한다.\n",
        "\n",
        "print(bin(38))\n",
        "print(oct(38))\n",
        "print(hex(38))"
      ]
    },
    {
      "cell_type": "code",
      "execution_count": null,
      "metadata": {
        "colab": {
          "base_uri": "https://localhost:8080/"
        },
        "id": "Jo5HO2mHTlYy",
        "outputId": "fcff353d-23a9-4e33-9b6c-082deda318ed"
      },
      "outputs": [
        {
          "name": "stdout",
          "output_type": "stream",
          "text": [
            "<class 'int'>\n",
            "<class 'int'>\n",
            "<class 'float'>\n"
          ]
        }
      ],
      "source": [
        "# 파이썬의 정수 타입\n",
        "print(type(1))         # int\n",
        "\n",
        "# 예전에는 큰 수는 long 타입과 int 타입으로 구분되었으나, 파이썬 3.0부터 int 형으로 정수형이 통합되었다. \n",
        "# 크기가 크더라도 int 타입이다. \n",
        "# 하지만, 메모리 낭비는 그 만큼 커졌다.\n",
        "# 이제 메모리는 많이 신경쓰지 않아도 된다.\n",
        "print(type(2**31))     # int, 2의 31승 (엄청 큰 수) -> "
      ]
    },
    {
      "cell_type": "code",
      "execution_count": null,
      "metadata": {
        "colab": {
          "base_uri": "https://localhost:8080/"
        },
        "id": "NsT4CXXzUcwB",
        "outputId": "c54b8841-af60-4463-de06-21a70140f837"
      },
      "outputs": [
        {
          "name": "stdout",
          "output_type": "stream",
          "text": [
            "<class 'float'>\n",
            "<class 'float'>\n"
          ]
        }
      ],
      "source": [
        "# 실수의 표현\n",
        "print(type(3.14))\n",
        "print(type(314e-2))   # 3.14와 같은 표현이다."
      ]
    },
    {
      "cell_type": "code",
      "execution_count": 3,
      "metadata": {
        "colab": {
          "base_uri": "https://localhost:8080/"
        },
        "id": "2esDZ3guVYBi",
        "outputId": "d68902c6-dcfa-49fc-9e4d-b6216c9bb881"
      },
      "outputs": [
        {
          "name": "stdout",
          "output_type": "stream",
          "text": [
            "<class 'complex'>\n",
            "-4.0\n",
            "3.0\n",
            "(3+4j)\n"
          ]
        }
      ],
      "source": [
        "# 복소수의 표현\n",
        "print(type(3 - 4j))\n",
        "\n",
        "x = 3 - 4j\n",
        "print(x.imag)          # 허수부 출력\n",
        "print(x.real)          # 실수부 출력\n",
        "print(x.conjugate())   # 허수부와 실수부 모두 출력 (켤레 복소수)"
      ]
    },
    {
      "cell_type": "code",
      "execution_count": 4,
      "metadata": {
        "colab": {
          "base_uri": "https://localhost:8080/"
        },
        "id": "JO9zjiJaV10Y",
        "outputId": "e234c9e5-c9f9-408e-aaa9-172a889f860a"
      },
      "outputs": [
        {
          "name": "stdout",
          "output_type": "stream",
          "text": [
            "12.56\n"
          ]
        }
      ],
      "source": [
        "# 원의 넓이와 삼각형 넓이 구하기\n",
        "r = 2\n",
        "pi = 3.14\n",
        "\n",
        "circle_area = r ** 2 * pi\n",
        "print(circle_area)"
      ]
    },
    {
      "cell_type": "code",
      "execution_count": 5,
      "metadata": {
        "colab": {
          "base_uri": "https://localhost:8080/"
        },
        "id": "lGSOTM0NXizN",
        "outputId": "f10afb32-0a49-4a67-8679-f49b0e2f43c3"
      },
      "outputs": [
        {
          "name": "stdout",
          "output_type": "stream",
          "text": [
            "6.0\n"
          ]
        }
      ],
      "source": [
        "# 삼각형의 넓이 구하기\n",
        "w = 3\n",
        "h = 4\n",
        "triangle_area = w * h / 2    # 밑변(w) * 높이(h) / 2\n",
        "print(triangle_area)"
      ]
    },
    {
      "cell_type": "code",
      "execution_count": 11,
      "metadata": {
        "id": "WYmpV2xNXzYN"
      },
      "outputs": [
        {
          "name": "stdout",
          "output_type": "stream",
          "text": [
            "Hello World!\n",
            "Hello World\n",
            "Welcome to 'Python World'\n",
            "\n",
            "    항상 태양을 바라보아라\n",
            "    그리하면 너는 그림자를 볼 수 없을 것이다.\n",
            "                                - 헬렌켈러\n",
            "\n",
            "\t탭 \n",
            "다음줄\n"
          ]
        }
      ],
      "source": [
        "# 문자열 실습\n",
        "# 작은따옴표(''), 큰따옴표(\"\") 모두 사용 가능하다. (모두 똑같다.)\n",
        "print('Hello World!')\n",
        "print(\"Hello World\")\n",
        "print(\"Welcome to 'Python World'\")    # 강조하려고 할 때는 큰따옴표 안에 작은따옴표를 사용한다.\n",
        "print('''\n",
        "    항상 태양을 바라보아라\n",
        "    그리하면 너는 그림자를 볼 수 없을 것이다.\n",
        "                                - 헬렌켈러\n",
        "''')    # 여러 줄 출력하기\n",
        "print('\\t탭 \\n다음줄')"
      ]
    },
    {
      "cell_type": "code",
      "execution_count": 12,
      "metadata": {},
      "outputs": [
        {
          "data": {
            "text/plain": [
              "'python'"
            ]
          },
          "execution_count": 12,
          "metadata": {},
          "output_type": "execute_result"
        }
      ],
      "source": [
        "'py' 'thon'   # 다음과 같이 실행하면 붙여서 출력한다. (파이썬의 기본적인 마인드)"
      ]
    },
    {
      "cell_type": "code",
      "execution_count": 18,
      "metadata": {},
      "outputs": [
        {
          "name": "stdout",
          "output_type": "stream",
          "text": [
            "python\n",
            "python\n"
          ]
        }
      ],
      "source": [
        "print('py' 'thon')\n",
        "print('py' + 'thon')    # + 기호를 써도 같은 결과가 나온다. (연산자를 명시하는게 좋은 방법이다)"
      ]
    },
    {
      "cell_type": "code",
      "execution_count": 20,
      "metadata": {},
      "outputs": [
        {
          "name": "stdout",
          "output_type": "stream",
          "text": [
            "pypypy\n"
          ]
        }
      ],
      "source": [
        "print('py' * 3)    # * 기호를 사용하면 여러번 반복해서 출력시킨다."
      ]
    },
    {
      "cell_type": "code",
      "execution_count": 23,
      "metadata": {},
      "outputs": [
        {
          "name": "stdout",
          "output_type": "stream",
          "text": [
            "P\n",
            "y t\n"
          ]
        },
        {
          "ename": "TypeError",
          "evalue": "'str' object does not support item assignment",
          "output_type": "error",
          "traceback": [
            "\u001b[1;31m---------------------------------------------------------------------------\u001b[0m",
            "\u001b[1;31mTypeError\u001b[0m                                 Traceback (most recent call last)",
            "Cell \u001b[1;32mIn[23], line 7\u001b[0m\n\u001b[0;32m      4\u001b[0m \u001b[39mprint\u001b[39m(a[\u001b[39m0\u001b[39m \u001b[39m+\u001b[39m \u001b[39m1\u001b[39m], end\u001b[39m=\u001b[39m\u001b[39m'\u001b[39m\u001b[39m \u001b[39m\u001b[39m'\u001b[39m)\n\u001b[0;32m      5\u001b[0m \u001b[39mprint\u001b[39m(a[\u001b[39m0\u001b[39m \u001b[39m+\u001b[39m \u001b[39m2\u001b[39m])\n\u001b[1;32m----> 7\u001b[0m a[\u001b[39m0\u001b[39;49m] \u001b[39m=\u001b[39m \u001b[39m'\u001b[39m\u001b[39mA\u001b[39m\u001b[39m'\u001b[39m     \u001b[39m# index는 read-only 속성을 갖기 때문에 수정은 불가능하다. (가지고 오는 것만 가능하다.)\u001b[39;00m\n",
            "\u001b[1;31mTypeError\u001b[0m: 'str' object does not support item assignment"
          ]
        }
      ],
      "source": [
        "a = 'Python'\n",
        "\n",
        "print(a[0])\n",
        "print(a[0 + 1], end=' ')\n",
        "print(a[0 + 2])\n",
        "\n",
        "a[0] = 'A'     # index는 read-only 속성을 갖기 때문에 수정은 불가능하다. (가지고 오는 것만 가능하다.)"
      ]
    },
    {
      "cell_type": "code",
      "execution_count": 29,
      "metadata": {},
      "outputs": [
        {
          "name": "stdout",
          "output_type": "stream",
          "text": [
            "P\n",
            "yth\n",
            "Py\n",
            "thon\n",
            "on\n",
            "Python\n",
            "Pto\n"
          ]
        }
      ],
      "source": [
        "# index를 이용해서 범위를 설정할 수 있다.\n",
        "print(a[0:1])\n",
        "print(a[1:4])\n",
        "print(a[:2])    # 생략은 해당 방향의 끝을 나타낸다.\n",
        "print(a[2:])\n",
        "print(a[-2:])   # 끝의 2자리 가져오기\n",
        "print(a[:])\n",
        "print(a[::2])   # 맨 끝의 값은 증가식이다."
      ]
    },
    {
      "cell_type": "code",
      "execution_count": 31,
      "metadata": {},
      "outputs": [
        {
          "name": "stdout",
          "output_type": "stream",
          "text": [
            "3.14\n",
            "49\n",
            "23.0\n"
          ]
        }
      ],
      "source": [
        "# 데이터 타입의 변환\n",
        "print(str(3.14))    # 문자형으로 변환\n",
        "print(int('49'))    # 정수형으로 변환\n",
        "print(float(23))    # 실수형으로 변환"
      ]
    },
    {
      "cell_type": "code",
      "execution_count": null,
      "metadata": {},
      "outputs": [],
      "source": []
    }
  ],
  "metadata": {
    "colab": {
      "provenance": []
    },
    "kernelspec": {
      "display_name": "Python 3",
      "name": "python3"
    },
    "language_info": {
      "codemirror_mode": {
        "name": "ipython",
        "version": 3
      },
      "file_extension": ".py",
      "mimetype": "text/x-python",
      "name": "python",
      "nbconvert_exporter": "python",
      "pygments_lexer": "ipython3",
      "version": "3.9.13"
    }
  },
  "nbformat": 4,
  "nbformat_minor": 0
}
