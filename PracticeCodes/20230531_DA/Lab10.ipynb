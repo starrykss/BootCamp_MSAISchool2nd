{
 "cells": [
  {
   "attachments": {},
   "cell_type": "markdown",
   "id": "3cac79e8",
   "metadata": {},
   "source": [
    "# Lab 10. 차분을 적용해보는 실습\n",
    "---"
   ]
  },
  {
   "attachments": {},
   "cell_type": "markdown",
   "id": "8da17a19",
   "metadata": {},
   "source": [
    "- 차분은 현재 값과 이전 값의 차이를 계산하는 것을 의미한다."
   ]
  },
  {
   "cell_type": "code",
   "execution_count": 1,
   "id": "a94e7cc7",
   "metadata": {},
   "outputs": [],
   "source": [
    "import pandas as pd"
   ]
  },
  {
   "attachments": {},
   "cell_type": "markdown",
   "id": "009ffcd5",
   "metadata": {},
   "source": [
    "- 예시 데이터를 생성하고 차분을 적용해본다. 그리고 내용물을 확인해본다."
   ]
  },
  {
   "cell_type": "code",
   "execution_count": 2,
   "id": "0d342dec",
   "metadata": {},
   "outputs": [
    {
     "name": "stdout",
     "output_type": "stream",
     "text": [
      "   Value  DiffValue\n",
      "0     10        NaN\n",
      "1     20       10.0\n",
      "2     40       20.0\n",
      "3     80       40.0\n",
      "4    150       70.0\n"
     ]
    }
   ],
   "source": [
    "# 예시 데이터 생성\n",
    "data = pd.DataFrame({'Value' : [10, 20, 40, 80, 150]})\n",
    "\n",
    "# 차분 적용 \n",
    "data['DiffValue'] = data['Value'].diff()\n",
    "\n",
    "print(data)"
   ]
  }
 ],
 "metadata": {
  "kernelspec": {
   "display_name": "myEnv",
   "language": "python",
   "name": "myenv"
  },
  "language_info": {
   "codemirror_mode": {
    "name": "ipython",
    "version": 3
   },
   "file_extension": ".py",
   "mimetype": "text/x-python",
   "name": "python",
   "nbconvert_exporter": "python",
   "pygments_lexer": "ipython3",
   "version": "3.7.12"
  }
 },
 "nbformat": 4,
 "nbformat_minor": 5
}
