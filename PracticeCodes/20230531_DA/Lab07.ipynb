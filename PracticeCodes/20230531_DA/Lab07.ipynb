{
 "cells": [
  {
   "attachments": {},
   "cell_type": "markdown",
   "id": "088ea089",
   "metadata": {},
   "source": [
    "# Lab 07. 시계열 데이터를 활용하여 Min-Max 정규화를 적용하는 실습\n",
    "---"
   ]
  },
  {
   "cell_type": "code",
   "execution_count": 1,
   "id": "d25a3067",
   "metadata": {},
   "outputs": [],
   "source": [
    "import pandas as pd\n",
    "import numpy as np"
   ]
  },
  {
   "attachments": {},
   "cell_type": "markdown",
   "id": "5289580f",
   "metadata": {},
   "source": [
    "- 시계열 데이터와 데이터 프레임을 생성한다."
   ]
  },
  {
   "cell_type": "code",
   "execution_count": 2,
   "id": "8f35ffaa",
   "metadata": {},
   "outputs": [
    {
     "name": "stdout",
     "output_type": "stream",
     "text": [
      "         Date  Value\n",
      "0  2023-01-01     11\n",
      "1  2023-01-02     32\n",
      "2  2023-01-03     53\n",
      "3  2023-01-04     93\n",
      "4  2023-01-05     77\n",
      "..        ...    ...\n",
      "95 2023-04-06     29\n",
      "96 2023-04-07      3\n",
      "97 2023-04-08     67\n",
      "98 2023-04-09     16\n",
      "99 2023-04-10     63\n",
      "\n",
      "[100 rows x 2 columns]\n"
     ]
    }
   ],
   "source": [
    "# 시계열 데이터 \n",
    "dates = pd.date_range(start='2023-01-01', periods=100, freq='D')\n",
    "values = np.random.randint(0, 100, size=100)\n",
    "\n",
    "# 데이터 프레임 \n",
    "data = pd.DataFrame({\n",
    "    'Date' : dates,\n",
    "    'Value' : values\n",
    "})\n",
    "\n",
    "print(data)"
   ]
  },
  {
   "attachments": {},
   "cell_type": "markdown",
   "id": "75a4772b",
   "metadata": {},
   "source": [
    "- Min-Max 정규화를 수행한 후 정규화가 완료된 데이터를 확인해본다."
   ]
  },
  {
   "cell_type": "code",
   "execution_count": 3,
   "id": "a4c74c87",
   "metadata": {},
   "outputs": [
    {
     "name": "stdout",
     "output_type": "stream",
     "text": [
      "1 99\n",
      "         Date  Value_Normalized\n",
      "0  2023-01-01          0.102041\n",
      "1  2023-01-02          0.316327\n",
      "2  2023-01-03          0.530612\n",
      "3  2023-01-04          0.938776\n",
      "4  2023-01-05          0.775510\n",
      "..        ...               ...\n",
      "95 2023-04-06          0.285714\n",
      "96 2023-04-07          0.020408\n",
      "97 2023-04-08          0.673469\n",
      "98 2023-04-09          0.153061\n",
      "99 2023-04-10          0.632653\n",
      "\n",
      "[100 rows x 2 columns]\n"
     ]
    }
   ],
   "source": [
    "# Min-Max 정규화 수행 \n",
    "min_val = data['Value'].min()\n",
    "max_val = data['Value'].max()\n",
    "\n",
    "print(min_val, max_val)\n",
    "data['Value_Normalized'] = (data['Value'] - min_val) / (max_val - min_val)\n",
    "# 공식 : x_new = (x - min) / (max - min) \n",
    "\n",
    "# 정규화 완료된 데이터 확인 \n",
    "print(data[['Date', 'Value_Normalized']])"
   ]
  }
 ],
 "metadata": {
  "kernelspec": {
   "display_name": "myEnv",
   "language": "python",
   "name": "myenv"
  },
  "language_info": {
   "codemirror_mode": {
    "name": "ipython",
    "version": 3
   },
   "file_extension": ".py",
   "mimetype": "text/x-python",
   "name": "python",
   "nbconvert_exporter": "python",
   "pygments_lexer": "ipython3",
   "version": "3.7.12"
  }
 },
 "nbformat": 4,
 "nbformat_minor": 5
}
