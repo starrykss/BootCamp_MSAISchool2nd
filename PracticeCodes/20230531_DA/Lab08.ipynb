{
 "cells": [
  {
   "attachments": {},
   "cell_type": "markdown",
   "id": "924b0a7f",
   "metadata": {},
   "source": [
    "# Lab 08. 표준화 실습\n",
    "---"
   ]
  },
  {
   "cell_type": "code",
   "execution_count": 1,
   "id": "d2c3eec4",
   "metadata": {},
   "outputs": [],
   "source": [
    "import pandas as pd \n",
    "from sklearn.preprocessing import StandardScaler"
   ]
  },
  {
   "attachments": {},
   "cell_type": "markdown",
   "id": "1a59234b",
   "metadata": {},
   "source": [
    "- 시계열 데이터와 데이터 프레임을 생성하고 내용물을 확인해본다."
   ]
  },
  {
   "cell_type": "code",
   "execution_count": 2,
   "id": "c6d2ed3e",
   "metadata": {},
   "outputs": [
    {
     "name": "stdout",
     "output_type": "stream",
     "text": [
      "         Date  Value\n",
      "0  2023-01-01     10\n",
      "1  2023-01-02     12\n",
      "2  2023-01-03     11\n",
      "3  2023-01-04     15\n",
      "4  2023-01-05      9\n",
      "..        ...    ...\n",
      "95 2023-04-06     13\n",
      "96 2023-04-07      8\n",
      "97 2023-04-08     14\n",
      "98 2023-04-09     10\n",
      "99 2023-04-10     16\n",
      "\n",
      "[100 rows x 2 columns]\n"
     ]
    }
   ],
   "source": [
    "# 시계열 데이터 생성 \n",
    "dates = pd.date_range(start='2023-01-01', periods=100, freq='D')\n",
    "values = [10, 12, 11, 15, 9 , 13, 8, 14 ,10, 16] * 10\n",
    "\n",
    "# 데이터 프레임 생성\n",
    "data = pd.DataFrame({\n",
    "    'Date' : dates,\n",
    "    'Value' : values\n",
    "})\n",
    "\n",
    "print(data)"
   ]
  },
  {
   "attachments": {},
   "cell_type": "markdown",
   "id": "92cb818e",
   "metadata": {},
   "source": [
    "- 표준화 값을 추출하고 표준화를 적용한다. 그리고 표준화된 값을 새로운 열로 추가한 후 내용물을 확인해본다."
   ]
  },
  {
   "cell_type": "code",
   "execution_count": 3,
   "id": "643fbc1f",
   "metadata": {},
   "outputs": [
    {
     "name": "stdout",
     "output_type": "stream",
     "text": [
      "0    -0.713746\n",
      "1     0.079305\n",
      "2    -0.317221\n",
      "3     1.268883\n",
      "4    -1.110272\n",
      "        ...   \n",
      "95    0.475831\n",
      "96   -1.506798\n",
      "97    0.872357\n",
      "98   -0.713746\n",
      "99    1.665408\n",
      "Name: Value_scaler, Length: 100, dtype: float64\n"
     ]
    }
   ],
   "source": [
    "# 표준화 값 추출 \n",
    "x = data['Value'].values.reshape(-1,1)\n",
    "\n",
    "# 표준화 적용 \n",
    "scaler = StandardScaler()\n",
    "x_scaler = scaler.fit_transform(x)\n",
    "\n",
    "# 표준화된 값을 새로운 열로 추가 \n",
    "data['Value_scaler'] = x_scaler\n",
    "\n",
    "print(data['Value_scaler'])"
   ]
  }
 ],
 "metadata": {
  "kernelspec": {
   "display_name": "myEnv",
   "language": "python",
   "name": "myenv"
  },
  "language_info": {
   "codemirror_mode": {
    "name": "ipython",
    "version": 3
   },
   "file_extension": ".py",
   "mimetype": "text/x-python",
   "name": "python",
   "nbconvert_exporter": "python",
   "pygments_lexer": "ipython3",
   "version": "3.7.12"
  }
 },
 "nbformat": 4,
 "nbformat_minor": 5
}
