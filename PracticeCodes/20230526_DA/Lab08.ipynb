{
 "cells": [
  {
   "attachments": {},
   "cell_type": "markdown",
   "id": "6a33bd91",
   "metadata": {},
   "source": [
    "# Lab 08. 윌콕슨-맨-휘트니 검정 통계량 계산 간단 실습\n",
    "---"
   ]
  },
  {
   "cell_type": "code",
   "execution_count": 1,
   "id": "28ee99e5",
   "metadata": {},
   "outputs": [],
   "source": [
    "from scipy.stats import mannwhitneyu"
   ]
  },
  {
   "cell_type": "code",
   "execution_count": 2,
   "id": "d8f14519",
   "metadata": {},
   "outputs": [
    {
     "name": "stdout",
     "output_type": "stream",
     "text": [
      "32.5 0.19622288836173518\n"
     ]
    }
   ],
   "source": [
    "group1 = [3, 2, 5, 1, 4, 2, 6, 7, 9, 8]\n",
    "group2 = [6, 4, 7, 2, 6, 3, 7, 9, 10, 11]\n",
    "\n",
    "st, p = mannwhitneyu(group1, group2)\n",
    "\n",
    "print(st, p)"
   ]
  },
  {
   "attachments": {},
   "cell_type": "markdown",
   "id": "3f5e1a88",
   "metadata": {},
   "source": [
    "- 윌콕슨-맨-휘트니 통계량을 이용하여 p-value 계산을 해보자."
   ]
  },
  {
   "cell_type": "code",
   "execution_count": 3,
   "id": "efc74d8d",
   "metadata": {},
   "outputs": [],
   "source": [
    "import numpy as np \n",
    "import pandas as pd\n",
    "from scipy.stats import mannwhitneyu\n",
    "from scipy import stats"
   ]
  },
  {
   "attachments": {},
   "cell_type": "markdown",
   "id": "2d311ebd",
   "metadata": {},
   "source": [
    "- 데이터를 불러오고 두 집단 간의 차이를 검정해본다."
   ]
  },
  {
   "cell_type": "code",
   "execution_count": 4,
   "id": "0f597aa3",
   "metadata": {},
   "outputs": [
    {
     "name": "stdout",
     "output_type": "stream",
     "text": [
      "32.5 0.19622288836173518\n"
     ]
    }
   ],
   "source": [
    "# 데이터 불러오기 \n",
    "data = pd.read_csv(\"./data/mannwhitneyu_sample_data.csv\")\n",
    "\n",
    "# 두 집단 간의 차이 검정 \n",
    "st, p = mannwhitneyu(data['group1'], data['group2'])\n",
    "\n",
    "print(st, p)"
   ]
  },
  {
   "attachments": {},
   "cell_type": "markdown",
   "id": "d0ff4903",
   "metadata": {},
   "source": [
    "- 두 집단의 크기를 계산해본다."
   ]
  },
  {
   "cell_type": "code",
   "execution_count": 5,
   "id": "835b9f59",
   "metadata": {},
   "outputs": [
    {
     "name": "stdout",
     "output_type": "stream",
     "text": [
      "10 10\n"
     ]
    }
   ],
   "source": [
    "# 두 집단의 크기 계산 # len()\n",
    "n1, n2 = len(data['group1']), len(data['group2'])\n",
    "\n",
    "print(n1, n2)"
   ]
  },
  {
   "attachments": {},
   "cell_type": "markdown",
   "id": "53727605",
   "metadata": {},
   "source": [
    "- p-value를 계산해본다."
   ]
  },
  {
   "cell_type": "code",
   "execution_count": 6,
   "id": "cfc54055",
   "metadata": {},
   "outputs": [
    {
     "name": "stdout",
     "output_type": "stream",
     "text": [
      "32.5\n",
      "0.014019277113959953\n"
     ]
    }
   ],
   "source": [
    "if st > n1 * n2 / 2 : \n",
    "    st = n1 * n2 - st\n",
    "    \n",
    "# p-value 계산 \n",
    "p_val = 2 * stats.norm.cdf(-abs(st) / np.sqrt(n1 * n2 * (n1 + n2 + 1) / 12))\n",
    "\n",
    "print(st)\n",
    "print(p_val)"
   ]
  }
 ],
 "metadata": {
  "kernelspec": {
   "display_name": "myEnv",
   "language": "python",
   "name": "myenv"
  },
  "language_info": {
   "codemirror_mode": {
    "name": "ipython",
    "version": 3
   },
   "file_extension": ".py",
   "mimetype": "text/x-python",
   "name": "python",
   "nbconvert_exporter": "python",
   "pygments_lexer": "ipython3",
   "version": "3.7.12"
  }
 },
 "nbformat": 4,
 "nbformat_minor": 5
}
