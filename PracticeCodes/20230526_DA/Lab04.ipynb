{
 "cells": [
  {
   "attachments": {},
   "cell_type": "markdown",
   "id": "2a14636e",
   "metadata": {},
   "source": [
    "# Lab 04. 윌콕슨 부호 순위 검정 다중 검정(Multiple Testing) 실습\n",
    "---"
   ]
  },
  {
   "cell_type": "code",
   "execution_count": 1,
   "id": "640d8b9b",
   "metadata": {},
   "outputs": [],
   "source": [
    "import pandas as pd \n",
    "from scipy.stats import wilcoxon\n",
    "from statsmodels.stats.multitest import multipletests"
   ]
  },
  {
   "cell_type": "code",
   "execution_count": 2,
   "id": "af85ebfd",
   "metadata": {},
   "outputs": [
    {
     "name": "stdout",
     "output_type": "stream",
     "text": [
      "sample 1 :\n",
      "statistic :  16.0\n",
      "p-value 0.7728299926844475\n",
      "fail to reject HO\n",
      "sample 2 :\n",
      "statistic :  10.5\n",
      "p-value 1.0\n",
      "fail to reject HO\n",
      "sample 3 :\n",
      "statistic :  4.5\n",
      "p-value 0.20210204418937272\n",
      "fail to reject HO\n",
      "sample 4 :\n",
      "statistic :  10.0\n",
      "p-value 0.9158177742866465\n",
      "fail to reject HO\n",
      "sample 5 :\n",
      "statistic :  5.0\n",
      "p-value 0.12064542533634502\n",
      "fail to reject HO\n",
      "sample 6 :\n",
      "statistic :  14.0\n",
      "p-value 1.0\n",
      "fail to reject HO\n",
      "sample 7 :\n",
      "statistic :  8.5\n",
      "p-value 0.34732353285574014\n",
      "fail to reject HO\n",
      "sample 8 :\n",
      "statistic :  5.0\n",
      "p-value 0.06464003076463333\n",
      "fail to reject HO\n",
      "sample 9 :\n",
      "statistic :  21.0\n",
      "p-value 0.8570818600685511\n",
      "fail to reject HO\n",
      "sample 10 :\n",
      "statistic :  17.0\n",
      "p-value 0.5055707258803321\n",
      "fail to reject HO\n",
      "Bonferroni\n",
      "sample : 1 : fail to reject HO\n",
      "sample : 2 : fail to reject HO\n",
      "sample : 3 : fail to reject HO\n",
      "sample : 4 : fail to reject HO\n",
      "sample : 5 : fail to reject HO\n",
      "sample : 6 : fail to reject HO\n",
      "sample : 7 : fail to reject HO\n",
      "sample : 8 : fail to reject HO\n",
      "sample : 9 : fail to reject HO\n",
      "sample : 10 : fail to reject HO\n"
     ]
    },
    {
     "name": "stderr",
     "output_type": "stream",
     "text": [
      "c:\\Users\\kss34\\anaconda3\\envs\\myEnv\\lib\\site-packages\\scipy\\stats\\morestats.py:3141: UserWarning: Exact p-value calculation does not work if there are ties. Switching to normal approximation.\n",
      "  warnings.warn(\"Exact p-value calculation does not work if there are \"\n",
      "c:\\Users\\kss34\\anaconda3\\envs\\myEnv\\lib\\site-packages\\scipy\\stats\\morestats.py:3155: UserWarning: Sample size too small for normal approximation.\n",
      "  warnings.warn(\"Sample size too small for normal approximation.\")\n"
     ]
    }
   ],
   "source": [
    "data = pd.read_csv(\"./data/treatment_data.csv\")\n",
    "\n",
    "p_values = []\n",
    "\n",
    "for i in range(10) : \n",
    "    sample = data.sample(frac=0.5)\n",
    "    st, p = wilcoxon(sample['pre_treatment'], sample['post_treatment'])\n",
    "    print(\"sample\", i+1, ':')\n",
    "    print('statistic : ', st)\n",
    "    print('p-value', p)\n",
    "    p_values.append(p)\n",
    "    if p > 0.05 : \n",
    "        print(\"fail to reject HO\")\n",
    "    else : \n",
    "        print(\"reject HO\")\n",
    "        \n",
    "alpha = 0.05 \n",
    "rejects_bonf, corrected_p_bonf, _, _ = multipletests(p_values, alpha=alpha, method='fdr_bh')\n",
    "print(\"Bonferroni\")\n",
    "for i in range(len(rejects_bonf)) : \n",
    "    if rejects_bonf[i]  :\n",
    "        print(f\"sample : {i+1} : reject HO\" )\n",
    "    else : \n",
    "        print(f\"sample : {i+1} : fail to reject HO\")"
   ]
  }
 ],
 "metadata": {
  "kernelspec": {
   "display_name": "myEnv",
   "language": "python",
   "name": "myenv"
  },
  "language_info": {
   "codemirror_mode": {
    "name": "ipython",
    "version": 3
   },
   "file_extension": ".py",
   "mimetype": "text/x-python",
   "name": "python",
   "nbconvert_exporter": "python",
   "pygments_lexer": "ipython3",
   "version": "3.7.12"
  }
 },
 "nbformat": 4,
 "nbformat_minor": 5
}
