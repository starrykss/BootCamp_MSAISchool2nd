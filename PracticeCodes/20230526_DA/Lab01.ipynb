{
 "cells": [
  {
   "attachments": {},
   "cell_type": "markdown",
   "id": "1ec7d875",
   "metadata": {},
   "source": [
    "# Lab 01. 윌콕슨 부호 순위 검정 간단 실습 01\n",
    "---"
   ]
  },
  {
   "cell_type": "code",
   "execution_count": 1,
   "id": "2a38b832",
   "metadata": {},
   "outputs": [],
   "source": [
    "import numpy as np \n",
    "from scipy.stats import wilcoxon"
   ]
  },
  {
   "attachments": {},
   "cell_type": "markdown",
   "id": "9fb76ca0",
   "metadata": {},
   "source": [
    "- 데이터를 생성한다. (최소 2개)"
   ]
  },
  {
   "cell_type": "code",
   "execution_count": 2,
   "id": "0c5a073e",
   "metadata": {},
   "outputs": [],
   "source": [
    "data1 = [20, 25, 30, 35, 40, 45, 50, 55, 60, 65]\n",
    "data2 = [10, 20, 25 ,30, 35, 40, 45, 50, 55, 60]"
   ]
  },
  {
   "attachments": {},
   "cell_type": "markdown",
   "id": "83b9878e",
   "metadata": {},
   "source": [
    "- 월콕슨 부호 순위 검정을 수행한다."
   ]
  },
  {
   "cell_type": "code",
   "execution_count": 3,
   "id": "c6402f3b",
   "metadata": {},
   "outputs": [
    {
     "name": "stdout",
     "output_type": "stream",
     "text": [
      "0.0 0.001953125\n"
     ]
    }
   ],
   "source": [
    "stat, p = wilcoxon(data1, data2)\n",
    "\n",
    "print(stat, p)\n",
    "# 이 값은 두 집단 간의 순위 차이를 나타낸다.\n",
    "# 두 집단이 유사한 분포를 가지고 있다면, stat 값은 작아지고, 차이가 클수록 stat 값은 커진다.\n",
    "# stat은 두 집단 간의 순위 차이를 나타내고, p는 윌콕슨 순위합 검정 결과에서 귀무 가설을 기각할 수 있는 유의성을 나타낸다."
   ]
  },
  {
   "cell_type": "code",
   "execution_count": 4,
   "id": "c8557000",
   "metadata": {},
   "outputs": [
    {
     "name": "stdout",
     "output_type": "stream",
     "text": [
      "reject HO\n"
     ]
    }
   ],
   "source": [
    "if p > 0.05 : \n",
    "    print(\"fail to reject HO\")\n",
    "else : \n",
    "    print(\"reject HO\")"
   ]
  }
 ],
 "metadata": {
  "kernelspec": {
   "display_name": "myEnv",
   "language": "python",
   "name": "myenv"
  },
  "language_info": {
   "codemirror_mode": {
    "name": "ipython",
    "version": 3
   },
   "file_extension": ".py",
   "mimetype": "text/x-python",
   "name": "python",
   "nbconvert_exporter": "python",
   "pygments_lexer": "ipython3",
   "version": "3.7.12"
  }
 },
 "nbformat": 4,
 "nbformat_minor": 5
}
