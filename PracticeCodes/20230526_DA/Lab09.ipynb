{
 "cells": [
  {
   "attachments": {},
   "cell_type": "markdown",
   "id": "f242e11b",
   "metadata": {},
   "source": [
    "# Lab 09. 맨-휘트니 검정 예시 : 두 집단의 수면 시간에 대한 차이 여부 확인 실습\n",
    "---"
   ]
  },
  {
   "cell_type": "code",
   "execution_count": 1,
   "id": "02e2ac12",
   "metadata": {},
   "outputs": [],
   "source": [
    "import numpy as np \n",
    "import pandas as pd \n",
    "from scipy.stats import mannwhitneyu"
   ]
  },
  {
   "attachments": {},
   "cell_type": "markdown",
   "id": "9696b401",
   "metadata": {},
   "source": [
    "- 랜덤 데이터를 생성한 후, `.csv` 파일로 저장한다."
   ]
  },
  {
   "cell_type": "code",
   "execution_count": 2,
   "id": "5bcad2c3",
   "metadata": {},
   "outputs": [],
   "source": [
    "# 랜덤 데이터 생성 \n",
    "np.random.seed(42)\n",
    "group1 = np.random.normal(loc=6, scale = 1.5, size=100)\n",
    "group2 = np.random.normal(loc=7, scale = 1.5, size=100)\n",
    "\n",
    "# csv 저장 \n",
    "data = pd.DataFrame({\n",
    "    'group1' : group1,\n",
    "    'group2' : group2\n",
    "})\n",
    "\n",
    "data.to_csv('./data/sleep_data.csv', index=False, encoding='utf-8')"
   ]
  },
  {
   "attachments": {},
   "cell_type": "markdown",
   "id": "97be120f",
   "metadata": {},
   "source": [
    "- 저장한 `.csv` 파일을 불러와 내용을 출력해본다."
   ]
  },
  {
   "cell_type": "code",
   "execution_count": 3,
   "id": "61f5cffa",
   "metadata": {},
   "outputs": [
    {
     "name": "stdout",
     "output_type": "stream",
     "text": [
      "      group1    group2\n",
      "0   6.745071  4.876944\n",
      "1   5.792604  6.369032\n",
      "2   6.971533  6.485928\n",
      "3   8.284545  5.796584\n",
      "4   5.648770  6.758071\n",
      "..       ...       ...\n",
      "95  3.804728  7.577976\n",
      "96  6.444180  5.674214\n",
      "97  6.391583  7.230588\n",
      "98  6.007670  7.087313\n",
      "99  5.648119  5.285545\n",
      "\n",
      "[100 rows x 2 columns]\n"
     ]
    }
   ],
   "source": [
    "# csv 읽기 \n",
    "sleep_data = pd.read_csv(\"./data/sleep_data.csv\")\n",
    "\n",
    "print(sleep_data)"
   ]
  },
  {
   "attachments": {},
   "cell_type": "markdown",
   "id": "1a25687f",
   "metadata": {},
   "source": [
    "- 그룹별 데이터를 확인해본다."
   ]
  },
  {
   "cell_type": "code",
   "execution_count": 4,
   "id": "bac86cf8",
   "metadata": {},
   "outputs": [
    {
     "name": "stdout",
     "output_type": "stream",
     "text": [
      "0     6.745071\n",
      "1     5.792604\n",
      "2     6.971533\n",
      "3     8.284545\n",
      "4     5.648770\n",
      "        ...   \n",
      "95    3.804728\n",
      "96    6.444180\n",
      "97    6.391583\n",
      "98    6.007670\n",
      "99    5.648119\n",
      "Name: group1, Length: 100, dtype: float64\n",
      "0     4.876944\n",
      "1     6.369032\n",
      "2     6.485928\n",
      "3     5.796584\n",
      "4     6.758071\n",
      "        ...   \n",
      "95    7.577976\n",
      "96    5.674214\n",
      "97    7.230588\n",
      "98    7.087313\n",
      "99    5.285545\n",
      "Name: group2, Length: 100, dtype: float64\n"
     ]
    }
   ],
   "source": [
    "group1_data = data['group1']\n",
    "group2_data = data['group2']\n",
    "\n",
    "print(group1_data)\n",
    "print(group2_data)"
   ]
  },
  {
   "attachments": {},
   "cell_type": "markdown",
   "id": "2808743a",
   "metadata": {},
   "source": [
    "- 맨-휘트니 검정을 수행해본다."
   ]
  },
  {
   "cell_type": "code",
   "execution_count": 5,
   "id": "b5f061e3",
   "metadata": {},
   "outputs": [
    {
     "name": "stdout",
     "output_type": "stream",
     "text": [
      "2834.0 1.2154388166891524e-07\n"
     ]
    }
   ],
   "source": [
    "# 멘-휘트니 검정 수행 \n",
    "st, p_val = mannwhitneyu(group1_data, group2_data, alternative='two-sided')\n",
    "\n",
    "print(st, p_val)"
   ]
  },
  {
   "attachments": {},
   "cell_type": "markdown",
   "id": "0081e284",
   "metadata": {},
   "source": [
    "- 유의 수준 0.05로 가설을 검정해본다."
   ]
  },
  {
   "cell_type": "code",
   "execution_count": 6,
   "id": "84673d46",
   "metadata": {},
   "outputs": [
    {
     "name": "stdout",
     "output_type": "stream",
     "text": [
      "두 집단 간에는 유의한 치아가 있음.\n"
     ]
    }
   ],
   "source": [
    "# 유의수준 0.05로 가설 점정 \n",
    "if p_val < 0.05 : \n",
    "    print(\"두 집단 간에는 유의한 치아가 있음.\")\n",
    "    \n",
    "else : \n",
    "    print(\"두 집단 간에는 유의한 차이가 없음.\")"
   ]
  }
 ],
 "metadata": {
  "kernelspec": {
   "display_name": "myEnv",
   "language": "python",
   "name": "myenv"
  },
  "language_info": {
   "codemirror_mode": {
    "name": "ipython",
    "version": 3
   },
   "file_extension": ".py",
   "mimetype": "text/x-python",
   "name": "python",
   "nbconvert_exporter": "python",
   "pygments_lexer": "ipython3",
   "version": "3.7.12"
  }
 },
 "nbformat": 4,
 "nbformat_minor": 5
}
