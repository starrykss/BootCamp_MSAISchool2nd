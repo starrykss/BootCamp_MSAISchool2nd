{
 "cells": [
  {
   "attachments": {},
   "cell_type": "markdown",
   "id": "c97fb404",
   "metadata": {},
   "source": [
    "# Lab 02. 정규 분포 간단한 시각화 실습\n",
    "---"
   ]
  },
  {
   "attachments": {},
   "cell_type": "markdown",
   "id": "aad03f65",
   "metadata": {},
   "source": [
    "- 평균이 `0`이고 분산이 `1`인 정규 분포를 따르는 데이터를 생성하고, 간단한 시각화를 해보자."
   ]
  },
  {
   "cell_type": "code",
   "execution_count": 1,
   "id": "0195e386",
   "metadata": {},
   "outputs": [
    {
     "name": "stdout",
     "output_type": "stream",
     "text": [
      "Requirement already satisfied: seaborn in c:\\users\\kss34\\anaconda3\\envs\\myenv\\lib\\site-packages (0.12.2)\n",
      "Requirement already satisfied: numpy!=1.24.0,>=1.17 in c:\\users\\kss34\\anaconda3\\envs\\myenv\\lib\\site-packages (from seaborn) (1.21.6)\n",
      "Requirement already satisfied: pandas>=0.25 in c:\\users\\kss34\\anaconda3\\envs\\myenv\\lib\\site-packages (from seaborn) (1.3.5)\n",
      "Requirement already satisfied: matplotlib!=3.6.1,>=3.1 in c:\\users\\kss34\\anaconda3\\envs\\myenv\\lib\\site-packages (from seaborn) (3.5.3)\n",
      "Requirement already satisfied: typing_extensions in c:\\users\\kss34\\anaconda3\\envs\\myenv\\lib\\site-packages (from seaborn) (4.6.3)\n",
      "Requirement already satisfied: cycler>=0.10 in c:\\users\\kss34\\anaconda3\\envs\\myenv\\lib\\site-packages (from matplotlib!=3.6.1,>=3.1->seaborn) (0.11.0)\n",
      "Requirement already satisfied: fonttools>=4.22.0 in c:\\users\\kss34\\anaconda3\\envs\\myenv\\lib\\site-packages (from matplotlib!=3.6.1,>=3.1->seaborn) (4.38.0)\n",
      "Requirement already satisfied: kiwisolver>=1.0.1 in c:\\users\\kss34\\anaconda3\\envs\\myenv\\lib\\site-packages (from matplotlib!=3.6.1,>=3.1->seaborn) (1.4.4)\n",
      "Requirement already satisfied: packaging>=20.0 in c:\\users\\kss34\\anaconda3\\envs\\myenv\\lib\\site-packages (from matplotlib!=3.6.1,>=3.1->seaborn) (23.1)\n",
      "Requirement already satisfied: pillow>=6.2.0 in c:\\users\\kss34\\anaconda3\\envs\\myenv\\lib\\site-packages (from matplotlib!=3.6.1,>=3.1->seaborn) (9.5.0)\n",
      "Requirement already satisfied: pyparsing>=2.2.1 in c:\\users\\kss34\\anaconda3\\envs\\myenv\\lib\\site-packages (from matplotlib!=3.6.1,>=3.1->seaborn) (3.0.9)\n",
      "Requirement already satisfied: python-dateutil>=2.7 in c:\\users\\kss34\\anaconda3\\envs\\myenv\\lib\\site-packages (from matplotlib!=3.6.1,>=3.1->seaborn) (2.8.2)\n",
      "Requirement already satisfied: pytz>=2017.3 in c:\\users\\kss34\\anaconda3\\envs\\myenv\\lib\\site-packages (from pandas>=0.25->seaborn) (2023.3)\n",
      "Requirement already satisfied: six>=1.5 in c:\\users\\kss34\\anaconda3\\envs\\myenv\\lib\\site-packages (from python-dateutil>=2.7->matplotlib!=3.6.1,>=3.1->seaborn) (1.16.0)\n"
     ]
    }
   ],
   "source": [
    "!pip install seaborn"
   ]
  },
  {
   "attachments": {},
   "cell_type": "markdown",
   "id": "42c57041",
   "metadata": {},
   "source": [
    "- `seaborn` 라이브러리는 논문을 작성할 때 많이 사용한다. 시각화를 예쁘게 할 수 있다."
   ]
  },
  {
   "cell_type": "code",
   "execution_count": 2,
   "id": "0957daf8",
   "metadata": {},
   "outputs": [],
   "source": [
    "import numpy as np\n",
    "import seaborn as sns\n",
    "import matplotlib.pyplot as plt"
   ]
  },
  {
   "cell_type": "code",
   "execution_count": 3,
   "id": "268d691d",
   "metadata": {},
   "outputs": [
    {
     "name": "stdout",
     "output_type": "stream",
     "text": [
      "[-0.57134415 -1.12307385  2.21775202 ... -0.65165751 -1.73458034\n",
      "  0.38411519]\n"
     ]
    }
   ],
   "source": [
    "data = np.random.normal(loc=0, scale=1, size=10000)\n",
    "print(data)"
   ]
  },
  {
   "attachments": {},
   "cell_type": "markdown",
   "id": "4b444afd",
   "metadata": {},
   "source": [
    "- 데이터 분포를 시각화 해본다."
   ]
  },
  {
   "cell_type": "code",
   "execution_count": 4,
   "id": "9d795d65",
   "metadata": {},
   "outputs": [
    {
     "data": {
      "image/png": "[encoded data removed]",
      "text/plain": [
       "<Figure size 640x480 with 1 Axes>"
      ]
     },
     "metadata": {},
     "output_type": "display_data"
    }
   ],
   "source": [
    "# 데이터 분포 시각화\n",
    "sns.histplot(data)\n",
    "\n",
    "plt.show()"
   ]
  },
  {
   "attachments": {},
   "cell_type": "markdown",
   "id": "d9653c0e",
   "metadata": {},
   "source": [
    "> 시각화된 그래프를 통해 데이터가 평균을 중심으로 좌우대칭인 분포를 따르는 것을 확인할 수 있다. 이를 통해 정규 분포를 따른다는 가설을 검증할 수 있다."
   ]
  },
  {
   "attachments": {},
   "cell_type": "markdown",
   "id": "fbb608b5",
   "metadata": {},
   "source": [
    "- 데이터 통계 지표를 계산해본다."
   ]
  },
  {
   "cell_type": "code",
   "execution_count": 5,
   "id": "c537f33e",
   "metadata": {},
   "outputs": [
    {
     "name": "stdout",
     "output_type": "stream",
     "text": [
      "평균: -0.017570436634718054\n",
      "표준편차: 1.001525649155537\n"
     ]
    }
   ],
   "source": [
    "# 데이터 통계 지표 계산\n",
    "mean = np.mean(data)\n",
    "std = np.std(data)\n",
    "\n",
    "print(\"평균:\", mean)\n",
    "print(\"표준편차:\", std)"
   ]
  },
  {
   "attachments": {},
   "cell_type": "markdown",
   "id": "0c9eb9ab",
   "metadata": {},
   "source": [
    "> 정규 분포에서는 **평균**과 **표준 편차**가 매우 중요한 역할을 하므로, 이 지표들은 데이터 분석에 필수적인 정보이다."
   ]
  }
 ],
 "metadata": {
  "kernelspec": {
   "display_name": "myEnv",
   "language": "python",
   "name": "myenv"
  },
  "language_info": {
   "codemirror_mode": {
    "name": "ipython",
    "version": 3
   },
   "file_extension": ".py",
   "mimetype": "text/x-python",
   "name": "python",
   "nbconvert_exporter": "python",
   "pygments_lexer": "ipython3",
   "version": "3.7.12"
  }
 },
 "nbformat": 4,
 "nbformat_minor": 5
}
