{
 "cells": [
  {
   "attachments": {},
   "cell_type": "markdown",
   "id": "236528a2",
   "metadata": {},
   "source": [
    "# Lab 03. 웹크롤링 Requests, BeautifulSoup 라이브러리 사용해서 크롤링 해보기\n",
    "---"
   ]
  },
  {
   "cell_type": "code",
   "execution_count": 2,
   "id": "e32b285b",
   "metadata": {},
   "outputs": [
    {
     "name": "stdout",
     "output_type": "stream",
     "text": [
      "Requirement already satisfied: requests in c:\\users\\kss34\\anaconda3\\envs\\myenv\\lib\\site-packages (2.31.0)\n",
      "Requirement already satisfied: charset-normalizer<4,>=2 in c:\\users\\kss34\\anaconda3\\envs\\myenv\\lib\\site-packages (from requests) (3.1.0)\n",
      "Requirement already satisfied: idna<4,>=2.5 in c:\\users\\kss34\\anaconda3\\envs\\myenv\\lib\\site-packages (from requests) (3.4)\n",
      "Requirement already satisfied: urllib3<3,>=1.21.1 in c:\\users\\kss34\\anaconda3\\envs\\myenv\\lib\\site-packages (from requests) (2.0.3)\n",
      "Requirement already satisfied: certifi>=2017.4.17 in c:\\users\\kss34\\anaconda3\\envs\\myenv\\lib\\site-packages (from requests) (2023.5.7)\n",
      "Requirement already satisfied: bs4 in c:\\users\\kss34\\anaconda3\\envs\\myenv\\lib\\site-packages (0.0.1)\n",
      "Requirement already satisfied: beautifulsoup4 in c:\\users\\kss34\\anaconda3\\envs\\myenv\\lib\\site-packages (from bs4) (4.12.2)\n",
      "Requirement already satisfied: soupsieve>1.2 in c:\\users\\kss34\\anaconda3\\envs\\myenv\\lib\\site-packages (from beautifulsoup4->bs4) (2.4.1)\n"
     ]
    }
   ],
   "source": [
    "!pip install requests\n",
    "!pip install bs4"
   ]
  },
  {
   "cell_type": "code",
   "execution_count": 3,
   "id": "78ca2708",
   "metadata": {},
   "outputs": [],
   "source": [
    "import requests\n",
    "from bs4 import BeautifulSoup\n",
    "import os"
   ]
  },
  {
   "cell_type": "code",
   "execution_count": 4,
   "id": "b180df6e",
   "metadata": {},
   "outputs": [],
   "source": [
    "# 키워드 \n",
    "query = \"사과\"\n",
    "\n",
    "url = f\"https://www.google.com/search?q={query}&source-lnms&tbm=isch\"\n",
    "\n",
    "header = {\n",
    "    \"User-Agent\": \"Mozilla/5.0 (Windows NT 10.0; Win64; x64) AppleWebKit/537.36 (KHTML, like Gecko) Chrome/58.0.3029.110 Safari/537.3\"\n",
    "}\n",
    "\n",
    "response = requests.get(url, headers=header)\n",
    "# print(response.text)\n",
    "\n",
    "soup = BeautifulSoup(response.text, \"html.parser\")\n",
    "# print(soup)\n",
    "img_tags = soup.find_all(\"img\")\n",
    "# print(img_tags)\n",
    "\n",
    "urls_list = []\n",
    "\n",
    "for img_tag in img_tags : \n",
    "    try : \n",
    "        urls_list.append(img_tag['src'])\n",
    "    except KeyError:\n",
    "        try :\n",
    "            urls_list.append(img_tag['data-src'])\n",
    "        except KeyError : \n",
    "            try :\n",
    "                urls_list.append(img_tag['data-iurl'])\n",
    "            except KeyError : \n",
    "                pass\n",
    "        \n",
    "# 이미지 저장 \n",
    "os.makedirs(\"./image01_data/\", exist_ok=True)\n",
    "\n",
    "for i, url in enumerate(urls_list) :\n",
    "    \n",
    "    try : \n",
    "        img_data = requests.get(url, headers=header).content\n",
    "        file_path = f\"./image01_data/apple_{i}.png\"\n",
    "        with open(file_path, \"wb\") as f :\n",
    "            f.write(img_data)\n",
    "            \n",
    "        if os.path.getsize(file_path) == 0 :\n",
    "            os.remove(file_path)\n",
    "        \n",
    "    except : \n",
    "        pass"
   ]
  }
 ],
 "metadata": {
  "kernelspec": {
   "display_name": "myEnv",
   "language": "python",
   "name": "myenv"
  },
  "language_info": {
   "codemirror_mode": {
    "name": "ipython",
    "version": 3
   },
   "file_extension": ".py",
   "mimetype": "text/x-python",
   "name": "python",
   "nbconvert_exporter": "python",
   "pygments_lexer": "ipython3",
   "version": "3.7.12"
  }
 },
 "nbformat": 4,
 "nbformat_minor": 5
}
