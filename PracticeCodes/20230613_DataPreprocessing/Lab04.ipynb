{
 "cells": [
  {
   "attachments": {},
   "cell_type": "markdown",
   "id": "0bf34ac1",
   "metadata": {},
   "source": [
    "# Lab 04. 셀레늄(Selenium) 설치 및 실습\n",
    "---"
   ]
  },
  {
   "cell_type": "code",
   "execution_count": 3,
   "id": "b22d2d0e",
   "metadata": {},
   "outputs": [
    {
     "name": "stdout",
     "output_type": "stream",
     "text": [
      "Requirement already satisfied: selenium==4.2.0 in c:\\users\\kss34\\anaconda3\\envs\\myenv\\lib\\site-packages (4.2.0)\n",
      "Requirement already satisfied: urllib3[secure,socks]~=1.26 in c:\\users\\kss34\\anaconda3\\envs\\myenv\\lib\\site-packages (from selenium==4.2.0) (1.26.16)\n",
      "Requirement already satisfied: trio~=0.17 in c:\\users\\kss34\\anaconda3\\envs\\myenv\\lib\\site-packages (from selenium==4.2.0) (0.22.0)\n",
      "Requirement already satisfied: trio-websocket~=0.9 in c:\\users\\kss34\\anaconda3\\envs\\myenv\\lib\\site-packages (from selenium==4.2.0) (0.10.3)\n",
      "Requirement already satisfied: attrs>=19.2.0 in c:\\users\\kss34\\anaconda3\\envs\\myenv\\lib\\site-packages (from trio~=0.17->selenium==4.2.0) (23.1.0)\n",
      "Requirement already satisfied: sortedcontainers in c:\\users\\kss34\\anaconda3\\envs\\myenv\\lib\\site-packages (from trio~=0.17->selenium==4.2.0) (2.4.0)\n",
      "Requirement already satisfied: async-generator>=1.9 in c:\\users\\kss34\\anaconda3\\envs\\myenv\\lib\\site-packages (from trio~=0.17->selenium==4.2.0) (1.10)\n",
      "Requirement already satisfied: idna in c:\\users\\kss34\\anaconda3\\envs\\myenv\\lib\\site-packages (from trio~=0.17->selenium==4.2.0) (3.4)\n",
      "Requirement already satisfied: outcome in c:\\users\\kss34\\anaconda3\\envs\\myenv\\lib\\site-packages (from trio~=0.17->selenium==4.2.0) (1.2.0)\n",
      "Requirement already satisfied: sniffio in c:\\users\\kss34\\anaconda3\\envs\\myenv\\lib\\site-packages (from trio~=0.17->selenium==4.2.0) (1.3.0)\n",
      "Requirement already satisfied: cffi>=1.14 in c:\\users\\kss34\\anaconda3\\envs\\myenv\\lib\\site-packages (from trio~=0.17->selenium==4.2.0) (1.15.1)\n",
      "Requirement already satisfied: exceptiongroup>=1.0.0rc9 in c:\\users\\kss34\\anaconda3\\envs\\myenv\\lib\\site-packages (from trio~=0.17->selenium==4.2.0) (1.1.1)\n",
      "Requirement already satisfied: wsproto>=0.14 in c:\\users\\kss34\\anaconda3\\envs\\myenv\\lib\\site-packages (from trio-websocket~=0.9->selenium==4.2.0) (1.2.0)\n",
      "Requirement already satisfied: pyOpenSSL>=0.14 in c:\\users\\kss34\\anaconda3\\envs\\myenv\\lib\\site-packages (from urllib3[secure,socks]~=1.26->selenium==4.2.0) (23.2.0)\n",
      "Requirement already satisfied: cryptography>=1.3.4 in c:\\users\\kss34\\anaconda3\\envs\\myenv\\lib\\site-packages (from urllib3[secure,socks]~=1.26->selenium==4.2.0) (41.0.1)\n",
      "Requirement already satisfied: certifi in c:\\users\\kss34\\anaconda3\\envs\\myenv\\lib\\site-packages (from urllib3[secure,socks]~=1.26->selenium==4.2.0) (2023.5.7)\n",
      "Requirement already satisfied: urllib3-secure-extra in c:\\users\\kss34\\anaconda3\\envs\\myenv\\lib\\site-packages (from urllib3[secure,socks]~=1.26->selenium==4.2.0) (0.1.0)\n",
      "Requirement already satisfied: PySocks!=1.5.7,<2.0,>=1.5.6 in c:\\users\\kss34\\anaconda3\\envs\\myenv\\lib\\site-packages (from urllib3[secure,socks]~=1.26->selenium==4.2.0) (1.7.1)\n",
      "Requirement already satisfied: importlib-metadata in c:\\users\\kss34\\anaconda3\\envs\\myenv\\lib\\site-packages (from attrs>=19.2.0->trio~=0.17->selenium==4.2.0) (6.6.0)\n",
      "Requirement already satisfied: pycparser in c:\\users\\kss34\\anaconda3\\envs\\myenv\\lib\\site-packages (from cffi>=1.14->trio~=0.17->selenium==4.2.0) (2.21)\n",
      "Requirement already satisfied: h11<1,>=0.9.0 in c:\\users\\kss34\\anaconda3\\envs\\myenv\\lib\\site-packages (from wsproto>=0.14->trio-websocket~=0.9->selenium==4.2.0) (0.14.0)\n",
      "Requirement already satisfied: typing-extensions in c:\\users\\kss34\\anaconda3\\envs\\myenv\\lib\\site-packages (from h11<1,>=0.9.0->wsproto>=0.14->trio-websocket~=0.9->selenium==4.2.0) (4.6.3)\n",
      "Requirement already satisfied: zipp>=0.5 in c:\\users\\kss34\\anaconda3\\envs\\myenv\\lib\\site-packages (from importlib-metadata->attrs>=19.2.0->trio~=0.17->selenium==4.2.0) (3.15.0)\n"
     ]
    }
   ],
   "source": [
    "!pip install selenium==4.2.0"
   ]
  },
  {
   "attachments": {},
   "cell_type": "markdown",
   "id": "88265e1c",
   "metadata": {},
   "source": [
    "- 자신의 크롬 브라우저 버전에 맞는 Chrome Driver를 다운로드 받는다.\n",
    "    - https://chromedriver.chromium.org/downloads"
   ]
  },
  {
   "cell_type": "code",
   "execution_count": 4,
   "id": "57303f3d",
   "metadata": {},
   "outputs": [],
   "source": [
    "from selenium import webdriver\n",
    "from selenium.webdriver.common.keys import Keys\n",
    "from selenium.webdriver.chrome.service import Service\n",
    "from selenium.webdriver.common.by import By\n",
    "\n",
    "import time\n",
    "import os \n",
    "import urllib, requests"
   ]
  },
  {
   "cell_type": "code",
   "execution_count": 5,
   "id": "b4b725c1",
   "metadata": {},
   "outputs": [],
   "source": [
    "# 맥 사용자만 권한 부여 해주면 된다.\n",
    "# !chmod +x chromedriver"
   ]
  },
  {
   "cell_type": "code",
   "execution_count": 6,
   "id": "5045d675",
   "metadata": {},
   "outputs": [
    {
     "name": "stderr",
     "output_type": "stream",
     "text": [
      "c:\\Users\\kss34\\anaconda3\\envs\\myEnv\\lib\\site-packages\\ipykernel_launcher.py:9: DeprecationWarning: find_element_by_class_name is deprecated. Please use find_element(by=By.CLASS_NAME, value=name) instead\n",
      "  if __name__ == \"__main__\":\n",
      "c:\\Users\\kss34\\anaconda3\\envs\\myEnv\\lib\\site-packages\\ipykernel_launcher.py:16: DeprecationWarning: find_element_by_class_name is deprecated. Please use find_element(by=By.CLASS_NAME, value=name) instead\n",
      "  \n",
      "c:\\Users\\kss34\\anaconda3\\envs\\myEnv\\lib\\site-packages\\ipykernel_launcher.py:19: DeprecationWarning: find_element_by_tag_name is deprecated. Please use find_element(by=By.TAG_NAME, value=name) instead\n",
      "c:\\Users\\kss34\\anaconda3\\envs\\myEnv\\lib\\site-packages\\ipykernel_launcher.py:25: DeprecationWarning: find_element_by_class_name is deprecated. Please use find_element(by=By.CLASS_NAME, value=name) instead\n"
     ]
    },
    {
     "name": "stdout",
     "output_type": "stream",
     "text": [
      "다운로드 완료\n"
     ]
    }
   ],
   "source": [
    "### 1. qurey 선언 / chromedriver 실행\n",
    "qurey = \"사과\"\n",
    "service = Service(\"./chromedriver.exe\")\n",
    "driver = webdriver.Chrome(service=service)\n",
    "\n",
    "###2. query 검색창에 추가 \n",
    "driver.get(\"https://www.google.co.kr/imghp?h1=ko\")\n",
    "# keyword = driver.find_element_by_xpath(\"/html/body/div[1]/div[3]/form/div[1]/div[1]/div[1]/div/div[2]/textarea\")\n",
    "keyword = driver.find_element_by_class_name('gLFyf')\n",
    "keyword.send_keys(qurey)\n",
    "# /html/body/div[1]/div[3]/form/div[1]/div[1]/div[1]/div/div[2]/textarea -> 검색창\n",
    "# /html/body/div[1]/div[3]/form/div[1]/div[1]/div[1]/button -> 검색창 버튼 \n",
    "\n",
    "### 검색창에 입력어 들어오면 검색 실행 \n",
    "# driver.find_element_by_xpath(\"/html/body/div[1]/div[3]/form/div[1]/div[1]/div[1]/button/div/span/svg\").click()\n",
    "driver.find_element_by_class_name('Tg7LZd').send_keys(Keys.ENTER)\n",
    "\n",
    "### 스크롤 내려가기 -> 검색 더보기 클릭 후 -> 스크롤 내려가기 \n",
    "elem = driver.find_element_by_tag_name('body')\n",
    "for i in range(60) : \n",
    "    elem.send_keys(Keys.PAGE_DOWN)\n",
    "    time.sleep(0.1)\n",
    "    \n",
    "try : \n",
    "    driver.find_element_by_class_name('mye4qd').send_keys(Keys.ENTER)\n",
    "    for i in range(60) : \n",
    "        elem.send_keys(Keys.PAGE_DOWN)\n",
    "        time.sleep(0.1)\n",
    "except :\n",
    "    pass\n",
    "\n",
    "images = driver.find_elements(By.CSS_SELECTOR, value=\".rg_i.Q4LuWd\")\n",
    "\n",
    "### 이미지 다운로드 \n",
    "count = 0\n",
    "for i in images : \n",
    "    start = time.time()\n",
    "    \n",
    "    os.makedirs(\"./download_image_data\", exist_ok=True)\n",
    "    try :\n",
    "        i.click()\n",
    "        # 2초로 설정한 이유는 IP 차단을 당하지 않기 위해서이다.  \n",
    "        time.sleep(2)\n",
    "\n",
    "        # 개발자 모드에서 돋보기 이용해서 해당 이미지의 코드로 이동하게 된다. \n",
    "        # 그 코드에 대고 마우스 오른쪽 버튼을 눌러 copy -> xpath를 눌러주면 쉽게 복사할 수 있다. 복사된 xpath를 find_element_by_xpath() 안에 넣어주면 된다.\n",
    "        # 원본 이미지 저장된다.\n",
    "        imgUrl = driver.find_element(By.XPATH,'//*[@id=\"Sva75c\"]/div[2]/div/div[2]/div[2]/div[2]/c-wiz/div/div/div/div[3]/div[1]/a/img[1]').get_attribute(\"src\")\n",
    "        urllib.request.urlretrieve(imgUrl, f\"./download_image_data/{str(count)}_apple.png\")\n",
    "        print(f\" {qurey} >>> 다운로드 시간 : {str(time.time() - start)[:5]} 초\")\n",
    "        count = count + 1 \n",
    "\n",
    "    except :\n",
    "        pass\n",
    "    \n",
    "print(\"다운로드 완료\")\n",
    "driver.close()"
   ]
  }
 ],
 "metadata": {
  "kernelspec": {
   "display_name": "myEnv",
   "language": "python",
   "name": "myenv"
  },
  "language_info": {
   "codemirror_mode": {
    "name": "ipython",
    "version": 3
   },
   "file_extension": ".py",
   "mimetype": "text/x-python",
   "name": "python",
   "nbconvert_exporter": "python",
   "pygments_lexer": "ipython3",
   "version": "3.7.12"
  }
 },
 "nbformat": 4,
 "nbformat_minor": 5
}
