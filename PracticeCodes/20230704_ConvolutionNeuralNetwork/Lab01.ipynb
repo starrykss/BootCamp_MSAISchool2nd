{
 "cells": [
  {
   "cell_type": "markdown",
   "id": "cc89c0ee",
   "metadata": {},
   "source": [
    "# Lab 01. LeNet-5 실습 1\n",
    "---"
   ]
  },
  {
   "cell_type": "code",
   "execution_count": 1,
   "id": "d454a176",
   "metadata": {},
   "outputs": [
    {
     "name": "stderr",
     "output_type": "stream",
     "text": [
      "c:\\Users\\kss34\\anaconda3\\envs\\pytorchPractice\\lib\\site-packages\\tqdm\\auto.py:21: TqdmWarning: IProgress not found. Please update jupyter and ipywidgets. See https://ipywidgets.readthedocs.io/en/stable/user_install.html\n",
      "  from .autonotebook import tqdm as notebook_tqdm\n"
     ]
    }
   ],
   "source": [
    "import torch\n",
    "import torch.nn as nn \n",
    "import torch.optim as optim\n",
    "import torchvision\n",
    "import torchvision.transforms as transforms"
   ]
  },
  {
   "cell_type": "markdown",
   "id": "45eb2262",
   "metadata": {},
   "source": [
    "## 데이터 다운로드 (CIFAR-10)"
   ]
  },
  {
   "cell_type": "code",
   "execution_count": 2,
   "id": "4515827b",
   "metadata": {},
   "outputs": [],
   "source": [
    "# Transform\n",
    "train_transform = transforms.Compose([\n",
    "    transforms.RandomHorizontalFlip(p=0.5),\n",
    "    transforms.RandomVerticalFlip(p=0.3),\n",
    "    transforms.ToTensor(),\n",
    "    transforms.Normalize((0.5, 0.5, 0.5), (0.2, 0.2, 0.2))\n",
    "])\n",
    "\n",
    "test_transform = transforms.Compose([\n",
    "    transforms.ToTensor(),\n",
    "    transforms.Normalize((0.5, 0.5, 0.5), (0.2, 0.2, 0.2))\n",
    "])"
   ]
  },
  {
   "cell_type": "code",
   "execution_count": 3,
   "id": "8b5343c3",
   "metadata": {},
   "outputs": [],
   "source": [
    "train_data = torchvision.datasets.CIFAR10(root=\"./data\", train=True, download=False, transform=train_transform)\n",
    "train_loader = torch.utils.data.DataLoader(train_data, batch_size=64, shuffle=True)\n",
    "\n",
    "test_data = torchvision.datasets.CIFAR10(root=\"./data\", train=False, download=False, transform=test_transform)\n",
    "test_loader = torch.utils.data.DataLoader(test_data, batch_size=64, shuffle=False)"
   ]
  },
  {
   "cell_type": "markdown",
   "id": "ed5a3414",
   "metadata": {},
   "source": [
    "## LeNet-5 모델"
   ]
  },
  {
   "cell_type": "code",
   "execution_count": 4,
   "id": "deab0165",
   "metadata": {},
   "outputs": [],
   "source": [
    "class LeNet(nn.Module) : \n",
    "    def __init__(self): \n",
    "        super(LeNet, self).__init__() \n",
    "        self.conv1 = nn.Conv2d(3, 32, 3)    # 입력 채널, 출력 채널 수, 커널 사이즈 \n",
    "        self.pool = nn.MaxPool2d(2,2)\n",
    "        self.conv2 = nn.Conv2d(32, 64, 3)    # 입력 채널, 출력 채널 수, 커널 사이즈 \n",
    "        self.fc1 = nn.Linear(64 * 6 * 6 , 64)    # 크기 조정\n",
    "        self.fc2 = nn.Linear(64, 10)\n",
    "        \n",
    "    def forward(self, x) : \n",
    "        x = self.pool(torch.relu(self.conv1(x)))    # feature map >> 14 x 14 \n",
    "        x = self.pool(torch.relu(self.conv2(x)))    # feature map >> 6 x 6 \n",
    "        x = torch.flatten(x, 1)    # 1차원으로 펄치기   # 64 x 6 x 6, 64 \n",
    "        x = torch.relu(self.fc1(x))    # 64 , 10\n",
    "        x = self.fc2(x)\n",
    "        \n",
    "        return x "
   ]
  },
  {
   "cell_type": "markdown",
   "id": "067918f7",
   "metadata": {},
   "source": [
    "## 모델 학습 및 평가 함수 구현 "
   ]
  },
  {
   "cell_type": "code",
   "execution_count": 5,
   "id": "1987dca7",
   "metadata": {},
   "outputs": [],
   "source": [
    "def train_and_eval(model) : \n",
    "    criterion = nn.CrossEntropyLoss()\n",
    "    optimizer = optim.SGD(model.parameters(), lr=0.001, momentum=0.9)\n",
    "    \n",
    "    # 학습 Loop\n",
    "    for epoch in range(5) : \n",
    "        runing_loss = 0.0 \n",
    "        for i, data in enumerate(train_loader, 0) : \n",
    "            images, labels = data\n",
    "            optimizer.zero_grad()\n",
    "            \n",
    "            outputs = model(images)\n",
    "            loss = criterion(outputs, labels)\n",
    "            loss.backward()\n",
    "            optimizer.step()\n",
    "            \n",
    "            runing_loss += loss.item()\n",
    "            \"\"\"\n",
    "            매 200번째 미니 배치마다 조건이 참이 되어 손실이 출력되고 runing_loss가 재설정됩니다. \n",
    "            이는 미니 배치가 190번째일 때마다 출력 및 초기화가 수행됩니다.\n",
    "            \"\"\"\n",
    "            if i % 200 == 190 : \n",
    "                print('[%d, %5d] loss : %.3f' % (epoch + 1, i + 1, runing_loss / 200))\n",
    "                runing_loss = 0.0\n",
    "                \n",
    "    print(\"Finshed Training ....\")\n",
    "    \n",
    "    \n",
    "    # 모델 평가 \n",
    "    correct = 0\n",
    "    total = 0 \n",
    "    with torch.no_grad():\n",
    "        for data in test_loader : \n",
    "            images, labels = data\n",
    "            outputs = model(images)\n",
    "            _, predicted = torch.max(outputs.data, 1)\n",
    "            total += labels.size(0)\n",
    "            correct += (predicted == labels).sum().item()\n",
    "            \n",
    "    acc = 100 * correct / total\n",
    "    print(\"Acc >> %.2f %%\"% acc)"
   ]
  },
  {
   "cell_type": "markdown",
   "id": "3b9594ef",
   "metadata": {},
   "source": [
    "## 실행"
   ]
  },
  {
   "cell_type": "code",
   "execution_count": 6,
   "id": "c304a49d",
   "metadata": {},
   "outputs": [
    {
     "name": "stdout",
     "output_type": "stream",
     "text": [
      "LeNet-5\n",
      "[1,   191] loss : 2.154\n",
      "[1,   391] loss : 2.084\n",
      "[1,   591] loss : 1.953\n",
      "[2,   191] loss : 1.680\n",
      "[2,   391] loss : 1.677\n",
      "[2,   591] loss : 1.638\n",
      "[3,   191] loss : 1.485\n",
      "[3,   391] loss : 1.539\n",
      "[3,   591] loss : 1.505\n",
      "[4,   191] loss : 1.398\n",
      "[4,   391] loss : 1.434\n",
      "[4,   591] loss : 1.423\n",
      "[5,   191] loss : 1.324\n",
      "[5,   391] loss : 1.351\n",
      "[5,   591] loss : 1.350\n",
      "Finshed Training ....\n",
      "Acc >> 55.66 %\n",
      "LeNet 167562\n"
     ]
    }
   ],
   "source": [
    "print(\"LeNet-5\")\n",
    "model = LeNet()\n",
    "train_and_eval(model)\n",
    "\n",
    "# 파라미터 수 \n",
    "print(\"LeNet\", sum(p.numel() for p in model.parameters()))"
   ]
  }
 ],
 "metadata": {
  "kernelspec": {
   "display_name": "pytorchPractice",
   "language": "python",
   "name": "python3"
  },
  "language_info": {
   "codemirror_mode": {
    "name": "ipython",
    "version": 3
   },
   "file_extension": ".py",
   "mimetype": "text/x-python",
   "name": "python",
   "nbconvert_exporter": "python",
   "pygments_lexer": "ipython3",
   "version": "3.8.17"
  }
 },
 "nbformat": 4,
 "nbformat_minor": 5
}
