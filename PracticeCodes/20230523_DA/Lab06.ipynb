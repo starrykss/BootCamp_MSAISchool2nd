{
 "cells": [
  {
   "attachments": {},
   "cell_type": "markdown",
   "id": "ca96e336",
   "metadata": {},
   "source": [
    "# Lab 06. 지수 분포 간단 실습\n",
    "---"
   ]
  },
  {
   "cell_type": "code",
   "execution_count": 1,
   "id": "89618574",
   "metadata": {},
   "outputs": [],
   "source": [
    "import numpy as np\n",
    "import matplotlib.pyplot as plt"
   ]
  },
  {
   "attachments": {},
   "cell_type": "markdown",
   "id": "d0cc5f82",
   "metadata": {},
   "source": [
    "- 고객 서비스 센터 대기 시간을 모델링하는 지수 분포를 생성해본다. 실습 코드 데이터는 랜덤 생성한다."
   ]
  },
  {
   "cell_type": "code",
   "execution_count": 2,
   "id": "5499c418",
   "metadata": {},
   "outputs": [],
   "source": [
    "# 고객 서비스 센터 대기 시간을 모델링하는 지수 분포 생성\n",
    "def generate_waiting_time(lam, size) : \n",
    "    data = np.random.exponential(scale=1/lam, size=size)\n",
    "    return data"
   ]
  },
  {
   "attachments": {},
   "cell_type": "markdown",
   "id": "3cc0bbe2",
   "metadata": {},
   "source": [
    "- 고객 서비스 센터 대기 시간 분포를 측정하고 시각화 해본다."
   ]
  },
  {
   "cell_type": "code",
   "execution_count": 3,
   "id": "a00c4564",
   "metadata": {},
   "outputs": [
    {
     "data": {
      "image/png": "[encoded data removed]",
      "text/plain": [
       "<Figure size 640x480 with 1 Axes>"
      ]
     },
     "metadata": {},
     "output_type": "display_data"
    }
   ],
   "source": [
    "# 고객 서비스 센터 대기 시간 분포 측정 및 시각화 \n",
    "def measure_waiting_time(lam, num_samples) : \n",
    "    waiting_times = generate_waiting_time(lam, num_samples)\n",
    "    \n",
    "    # 대기 시간 분포 히스토그램 \n",
    "    plt.hist(waiting_times, bins=30, density=True, alpha=0.8)\n",
    "    \n",
    "    plt.show()\n",
    "    \n",
    "measure_waiting_time(0.5, 1000)"
   ]
  }
 ],
 "metadata": {
  "kernelspec": {
   "display_name": "myEnv",
   "language": "python",
   "name": "myenv"
  },
  "language_info": {
   "codemirror_mode": {
    "name": "ipython",
    "version": 3
   },
   "file_extension": ".py",
   "mimetype": "text/x-python",
   "name": "python",
   "nbconvert_exporter": "python",
   "pygments_lexer": "ipython3",
   "version": "3.7.12"
  }
 },
 "nbformat": 4,
 "nbformat_minor": 5
}
