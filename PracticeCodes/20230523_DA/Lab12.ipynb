{
 "cells": [
  {
   "attachments": {},
   "cell_type": "markdown",
   "id": "5ccf8b81",
   "metadata": {},
   "source": [
    "# Lab 12. 모수 검정, 비모수 검정 간단한 실습\n",
    "---"
   ]
  },
  {
   "cell_type": "code",
   "execution_count": 1,
   "id": "ba07c941",
   "metadata": {},
   "outputs": [],
   "source": [
    "import numpy as np \n",
    "from scipy import stats"
   ]
  },
  {
   "attachments": {},
   "cell_type": "markdown",
   "id": "f808e21a",
   "metadata": {},
   "source": [
    "- 모수 검정용 데이터를 생성한다."
   ]
  },
  {
   "cell_type": "code",
   "execution_count": 2,
   "id": "ceb9a260",
   "metadata": {},
   "outputs": [],
   "source": [
    "np.random.seed(42)\n",
    "\n",
    "# 모수 검정용 데이터 생성 \n",
    "n = 100\n",
    "mu1, mu2 = 0, 0.5\n",
    "sigma = 1 \n",
    "data1 = np.random.normal(mu1, sigma, n)\n",
    "data2 = np.random.normal(mu2, sigma, n)"
   ]
  },
  {
   "attachments": {},
   "cell_type": "markdown",
   "id": "586fcd90",
   "metadata": {},
   "source": [
    "- 비모수 검정용 데이터를 생성한다."
   ]
  },
  {
   "cell_type": "code",
   "execution_count": 3,
   "id": "c3ff6582",
   "metadata": {},
   "outputs": [
    {
     "name": "stdout",
     "output_type": "stream",
     "text": [
      "[0.87737307 0.74076862 0.69701574 0.70248408 0.35949115 0.29359184\n",
      " 0.80936116 0.81011339 0.86707232 0.91324055 0.5113424  0.50151629\n",
      " 0.79829518 0.64996393 0.70196688 0.79579267 0.89000534 0.33799516\n",
      " 0.37558295 0.09398194 0.57828014 0.03594227 0.46559802 0.54264463\n",
      " 0.28654125 0.59083326 0.03050025 0.03734819 0.82260056 0.36019064] [0.62706051 1.02224326 1.26999355 0.71582103 1.12289048 0.58534746\n",
      " 0.55168172 1.03135463 1.04063512 1.1374299  1.22609133 1.47585208\n",
      " 1.01630035 0.82295647 1.29518619 0.77083225 0.93897142 0.57845638\n",
      " 0.52535074 1.46264841 1.33598012 1.19597421 0.90895294 0.67329432\n",
      " 0.65643704 0.7502429  1.04922666 1.21459592 1.16019738 0.7799339 ]\n"
     ]
    }
   ],
   "source": [
    "# 비모수 검정용 데이터 생성 \n",
    "m = 30 \n",
    "data3 = np.random.uniform(0,1,m)\n",
    "data4 = np.random.uniform(0.5, 1.5 ,m)\n",
    "\n",
    "print(data3, data4)"
   ]
  },
  {
   "attachments": {},
   "cell_type": "markdown",
   "id": "281333a5",
   "metadata": {},
   "source": [
    "- 모수 검정을 실시한다."
   ]
  },
  {
   "cell_type": "code",
   "execution_count": 4,
   "id": "ea3c4e10",
   "metadata": {},
   "outputs": [
    {
     "name": "stdout",
     "output_type": "stream",
     "text": [
      "-4.754695943505288 3.819135262679343e-06\n"
     ]
    }
   ],
   "source": [
    "# 데이터 생성 완료 -> 모수 검정 실시\n",
    "t_stat, p_val = stats.ttest_ind(data1, data2)\n",
    "\n",
    "print(t_stat, p_val)"
   ]
  },
  {
   "attachments": {},
   "cell_type": "markdown",
   "id": "551d56b7",
   "metadata": {},
   "source": [
    "- 비모수 검정을 실시한다."
   ]
  },
  {
   "cell_type": "code",
   "execution_count": 5,
   "id": "bac67ff5",
   "metadata": {},
   "outputs": [
    {
     "name": "stdout",
     "output_type": "stream",
     "text": [
      "145.0 6.7362128931226e-06\n"
     ]
    }
   ],
   "source": [
    "# 데이터 생성 완료 -> 비모수 검정 실시\n",
    "u_stat, p_val = stats.mannwhitneyu(data3, data4)\n",
    "\n",
    "print(u_stat, p_val)"
   ]
  }
 ],
 "metadata": {
  "kernelspec": {
   "display_name": "myEnv",
   "language": "python",
   "name": "myenv"
  },
  "language_info": {
   "codemirror_mode": {
    "name": "ipython",
    "version": 3
   },
   "file_extension": ".py",
   "mimetype": "text/x-python",
   "name": "python",
   "nbconvert_exporter": "python",
   "pygments_lexer": "ipython3",
   "version": "3.7.12"
  }
 },
 "nbformat": 4,
 "nbformat_minor": 5
}
