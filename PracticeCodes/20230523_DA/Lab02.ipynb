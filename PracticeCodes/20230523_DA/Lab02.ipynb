{
 "cells": [
  {
   "attachments": {},
   "cell_type": "markdown",
   "id": "15cd83f2",
   "metadata": {},
   "source": [
    "# Lab 02. 시계열 상관 분석 실습\n",
    "---"
   ]
  },
  {
   "cell_type": "code",
   "execution_count": 8,
   "id": "f6095a73",
   "metadata": {},
   "outputs": [],
   "source": [
    "import pandas as pd \n",
    "import random \n",
    "import os \n",
    "import numpy as np\n",
    "import matplotlib.pyplot as plt\n",
    "import seaborn as sns"
   ]
  },
  {
   "attachments": {},
   "cell_type": "markdown",
   "id": "62ffe231",
   "metadata": {},
   "source": [
    "- 각 주식(삼성, LG)의 랜덤 가격 100개를 생성한다."
   ]
  },
  {
   "cell_type": "code",
   "execution_count": 9,
   "id": "978b49c3",
   "metadata": {},
   "outputs": [],
   "source": [
    "# 랜덤하게 각 주식의 가격 100개의 데이터 생성 \n",
    "# 삼성\n",
    "dates = pd.date_range(start='2021-01-04', periods=100, freq='D')\n",
    "samsung_prices = [random.randint(80000, 90000) for _ in range(100)]\n",
    "samsung_data = {'Date' : dates, '005930.KS' : samsung_prices}\n",
    "samsung_df = pd.DataFrame(samsung_data)\n",
    "samsung_df.set_index('Date', inplace=True)\n",
    "\n",
    "# LG \n",
    "lg_prices = [random.randint(140000, 160000) for _ in range(100)]\n",
    "lg_data = {'Date' : dates, '066570.KS' : lg_prices}\n",
    "lg_df = pd.DataFrame(lg_data)\n",
    "lg_df.set_index('Date', inplace=True)\n",
    "\n",
    "# 두 개의 프레임 합치기 \n",
    "df = pd.concat([samsung_df, lg_df] , axis=1)\n",
    "df = df.loc[:, ['005930.KS', '066570.KS']]\n",
    "df.columns = ['Samsung', 'LG']    # 컬럼명 지정하기"
   ]
  },
  {
   "attachments": {},
   "cell_type": "markdown",
   "id": "0862d2dc",
   "metadata": {},
   "source": [
    "- 폴더를 생성하고 `.csv` 파일로 저장한다. 폴더를 생성할 때 `exist_ok=True` 옵션을 적용해주는데, 이것은 이미 폴더가 생성되어 있을 경우 넘어가도록 해준다."
   ]
  },
  {
   "cell_type": "code",
   "execution_count": 10,
   "id": "4afb25f2",
   "metadata": {},
   "outputs": [],
   "source": [
    "# 폴더 생성 \n",
    "os.makedirs(\"./data\", exist_ok=True)     # 이미 생성되어 있으면 넘어간다. \n",
    "\n",
    "# 저장\n",
    "df.to_csv(\"./data/stock_price.csv\")"
   ]
  },
  {
   "attachments": {},
   "cell_type": "markdown",
   "id": "908ed221",
   "metadata": {},
   "source": [
    "- 생성한 `.csv` 파일을 읽고, 내용을 출력해본다."
   ]
  },
  {
   "cell_type": "code",
   "execution_count": 11,
   "id": "0603b6bd",
   "metadata": {},
   "outputs": [
    {
     "name": "stdout",
     "output_type": "stream",
     "text": [
      "            Samsung      LG\n",
      "Date                       \n",
      "2021-01-04    85716  154331\n",
      "2021-01-05    88865  159667\n",
      "2021-01-06    84614  158887\n",
      "2021-01-07    85110  153349\n",
      "2021-01-08    80834  154348\n",
      "...             ...     ...\n",
      "2021-04-09    86216  142787\n",
      "2021-04-10    80046  143259\n",
      "2021-04-11    86656  144622\n",
      "2021-04-12    88081  151847\n",
      "2021-04-13    88665  147842\n",
      "\n",
      "[100 rows x 2 columns]\n"
     ]
    }
   ],
   "source": [
    "# csv 읽기 \n",
    "df = pd.read_csv('./data/stock_price.csv')\n",
    "df['Date'] = pd.to_datetime(df['Date'])\n",
    "df.set_index('Date', inplace=True)\n",
    "\n",
    "print(df)"
   ]
  },
  {
   "attachments": {},
   "cell_type": "markdown",
   "id": "a3e09730",
   "metadata": {},
   "source": [
    "- 두 종목의 수익률을 계산해본다."
   ]
  },
  {
   "cell_type": "code",
   "execution_count": 12,
   "id": "c665d07b",
   "metadata": {},
   "outputs": [
    {
     "name": "stdout",
     "output_type": "stream",
     "text": [
      "             Samsung        LG\n",
      "Date                          \n",
      "2021-01-04       NaN       NaN\n",
      "2021-01-05  0.036738  0.034575\n",
      "2021-01-06 -0.047837 -0.004885\n",
      "2021-01-07  0.005862 -0.034855\n",
      "2021-01-08 -0.050241  0.006515\n",
      "...              ...       ...\n",
      "2021-04-09  0.052185  0.017588\n",
      "2021-04-10 -0.071564  0.003306\n",
      "2021-04-11  0.082578  0.009514\n",
      "2021-04-12  0.016444  0.049958\n",
      "2021-04-13  0.006630 -0.026375\n",
      "\n",
      "[100 rows x 2 columns]\n"
     ]
    }
   ],
   "source": [
    "# 두 종목의 수익률 계산 \n",
    "returns = df.pct_change()\n",
    "\n",
    "print(returns)"
   ]
  },
  {
   "attachments": {},
   "cell_type": "markdown",
   "id": "a8b19e9d",
   "metadata": {},
   "source": [
    "- 수익률 간의 상관 계수를 계산해본다."
   ]
  },
  {
   "cell_type": "code",
   "execution_count": 13,
   "id": "20fa275e",
   "metadata": {},
   "outputs": [
    {
     "name": "stdout",
     "output_type": "stream",
     "text": [
      "          Samsung        LG\n",
      "Samsung  1.000000  0.045282\n",
      "LG       0.045282  1.000000\n"
     ]
    }
   ],
   "source": [
    "# 수익률 간의 상관 계수 계산 \n",
    "corr_matrix = returns.corr()\n",
    "\n",
    "print(corr_matrix)"
   ]
  },
  {
   "attachments": {},
   "cell_type": "markdown",
   "id": "e1638c06",
   "metadata": {},
   "source": [
    "- 히트맵으로 시각화 해본다."
   ]
  },
  {
   "cell_type": "code",
   "execution_count": 14,
   "id": "88eed13c",
   "metadata": {},
   "outputs": [
    {
     "data": {
      "image/png": "[encoded data removed]",
      "text/plain": [
       "<Figure size 640x480 with 2 Axes>"
      ]
     },
     "metadata": {},
     "output_type": "display_data"
    },
    {
     "ename": "",
     "evalue": "",
     "output_type": "error",
     "traceback": [
      "\u001b[1;31mThe Kernel crashed while executing code in the the current cell or a previous cell. Please review the code in the cell(s) to identify a possible cause of the failure. Click <a href='https://aka.ms/vscodeJupyterKernelCrash'>here</a> for more info. View Jupyter <a href='command:jupyter.viewOutput'>log</a> for further details."
     ]
    }
   ],
   "source": [
    "# 히트맵 그리기 \n",
    "sns.heatmap(corr_matrix, annot=True, cmap='coolwarm')\n",
    "plt.show()"
   ]
  }
 ],
 "metadata": {
  "kernelspec": {
   "display_name": "myEnv",
   "language": "python",
   "name": "myenv"
  },
  "language_info": {
   "codemirror_mode": {
    "name": "ipython",
    "version": 3
   },
   "file_extension": ".py",
   "mimetype": "text/x-python",
   "name": "python",
   "nbconvert_exporter": "python",
   "pygments_lexer": "ipython3",
   "version": "3.7.12"
  }
 },
 "nbformat": 4,
 "nbformat_minor": 5
}
