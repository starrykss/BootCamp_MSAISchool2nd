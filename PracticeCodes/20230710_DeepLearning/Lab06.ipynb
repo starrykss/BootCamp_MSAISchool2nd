{
 "cells": [
  {
   "attachments": {},
   "cell_type": "markdown",
   "metadata": {},
   "source": [
    "# Lab 06. VGG11 모델과  ResNet18 모델 앙상블 실습\n",
    "---"
   ]
  },
  {
   "cell_type": "code",
   "execution_count": 1,
   "metadata": {},
   "outputs": [],
   "source": [
    "import torch\n",
    "import torch.nn as nn\n",
    "import torch.optim as optim\n",
    "import torchvision.transforms as transform\n",
    "\n",
    "from torch.utils.data import DataLoader\n",
    "from torchvision.datasets import CIFAR10\n",
    "from torchvision.models import vgg11, resnet18\n",
    "\n",
    "from sklearn.metrics import accuracy_score"
   ]
  },
  {
   "cell_type": "code",
   "execution_count": 2,
   "metadata": {},
   "outputs": [
    {
     "name": "stdout",
     "output_type": "stream",
     "text": [
      "device >> cuda\n"
     ]
    }
   ],
   "source": [
    "# GPU 설정 (사용 가능한 경우)\n",
    "device = torch.device(\"cuda\" if torch.cuda.is_available() else \"cpu\")\n",
    "\n",
    "print(\"device >>\" , device)"
   ]
  },
  {
   "cell_type": "code",
   "execution_count": 3,
   "metadata": {},
   "outputs": [],
   "source": [
    "# 데이터셋 불러오기 .\n",
    "train_transform = transform.Compose([\n",
    "    transform.RandomHorizontalFlip(),\n",
    "    transform.RandomVerticalFlip(),\n",
    "    transform.RandAugment(),\n",
    "    transform.ToTensor(),\n",
    "    transform.Normalize((0.5, 0.5, 0.5), (0.5, 0.5, 0.5))    # 이미지를 -1 ~ 1로 정규화\n",
    "])\n",
    "\n",
    "test_transform = transform.Compose([\n",
    "    transform.ToTensor(),\n",
    "    transform.Normalize((0.5, 0.5, 0.5), (0.5, 0.5, 0.5))     # 이미지를 -1 ~ 1로 정규화\n",
    "])"
   ]
  },
  {
   "cell_type": "code",
   "execution_count": 4,
   "metadata": {},
   "outputs": [
    {
     "name": "stdout",
     "output_type": "stream",
     "text": [
      "Files already downloaded and verified\n",
      "Files already downloaded and verified\n"
     ]
    }
   ],
   "source": [
    "# 데이터 정의\n",
    "train_dataset = CIFAR10(root=\"./data\", train=True, download=True, transform=train_transform)\n",
    "test_dataset = CIFAR10(root=\"./data\", train=False, download=True, transform=test_transform)\n",
    "\n",
    "train_loader = DataLoader(train_dataset, batch_size=246, shuffle=True, num_workers=2, pin_memory=True)\n",
    "test_loader = DataLoader(test_dataset, batch_size=246, shuffle=False, num_workers=2, pin_memory=True)"
   ]
  },
  {
   "cell_type": "code",
   "execution_count": 5,
   "metadata": {},
   "outputs": [
    {
     "name": "stderr",
     "output_type": "stream",
     "text": [
      "c:\\Miniconda\\envs\\MS_AI_SCHOOL\\Lib\\site-packages\\torchvision\\models\\_utils.py:208: UserWarning: The parameter 'pretrained' is deprecated since 0.13 and may be removed in the future, please use 'weights' instead.\n",
      "  warnings.warn(\n",
      "c:\\Miniconda\\envs\\MS_AI_SCHOOL\\Lib\\site-packages\\torchvision\\models\\_utils.py:223: UserWarning: Arguments other than a weight enum or `None` for 'weights' are deprecated since 0.13 and may be removed in the future. The current behavior is equivalent to passing `weights=VGG11_Weights.IMAGENET1K_V1`. You can also use `weights=VGG11_Weights.DEFAULT` to get the most up-to-date weights.\n",
      "  warnings.warn(msg)\n",
      "c:\\Miniconda\\envs\\MS_AI_SCHOOL\\Lib\\site-packages\\torchvision\\models\\_utils.py:223: UserWarning: Arguments other than a weight enum or `None` for 'weights' are deprecated since 0.13 and may be removed in the future. The current behavior is equivalent to passing `weights=ResNet18_Weights.IMAGENET1K_V1`. You can also use `weights=ResNet18_Weights.DEFAULT` to get the most up-to-date weights.\n",
      "  warnings.warn(msg)\n"
     ]
    }
   ],
   "source": [
    "# vgg11 모델 과 resnet18 모델 정의\n",
    "vgg_model = vgg11(pretrained=True)\n",
    "resnet_model = resnet18(pretrained=True)\n",
    "\n",
    "num_features_vgg = vgg_model.classifier[6].in_features\n",
    "num_features_resnet = resnet_model.fc.in_features\n",
    "\n",
    "vgg_model.classifier[6] = nn.Linear(num_features_vgg, 10)\n",
    "resnet_model.fc = nn.Linear(num_features_resnet, 10)"
   ]
  },
  {
   "cell_type": "code",
   "execution_count": 6,
   "metadata": {},
   "outputs": [],
   "source": [
    "# Voting 앙상블 모델 정의\n",
    "class EnsembleModel(nn.Module) :\n",
    "    def __init__(self, models):\n",
    "        super(EnsembleModel, self).__init__()\n",
    "        self.models = nn.ModuleList(models)\n",
    "\n",
    "    def forward(self, x):\n",
    "        outputs = [model(x) for model in self.models]\n",
    "        outputs = torch.stack(outputs, dim=0)\n",
    "        avg_output = torch.mean(outputs, dim=0)\n",
    "\n",
    "        return avg_output\n",
    "\n",
    "ensemble_model = EnsembleModel([vgg_model, resnet_model])\n",
    "criterion = nn.CrossEntropyLoss()\n",
    "optimizer = optim.AdamW(ensemble_model.parameters(), lr=0.001)"
   ]
  },
  {
   "cell_type": "code",
   "execution_count": 7,
   "metadata": {},
   "outputs": [],
   "source": [
    "# 모델 학습 함수 정의\n",
    "def train(model, device, train_loader , optimizer, criterion) :\n",
    "    model.train()\n",
    "    for batch_idx, (data, target) in enumerate(train_loader) :\n",
    "        data, target = data.to(device), target.to(device)\n",
    "\n",
    "        optimizer.zero_grad()\n",
    "        output = model(data)\n",
    "\n",
    "        loss = criterion(output, target)\n",
    "        loss.backward()\n",
    "        optimizer.step()\n",
    "\n",
    "def evaluate(model, device, test_loader) :\n",
    "    model.eval()\n",
    "    predictions = []\n",
    "    targets = []\n",
    "\n",
    "    with torch.no_grad() :\n",
    "        for data, target in test_loader :\n",
    "            data, target = data.to(device) , target.to(device)\n",
    "            output = model(data)\n",
    "            _, predicted = torch.max(output,1)\n",
    "            predictions.extend(predicted.cpu().numpy())\n",
    "            targets.extend(target.cpu().numpy())\n",
    "\n",
    "    acc = accuracy_score(targets, predictions)\n",
    "    return acc"
   ]
  },
  {
   "cell_type": "code",
   "execution_count": 8,
   "metadata": {},
   "outputs": [
    {
     "name": "stdout",
     "output_type": "stream",
     "text": [
      "Train model ... 1\n",
      "epoch >> [1] acc >> [0.68]\n",
      "Train model ... 2\n",
      "epoch >> [2] acc >> [0.72]\n",
      "Train model ... 3\n",
      "epoch >> [3] acc >> [0.74]\n",
      "Train model ... 4\n",
      "epoch >> [4] acc >> [0.74]\n",
      "Train model ... 5\n",
      "epoch >> [5] acc >> [0.76]\n",
      "Train model ... 6\n",
      "epoch >> [6] acc >> [0.76]\n",
      "Train model ... 7\n",
      "epoch >> [7] acc >> [0.77]\n",
      "Train model ... 8\n",
      "epoch >> [8] acc >> [0.77]\n",
      "Train model ... 9\n",
      "epoch >> [9] acc >> [0.78]\n",
      "Train model ... 10\n",
      "epoch >> [10] acc >> [0.79]\n",
      "Train model ... 11\n",
      "epoch >> [11] acc >> [0.78]\n",
      "Train model ... 12\n",
      "epoch >> [12] acc >> [0.78]\n",
      "Train model ... 13\n",
      "epoch >> [13] acc >> [0.78]\n",
      "Train model ... 14\n",
      "epoch >> [14] acc >> [0.79]\n",
      "Train model ... 15\n",
      "epoch >> [15] acc >> [0.79]\n",
      "Train model ... 16\n",
      "epoch >> [16] acc >> [0.79]\n",
      "Train model ... 17\n",
      "epoch >> [17] acc >> [0.80]\n",
      "Train model ... 18\n",
      "epoch >> [18] acc >> [0.80]\n",
      "Train model ... 19\n",
      "epoch >> [19] acc >> [0.81]\n"
     ]
    }
   ],
   "source": [
    "# 앙상블된 모델 예측 합치는 함수 정의\n",
    "def combine_predictions(predictions) :\n",
    "    combined = torch.cat(predictions, dim=0)\n",
    "    _, predicted_lables = torch.max(combined, 1)\n",
    "    return predicted_lables\n",
    "\n",
    "if __name__ == '__main__' :\n",
    "    for epoch in range(1, 20) :\n",
    "        print(f\"Train model ... {epoch}\")\n",
    "        ensemble_model = ensemble_model.to(device)\n",
    "        train(ensemble_model, device, train_loader, optimizer, criterion)\n",
    "        predictions = []\n",
    "        with torch.no_grad() :\n",
    "            for data, _ in test_loader  :\n",
    "                data = data.to(device)\n",
    "                output = ensemble_model(data)\n",
    "                predictions.append(output)\n",
    "\n",
    "        combine_predictions_ = combine_predictions(predictions)\n",
    "        acc = accuracy_score(test_dataset.targets, combine_predictions_.cpu().numpy())\n",
    "\n",
    "        print(f\"epoch >> [{epoch}] acc >> [{acc:.2f}]\")"
   ]
  }
 ],
 "metadata": {
  "kernelspec": {
   "display_name": "base",
   "language": "python",
   "name": "python3"
  },
  "language_info": {
   "codemirror_mode": {
    "name": "ipython",
    "version": 3
   },
   "file_extension": ".py",
   "mimetype": "text/x-python",
   "name": "python",
   "nbconvert_exporter": "python",
   "pygments_lexer": "ipython3",
   "version": "3.11.4"
  },
  "orig_nbformat": 4
 },
 "nbformat": 4,
 "nbformat_minor": 2
}
