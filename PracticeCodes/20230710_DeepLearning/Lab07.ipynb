{
 "cells": [
  {
   "attachments": {},
   "cell_type": "markdown",
   "metadata": {},
   "source": [
    "# Lab 07. ResNet18 모델과 배깅 앙상블 실습\n",
    "---"
   ]
  },
  {
   "cell_type": "code",
   "execution_count": null,
   "metadata": {},
   "outputs": [],
   "source": [
    "import torch\n",
    "import torch.nn as nn\n",
    "import torch.optim as optim\n",
    "import torchvision.transforms as transform\n",
    "\n",
    "from torch.utils.data import DataLoader\n",
    "from torchvision.datasets import CIFAR10\n",
    "from torchvision.models import resnet18\n",
    "\n",
    "from sklearn.ensemble import BaggingClassifier\n",
    "from sklearn.tree import DecisionTreeClassifier\n",
    "from sklearn.metrics import accuracy_score"
   ]
  },
  {
   "cell_type": "code",
   "execution_count": null,
   "metadata": {},
   "outputs": [],
   "source": [
    "# GPU 설정 (사용 가능한 경우)\n",
    "device = torch.device(\"cuda\" if torch.cuda.is_available() else \"cpu\")\n",
    "# print(\"device >>\" , device)"
   ]
  },
  {
   "cell_type": "code",
   "execution_count": null,
   "metadata": {},
   "outputs": [],
   "source": [
    "# 데이터셋 불러오기 .\n",
    "train_transform = transform.Compose([\n",
    "    transform.RandomHorizontalFlip(),\n",
    "    transform.RandomVerticalFlip(),\n",
    "    transform.RandAugment(),\n",
    "    transform.ToTensor(),\n",
    "    transform.Normalize((0.5, 0.5, 0.5), (0.5, 0.5, 0.5))    # 이미지를 -1 ~ 1로 정규화\n",
    "])\n",
    "\n",
    "test_transform = transform.Compose([\n",
    "    transform.ToTensor(),\n",
    "    transform.Normalize((0.5, 0.5, 0.5), (0.5, 0.5, 0.5))     # 이미지를 -1 ~ 1로 정규화\n",
    "])"
   ]
  },
  {
   "cell_type": "code",
   "execution_count": null,
   "metadata": {},
   "outputs": [],
   "source": [
    "# 데이터셋, 데이터 로더\n",
    "train_dataset = CIFAR10(root=\"./data\", train=True, download=False,\n",
    "                        transform=train_transform)\n",
    "test_dataset = CIFAR10(root=\"./data\", train=False, download=False,\n",
    "                       transform=test_transform)\n",
    "\n",
    "train_loader = DataLoader(train_dataset, batch_size=128, shuffle=True, num_workers=2)\n",
    "test_loader = DataLoader(test_dataset, batch_size=128, shuffle=False, num_workers=2)\n",
    "\n",
    "# ResNet-18 모델 정의\n",
    "model = resnet18(pretrained=True)\n",
    "num_features = model.fc.in_features\n",
    "model.fc = nn.Linear(num_features, 10) # 클래스 개수 10개 입니다.\n",
    "# print(\"fc in features >> \", num_features)"
   ]
  },
  {
   "cell_type": "code",
   "execution_count": null,
   "metadata": {},
   "outputs": [],
   "source": [
    "# 배깅 앙상블 모델 정의\n",
    "\"\"\"\n",
    "BaggingClassifier() => 여러개 분류기를 앙상블 해서 더 좋은 결과를 얻기 위한 알고리즘\n",
    "DecisionTreeClassifier() => 결정나무 트리 알고리즘 (트리 깊이가 7로 제한)\n",
    "\"\"\"\n",
    "bagging_model = BaggingClassifier(\n",
    "    base_estimator=DecisionTreeClassifier(max_depth=7),\n",
    "    n_estimators=5\n",
    ")"
   ]
  },
  {
   "cell_type": "code",
   "execution_count": null,
   "metadata": {},
   "outputs": [],
   "source": [
    "# 손실 함수와 옵티마이저 정의\n",
    "criterion = nn.CrossEntropyLoss()\n",
    "optimizer = optim.AdamW(model.parameters(), lr=0.001)"
   ]
  },
  {
   "cell_type": "code",
   "execution_count": null,
   "metadata": {},
   "outputs": [],
   "source": [
    "# 모델 학습 함수 정의\n",
    "def train(model, device, train_loader, optimizer, criterion) :\n",
    "    model.train()\n",
    "    for batch_idx , (data, target) in enumerate(train_loader) :\n",
    "        data, target = data.to(device), target.to(device)\n",
    "\n",
    "        optimizer.zero_grad()\n",
    "        outputs = model(data)\n",
    "\n",
    "        loss = criterion(outputs, target)\n",
    "        loss.backward()\n",
    "        optimizer.step()"
   ]
  },
  {
   "cell_type": "code",
   "execution_count": null,
   "metadata": {},
   "outputs": [],
   "source": [
    "# 모델 평가 함수 정의\n",
    "def evalute(model, device, test_loader) :\n",
    "    model.eval()\n",
    "    predictions = []\n",
    "    targets = []\n",
    "    with torch.no_grad() :\n",
    "        for data, target in test_loader :\n",
    "            data, target = data.to(device), target.to(device)\n",
    "            output = model(data)\n",
    "            _, pred = torch.max(output,1)\n",
    "            predictions.extend(pred.cpu().numpy())\n",
    "            targets.extend(target.cpu().numpy())\n",
    "    acc = accuracy_score(targets, predictions)\n",
    "\n",
    "    return acc"
   ]
  },
  {
   "cell_type": "code",
   "execution_count": null,
   "metadata": {},
   "outputs": [],
   "source": [
    "# 앙상블된 모델 예측 함수 정의\n",
    "def ensemble_pred(models, device, test_loader ) :\n",
    "    predictions = []\n",
    "    with torch.no_grad() :\n",
    "        for data,_ in test_loader :\n",
    "            data = data.to(device)\n",
    "            outputs = []\n",
    "            for model in models :\n",
    "                model = model.to(device)\n",
    "                model.eval()\n",
    "                output = model(data)\n",
    "                outputs.append(output)\n",
    "\n",
    "            ensemble_output = torch.stack(outputs).mean(dim=0)\n",
    "            _, pred = torch.max(ensemble_output, 1)\n",
    "            predictions.extend(pred.cpu().numpy())\n",
    "\n",
    "    return predictions"
   ]
  },
  {
   "cell_type": "code",
   "execution_count": null,
   "metadata": {},
   "outputs": [],
   "source": [
    "if __name__ == '__main__':\n",
    "    models = []\n",
    "    for epoch in range(1, 20) :\n",
    "        print(f\"Train ... {epoch}\")\n",
    "        model = model.to(device)\n",
    "        train(model, device, train_loader, optimizer, criterion)\n",
    "        acc = evalute(model, device, test_loader)\n",
    "        print(f\"Model {epoch} ACC {acc:.2f}\")\n",
    "        models.append(model)\n",
    "\n",
    "    ensemble_predictions = ensemble_pred(models, device, test_loader)\n",
    "    ensemble_acc = accuracy_score(test_dataset.targets, ensemble_predictions)\n",
    "    print(f\"\\nEnsemble Acc : {ensemble_acc:.2f}\")"
   ]
  }
 ],
 "metadata": {
  "language_info": {
   "name": "python"
  },
  "orig_nbformat": 4
 },
 "nbformat": 4,
 "nbformat_minor": 2
}
