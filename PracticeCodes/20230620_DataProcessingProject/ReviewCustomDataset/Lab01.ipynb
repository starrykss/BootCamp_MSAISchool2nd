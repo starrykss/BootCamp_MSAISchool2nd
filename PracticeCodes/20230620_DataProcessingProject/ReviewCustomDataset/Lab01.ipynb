{
 "cells": [
  {
   "attachments": {},
   "cell_type": "markdown",
   "id": "7d9b0147",
   "metadata": {},
   "source": [
    "# Lab 01. Custom Dataset 구현 복습\n",
    "---"
   ]
  },
  {
   "cell_type": "code",
   "execution_count": 1,
   "id": "4d114e99",
   "metadata": {},
   "outputs": [],
   "source": [
    "import torch\n",
    "import os\n",
    "import glob\n",
    "\n",
    "from PIL import Image\n",
    "from torch.utils.data import Dataset, DataLoader\n",
    "from torchvision import transforms"
   ]
  },
  {
   "cell_type": "code",
   "execution_count": 2,
   "id": "932a7566",
   "metadata": {},
   "outputs": [
    {
     "name": "stdout",
     "output_type": "stream",
     "text": [
      "55\n"
     ]
    },
    {
     "data": {
      "text/plain": [
       "'\\n기본 구조\\ntrain_dataset = CustomImageDataset(\"./dataset/train/\", transform=transform)\\nval_dataset   = CustomImageDataset(\"./dataset/val/\", transform=transform)\\ntrain_loader  = DataLoader(train_dataset, batch_size = 32, shuffle=True, drop_last=False)\\nval_loader    = DataLoader(val_dataset, batch_size = 32, shuffle=False, drop_last=False)\\n'"
      ]
     },
     "execution_count": 2,
     "metadata": {},
     "output_type": "execute_result"
    }
   ],
   "source": [
    "def is_grayscale(img) : \n",
    "    # 그레이 스케일로 변환 \n",
    "    return img.mode == 'L'\n",
    "\n",
    "# image_paths => ./dataset/폴더/*.jpg\n",
    "# image_paths => ./dataset/\n",
    "class CustomImageDataset(Dataset) :\n",
    "    \n",
    "    def __init__(self, image_paths, transform=None) :      # CustomImageDataset 클래스 초기화 담당\n",
    "        \"\"\"\n",
    "        일반적으로 데이터셋 경로 지정, 라벨 파일 경로 지정, transform 정의, 라벨 지정 작업을 수행한다.\n",
    "        \"\"\"\n",
    "        ############ 기본 구성 #############\n",
    "        # 데이터셋 경로 지정 = [\"....png, \"....png\"] \n",
    "        self.image_paths = glob.glob(os.path.join(image_paths, \"*\", \"*.jpg\" ))\n",
    "        \n",
    "        # transform 정의\n",
    "        self.transform = transform\n",
    "\n",
    "        ########## 추가 구성 ##############\n",
    "        # 라벨 지정 \n",
    "        self.label_dict = {'dew' : 0, 'fogsmog' : 1, 'frost' : 2, 'glaze' : 3, 'hail' : 4, 'lightning' : 5, \n",
    "                            'rain': 6, 'rainbow' : 7, 'rime' : 8, 'sandstorm' : 9, 'snow' : 10}\n",
    "    \n",
    "    \n",
    "    # 흑백 학습 / RGB 학습\n",
    "    def __getitem__(self, index) :\n",
    "        ############ 기본 구성 #############\n",
    "        # 1. 이미지 처리 \n",
    "        image_path = self.image_paths[index]\n",
    "        image = Image.open(image_path).convert('RGB')\n",
    "        \n",
    "        if not is_grayscale(image) : \n",
    "\n",
    "            # 2. 라벨 매칭 \n",
    "            # print(image_path)     # ./dataset/lightning/1831.jpg -> split('/') -> ['.', 'dataset', 'lightning', '1831.jpg']\n",
    "            foloder_name = image_path.split(\"/\")\n",
    "            # windows === > foloder_name = image_path.split(\"\\\\\")\n",
    "            foloder_name = foloder_name[2]\n",
    "            label = self.label_dict[foloder_name]\n",
    "            #  print(image_path, label)    # ['.', 'dataset', 'lightning', '1831.jpg']\n",
    "\n",
    "            # 3. transform\n",
    "            if self.transform : \n",
    "                image = self.transform(image)\n",
    "\n",
    "            return image, label\n",
    "        \n",
    "        else : \n",
    "            print(\"흑백 이미지 >> \" , image_path)\n",
    "            \n",
    "    \n",
    "    def __len__(self) : \n",
    "        return len(self.image_paths)\n",
    "    \n",
    "\n",
    "transform = transforms.Compose([\n",
    "    transforms.Resize((224, 224)),\n",
    "    transforms.ToTensor()\n",
    "])\n",
    "    \n",
    "dataset = CustomImageDataset(\"./dataset/\", transform=transform)\n",
    "\n",
    "print(len(dataset))\n",
    "# for i in dataset : \n",
    "#    print(i)\n",
    "dataloader = DataLoader(dataset, batch_size=5, shuffle=True, drop_last=False)\n",
    "\n",
    "# 모델 선언, 로스 함수 선언, 옵티마이저 선언 , 러닝 레이트 선언 \n",
    "\n",
    "# 학습 코드 생성\n",
    "# for images, labels in dataloader : \n",
    "#     print(images, labels)\n",
    "\"\"\"\n",
    "기본 구조\n",
    "train_dataset = CustomImageDataset(\"./dataset/train/\", transform=transform)\n",
    "val_dataset   = CustomImageDataset(\"./dataset/val/\", transform=transform)\n",
    "train_loader  = DataLoader(train_dataset, batch_size = 32, shuffle=True, drop_last=False)\n",
    "val_loader    = DataLoader(val_dataset, batch_size = 32, shuffle=False, drop_last=False)\n",
    "\"\"\"\n"
   ]
  }
 ],
 "metadata": {
  "kernelspec": {
   "display_name": "pytorchPractice",
   "language": "python",
   "name": "python3"
  },
  "language_info": {
   "codemirror_mode": {
    "name": "ipython",
    "version": 3
   },
   "file_extension": ".py",
   "mimetype": "text/x-python",
   "name": "python",
   "nbconvert_exporter": "python",
   "pygments_lexer": "ipython3",
   "version": "3.8.17"
  }
 },
 "nbformat": 4,
 "nbformat_minor": 5
}
