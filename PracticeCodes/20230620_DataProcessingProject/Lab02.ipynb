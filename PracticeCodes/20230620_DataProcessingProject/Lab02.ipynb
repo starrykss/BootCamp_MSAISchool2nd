{
 "cells": [
  {
   "attachments": {},
   "cell_type": "markdown",
   "id": "28f56ebf",
   "metadata": {},
   "source": [
    "# Lab 02. MFCC(Mel-Frequency Cepstral Coefficient) 간단 실습\n",
    "---"
   ]
  },
  {
   "cell_type": "code",
   "execution_count": 1,
   "id": "5ca241f0",
   "metadata": {},
   "outputs": [
    {
     "name": "stderr",
     "output_type": "stream",
     "text": [
      "c:\\Users\\kss34\\anaconda3\\envs\\pytorchPractice\\lib\\site-packages\\lazy_loader\\__init__.py:185: RuntimeWarning: subpackages can technically be lazily loaded, but it causes the package to be eagerly loaded even if it is already lazily loaded.So, you probably shouldn't use subpackages with this lazy feature.\n",
      "  warnings.warn(msg, RuntimeWarning)\n",
      "c:\\Users\\kss34\\anaconda3\\envs\\pytorchPractice\\lib\\site-packages\\lazy_loader\\__init__.py:185: RuntimeWarning: subpackages can technically be lazily loaded, but it causes the package to be eagerly loaded even if it is already lazily loaded.So, you probably shouldn't use subpackages with this lazy feature.\n",
      "  warnings.warn(msg, RuntimeWarning)\n"
     ]
    }
   ],
   "source": [
    "import librosa\n",
    "import librosa.display\n",
    "import numpy as np\n",
    "import matplotlib.pyplot as plt"
   ]
  },
  {
   "attachments": {},
   "cell_type": "markdown",
   "id": "bca00dbf",
   "metadata": {},
   "source": [
    "## 1. 음성 파일 가져오기, SR 값 확인"
   ]
  },
  {
   "cell_type": "code",
   "execution_count": 2,
   "id": "ecc384b5",
   "metadata": {},
   "outputs": [
    {
     "name": "stdout",
     "output_type": "stream",
     "text": [
      "SR rate :  22050\n"
     ]
    }
   ],
   "source": [
    "# 1. 음성 파일 가져오기 \n",
    "file_path = \"./data/blues.00001.wav\"\n",
    "y, sr = librosa.load(file_path)\n",
    "\n",
    "print(\"SR rate : \", sr)"
   ]
  },
  {
   "attachments": {},
   "cell_type": "markdown",
   "id": "c4a4767b",
   "metadata": {},
   "source": [
    "## 2. 음성 파일에서 STFT 계산 "
   ]
  },
  {
   "cell_type": "code",
   "execution_count": 3,
   "id": "77966adf",
   "metadata": {},
   "outputs": [
    {
     "name": "stdout",
     "output_type": "stream",
     "text": [
      "[[ 5.3796820e-02+0.0000000e+00j  2.8211858e+00+0.0000000e+00j\n",
      "   7.7053776e+00+0.0000000e+00j ... -1.4414183e+00+0.0000000e+00j\n",
      "  -1.3481982e+00+0.0000000e+00j -4.1797791e+00+0.0000000e+00j]\n",
      " [ 5.0167871e-01+8.3506501e-01j -4.0155300e-01+1.2011561e+00j\n",
      "  -3.8527081e+00+3.6937428e+00j ... -3.1102002e-01+1.2594367e+00j\n",
      "   1.1273700e+00-1.0498327e+00j  2.2146888e+00-2.0105529e+00j]\n",
      " [-1.9553659e+00-6.6863143e-01j  1.9860005e+00+1.8980149e+00j\n",
      "   1.9972939e+00-3.7817092e+00j ...  1.7908789e+00-1.4895716e+00j\n",
      "  -1.7049931e+00+1.4737532e+00j  4.2140970e+00+2.6621089e+00j]\n",
      " ...\n",
      " [ 5.3247431e-04+2.3299521e-05j -3.7518758e-04-1.0608655e-04j\n",
      "  -4.7851045e-05+1.9487874e-04j ...  7.8283356e-06+5.9137466e-05j\n",
      "   1.2221524e-03-5.0121918e-03j -7.8109335e-03+3.6176901e-02j]\n",
      " [-4.1708208e-04+1.3295542e-04j  3.2084421e-04+3.4094224e-04j\n",
      "   1.5252092e-04-2.3216791e-04j ... -7.8446043e-05-1.1500816e-04j\n",
      "   3.7801645e-03-3.0535129e-03j -2.3120986e-02-2.8629614e-02j]\n",
      " [ 2.6630767e-04+0.0000000e+00j -2.0454520e-04+0.0000000e+00j\n",
      "  -3.2122823e-04+0.0000000e+00j ...  1.4130525e-04+0.0000000e+00j\n",
      "   5.1839165e-03+0.0000000e+00j  3.6870293e-02+0.0000000e+00j]]\n"
     ]
    }
   ],
   "source": [
    "hop_length = 512    # 윈도우 이동크기 -> 스펙트로그램을 생성할때 얼마만큼 쪼개서 생성할 것인지\n",
    "n_fft = 2048    # FFT : 주어진 시간 대역에서 주파수 정보를 추출 하는데 사용\n",
    "stft = librosa.stft(y, n_fft=n_fft, hop_length=hop_length)    # 시간-주파수 영역의 표현인 스펙트로그램 값\n",
    "\n",
    "print(stft)"
   ]
  },
  {
   "attachments": {},
   "cell_type": "markdown",
   "id": "7146ec3c",
   "metadata": {},
   "source": [
    "## 3. 멜 스케일 필터 방정식을 이용하여 Mel Spectrogram 계산 \n"
   ]
  },
  {
   "cell_type": "code",
   "execution_count": 4,
   "id": "a1aacfaa",
   "metadata": {},
   "outputs": [
    {
     "name": "stdout",
     "output_type": "stream",
     "text": [
      "[[ 0.04016396  1.8871574   2.7044704  ...  1.5847964   1.5435765\n",
      "   1.8997383 ]\n",
      " [ 0.3447038   1.8233913   2.2484555  ...  1.8193796   1.4597857\n",
      "   1.5174086 ]\n",
      " [ 0.6592664   1.5573025   1.7091428  ...  1.7699649   1.6102383\n",
      "   1.7226015 ]\n",
      " ...\n",
      " [-3.3274503  -2.74815    -2.0501025  ... -1.5864515  -1.6176101\n",
      "  -1.5179349 ]\n",
      " [-3.3275242  -3.2640657  -2.9551852  ... -2.3985326  -2.326535\n",
      "  -2.0758755 ]\n",
      " [-3.3274372  -3.3274372  -3.3154144  ... -3.3145826  -3.3130705\n",
      "  -2.644848  ]]\n"
     ]
    }
   ],
   "source": [
    "n_mels = 40    # 20 ~ 40 사이 값으로 설정 (대부분의 음악 분석은 20~40의 수치 부여) \n",
    "\n",
    "# librosa.power_to_db() => 진폭을 데시벨 형태로 변환 \n",
    "# np.abs(stft)**2 => STFT 절대값을 제곱한 값 \n",
    "# STFT -> 진폭을 나타내는 파워 스팩트로그램 계산 -> mel_spec\n",
    "mel_spec = librosa.feature.melspectrogram(S=librosa.power_to_db(np.abs(stft)**2), sr=sr, n_mels=n_mels)\n",
    "\n",
    "print(mel_spec)"
   ]
  },
  {
   "attachments": {},
   "cell_type": "markdown",
   "id": "ed70dd65",
   "metadata": {},
   "source": [
    "## 4. `mel_spec`의 MFCC 계산 하기 "
   ]
  },
  {
   "cell_type": "code",
   "execution_count": 5,
   "id": "c33b41db",
   "metadata": {},
   "outputs": [
    {
     "name": "stdout",
     "output_type": "stream",
     "text": [
      "[[-423.04688   -405.76004   -319.62463   ... -314.74927   -339.26782\n",
      "  -325.84183  ]\n",
      " [  74.737076    97.57477    183.01984   ...  171.12823    159.65662\n",
      "   177.53833  ]\n",
      " [  69.05983     87.35002     89.49732   ...   67.10045     78.234024\n",
      "    91.55201  ]\n",
      " ...\n",
      " [ -15.8296585  -20.409237   -17.092026  ...  -31.796183   -46.68096\n",
      "    -7.1080694]\n",
      " [ -18.901978   -16.981878    -6.070834  ...  -11.331359   -28.349771\n",
      "     6.483469 ]\n",
      " [ -19.175297   -10.651993     9.756364  ...   -9.648254     3.243166\n",
      "    15.470432 ]]\n"
     ]
    }
   ],
   "source": [
    "n_mfcc = 13    # 음성 분야에서는 12~13 정도로 특정 백터를 추출 하는 것이 일반적 -> MFCC는 원하는 개수의 특징 백터를 추출하는 파라미터 값 \n",
    "# mel_spec    # 파워 스펙토그램에서 데시벨로 변환 \n",
    "mfccs = librosa.feature.mfcc(S=librosa.power_to_db(mel_spec), n_mfcc=n_mfcc)\n",
    "\n",
    "print(mfccs)"
   ]
  },
  {
   "attachments": {},
   "cell_type": "markdown",
   "id": "d30d8dc0",
   "metadata": {},
   "source": [
    "## 5. 시각화 및 저장 \n"
   ]
  },
  {
   "cell_type": "code",
   "execution_count": 6,
   "id": "09824f6a",
   "metadata": {},
   "outputs": [],
   "source": [
    "plt.figure(figsize=(10, 4))\n",
    "librosa.display.specshow(mfccs, x_axis='time')\n",
    "plt.title('MFCC')\n",
    "plt.tight_layout()\n",
    "\n",
    "plt.savefig(\"./result/MFCC.png\", dpi=300, bbox_inches='tight')\n",
    "image = plt.imread(\"./result/MFCC.png\")\n",
    "plt.imshow(image)\n",
    "plt.close()"
   ]
  }
 ],
 "metadata": {
  "kernelspec": {
   "display_name": "pytorchPractice",
   "language": "python",
   "name": "python3"
  },
  "language_info": {
   "codemirror_mode": {
    "name": "ipython",
    "version": 3
   },
   "file_extension": ".py",
   "mimetype": "text/x-python",
   "name": "python",
   "nbconvert_exporter": "python",
   "pygments_lexer": "ipython3",
   "version": "3.8.17"
  }
 },
 "nbformat": 4,
 "nbformat_minor": 5
}
