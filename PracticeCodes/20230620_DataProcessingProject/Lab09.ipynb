{
 "cells": [
  {
   "attachments": {},
   "cell_type": "markdown",
   "id": "10364dcb",
   "metadata": {},
   "source": [
    "# Lab 09. GTZAN Dataset Image 프로세싱 : 비율 유지하고, 리사이즈 작업 진행하기\n",
    "---"
   ]
  },
  {
   "cell_type": "code",
   "execution_count": 1,
   "id": "e858005f",
   "metadata": {},
   "outputs": [],
   "source": [
    "from PIL import Image\n",
    "import os\n",
    "import glob"
   ]
  },
  {
   "cell_type": "code",
   "execution_count": 2,
   "id": "e7a24131",
   "metadata": {},
   "outputs": [
    {
     "name": "stdout",
     "output_type": "stream",
     "text": [
      "./result\\mel_spec_0-10.png\n",
      "<PIL.PngImagePlugin.PngImageFile image mode=RGBA size=1003x351 at 0x20A79FD06D0>\n",
      "./result\\mel_spec_0-10_aug_noise.png\n",
      "<PIL.PngImagePlugin.PngImageFile image mode=RGBA size=1003x351 at 0x20A79FD0730>\n",
      "./result\\mel_spec_0-10_aug_streched.png\n",
      "<PIL.PngImagePlugin.PngImageFile image mode=RGBA size=1003x351 at 0x20A79FD0400>\n",
      "./result\\mel_spec_original.png\n",
      "<PIL.PngImagePlugin.PngImageFile image mode=RGBA size=1012x351 at 0x20A79FD06D0>\n",
      "./result\\MFCC.png\n",
      "<PIL.PngImagePlugin.PngImageFile image mode=RGBA size=2969x1168 at 0x20A79FD0790>\n"
     ]
    },
    {
     "name": "stderr",
     "output_type": "stream",
     "text": [
      "C:\\Users\\kss34\\AppData\\Local\\Temp\\ipykernel_23804\\1045805769.py:21: DeprecationWarning: ANTIALIAS is deprecated and will be removed in Pillow 10 (2023-07-01). Use LANCZOS or Resampling.LANCZOS instead.\n",
      "  img = img.resize((new_size[0], new_size[1]), Image.ANTIALIAS)\n"
     ]
    },
    {
     "name": "stdout",
     "output_type": "stream",
     "text": [
      "./result\\spectrogram.png\n",
      "<PIL.PngImagePlugin.PngImageFile image mode=RGBA size=640x480 at 0x20A79FD06A0>\n",
      "./result\\STFT_0-10.png\n",
      "<PIL.PngImagePlugin.PngImageFile image mode=RGBA size=1003x351 at 0x20A7A046490>\n",
      "./result\\STFT_0-10_aug_noise.png\n",
      "<PIL.PngImagePlugin.PngImageFile image mode=RGBA size=1003x351 at 0x20A79FD0730>\n",
      "./result\\STFT_0-10_aug_stretch.png\n",
      "<PIL.PngImagePlugin.PngImageFile image mode=RGBA size=1003x351 at 0x20A7A046760>\n",
      "./result\\STFT_original.png\n",
      "<PIL.PngImagePlugin.PngImageFile image mode=RGBA size=1012x351 at 0x20A79FD0730>\n",
      "./result\\waveshow_0-10.png\n",
      "<PIL.PngImagePlugin.PngImageFile image mode=RGBA size=930x308 at 0x20A7A0460D0>\n",
      "./result\\waveshow_0-10_aug_noise.png\n",
      "<PIL.PngImagePlugin.PngImageFile image mode=RGBA size=930x308 at 0x20A79FD0730>\n",
      "./result\\waveshow_0-10_aug_stretch.png\n",
      "<PIL.PngImagePlugin.PngImageFile image mode=RGBA size=930x308 at 0x20A7A046FD0>\n",
      "./result\\waveshow_original.png\n",
      "<PIL.PngImagePlugin.PngImageFile image mode=RGBA size=973x351 at 0x20A79FD0730>\n"
     ]
    }
   ],
   "source": [
    "def expend2square(pil_image, background_color) : \n",
    "    width, heigth = pil_image.size\n",
    "    \n",
    "    if width == heigth : \n",
    "        return pil_image\n",
    "    \n",
    "    elif width > heigth : \n",
    "        result = Image.new(pil_image.mode, (width, width), background_color)\n",
    "        result.paste(pil_image, (0, (width - heigth) // 2))\n",
    "        \n",
    "        return result\n",
    "        \n",
    "    else : \n",
    "        result = Image.new(pil_image.mode, (heigth, heigth), background_color)\n",
    "        result.paste(pil_image, ((heigth - width) // 2, 0))\n",
    "        \n",
    "        return result\n",
    "\n",
    "def resize_with_padding(pil_image, new_size, background_color) : \n",
    "    img = expend2square(pil_image, background_color)\n",
    "    img = img.resize((new_size[0], new_size[1]), Image.ANTIALIAS)\n",
    "    \n",
    "    return img \n",
    "\n",
    "img_path_list = glob.glob(os.path.join(\"./result/\", \"*.png\"))\n",
    "\n",
    "# 폴더 하나 생성\n",
    "os.makedirs(\"./result\", exist_ok=True)\n",
    "\n",
    "for i ,img_path in enumerate(img_path_list) : \n",
    "    print(img_path)\n",
    "    img = Image.open(img_path)\n",
    "    print(img)\n",
    "    img_new = resize_with_padding(img, (255, 255), (0, 0, 0))\n",
    "    \n",
    "    save_file_name = f\"./result/{str(i).zfill(4)}_resize_img.png\"\n",
    "    img_new.save(save_file_name, \"png\")"
   ]
  }
 ],
 "metadata": {
  "kernelspec": {
   "display_name": "pytorchPractice",
   "language": "python",
   "name": "python3"
  },
  "language_info": {
   "codemirror_mode": {
    "name": "ipython",
    "version": 3
   },
   "file_extension": ".py",
   "mimetype": "text/x-python",
   "name": "python",
   "nbconvert_exporter": "python",
   "pygments_lexer": "ipython3",
   "version": "3.8.17"
  }
 },
 "nbformat": 4,
 "nbformat_minor": 5
}
