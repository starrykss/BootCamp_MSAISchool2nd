{
 "cells": [
  {
   "attachments": {},
   "cell_type": "markdown",
   "id": "ace5448a",
   "metadata": {},
   "source": [
    "# Lab 01. argparse Test\n",
    "---"
   ]
  },
  {
   "cell_type": "code",
   "execution_count": 1,
   "id": "ca563760",
   "metadata": {},
   "outputs": [
    {
     "name": "stdout",
     "output_type": "stream",
     "text": [
      "100 mode01\n"
     ]
    }
   ],
   "source": [
    "import argparse\n",
    "\n",
    "#### 인자값 받을 수 있는 인스턴스 생성\n",
    "parser = argparse.ArgumentParser(description=\"사용법 테스트\")\n",
    "\n",
    "#### 입력받을 인자값 등록 \n",
    "parser.add_argument('--target', type=str, default=\"mode01\", help=\"target is ????\")\n",
    "parser.add_argument('--epochs', type=int, default=100, help='total training epochs')\n",
    "\n",
    "##### -> --nosave -> 값이 true\n",
    "parser.add_argument('--nosave', action='store_true', help='only save final checkpoint')\n",
    "\n",
    "### 입력받을 인자값을 args 에 저장\n",
    "# args = parser.parse_args()\n",
    "args = parser.parse_args(args=[])\n",
    "\n",
    "###### \n",
    "epochs = args.epochs\n",
    "target = args.target\n",
    "print(epochs, target)"
   ]
  },
  {
   "cell_type": "code",
   "execution_count": 2,
   "id": "32ae3c40",
   "metadata": {},
   "outputs": [
    {
     "name": "stdout",
     "output_type": "stream",
     "text": [
      "[NbConvertApp] WARNING | Unrecognized alias: 'target', it will have no effect.\n",
      "[NbConvertApp] WARNING | Unrecognized alias: 'epochs', it will have no effect.\n",
      "[NbConvertApp] Converting notebook test.ipynb to notebook\n",
      "^C\n"
     ]
    }
   ],
   "source": [
    "!jupyter nbconvert --to notebook --execute test.ipynb --target \"ddd\" --epochs 300"
   ]
  }
 ],
 "metadata": {
  "kernelspec": {
   "display_name": "AI",
   "language": "python",
   "name": "ai"
  },
  "language_info": {
   "codemirror_mode": {
    "name": "ipython",
    "version": 3
   },
   "file_extension": ".py",
   "mimetype": "text/x-python",
   "name": "python",
   "nbconvert_exporter": "python",
   "pygments_lexer": "ipython3",
   "version": "3.8.12"
  }
 },
 "nbformat": 4,
 "nbformat_minor": 5
}
