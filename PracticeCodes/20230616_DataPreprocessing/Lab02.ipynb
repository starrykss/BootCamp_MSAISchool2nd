{
 "cells": [
  {
   "attachments": {},
   "cell_type": "markdown",
   "id": "7bb68677",
   "metadata": {},
   "source": [
    "# Lab 02. 정형 데이터셋 나누기 간단 실습\n",
    "---"
   ]
  },
  {
   "cell_type": "code",
   "execution_count": 7,
   "id": "d625374a",
   "metadata": {},
   "outputs": [],
   "source": [
    "import pandas as pd \n",
    "from sklearn.model_selection import train_test_split"
   ]
  },
  {
   "cell_type": "code",
   "execution_count": 8,
   "id": "479d3515",
   "metadata": {},
   "outputs": [],
   "source": [
    "url = 'https://raw.githubusercontent.com/mGalarnyk/Tutorial_Data/master/King_County/kingCountyHouseData.csv'\n",
    "df = pd.read_csv(url)"
   ]
  },
  {
   "attachments": {},
   "cell_type": "markdown",
   "id": "b8fb5698",
   "metadata": {},
   "source": [
    "## 정형 데이터 학습 중간 평가 테스트 "
   ]
  },
  {
   "cell_type": "code",
   "execution_count": 9,
   "id": "ffe46624",
   "metadata": {},
   "outputs": [
    {
     "name": "stdout",
     "output_type": "stream",
     "text": [
      "       bedrooms  bathrooms  sqft_living  sqft_lot  floors     price\n",
      "0             3       1.00         1180      5650     1.0  221900.0\n",
      "1             3       2.25         2570      7242     2.0  538000.0\n",
      "2             2       1.00          770     10000     1.0  180000.0\n",
      "3             4       3.00         1960      5000     1.0  604000.0\n",
      "4             3       2.00         1680      8080     1.0  510000.0\n",
      "...         ...        ...          ...       ...     ...       ...\n",
      "21608         3       2.50         1530      1131     3.0  360000.0\n",
      "21609         4       2.50         2310      5813     2.0  400000.0\n",
      "21610         2       0.75         1020      1350     2.0  402101.0\n",
      "21611         3       2.50         1600      2388     2.0  400000.0\n",
      "21612         2       0.75         1020      1076     2.0  325000.0\n",
      "\n",
      "[21613 rows x 6 columns]\n"
     ]
    }
   ],
   "source": [
    "columns = ['bedrooms', 'bathrooms', 'sqft_living', 'sqft_lot', 'floors', 'price' ]\n",
    "df = df.loc[:,columns]\n",
    "\n",
    "print(df)"
   ]
  },
  {
   "cell_type": "code",
   "execution_count": 10,
   "id": "d7e3523f",
   "metadata": {},
   "outputs": [
    {
     "name": "stdout",
     "output_type": "stream",
     "text": [
      "       bedrooms  bathrooms  sqft_living  sqft_lot  floors\n",
      "0             3       1.00         1180      5650     1.0\n",
      "1             3       2.25         2570      7242     2.0\n",
      "2             2       1.00          770     10000     1.0\n",
      "3             4       3.00         1960      5000     1.0\n",
      "4             3       2.00         1680      8080     1.0\n",
      "...         ...        ...          ...       ...     ...\n",
      "21608         3       2.50         1530      1131     3.0\n",
      "21609         4       2.50         2310      5813     2.0\n",
      "21610         2       0.75         1020      1350     2.0\n",
      "21611         3       2.50         1600      2388     2.0\n",
      "21612         2       0.75         1020      1076     2.0\n",
      "\n",
      "[21613 rows x 5 columns]\n",
      "          price\n",
      "0      221900.0\n",
      "1      538000.0\n",
      "2      180000.0\n",
      "3      604000.0\n",
      "4      510000.0\n",
      "...         ...\n",
      "21608  360000.0\n",
      "21609  400000.0\n",
      "21610  402101.0\n",
      "21611  400000.0\n",
      "21612  325000.0\n",
      "\n",
      "[21613 rows x 1 columns]\n"
     ]
    }
   ],
   "source": [
    "features_data = ['bedrooms', 'bathrooms', 'sqft_living', 'sqft_lot', 'floors'] # 학습 데이터 \n",
    "target_data = [ 'price' ] # 정답지 \n",
    "\n",
    "x_data = df.loc[:,features_data] # 학습 데이터 \n",
    "y_data = df.loc[:,target_data]   # 정답지 \n",
    "\n",
    "\n",
    "print(x_data)\n",
    "print(y_data)"
   ]
  },
  {
   "attachments": {},
   "cell_type": "markdown",
   "id": "147eb2cc",
   "metadata": {},
   "source": [
    "## 데이터 나누기 train val test"
   ]
  },
  {
   "cell_type": "code",
   "execution_count": 11,
   "id": "49b1d6db",
   "metadata": {},
   "outputs": [
    {
     "name": "stdout",
     "output_type": "stream",
     "text": [
      "--------변경되기전 데이터 양--------------\n",
      "x_data 크기 :  (21613, 5)\n",
      "y_data 크기 :  (21613, 1)\n",
      "--------변경 후 데이터 양--------------\n",
      "x_train >>  (17290, 5)\n",
      "y_train >>  (17290, 1)\n",
      "x_val >>  (2161, 5)\n",
      "y_val >> (2161, 1)\n",
      "x_test >> (2162, 5)\n",
      "y_test >>  (2162, 1)\n"
     ]
    }
   ],
   "source": [
    "x_train, x_val_list, y_train, y_val_list = train_test_split(x_data, y_data, random_state=777, train_size=0.8)\n",
    "x_val, x_test, y_val, y_test = train_test_split(x_val_list, y_val_list, random_state=777, test_size=0.5)\n",
    "print(\"--------변경되기전 데이터 양--------------\")\n",
    "print(\"x_data 크기 : \", x_data.shape)\n",
    "print(\"y_data 크기 : \", y_data.shape)\n",
    "print(\"--------변경 후 데이터 양--------------\")\n",
    "print(\"x_train >> \" , x_train.shape)\n",
    "print(\"y_train >> \", y_train.shape)\n",
    "print(\"x_val >> \" , x_val.shape)\n",
    "print(\"y_val >>\" , y_val.shape)\n",
    "print(\"x_test >>\", x_test.shape)\n",
    "print(\"y_test >> \", y_test.shape)"
   ]
  },
  {
   "cell_type": "code",
   "execution_count": 12,
   "id": "2d828e7f",
   "metadata": {},
   "outputs": [
    {
     "name": "stdout",
     "output_type": "stream",
     "text": [
      "Collecting torch\n",
      "  Downloading torch-1.13.1-cp37-cp37m-win_amd64.whl (162.6 MB)\n",
      "     ------------------------------------- 162.6/162.6 MB 17.7 MB/s eta 0:00:00\n",
      "Requirement already satisfied: typing-extensions in c:\\users\\kss34\\anaconda3\\envs\\myenv\\lib\\site-packages (from torch) (4.6.3)\n",
      "Installing collected packages: torch\n",
      "Successfully installed torch-1.13.1\n",
      "Collecting torchvision\n",
      "  Downloading torchvision-0.14.1-cp37-cp37m-win_amd64.whl (1.1 MB)\n",
      "     ---------------------------------------- 1.1/1.1 MB 6.9 MB/s eta 0:00:00\n",
      "Requirement already satisfied: typing-extensions in c:\\users\\kss34\\anaconda3\\envs\\myenv\\lib\\site-packages (from torchvision) (4.6.3)\n",
      "Requirement already satisfied: numpy in c:\\users\\kss34\\anaconda3\\envs\\myenv\\lib\\site-packages (from torchvision) (1.21.6)\n",
      "Requirement already satisfied: requests in c:\\users\\kss34\\anaconda3\\envs\\myenv\\lib\\site-packages (from torchvision) (2.31.0)\n",
      "Requirement already satisfied: torch==1.13.1 in c:\\users\\kss34\\anaconda3\\envs\\myenv\\lib\\site-packages (from torchvision) (1.13.1)\n",
      "Requirement already satisfied: pillow!=8.3.*,>=5.3.0 in c:\\users\\kss34\\anaconda3\\envs\\myenv\\lib\\site-packages (from torchvision) (9.5.0)\n",
      "Requirement already satisfied: charset-normalizer<4,>=2 in c:\\users\\kss34\\anaconda3\\envs\\myenv\\lib\\site-packages (from requests->torchvision) (3.1.0)\n",
      "Requirement already satisfied: idna<4,>=2.5 in c:\\users\\kss34\\anaconda3\\envs\\myenv\\lib\\site-packages (from requests->torchvision) (3.4)\n",
      "Requirement already satisfied: urllib3<3,>=1.21.1 in c:\\users\\kss34\\anaconda3\\envs\\myenv\\lib\\site-packages (from requests->torchvision) (1.26.16)\n",
      "Requirement already satisfied: certifi>=2017.4.17 in c:\\users\\kss34\\anaconda3\\envs\\myenv\\lib\\site-packages (from requests->torchvision) (2023.5.7)\n",
      "Installing collected packages: torchvision\n",
      "Successfully installed torchvision-0.14.1\n"
     ]
    }
   ],
   "source": [
    "!pip install torch\n",
    "!pip install torchvision"
   ]
  },
  {
   "cell_type": "code",
   "execution_count": 13,
   "id": "b2994f31",
   "metadata": {},
   "outputs": [
    {
     "name": "stdout",
     "output_type": "stream",
     "text": [
      "Torch 버전: 1.13.1+cpu\n",
      "Torchvision 버전: 0.14.1+cpu\n"
     ]
    }
   ],
   "source": [
    "import torch\n",
    "import torchvision\n",
    "\n",
    "print(\"Torch 버전:\", torch.__version__)\n",
    "print(\"Torchvision 버전:\", torchvision.__version__)\n"
   ]
  }
 ],
 "metadata": {
  "kernelspec": {
   "display_name": "myEnv",
   "language": "python",
   "name": "myenv"
  },
  "language_info": {
   "codemirror_mode": {
    "name": "ipython",
    "version": 3
   },
   "file_extension": ".py",
   "mimetype": "text/x-python",
   "name": "python",
   "nbconvert_exporter": "python",
   "pygments_lexer": "ipython3",
   "version": "3.7.12"
  }
 },
 "nbformat": 4,
 "nbformat_minor": 5
}
