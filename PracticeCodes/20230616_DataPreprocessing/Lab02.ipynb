{
 "cells": [
  {
   "attachments": {},
   "cell_type": "markdown",
   "id": "7bb68677",
   "metadata": {},
   "source": [
    "# Lab 02. 정형 데이터셋 나누기 간단 실습\n",
    "---"
   ]
  },
  {
   "attachments": {},
   "cell_type": "markdown",
   "id": "918d16fa",
   "metadata": {},
   "source": [
    "- 원할한 실습을 위해서 새로운 가상 환경을 생성한 후 파이토치를 설치한다. 그리고 실습을 진행한다.\n",
    "\n",
    "\n",
    "```bash\n",
    "> conda create -n pytorchPractice python=3.8\n",
    "> conda activate pytorchPractice\n",
    "> conda install pytorch==1.10.0 torchvision==0.11.0 torchaudio==0.10.0 cpuonly -c pytorch    # CPU Only 버전\n",
    "```"
   ]
  },
  {
   "cell_type": "code",
   "execution_count": 2,
   "id": "6a4bdb3b",
   "metadata": {},
   "outputs": [
    {
     "name": "stdout",
     "output_type": "stream",
     "text": [
      "Collecting pandas\n",
      "  Downloading pandas-2.0.3-cp38-cp38-win_amd64.whl (10.8 MB)\n",
      "                                              0.0/10.8 MB ? eta -:--:--\n",
      "                                             0.0/10.8 MB 660.6 kB/s eta 0:00:17\n",
      "     -                                        0.3/10.8 MB 3.5 MB/s eta 0:00:03\n",
      "     ---                                      1.0/10.8 MB 7.7 MB/s eta 0:00:02\n",
      "     -------                                  2.0/10.8 MB 11.4 MB/s eta 0:00:01\n",
      "     ------------                             3.3/10.8 MB 15.2 MB/s eta 0:00:01\n",
      "     ----------------                         4.4/10.8 MB 17.7 MB/s eta 0:00:01\n",
      "     ------------------                       5.1/10.8 MB 16.2 MB/s eta 0:00:01\n",
      "     --------------------------               7.2/10.8 MB 20.1 MB/s eta 0:00:01\n",
      "     -----------------------------------      9.7/10.8 MB 23.8 MB/s eta 0:00:01\n",
      "     --------------------------------------  10.8/10.8 MB 31.2 MB/s eta 0:00:01\n",
      "     --------------------------------------- 10.8/10.8 MB 28.5 MB/s eta 0:00:00\n",
      "Requirement already satisfied: python-dateutil>=2.8.2 in c:\\users\\kss34\\appdata\\roaming\\python\\python38\\site-packages (from pandas) (2.8.2)\n",
      "Collecting pytz>=2020.1 (from pandas)\n",
      "  Using cached pytz-2023.3-py2.py3-none-any.whl (502 kB)\n",
      "Collecting tzdata>=2022.1 (from pandas)\n",
      "  Using cached tzdata-2023.3-py2.py3-none-any.whl (341 kB)\n",
      "Requirement already satisfied: numpy>=1.20.3 in c:\\users\\kss34\\anaconda3\\envs\\pytorchpractice\\lib\\site-packages (from pandas) (1.24.4)\n",
      "Requirement already satisfied: six>=1.5 in c:\\users\\kss34\\appdata\\roaming\\python\\python38\\site-packages (from python-dateutil>=2.8.2->pandas) (1.16.0)\n",
      "Installing collected packages: pytz, tzdata, pandas\n",
      "Successfully installed pandas-2.0.3 pytz-2023.3 tzdata-2023.3\n",
      "Requirement already satisfied: numpy in c:\\users\\kss34\\anaconda3\\envs\\pytorchpractice\\lib\\site-packages (1.24.4)\n",
      "Collecting matplotlib\n",
      "  Using cached matplotlib-3.7.1-cp38-cp38-win_amd64.whl (7.6 MB)\n",
      "Collecting contourpy>=1.0.1 (from matplotlib)\n",
      "  Downloading contourpy-1.1.0-cp38-cp38-win_amd64.whl (470 kB)\n",
      "                                              0.0/470.4 kB ? eta -:--:--\n",
      "     --                                    30.7/470.4 kB 660.6 kB/s eta 0:00:01\n",
      "     -------------------------------------  460.8/470.4 kB 4.8 MB/s eta 0:00:01\n",
      "     -------------------------------------- 470.4/470.4 kB 4.2 MB/s eta 0:00:00\n",
      "Collecting cycler>=0.10 (from matplotlib)\n",
      "  Using cached cycler-0.11.0-py3-none-any.whl (6.4 kB)\n",
      "Collecting fonttools>=4.22.0 (from matplotlib)\n",
      "  Downloading fonttools-4.40.0-cp38-cp38-win_amd64.whl (1.4 MB)\n",
      "                                              0.0/1.4 MB ? eta -:--:--\n",
      "     -------------------------                0.9/1.4 MB 18.7 MB/s eta 0:00:01\n",
      "     ---------------------------------------- 1.4/1.4 MB 15.0 MB/s eta 0:00:00\n",
      "Collecting kiwisolver>=1.0.1 (from matplotlib)\n",
      "  Using cached kiwisolver-1.4.4-cp38-cp38-win_amd64.whl (55 kB)\n",
      "Requirement already satisfied: numpy>=1.20 in c:\\users\\kss34\\anaconda3\\envs\\pytorchpractice\\lib\\site-packages (from matplotlib) (1.24.4)\n",
      "Requirement already satisfied: packaging>=20.0 in c:\\users\\kss34\\appdata\\roaming\\python\\python38\\site-packages (from matplotlib) (23.1)\n",
      "Requirement already satisfied: pillow>=6.2.0 in c:\\users\\kss34\\anaconda3\\envs\\pytorchpractice\\lib\\site-packages (from matplotlib) (9.4.0)\n",
      "Collecting pyparsing>=2.3.1 (from matplotlib)\n",
      "  Downloading pyparsing-3.1.0-py3-none-any.whl (102 kB)\n",
      "                                              0.0/102.6 kB ? eta -:--:--\n",
      "     ---------------------------------------- 102.6/102.6 kB ? eta 0:00:00\n",
      "Requirement already satisfied: python-dateutil>=2.7 in c:\\users\\kss34\\appdata\\roaming\\python\\python38\\site-packages (from matplotlib) (2.8.2)\n",
      "Collecting importlib-resources>=3.2.0 (from matplotlib)\n",
      "  Using cached importlib_resources-5.12.0-py3-none-any.whl (36 kB)\n",
      "Requirement already satisfied: zipp>=3.1.0 in c:\\users\\kss34\\appdata\\roaming\\python\\python38\\site-packages (from importlib-resources>=3.2.0->matplotlib) (3.15.0)\n",
      "Requirement already satisfied: six>=1.5 in c:\\users\\kss34\\appdata\\roaming\\python\\python38\\site-packages (from python-dateutil>=2.7->matplotlib) (1.16.0)\n",
      "Installing collected packages: pyparsing, kiwisolver, importlib-resources, fonttools, cycler, contourpy, matplotlib\n",
      "Successfully installed contourpy-1.1.0 cycler-0.11.0 fonttools-4.40.0 importlib-resources-5.12.0 kiwisolver-1.4.4 matplotlib-3.7.1 pyparsing-3.1.0\n",
      "Collecting scikit-learn\n",
      "  Downloading scikit_learn-1.3.0-cp38-cp38-win_amd64.whl (9.2 MB)\n",
      "                                              0.0/9.2 MB ? eta -:--:--\n",
      "                                              0.0/9.2 MB 640.0 kB/s eta 0:00:15\n",
      "     -                                        0.4/9.2 MB 4.0 MB/s eta 0:00:03\n",
      "     ----                                     1.0/9.2 MB 7.3 MB/s eta 0:00:02\n",
      "     --------                                 2.1/9.2 MB 10.9 MB/s eta 0:00:01\n",
      "     --------------                           3.4/9.2 MB 14.3 MB/s eta 0:00:01\n",
      "     -------------------                      4.6/9.2 MB 17.3 MB/s eta 0:00:01\n",
      "     --------------------------------         7.4/9.2 MB 22.5 MB/s eta 0:00:01\n",
      "     ---------------------------------------  9.2/9.2 MB 24.6 MB/s eta 0:00:01\n",
      "     ---------------------------------------- 9.2/9.2 MB 22.7 MB/s eta 0:00:00\n",
      "Requirement already satisfied: numpy>=1.17.3 in c:\\users\\kss34\\anaconda3\\envs\\pytorchpractice\\lib\\site-packages (from scikit-learn) (1.24.4)\n",
      "Collecting scipy>=1.5.0 (from scikit-learn)\n",
      "  Using cached scipy-1.10.1-cp38-cp38-win_amd64.whl (42.2 MB)\n",
      "Collecting joblib>=1.1.1 (from scikit-learn)\n",
      "  Downloading joblib-1.3.1-py3-none-any.whl (301 kB)\n",
      "                                              0.0/302.0 kB ? eta -:--:--\n",
      "     ---------------------------------------- 302.0/302.0 kB ? eta 0:00:00\n",
      "Collecting threadpoolctl>=2.0.0 (from scikit-learn)\n",
      "  Using cached threadpoolctl-3.1.0-py3-none-any.whl (14 kB)\n",
      "Installing collected packages: threadpoolctl, scipy, joblib, scikit-learn\n",
      "Successfully installed joblib-1.3.1 scikit-learn-1.3.0 scipy-1.10.1 threadpoolctl-3.1.0\n"
     ]
    }
   ],
   "source": [
    "!pip install pandas\n",
    "!pip install numpy\n",
    "!pip install matplotlib\n",
    "!pip install scikit-learn"
   ]
  },
  {
   "cell_type": "code",
   "execution_count": 3,
   "id": "d625374a",
   "metadata": {},
   "outputs": [],
   "source": [
    "import pandas as pd \n",
    "from sklearn.model_selection import train_test_split"
   ]
  },
  {
   "cell_type": "code",
   "execution_count": 4,
   "id": "479d3515",
   "metadata": {},
   "outputs": [],
   "source": [
    "url = 'https://raw.githubusercontent.com/mGalarnyk/Tutorial_Data/master/King_County/kingCountyHouseData.csv'\n",
    "df = pd.read_csv(url)"
   ]
  },
  {
   "attachments": {},
   "cell_type": "markdown",
   "id": "b8fb5698",
   "metadata": {},
   "source": [
    "## 정형 데이터 학습 중간 평가 테스트 "
   ]
  },
  {
   "cell_type": "code",
   "execution_count": 5,
   "id": "ffe46624",
   "metadata": {},
   "outputs": [
    {
     "name": "stdout",
     "output_type": "stream",
     "text": [
      "       bedrooms  bathrooms  sqft_living  sqft_lot  floors     price\n",
      "0             3       1.00         1180      5650     1.0  221900.0\n",
      "1             3       2.25         2570      7242     2.0  538000.0\n",
      "2             2       1.00          770     10000     1.0  180000.0\n",
      "3             4       3.00         1960      5000     1.0  604000.0\n",
      "4             3       2.00         1680      8080     1.0  510000.0\n",
      "...         ...        ...          ...       ...     ...       ...\n",
      "21608         3       2.50         1530      1131     3.0  360000.0\n",
      "21609         4       2.50         2310      5813     2.0  400000.0\n",
      "21610         2       0.75         1020      1350     2.0  402101.0\n",
      "21611         3       2.50         1600      2388     2.0  400000.0\n",
      "21612         2       0.75         1020      1076     2.0  325000.0\n",
      "\n",
      "[21613 rows x 6 columns]\n"
     ]
    }
   ],
   "source": [
    "columns = ['bedrooms', 'bathrooms', 'sqft_living', 'sqft_lot', 'floors', 'price' ]\n",
    "df = df.loc[:,columns]\n",
    "\n",
    "print(df)"
   ]
  },
  {
   "cell_type": "code",
   "execution_count": 6,
   "id": "d7e3523f",
   "metadata": {},
   "outputs": [
    {
     "name": "stdout",
     "output_type": "stream",
     "text": [
      "       bedrooms  bathrooms  sqft_living  sqft_lot  floors\n",
      "0             3       1.00         1180      5650     1.0\n",
      "1             3       2.25         2570      7242     2.0\n",
      "2             2       1.00          770     10000     1.0\n",
      "3             4       3.00         1960      5000     1.0\n",
      "4             3       2.00         1680      8080     1.0\n",
      "...         ...        ...          ...       ...     ...\n",
      "21608         3       2.50         1530      1131     3.0\n",
      "21609         4       2.50         2310      5813     2.0\n",
      "21610         2       0.75         1020      1350     2.0\n",
      "21611         3       2.50         1600      2388     2.0\n",
      "21612         2       0.75         1020      1076     2.0\n",
      "\n",
      "[21613 rows x 5 columns]\n",
      "          price\n",
      "0      221900.0\n",
      "1      538000.0\n",
      "2      180000.0\n",
      "3      604000.0\n",
      "4      510000.0\n",
      "...         ...\n",
      "21608  360000.0\n",
      "21609  400000.0\n",
      "21610  402101.0\n",
      "21611  400000.0\n",
      "21612  325000.0\n",
      "\n",
      "[21613 rows x 1 columns]\n"
     ]
    }
   ],
   "source": [
    "features_data = ['bedrooms', 'bathrooms', 'sqft_living', 'sqft_lot', 'floors'] # 학습 데이터 \n",
    "target_data = [ 'price' ] # 정답지 \n",
    "\n",
    "x_data = df.loc[:,features_data] # 학습 데이터 \n",
    "y_data = df.loc[:,target_data]   # 정답지 \n",
    "\n",
    "\n",
    "print(x_data)\n",
    "print(y_data)"
   ]
  },
  {
   "attachments": {},
   "cell_type": "markdown",
   "id": "147eb2cc",
   "metadata": {},
   "source": [
    "## 데이터 나누기 train val test"
   ]
  },
  {
   "cell_type": "code",
   "execution_count": 7,
   "id": "49b1d6db",
   "metadata": {},
   "outputs": [
    {
     "name": "stdout",
     "output_type": "stream",
     "text": [
      "--------변경되기전 데이터 양--------------\n",
      "x_data 크기 :  (21613, 5)\n",
      "y_data 크기 :  (21613, 1)\n",
      "--------변경 후 데이터 양--------------\n",
      "x_train >>  (17290, 5)\n",
      "y_train >>  (17290, 1)\n",
      "x_val >>  (2161, 5)\n",
      "y_val >> (2161, 1)\n",
      "x_test >> (2162, 5)\n",
      "y_test >>  (2162, 1)\n"
     ]
    }
   ],
   "source": [
    "x_train, x_val_list, y_train, y_val_list = train_test_split(x_data, y_data, random_state=777, train_size=0.8)\n",
    "x_val, x_test, y_val, y_test = train_test_split(x_val_list, y_val_list, random_state=777, test_size=0.5)\n",
    "print(\"--------변경되기전 데이터 양--------------\")\n",
    "print(\"x_data 크기 : \", x_data.shape)\n",
    "print(\"y_data 크기 : \", y_data.shape)\n",
    "print(\"--------변경 후 데이터 양--------------\")\n",
    "print(\"x_train >> \" , x_train.shape)\n",
    "print(\"y_train >> \", y_train.shape)\n",
    "print(\"x_val >> \" , x_val.shape)\n",
    "print(\"y_val >>\" , y_val.shape)\n",
    "print(\"x_test >>\", x_test.shape)\n",
    "print(\"y_test >> \", y_test.shape)"
   ]
  },
  {
   "cell_type": "code",
   "execution_count": 8,
   "id": "2d828e7f",
   "metadata": {},
   "outputs": [
    {
     "name": "stdout",
     "output_type": "stream",
     "text": [
      "Requirement already satisfied: torch in c:\\users\\kss34\\anaconda3\\envs\\pytorchpractice\\lib\\site-packages (1.10.0)\n",
      "Requirement already satisfied: typing_extensions in c:\\users\\kss34\\appdata\\roaming\\python\\python38\\site-packages (from torch) (4.6.1)\n",
      "Requirement already satisfied: torchvision in c:\\users\\kss34\\anaconda3\\envs\\pytorchpractice\\lib\\site-packages (0.11.0)\n",
      "Requirement already satisfied: numpy in c:\\users\\kss34\\anaconda3\\envs\\pytorchpractice\\lib\\site-packages (from torchvision) (1.24.4)\n",
      "Requirement already satisfied: torch==1.10.0 in c:\\users\\kss34\\anaconda3\\envs\\pytorchpractice\\lib\\site-packages (from torchvision) (1.10.0)\n",
      "Requirement already satisfied: pillow!=8.3.0,>=5.3.0 in c:\\users\\kss34\\anaconda3\\envs\\pytorchpractice\\lib\\site-packages (from torchvision) (9.4.0)\n",
      "Requirement already satisfied: typing_extensions in c:\\users\\kss34\\appdata\\roaming\\python\\python38\\site-packages (from torch==1.10.0->torchvision) (4.6.1)\n"
     ]
    }
   ],
   "source": [
    "!pip install torch\n",
    "!pip install torchvision"
   ]
  },
  {
   "cell_type": "code",
   "execution_count": 9,
   "id": "b2994f31",
   "metadata": {},
   "outputs": [
    {
     "name": "stdout",
     "output_type": "stream",
     "text": [
      "Torch 버전: 1.10.0\n",
      "Torchvision 버전: 0.11.0\n"
     ]
    }
   ],
   "source": [
    "import torch\n",
    "import torchvision\n",
    "\n",
    "print(\"Torch 버전:\", torch.__version__)\n",
    "print(\"Torchvision 버전:\", torchvision.__version__)\n"
   ]
  }
 ],
 "metadata": {
  "kernelspec": {
   "display_name": "pytorchPractice",
   "language": "python",
   "name": "python3"
  },
  "language_info": {
   "codemirror_mode": {
    "name": "ipython",
    "version": 3
   },
   "file_extension": ".py",
   "mimetype": "text/x-python",
   "name": "python",
   "nbconvert_exporter": "python",
   "pygments_lexer": "ipython3",
   "version": "3.8.17"
  }
 },
 "nbformat": 4,
 "nbformat_minor": 5
}
