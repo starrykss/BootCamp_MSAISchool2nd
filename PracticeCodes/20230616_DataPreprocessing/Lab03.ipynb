{
 "cells": [
  {
   "attachments": {},
   "cell_type": "markdown",
   "id": "d9b17d4b",
   "metadata": {},
   "source": [
    "# Lab 03. 텐서 기본 실습\n",
    "---"
   ]
  },
  {
   "cell_type": "code",
   "execution_count": 1,
   "id": "067ab634",
   "metadata": {},
   "outputs": [],
   "source": [
    "import torch \n",
    "import numpy as np"
   ]
  },
  {
   "attachments": {},
   "cell_type": "markdown",
   "id": "b3ee7f94",
   "metadata": {},
   "source": [
    "## 텐서 초기화용 데이터를 이용하여 직접 텐서를 생성하기"
   ]
  },
  {
   "cell_type": "code",
   "execution_count": 2,
   "id": "e0bce84a",
   "metadata": {},
   "outputs": [
    {
     "name": "stdout",
     "output_type": "stream",
     "text": [
      "<class 'list'>\n",
      "tensor([[1, 2],\n",
      "        [3, 4]])\n",
      "tensor([[1, 2],\n",
      "        [3, 4]])\n"
     ]
    }
   ],
   "source": [
    "# 1. torch 이용해서 만든 텐서 \n",
    "data = [[1, 2], [3, 4]]\n",
    "print(type(data))\n",
    "x_data = torch.tensor(data)\n",
    "\n",
    "print(x_data)\n",
    "\n",
    "# 2. Numpy -> troch tensor \n",
    "np_array = np.array(data)\n",
    "x_np = torch.from_numpy(np_array)\n",
    "print(x_np)"
   ]
  },
  {
   "attachments": {},
   "cell_type": "markdown",
   "id": "4a795a62",
   "metadata": {},
   "source": [
    "- `torch.tensor()`는 입력 텐서를 복사하여 새로운 텐서를 만든다. \n",
    "    - 이 함수는 항상 새로운 메모리를 할당하므로, 원본 데이터와의 메모리 공유가 이루어지지 않는다.\n",
    "- `torch.from_numpy()` 함수는 NumPy 배열을 PyTorch 텐서로 변환할 때, 원본 데이터와의 메모리 공유를 유지한다."
   ]
  },
  {
   "cell_type": "code",
   "execution_count": 3,
   "id": "de02989e",
   "metadata": {},
   "outputs": [
    {
     "name": "stdout",
     "output_type": "stream",
     "text": [
      "ones Tensor : \n",
      "tensor([[1, 1],\n",
      "        [1, 1]])\n",
      "Random Tensor : \n",
      "tensor([[0.6899, 0.3164],\n",
      "        [0.9167, 0.3233]])\n"
     ]
    }
   ],
   "source": [
    "x_ones = torch.ones_like(x_data) \n",
    "print(f\"ones Tensor : \\n{x_ones}\")\n",
    "# torch.ones_like()주어진 입력 텐서와 동일한 크기의 텐서를 생성하고 모든 요소를 1로 채우면 된다.\n",
    "\n",
    "\n",
    "x_rand = torch.rand_like(x_data, dtype=torch.float)    # x_data 속성을 덮어쓴다.\n",
    "print(f'Random Tensor : \\n{x_rand}')\n",
    "# torch.rand_like() 주어진 입력 텐서와 동일한 크기의 텐서를 생성하고 모든 요소를 랜덤한 값으로 채운다. 그리고 타입 지정하면 그 타입으로 변경된다.\n",
    "# 0과 1사이의 랜덤한 값으로 초기화 되고, 데이터 타입 유형은 dtype=torch.float 지정된다."
   ]
  },
  {
   "cell_type": "code",
   "execution_count": 4,
   "id": "7934f00a",
   "metadata": {},
   "outputs": [
    {
     "name": "stdout",
     "output_type": "stream",
     "text": [
      "rand_tensor \n",
      " tensor([[5.0226, 1.0111, 6.3163, 9.7389, 2.8107, 0.2403],\n",
      "        [4.5066, 8.2667, 7.4144, 9.9092, 1.6633, 7.2506],\n",
      "        [3.0800, 2.7175, 4.5451, 5.2286, 6.1455, 9.9144],\n",
      "        [6.7574, 3.5312, 7.6747, 4.7251, 8.4958, 3.4557],\n",
      "        [7.2627, 0.1201, 2.8326, 0.7539, 9.5175, 6.4064]])\n",
      "ones_tensor \n",
      " tensor([[1., 1., 1., 1., 1., 1.],\n",
      "        [1., 1., 1., 1., 1., 1.],\n",
      "        [1., 1., 1., 1., 1., 1.],\n",
      "        [1., 1., 1., 1., 1., 1.],\n",
      "        [1., 1., 1., 1., 1., 1.]])\n",
      "zeros_tensor \n",
      " tensor([[0., 0., 0., 0., 0., 0.],\n",
      "        [0., 0., 0., 0., 0., 0.],\n",
      "        [0., 0., 0., 0., 0., 0.],\n",
      "        [0., 0., 0., 0., 0., 0.],\n",
      "        [0., 0., 0., 0., 0., 0.]])\n",
      "tensor([[8.1119, 9.6542, 8.7367, 8.9440, 9.7202, 6.5612],\n",
      "        [7.5630, 6.4580, 9.3568, 6.8211, 6.7240, 9.4957],\n",
      "        [6.9931, 7.2989, 6.6578, 9.6498, 9.4660, 6.3368],\n",
      "        [9.5675, 6.1532, 8.6557, 6.7643, 6.0697, 7.0283],\n",
      "        [6.4958, 9.6567, 7.3969, 6.5392, 9.3496, 9.8410]])\n"
     ]
    }
   ],
   "source": [
    "# 무작위 또는 상수 값을 사용하기 \n",
    "shape = (5,6,)\n",
    "rand_tensor = torch.rand(shape) * 10    # 0 ~ 10 \n",
    "ones_tensor = torch.ones(shape)\n",
    "zeros_tensor = torch.zeros(shape)\n",
    "\n",
    "print(\"rand_tensor \\n\", rand_tensor)\n",
    "print(\"ones_tensor \\n\", ones_tensor)\n",
    "print(\"zeros_tensor \\n\" , zeros_tensor)\n",
    "\n",
    "\n",
    "# 유효 범위를 최소값 얼마 부터 ~ 최대값 얼마까지 6 ~ 10 \n",
    "shape_temp = (5,6)\n",
    "min_val = 6\n",
    "max_val = 10 \n",
    "rand_tensor_temp = torch.rand(shape_temp) * (max_val - min_val) + min_val\n",
    "print(rand_tensor_temp)"
   ]
  },
  {
   "attachments": {},
   "cell_type": "markdown",
   "id": "dd76a151",
   "metadata": {},
   "source": [
    "## 텐서 속성 "
   ]
  },
  {
   "cell_type": "code",
   "execution_count": 5,
   "id": "ca508795",
   "metadata": {},
   "outputs": [
    {
     "name": "stdout",
     "output_type": "stream",
     "text": [
      "cpu\n",
      "Shape of tensor : torch.Size([3, 4])\n",
      "Data type of tensor torch.float32\n",
      "Device tensor is stored on : cpu\n"
     ]
    }
   ],
   "source": [
    "tensor_val = torch.rand(3, 4)\n",
    "\n",
    "# 디바이스 정보 가져오기 \n",
    "device = 'cuda' if torch.cuda.is_available() else 'cpu'\n",
    "print(device)\n",
    "\n",
    "# tensor_val.to(\"cuda\")\n",
    "\n",
    "# 디바이스 변경하고자 하는 경우 \n",
    "# 텐서의 디바이스를 변경하려면 to() 메서드를 사용할 수 있습니다. 이 메서드는 새로운 디바이스로 텐서를 이동시킨다.\n",
    "# EX) model.to(device)\n",
    "\n",
    "print(f\"Shape of tensor : {tensor_val.shape}\")\n",
    "print(f\"Data type of tensor {tensor_val.dtype}\")\n",
    "print(f\"Device tensor is stored on : {tensor_val.device}\")"
   ]
  },
  {
   "cell_type": "code",
   "execution_count": 6,
   "id": "c6a27da9",
   "metadata": {},
   "outputs": [
    {
     "name": "stdout",
     "output_type": "stream",
     "text": [
      "tensor([[1., 1., 1., 0.],\n",
      "        [1., 1., 1., 0.],\n",
      "        [1., 1., 1., 0.],\n",
      "        [1., 1., 1., 0.]])\n",
      "tensor([[1., 2., 1., 1.],\n",
      "        [1., 2., 1., 1.],\n",
      "        [1., 2., 1., 1.],\n",
      "        [1., 2., 1., 1.]])\n"
     ]
    }
   ],
   "source": [
    "# 표준 인덱싱 과 슬라이싱 \n",
    "tensor_l = torch.ones(4, 4)\n",
    "tensor_l[:,3] = 0\n",
    "\n",
    "tensor_2 = torch.ones(4, 4)\n",
    "tensor_2[:,1] = 2\n",
    "print(tensor_l)\n",
    "print(tensor_2)"
   ]
  },
  {
   "cell_type": "code",
   "execution_count": 7,
   "id": "23b475ed",
   "metadata": {},
   "outputs": [
    {
     "name": "stdout",
     "output_type": "stream",
     "text": [
      "tensor([[1., 1., 1., 0., 1., 1., 1., 0.],\n",
      "        [1., 1., 1., 0., 1., 1., 1., 0.],\n",
      "        [1., 1., 1., 0., 1., 1., 1., 0.],\n",
      "        [1., 1., 1., 0., 1., 1., 1., 0.]])\n"
     ]
    }
   ],
   "source": [
    "# 텐서 합치기 \n",
    "\n",
    "t1 = torch.cat([tensor_l, tensor_l], dim=1)\n",
    "print(t1)"
   ]
  },
  {
   "cell_type": "code",
   "execution_count": 8,
   "id": "c76170d7",
   "metadata": {},
   "outputs": [
    {
     "name": "stdout",
     "output_type": "stream",
     "text": [
      "tensor([[1., 2., 1., 0.],\n",
      "        [1., 2., 1., 0.],\n",
      "        [1., 2., 1., 0.],\n",
      "        [1., 2., 1., 0.]])\n",
      "tensor([[1., 2., 1., 0.],\n",
      "        [1., 2., 1., 0.],\n",
      "        [1., 2., 1., 0.],\n",
      "        [1., 2., 1., 0.]])\n"
     ]
    }
   ],
   "source": [
    "t_mult = tensor_l.mul(tensor_2)\n",
    "print(t_mult)\n",
    "\n",
    "print(tensor_l * tensor_2)"
   ]
  },
  {
   "cell_type": "code",
   "execution_count": 9,
   "id": "b6536f7f",
   "metadata": {},
   "outputs": [
    {
     "name": "stdout",
     "output_type": "stream",
     "text": [
      "tensor([[7., 7., 7., 7.],\n",
      "        [7., 7., 7., 7.],\n",
      "        [7., 7., 7., 7.],\n",
      "        [7., 7., 7., 7.]])\n",
      "tensor([[7., 7., 7., 7.],\n",
      "        [7., 7., 7., 7.],\n",
      "        [7., 7., 7., 7.],\n",
      "        [7., 7., 7., 7.]])\n"
     ]
    }
   ],
   "source": [
    "# 행렬 곱 \n",
    "print(tensor_2.matmul(tensor_2.T))\n",
    "print(tensor_2 @ tensor_2.T)"
   ]
  },
  {
   "cell_type": "code",
   "execution_count": 10,
   "id": "42dcabb7",
   "metadata": {},
   "outputs": [
    {
     "name": "stdout",
     "output_type": "stream",
     "text": [
      "tensor([1., 1., 1., 1., 1.])\n",
      "[1. 1. 1. 1. 1.]\n",
      "tensor([2., 2., 2., 2., 2.])\n",
      "[2. 2. 2. 2. 2.]\n"
     ]
    }
   ],
   "source": [
    "t = torch.ones(5)\n",
    "print(t)\n",
    "n = t.numpy()\n",
    "print(n)\n",
    "\n",
    "t.add_(1)\n",
    "print(t)\n",
    "print(n)"
   ]
  },
  {
   "attachments": {},
   "cell_type": "markdown",
   "id": "842544fe",
   "metadata": {},
   "source": [
    "## 뷰 (View) - 원소의 수를 유지하면서 텐서의 크기 변경 "
   ]
  },
  {
   "cell_type": "code",
   "execution_count": 11,
   "id": "a083d291",
   "metadata": {},
   "outputs": [
    {
     "name": "stdout",
     "output_type": "stream",
     "text": [
      "tensor([[[ 0.,  1.,  2.],\n",
      "         [ 3.,  4.,  5.]],\n",
      "\n",
      "        [[ 6.,  7.,  8.],\n",
      "         [ 9., 10., 11.]]])\n",
      "torch.Size([2, 2, 3])\n",
      "tensor([[ 0.,  1.,  2.],\n",
      "        [ 3.,  4.,  5.],\n",
      "        [ 6.,  7.,  8.],\n",
      "        [ 9., 10., 11.]])\n",
      "torch.Size([4, 3])\n"
     ]
    }
   ],
   "source": [
    "\"\"\"\n",
    "파이토치 텐서의 뷰는 넘파이의 Reshape 와 같은 역할\n",
    "Reshape > 텐서의 크기를 변경해주는 역할 \n",
    "\"\"\"\n",
    "\n",
    "# 3차원 데이터 생성\n",
    "t_temp = np.array([[[0, 1, 2], [3, 4, 5]], [[6, 7, 8], [9, 10, 11]]])\n",
    "ft = torch.FloatTensor(t_temp)\n",
    "print(ft)\n",
    "print(ft.shape)\n",
    "\n",
    "# 이제 ft view -> 2차원 텐서로 변경 \n",
    "# -1 : 나는 그 값을 모르겠음 파이토치 니가 알아서 해 !! 두번째 차원은 길이는 3 가지도록 하라는 의미이다.  \n",
    "print(ft.view([-1, 3])) # (?, 3)\n",
    "print(ft.view([-1, 3]).shape)\n",
    "\n",
    "# view() 메서드를 사용하여 텐서의 차원을 변경하면 -> 데이터를 복사하여 새로운 텐서를 생성하고, 이 새로운 텐서는 원래 텐서와 메모리를 공유하지 않는다."
   ]
  },
  {
   "cell_type": "code",
   "execution_count": 14,
   "id": "e6dfa9d1",
   "metadata": {},
   "outputs": [
    {
     "name": "stdout",
     "output_type": "stream",
     "text": [
      "tensor([[[ 0.,  1.,  2.]],\n",
      "\n",
      "        [[ 3.,  4.,  5.]],\n",
      "\n",
      "        [[ 6.,  7.,  8.]],\n",
      "\n",
      "        [[ 9., 10., 11.]]])\n",
      "torch.Size([4, 1, 3])\n"
     ]
    }
   ],
   "source": [
    "print(ft.view([-1, 1, 3]))\n",
    "print(ft.view([-1, 1, 3]).shape)\n"
   ]
  },
  {
   "attachments": {},
   "cell_type": "markdown",
   "id": "8dbc4aef",
   "metadata": {},
   "source": [
    "- 스퀴즈는 차원이 1인 경우에는 해당 차원을 제거한다. "
   ]
  },
  {
   "cell_type": "code",
   "execution_count": 15,
   "id": "a9e1a9d5",
   "metadata": {},
   "outputs": [
    {
     "name": "stdout",
     "output_type": "stream",
     "text": [
      "tensor([[0.],\n",
      "        [1.],\n",
      "        [2.]])\n",
      "torch.Size([3, 1])\n"
     ]
    }
   ],
   "source": [
    "# 3x1 크기를 가지는 2차원 텐서 생성\n",
    "ft = torch.FloatTensor(([0], [1], [2]))\n",
    "print(ft)\n",
    "print(ft.shape)"
   ]
  },
  {
   "cell_type": "code",
   "execution_count": 17,
   "id": "b6b61f11",
   "metadata": {},
   "outputs": [
    {
     "name": "stdout",
     "output_type": "stream",
     "text": [
      "tensor([0., 1., 2.])\n",
      "torch.Size([3])\n"
     ]
    }
   ],
   "source": [
    "print(ft.squeeze())\n",
    "print(ft.squeeze().shape)"
   ]
  },
  {
   "attachments": {},
   "cell_type": "markdown",
   "id": "00b57b74",
   "metadata": {},
   "source": [
    "- 언스퀴즈 -> 특정 위치에서 1인 차원을 추가한다."
   ]
  },
  {
   "cell_type": "code",
   "execution_count": 18,
   "id": "17dbcc39",
   "metadata": {},
   "outputs": [
    {
     "name": "stdout",
     "output_type": "stream",
     "text": [
      "torch.Size([3])\n"
     ]
    }
   ],
   "source": [
    "ft_temp = torch.Tensor([0, 1, 2])\n",
    "print(ft_temp.shape)"
   ]
  },
  {
   "cell_type": "code",
   "execution_count": 21,
   "id": "cc4c3747",
   "metadata": {},
   "outputs": [
    {
     "name": "stdout",
     "output_type": "stream",
     "text": [
      "tensor([[0., 1., 2.]])\n",
      "torch.Size([1, 3])\n"
     ]
    }
   ],
   "source": [
    "# 첫번째 차원에서 1차원 추가 \n",
    "# 인덱스 0 \n",
    "print(ft_temp.unsqueeze(0))\n",
    "print(ft_temp.unsqueeze(0).shape)"
   ]
  },
  {
   "cell_type": "code",
   "execution_count": 22,
   "id": "850b9def",
   "metadata": {},
   "outputs": [
    {
     "name": "stdout",
     "output_type": "stream",
     "text": [
      "tensor([[0., 1., 2.]])\n",
      "torch.Size([1, 3])\n"
     ]
    }
   ],
   "source": [
    "print(ft_temp.view(1, -1))\n",
    "print(ft_temp.view(1, -1).shape)"
   ]
  }
 ],
 "metadata": {
  "kernelspec": {
   "display_name": "AI",
   "language": "python",
   "name": "ai"
  },
  "language_info": {
   "codemirror_mode": {
    "name": "ipython",
    "version": 3
   },
   "file_extension": ".py",
   "mimetype": "text/x-python",
   "name": "python",
   "nbconvert_exporter": "python",
   "pygments_lexer": "ipython3",
   "version": "3.8.12"
  }
 },
 "nbformat": 4,
 "nbformat_minor": 5
}
