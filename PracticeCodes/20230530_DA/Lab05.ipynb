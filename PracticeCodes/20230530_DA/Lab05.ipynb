{
 "cells": [
  {
   "attachments": {},
   "cell_type": "markdown",
   "id": "88f836aa",
   "metadata": {},
   "source": [
    "# Lab 05. 시계열 데이터 전처리 : 결측치가 있는 행 삭제 실습\n",
    "---"
   ]
  },
  {
   "cell_type": "code",
   "execution_count": 1,
   "id": "17a7fbc7",
   "metadata": {},
   "outputs": [],
   "source": [
    "import pandas as pd \n",
    "import numpy as np "
   ]
  },
  {
   "attachments": {},
   "cell_type": "markdown",
   "id": "a78e249d",
   "metadata": {},
   "source": [
    "- 시계열 데이터를 생성하고 결측치를 생성한다. 그리고 데이터를 확인한다."
   ]
  },
  {
   "cell_type": "code",
   "execution_count": 2,
   "id": "cfa440c4",
   "metadata": {},
   "outputs": [
    {
     "name": "stdout",
     "output_type": "stream",
     "text": [
      "Date     2023-01-21 00:00:00\n",
      "Value                    NaN\n",
      "Name: 20, dtype: object\n"
     ]
    }
   ],
   "source": [
    "# 시계열 데이터 생성\n",
    "dates = pd.date_range(start='2023-01-01', periods=50, freq='D')\n",
    "values = np.random.randn(50)\n",
    "\n",
    "# 결측치 생성 \n",
    "values[20] = np.nan\n",
    "\n",
    "# 데이터 프레임 생성\n",
    "data = pd.DataFrame({\n",
    "    'Date' : dates,\n",
    "    'Value' : values\n",
    "})\n",
    "\n",
    "row = data.iloc[20]\n",
    "\n",
    "print(row)"
   ]
  },
  {
   "attachments": {},
   "cell_type": "markdown",
   "id": "ac2858bc",
   "metadata": {},
   "source": [
    "- 결측치 개수를 확인해본다."
   ]
  },
  {
   "cell_type": "code",
   "execution_count": 3,
   "id": "b4d7ae0e",
   "metadata": {},
   "outputs": [
    {
     "name": "stdout",
     "output_type": "stream",
     "text": [
      "Date     0\n",
      "Value    1\n",
      "dtype: int64\n"
     ]
    }
   ],
   "source": [
    "print(data.isnull().sum())"
   ]
  },
  {
   "attachments": {},
   "cell_type": "markdown",
   "id": "991f0a62",
   "metadata": {},
   "source": [
    "- 결측치 삭제 여부를 확인해본다."
   ]
  },
  {
   "cell_type": "code",
   "execution_count": 4,
   "id": "e00e206e",
   "metadata": {},
   "outputs": [
    {
     "name": "stdout",
     "output_type": "stream",
     "text": [
      "         Date     Value\n",
      "0  2023-01-01  0.024952\n",
      "1  2023-01-02  1.249991\n",
      "2  2023-01-03 -1.200802\n",
      "3  2023-01-04  1.162483\n",
      "4  2023-01-05  0.021255\n",
      "5  2023-01-06  0.306626\n",
      "6  2023-01-07  0.363776\n",
      "7  2023-01-08  0.887817\n",
      "8  2023-01-09 -2.078275\n",
      "9  2023-01-10 -1.466149\n",
      "10 2023-01-11 -0.527055\n",
      "11 2023-01-12 -0.413283\n",
      "12 2023-01-13 -1.048127\n",
      "13 2023-01-14 -1.001161\n",
      "14 2023-01-15 -0.808743\n",
      "15 2023-01-16 -0.540994\n",
      "16 2023-01-17 -1.642367\n",
      "17 2023-01-18  0.339025\n",
      "18 2023-01-19  1.945850\n",
      "19 2023-01-20  0.333301\n",
      "21 2023-01-22  0.503220\n",
      "22 2023-01-23  1.123334\n",
      "23 2023-01-24  0.006746\n",
      "24 2023-01-25 -0.614868\n",
      "25 2023-01-26  0.827733\n",
      "26 2023-01-27  0.320322\n",
      "27 2023-01-28  0.714695\n",
      "28 2023-01-29 -0.665295\n",
      "29 2023-01-30  2.005584\n",
      "30 2023-01-31 -0.484597\n",
      "31 2023-02-01 -0.065458\n",
      "32 2023-02-02  0.458724\n",
      "33 2023-02-03  1.544975\n",
      "34 2023-02-04  0.287694\n",
      "35 2023-02-05 -1.424200\n",
      "36 2023-02-06  1.228775\n",
      "37 2023-02-07  0.409340\n",
      "38 2023-02-08  0.397995\n",
      "39 2023-02-09 -0.415639\n",
      "40 2023-02-10 -1.529488\n",
      "41 2023-02-11 -0.212144\n",
      "42 2023-02-12  2.189417\n",
      "43 2023-02-13 -1.161250\n",
      "44 2023-02-14  0.046736\n",
      "45 2023-02-15 -1.079724\n",
      "46 2023-02-16  0.769939\n",
      "47 2023-02-17 -0.498842\n",
      "48 2023-02-18 -1.085126\n",
      "49 2023-02-19 -0.212069\n"
     ]
    }
   ],
   "source": [
    "data_without_missing = data.dropna(axis=0)\n",
    "\n",
    "# 결측치 삭제 여부 확인 체크 \n",
    "print(data_without_missing)"
   ]
  }
 ],
 "metadata": {
  "kernelspec": {
   "display_name": "myEnv",
   "language": "python",
   "name": "myenv"
  },
  "language_info": {
   "codemirror_mode": {
    "name": "ipython",
    "version": 3
   },
   "file_extension": ".py",
   "mimetype": "text/x-python",
   "name": "python",
   "nbconvert_exporter": "python",
   "pygments_lexer": "ipython3",
   "version": "3.7.12"
  }
 },
 "nbformat": 4,
 "nbformat_minor": 5
}
