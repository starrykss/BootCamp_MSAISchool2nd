{
 "cells": [
  {
   "attachments": {},
   "cell_type": "markdown",
   "id": "f1416141",
   "metadata": {},
   "source": [
    "# Lab 04. 데이터셋에서 결측치의 위치 확인 방법 실습 \n",
    "---"
   ]
  },
  {
   "cell_type": "code",
   "execution_count": 1,
   "id": "66091d51",
   "metadata": {},
   "outputs": [],
   "source": [
    "import pandas as pd \n",
    "import numpy as np"
   ]
  },
  {
   "attachments": {},
   "cell_type": "markdown",
   "id": "59ac8e28",
   "metadata": {},
   "source": [
    "- 데이터를 생성하고 확인해본다."
   ]
  },
  {
   "cell_type": "code",
   "execution_count": 2,
   "id": "1ccf1fc0",
   "metadata": {},
   "outputs": [
    {
     "name": "stdout",
     "output_type": "stream",
     "text": [
      "     A    B     C\n",
      "0  1.0  NaN   9.0\n",
      "1  2.0  NaN  10.0\n",
      "2  NaN  6.0  11.0\n",
      "3  4.0  7.0  12.0\n",
      "4  5.0  8.0   NaN\n"
     ]
    }
   ],
   "source": [
    "# 예시 데이터 생성 \n",
    "data = pd.DataFrame({\n",
    "    'A' : [1, 2, np.nan, 4, 5],\n",
    "    'B' : [np.nan, np.nan,6, 7, 8],\n",
    "    'C' : [9, 10, 11, 12, np.nan]\n",
    "})\n",
    "\n",
    "print(data)"
   ]
  },
  {
   "attachments": {},
   "cell_type": "markdown",
   "id": "1eb1e1f6",
   "metadata": {},
   "source": [
    "- 결측치의 위치를 확인해본다."
   ]
  },
  {
   "cell_type": "code",
   "execution_count": 3,
   "id": "4ba87198",
   "metadata": {},
   "outputs": [
    {
     "name": "stdout",
     "output_type": "stream",
     "text": [
      "       A      B      C\n",
      "0  False   True  False\n",
      "1  False   True  False\n",
      "2   True  False  False\n",
      "3  False  False  False\n",
      "4  False  False   True\n"
     ]
    }
   ],
   "source": [
    "print(data.isnull())"
   ]
  },
  {
   "attachments": {},
   "cell_type": "markdown",
   "id": "b802facc",
   "metadata": {},
   "source": [
    "- 데이터셋에서 결측치의 위치를 히트맵으로 확인해보자."
   ]
  },
  {
   "cell_type": "code",
   "execution_count": 4,
   "id": "418cc10f",
   "metadata": {},
   "outputs": [],
   "source": [
    "import matplotlib.pyplot as plt\n",
    "import seaborn as sns"
   ]
  },
  {
   "attachments": {},
   "cell_type": "markdown",
   "id": "5c6f877e",
   "metadata": {},
   "source": [
    "- 예시 데이터를 생성하고 히트맵으로 시각화 해본다."
   ]
  },
  {
   "cell_type": "code",
   "execution_count": 5,
   "id": "0ebfcacb",
   "metadata": {},
   "outputs": [
    {
     "data": {
      "image/png": "[encoded data removed]",
      "text/plain": [
       "<Figure size 800x600 with 1 Axes>"
      ]
     },
     "metadata": {},
     "output_type": "display_data"
    }
   ],
   "source": [
    "# 예시 데이터 생성 \n",
    "hit_data = pd.DataFrame({\n",
    "    'A' : [1, np.nan, np.nan, 4, 5],\n",
    "    'B' : [np.nan, np.nan,6, 7, 8],\n",
    "    'C' : [9, np.nan, np.nan, 12, np.nan]\n",
    "})\n",
    "\n",
    "plt.figure(figsize=(8,6))\n",
    "sns.heatmap(hit_data.isnull(), cmap='viridis', cbar=False)\n",
    "\n",
    "plt.show()\n"
   ]
  },
  {
   "attachments": {},
   "cell_type": "markdown",
   "id": "a3ffb1e6",
   "metadata": {},
   "source": [
    "- 데이터를 생성하고, 데이터셋에서 결측치의 개수를 확인해본다."
   ]
  },
  {
   "cell_type": "code",
   "execution_count": 6,
   "id": "04fe7813",
   "metadata": {},
   "outputs": [
    {
     "name": "stdout",
     "output_type": "stream",
     "text": [
      "A    2\n",
      "B    2\n",
      "C    3\n",
      "dtype: int64\n"
     ]
    }
   ],
   "source": [
    "# 예시 데이터 생성 \n",
    "count_data = pd.DataFrame({\n",
    "    'A' : [1, np.nan, np.nan, 4, 5],\n",
    "    'B' : [np.nan, np.nan, 6, 7, 8],\n",
    "    'C' : [9, np.nan, np.nan, 12, np.nan]\n",
    "})\n",
    "\n",
    "# 결측치 개수 확인 \n",
    "missing_count = count_data.isnull().sum()\n",
    "\n",
    "print(missing_count)"
   ]
  }
 ],
 "metadata": {
  "kernelspec": {
   "display_name": "myEnv",
   "language": "python",
   "name": "myenv"
  },
  "language_info": {
   "codemirror_mode": {
    "name": "ipython",
    "version": 3
   },
   "file_extension": ".py",
   "mimetype": "text/x-python",
   "name": "python",
   "nbconvert_exporter": "python",
   "pygments_lexer": "ipython3",
   "version": "3.7.12"
  }
 },
 "nbformat": 4,
 "nbformat_minor": 5
}
