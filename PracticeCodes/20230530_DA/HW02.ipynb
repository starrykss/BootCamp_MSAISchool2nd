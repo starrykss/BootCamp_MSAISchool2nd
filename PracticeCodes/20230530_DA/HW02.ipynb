{
 "cells": [
  {
   "attachments": {},
   "cell_type": "markdown",
   "id": "ba257b38",
   "metadata": {},
   "source": [
    "# Homework 02. 비모수 검정 과제 \n",
    "---\n",
    "- 간단하게 그룹1, 그룹2 랜덤하게 100개씩 데이터를 만들어서 Wilcoxon Signed-Rank Test를 실시하고 결과를 해석해보자.\n",
    "- Willcoxon Signed-Rank Test는 정규 분포를 따르지 않는 데이터에 대해 두 집단의 차이가 있는지 검정하는 비모수 검정 방법 중 하나이다.\n",
    "- 예를 들어, 한 집단의 대응되는 다른 집단과의 차이를 검정하거나, 두 집단의 독립적인 샘플들 간의 차이를 검정하는 경우에 사용할 수 있다."
   ]
  },
  {
   "cell_type": "code",
   "execution_count": 1,
   "id": "0df4578a",
   "metadata": {},
   "outputs": [],
   "source": [
    "import numpy as np \n",
    "from scipy.stats import wilcoxon"
   ]
  },
  {
   "attachments": {},
   "cell_type": "markdown",
   "id": "658a5d8a",
   "metadata": {},
   "source": [
    "- 그룹1과 그룹2 데이터를 생성한다."
   ]
  },
  {
   "cell_type": "code",
   "execution_count": 2,
   "id": "b8774215",
   "metadata": {},
   "outputs": [],
   "source": [
    "# 그룹1 과 그룹2 데이터 생성 \n",
    "group1 = np.random.normal(0,1, 100)\n",
    "group2 = np.random.normal(0.5, 1, 100)"
   ]
  },
  {
   "attachments": {},
   "cell_type": "markdown",
   "id": "d9268464",
   "metadata": {},
   "source": [
    "- Wilcoxon Signed-Rank Test를 시행한다."
   ]
  },
  {
   "cell_type": "code",
   "execution_count": 3,
   "id": "f087f959",
   "metadata": {},
   "outputs": [
    {
     "name": "stdout",
     "output_type": "stream",
     "text": [
      "st >>  1325.0\n",
      "p_val >>  3.6914360912642606e-05\n"
     ]
    }
   ],
   "source": [
    "st, p_val = wilcoxon(group1, group2)\n",
    "\n",
    "# 결과 출력 \n",
    "print(\"st >> \" , st)\n",
    "print(\"p_val >> \" , p_val)"
   ]
  }
 ],
 "metadata": {
  "kernelspec": {
   "display_name": "myEnv",
   "language": "python",
   "name": "myenv"
  },
  "language_info": {
   "codemirror_mode": {
    "name": "ipython",
    "version": 3
   },
   "file_extension": ".py",
   "mimetype": "text/x-python",
   "name": "python",
   "nbconvert_exporter": "python",
   "pygments_lexer": "ipython3",
   "version": "3.7.12"
  }
 },
 "nbformat": 4,
 "nbformat_minor": 5
}
