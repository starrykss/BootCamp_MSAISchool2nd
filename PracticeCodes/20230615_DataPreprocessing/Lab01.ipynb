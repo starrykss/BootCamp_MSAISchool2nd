{
 "cells": [
  {
   "attachments": {},
   "cell_type": "markdown",
   "id": "93742278",
   "metadata": {},
   "source": [
    "# Lab 01. XML 어노테이션 값을 YOLO 형식으로 변경하기\n",
    "---"
   ]
  },
  {
   "cell_type": "code",
   "execution_count": 1,
   "id": "e7c3a1ce",
   "metadata": {},
   "outputs": [],
   "source": [
    "import os\n",
    "import cv2\n",
    "import matplotlib.pylab as plt\n",
    "from xml.etree.ElementTree import parse"
   ]
  },
  {
   "cell_type": "code",
   "execution_count": null,
   "id": "1a23631e",
   "metadata": {},
   "outputs": [],
   "source": [
    "label_number_dict = {'cat': 0, 'dog': 1}\n",
    "\n",
    "def xml_read(xml_path):\n",
    "    root = parse(xml_path).getroot()\n",
    "    image_info = root.findall('image')\n",
    "    \n",
    "    for image in image_info:\n",
    "        bbox = image.findall('box')\n",
    "        \n",
    "        image_width = image.attrib['width']\n",
    "        image_height = image.attrib['height']\n",
    "        \n",
    "        image_name = image.attrib['name']\n",
    "        image_name_temp = image_name\n",
    "        image_name = os.path.join('./data/', image_name)\n",
    "        \n",
    "        image = cv2.imread(image_name)\n",
    "        image = cv2.cvtColor(image, cv2.COLOR_BGR2RGB)\n",
    "        \n",
    "        for box_info in bbox:\n",
    "            label = box_info.attrib['label']     # x1, y1, x2, y2\n",
    "\n",
    "            xtl = box_info.attrib['xtl']\n",
    "            ytl = box_info.attrib['ytl']\n",
    "            xbr = box_info.attrib['xbr']\n",
    "            ybr = box_info.attrib['ybr']\n",
    "            \n",
    "            x1_i = int(float(xtl))\n",
    "            y1_i = int(float(ytl))\n",
    "            x2_i = int(float(xbr))\n",
    "            y2_i = int(float(ybr))\n",
    "                           \n",
    "            img_width_i = int(image_width)\n",
    "            img_height_i = int(image_height)\n",
    "                           \n",
    "            center_x = ((x2_i + x1_i) / (2 * img_width_i))\n",
    "            center_y = ((y2_i + y1_i) / (2 * img_height_i))\n",
    "            yolo_w = (x2_i - x1_i) / img_width_i\n",
    "            yolo_h = (y2_i - y1_i) / img_height_i\n",
    "            # print(center_x, center_y, yolo_w, yolo_h)\n",
    "                           \n",
    "            image_name_temp = image_name_temp.replace('.jpg', '')\n",
    "                           \n",
    "            label_number = label_number_dict[label]\n",
    "            \n",
    "            with open(f'./data/{image_name_temp}.txt', 'a') as f:\n",
    "                f.write(f'{label_number} {center_x} {center_y} {yolo_w} {yolo_h} \\n')\n",
    "                           \n",
    "xml_read('./data/annotations.xml')"
   ]
  }
 ],
 "metadata": {
  "kernelspec": {
   "display_name": "myEnv",
   "language": "python",
   "name": "myenv"
  },
  "language_info": {
   "codemirror_mode": {
    "name": "ipython",
    "version": 3
   },
   "file_extension": ".py",
   "mimetype": "text/x-python",
   "name": "python",
   "nbconvert_exporter": "python",
   "pygments_lexer": "ipython3",
   "version": "3.7.12"
  }
 },
 "nbformat": 4,
 "nbformat_minor": 5
}
