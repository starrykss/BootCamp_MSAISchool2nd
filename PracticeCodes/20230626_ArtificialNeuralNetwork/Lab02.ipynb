{
 "cells": [
  {
   "attachments": {},
   "cell_type": "markdown",
   "id": "048bcf3d",
   "metadata": {},
   "source": [
    "# Lab 02. 다중 선형 실습 : 경사 하강법을 이용한 다중 선형 회귀 구현\n",
    "---"
   ]
  },
  {
   "cell_type": "code",
   "execution_count": 1,
   "id": "0a599a5f",
   "metadata": {},
   "outputs": [],
   "source": [
    "import numpy as np "
   ]
  },
  {
   "attachments": {},
   "cell_type": "markdown",
   "id": "fb54ec4c",
   "metadata": {},
   "source": [
    "## 데이터 생성"
   ]
  },
  {
   "cell_type": "code",
   "execution_count": 2,
   "id": "7fe5b73a",
   "metadata": {},
   "outputs": [],
   "source": [
    "x1 = np.array([1, 2, 3, 4, 5])\n",
    "x2 = np.array([0, 1, 0, 1, 0])\n",
    "\n",
    "y = np.array([3, 5, 7, 9, 11])"
   ]
  },
  {
   "cell_type": "code",
   "execution_count": 3,
   "id": "30eed652",
   "metadata": {},
   "outputs": [],
   "source": [
    "def gradient_descent(x1, x2, y, lr, iterations) : \n",
    "    \n",
    "    # 초기값 설정 \n",
    "    n = len(y)\n",
    "    bata_0 = 0 \n",
    "    bata_1 = 0\n",
    "    bata_2 = 0 \n",
    "    \n",
    "    # 경사 하강법 수행 \n",
    "    for i in range(iterations) : \n",
    "        y_pred = bata_0 + bata_1 * x1 + bata_2 * x2\n",
    "        \n",
    "        error = y_pred - y   # 필요할 경우 수정\n",
    "        \n",
    "        # 업데이트 \n",
    "        bata_0 -= lr * (1/n) * np.sum(error)\n",
    "        bata_1 -= lr * (1/n) * np.sum(error * x1)\n",
    "        bata_2 -= lr * (1/n) * np.sum(error * x2)\n",
    "        \n",
    "    return bata_0, bata_1 , bata_2\n",
    "        "
   ]
  },
  {
   "cell_type": "code",
   "execution_count": 4,
   "id": "bb28cf6f",
   "metadata": {},
   "outputs": [
    {
     "name": "stdout",
     "output_type": "stream",
     "text": [
      "bata_0 >>  0.6329438095222969\n",
      "bata_1 >>  2.0787134098915354\n",
      "bata_2 >>  0.20466169435522205\n"
     ]
    }
   ],
   "source": [
    "bata_0, bata_1, bata_2 = gradient_descent(x1, x2, y, 0.1, 10)\n",
    "print(\"bata_0 >> \", bata_0)\n",
    "print(\"bata_1 >> \", bata_1)\n",
    "print(\"bata_2 >> \", bata_2)"
   ]
  },
  {
   "cell_type": "code",
   "execution_count": 5,
   "id": "c6d83679",
   "metadata": {},
   "outputs": [
    {
     "name": "stdout",
     "output_type": "stream",
     "text": [
      "Predicted y value >>  6.8690840391969035\n"
     ]
    }
   ],
   "source": [
    "x1_new = 3\n",
    "x2_new = 0\n",
    "\n",
    "#### 예측 되어야하는 값 3 \n",
    "\n",
    "y_pred_temp = bata_0 + bata_1 * x1_new + bata_2 * x2_new\n",
    "\n",
    "print(\"Predicted y value >> \", y_pred_temp)"
   ]
  }
 ],
 "metadata": {
  "kernelspec": {
   "display_name": "pytorchPractice",
   "language": "python",
   "name": "python3"
  },
  "language_info": {
   "codemirror_mode": {
    "name": "ipython",
    "version": 3
   },
   "file_extension": ".py",
   "mimetype": "text/x-python",
   "name": "python",
   "nbconvert_exporter": "python",
   "pygments_lexer": "ipython3",
   "version": "3.8.17"
  }
 },
 "nbformat": 4,
 "nbformat_minor": 5
}
