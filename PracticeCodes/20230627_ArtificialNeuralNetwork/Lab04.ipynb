{
 "cells": [
  {
   "attachments": {},
   "cell_type": "markdown",
   "id": "b30e2e8a",
   "metadata": {},
   "source": [
    "# Lab 04. 파이토치를 사용하여 소프트맥스 회귀 모델을 학습하고 예측하는 실습\n",
    "---\n",
    "\n",
    "- Iris 데이터셋을 사용하여 진행한다."
   ]
  },
  {
   "cell_type": "code",
   "execution_count": 1,
   "id": "6753df63",
   "metadata": {},
   "outputs": [],
   "source": [
    "import torch\n",
    "import torch.nn as nn\n",
    "import torch.optim as optim\n",
    "\n",
    "from torch.utils.data import DataLoader, TensorDataset\n",
    "from sklearn.datasets import load_iris\n",
    "from sklearn.model_selection import train_test_split"
   ]
  },
  {
   "attachments": {},
   "cell_type": "markdown",
   "id": "dea5e36d",
   "metadata": {},
   "source": [
    "## 데이터 로드 "
   ]
  },
  {
   "cell_type": "code",
   "execution_count": 2,
   "id": "a9e67c73",
   "metadata": {},
   "outputs": [],
   "source": [
    "iris = load_iris()\n",
    "# print(iris)\n",
    "\n",
    "x = iris.data\n",
    "y = iris.target\n",
    "# print(x,y)\n",
    "\n",
    "x_train, x_test , y_train, y_test = train_test_split(x,y, test_size=0.1, random_state=777)\n",
    "\n",
    "# convert data to Pytorch tensor \n",
    "x_train = torch.from_numpy(x_train).float()\n",
    "y_train = torch.from_numpy(y_train).long()\n",
    "x_test = torch.from_numpy(x_test).float()\n",
    "y_test = torch.from_numpy(y_test).long()"
   ]
  },
  {
   "attachments": {},
   "cell_type": "markdown",
   "id": "85600812",
   "metadata": {},
   "source": [
    "## 데이터셋 데이터 로더 정의 "
   ]
  },
  {
   "cell_type": "code",
   "execution_count": 3,
   "id": "6136cc12",
   "metadata": {},
   "outputs": [],
   "source": [
    "train_dataset = TensorDataset(x_train, y_train) \n",
    "# TensorDataset() -> 동일한 크기를 가진 텐서들을 첫번째 차원을 기준으로 결합해서 데이터셋 생성\n",
    "train_loader = DataLoader(train_dataset, batch_size=10, shuffle=True)"
   ]
  },
  {
   "attachments": {},
   "cell_type": "markdown",
   "id": "e37d2bbb",
   "metadata": {},
   "source": [
    "## 모델 구현 "
   ]
  },
  {
   "cell_type": "code",
   "execution_count": 4,
   "id": "451f17f3",
   "metadata": {},
   "outputs": [],
   "source": [
    "class SoftmaxRegression(nn.Module) : \n",
    "    def __init__(self, input_size, num_classes) : \n",
    "        super(SoftmaxRegression, self).__init__()\n",
    "        self.linear = nn.Linear(input_size, num_classes)\n",
    "        \n",
    "    def forward(self, x) : \n",
    "        out = self.linear(x)\n",
    "        \n",
    "        return out"
   ]
  },
  {
   "attachments": {},
   "cell_type": "markdown",
   "id": "a4c321c5",
   "metadata": {},
   "source": [
    "## 하이퍼 파라미터 설정 "
   ]
  },
  {
   "cell_type": "code",
   "execution_count": 5,
   "id": "6c65a63f",
   "metadata": {},
   "outputs": [],
   "source": [
    "input_size = 4 \n",
    "num_classes = 3 \n",
    "lr = 0.01 \n",
    "num_epochs = 100"
   ]
  },
  {
   "attachments": {},
   "cell_type": "markdown",
   "id": "0f0238d1",
   "metadata": {},
   "source": [
    "## 옵티마이저 loss 함수 모델 호출 "
   ]
  },
  {
   "cell_type": "code",
   "execution_count": 6,
   "id": "7789330d",
   "metadata": {},
   "outputs": [],
   "source": [
    "model = SoftmaxRegression(input_size, num_classes)\n",
    "criterion = nn.CrossEntropyLoss()\n",
    "optimizer = optim.SGD(model.parameters(), lr=lr)"
   ]
  },
  {
   "attachments": {},
   "cell_type": "markdown",
   "id": "1b7b1312",
   "metadata": {},
   "source": [
    "## 모델 훈련"
   ]
  },
  {
   "cell_type": "code",
   "execution_count": 7,
   "id": "a57be762",
   "metadata": {},
   "outputs": [
    {
     "name": "stdout",
     "output_type": "stream",
     "text": [
      "Epoch [1/100] , Step [10/14], Loss : 0.8975\n",
      "Epoch [2/100] , Step [10/14], Loss : 0.8869\n",
      "Epoch [3/100] , Step [10/14], Loss : 0.8699\n",
      "Epoch [4/100] , Step [10/14], Loss : 0.7805\n",
      "Epoch [5/100] , Step [10/14], Loss : 0.8376\n",
      "Epoch [6/100] , Step [10/14], Loss : 0.7486\n",
      "Epoch [7/100] , Step [10/14], Loss : 0.6207\n",
      "Epoch [8/100] , Step [10/14], Loss : 0.5639\n",
      "Epoch [9/100] , Step [10/14], Loss : 0.6946\n",
      "Epoch [10/100] , Step [10/14], Loss : 0.4399\n",
      "Epoch [11/100] , Step [10/14], Loss : 0.6605\n",
      "Epoch [12/100] , Step [10/14], Loss : 0.6199\n",
      "Epoch [13/100] , Step [10/14], Loss : 0.5700\n",
      "Epoch [14/100] , Step [10/14], Loss : 0.5749\n",
      "Epoch [15/100] , Step [10/14], Loss : 0.6136\n",
      "Epoch [16/100] , Step [10/14], Loss : 0.4011\n",
      "Epoch [17/100] , Step [10/14], Loss : 0.3882\n",
      "Epoch [18/100] , Step [10/14], Loss : 0.5983\n",
      "Epoch [19/100] , Step [10/14], Loss : 0.5462\n",
      "Epoch [20/100] , Step [10/14], Loss : 0.4117\n",
      "Epoch [21/100] , Step [10/14], Loss : 0.5067\n",
      "Epoch [22/100] , Step [10/14], Loss : 0.5013\n",
      "Epoch [23/100] , Step [10/14], Loss : 0.4509\n",
      "Epoch [24/100] , Step [10/14], Loss : 0.4087\n",
      "Epoch [25/100] , Step [10/14], Loss : 0.4670\n",
      "Epoch [26/100] , Step [10/14], Loss : 0.5081\n",
      "Epoch [27/100] , Step [10/14], Loss : 0.4394\n",
      "Epoch [28/100] , Step [10/14], Loss : 0.4601\n",
      "Epoch [29/100] , Step [10/14], Loss : 0.5813\n",
      "Epoch [30/100] , Step [10/14], Loss : 0.4989\n",
      "Epoch [31/100] , Step [10/14], Loss : 0.3743\n",
      "Epoch [32/100] , Step [10/14], Loss : 0.5352\n",
      "Epoch [33/100] , Step [10/14], Loss : 0.4310\n",
      "Epoch [34/100] , Step [10/14], Loss : 0.5890\n",
      "Epoch [35/100] , Step [10/14], Loss : 0.4462\n",
      "Epoch [36/100] , Step [10/14], Loss : 0.3817\n",
      "Epoch [37/100] , Step [10/14], Loss : 0.4999\n",
      "Epoch [38/100] , Step [10/14], Loss : 0.5451\n",
      "Epoch [39/100] , Step [10/14], Loss : 0.3837\n",
      "Epoch [40/100] , Step [10/14], Loss : 0.5767\n",
      "Epoch [41/100] , Step [10/14], Loss : 0.3434\n",
      "Epoch [42/100] , Step [10/14], Loss : 0.3092\n",
      "Epoch [43/100] , Step [10/14], Loss : 0.4352\n",
      "Epoch [44/100] , Step [10/14], Loss : 0.4454\n",
      "Epoch [45/100] , Step [10/14], Loss : 0.4098\n",
      "Epoch [46/100] , Step [10/14], Loss : 0.4658\n",
      "Epoch [47/100] , Step [10/14], Loss : 0.2748\n",
      "Epoch [48/100] , Step [10/14], Loss : 0.4748\n",
      "Epoch [49/100] , Step [10/14], Loss : 0.4193\n",
      "Epoch [50/100] , Step [10/14], Loss : 0.3282\n",
      "Epoch [51/100] , Step [10/14], Loss : 0.5265\n",
      "Epoch [52/100] , Step [10/14], Loss : 0.5112\n",
      "Epoch [53/100] , Step [10/14], Loss : 0.4464\n",
      "Epoch [54/100] , Step [10/14], Loss : 0.2806\n",
      "Epoch [55/100] , Step [10/14], Loss : 0.4475\n",
      "Epoch [56/100] , Step [10/14], Loss : 0.3784\n",
      "Epoch [57/100] , Step [10/14], Loss : 0.4069\n",
      "Epoch [58/100] , Step [10/14], Loss : 0.4235\n",
      "Epoch [59/100] , Step [10/14], Loss : 0.4690\n",
      "Epoch [60/100] , Step [10/14], Loss : 0.5179\n",
      "Epoch [61/100] , Step [10/14], Loss : 0.3003\n",
      "Epoch [62/100] , Step [10/14], Loss : 0.5620\n",
      "Epoch [63/100] , Step [10/14], Loss : 0.3115\n",
      "Epoch [64/100] , Step [10/14], Loss : 0.4785\n",
      "Epoch [65/100] , Step [10/14], Loss : 0.4770\n",
      "Epoch [66/100] , Step [10/14], Loss : 0.3450\n",
      "Epoch [67/100] , Step [10/14], Loss : 0.3893\n",
      "Epoch [68/100] , Step [10/14], Loss : 0.4430\n",
      "Epoch [69/100] , Step [10/14], Loss : 0.4375\n",
      "Epoch [70/100] , Step [10/14], Loss : 0.3744\n",
      "Epoch [71/100] , Step [10/14], Loss : 0.4032\n",
      "Epoch [72/100] , Step [10/14], Loss : 0.3848\n",
      "Epoch [73/100] , Step [10/14], Loss : 0.3984\n",
      "Epoch [74/100] , Step [10/14], Loss : 0.4341\n",
      "Epoch [75/100] , Step [10/14], Loss : 0.3984\n",
      "Epoch [76/100] , Step [10/14], Loss : 0.4120\n",
      "Epoch [77/100] , Step [10/14], Loss : 0.3484\n",
      "Epoch [78/100] , Step [10/14], Loss : 0.3658\n",
      "Epoch [79/100] , Step [10/14], Loss : 0.2566\n",
      "Epoch [80/100] , Step [10/14], Loss : 0.2840\n",
      "Epoch [81/100] , Step [10/14], Loss : 0.3515\n",
      "Epoch [82/100] , Step [10/14], Loss : 0.2787\n",
      "Epoch [83/100] , Step [10/14], Loss : 0.3446\n",
      "Epoch [84/100] , Step [10/14], Loss : 0.5509\n",
      "Epoch [85/100] , Step [10/14], Loss : 0.3552\n",
      "Epoch [86/100] , Step [10/14], Loss : 0.3175\n",
      "Epoch [87/100] , Step [10/14], Loss : 0.4959\n",
      "Epoch [88/100] , Step [10/14], Loss : 0.3946\n",
      "Epoch [89/100] , Step [10/14], Loss : 0.3818\n",
      "Epoch [90/100] , Step [10/14], Loss : 0.3103\n",
      "Epoch [91/100] , Step [10/14], Loss : 0.3104\n",
      "Epoch [92/100] , Step [10/14], Loss : 0.2924\n",
      "Epoch [93/100] , Step [10/14], Loss : 0.3070\n",
      "Epoch [94/100] , Step [10/14], Loss : 0.3591\n",
      "Epoch [95/100] , Step [10/14], Loss : 0.3407\n",
      "Epoch [96/100] , Step [10/14], Loss : 0.4162\n",
      "Epoch [97/100] , Step [10/14], Loss : 0.3524\n",
      "Epoch [98/100] , Step [10/14], Loss : 0.3556\n",
      "Epoch [99/100] , Step [10/14], Loss : 0.3478\n",
      "Epoch [100/100] , Step [10/14], Loss : 0.3771\n"
     ]
    }
   ],
   "source": [
    "total_step = len(train_loader) \n",
    "for epoch in range(num_epochs) : \n",
    "    for i, (inputs, labels) in enumerate(train_loader) : \n",
    "        # Forward pass \n",
    "        outputs= model(inputs)\n",
    "        outputs = outputs.float()\n",
    "        loss = criterion(outputs, labels)\n",
    "        \n",
    "        # Backward pass\n",
    "        optimizer.zero_grad()\n",
    "        loss.backward()\n",
    "        optimizer.step()\n",
    "        \n",
    "        # print\n",
    "        if (i+1) % 10 == 0 :\n",
    "            print(\"Epoch [{}/{}] , Step [{}/{}], Loss : {:.4f}\".format(\n",
    "                epoch+1, num_epochs, i+1, total_step, loss.item()\n",
    "            ))"
   ]
  },
  {
   "cell_type": "code",
   "execution_count": 8,
   "id": "ee9a551e",
   "metadata": {},
   "outputs": [
    {
     "name": "stdout",
     "output_type": "stream",
     "text": [
      "Test ACC >> 100.00%\n"
     ]
    }
   ],
   "source": [
    "model.eval()\n",
    "with torch.no_grad() : \n",
    "    outputs = model(x_test) \n",
    "    _, predicted = torch.max(outputs.data, 1)\n",
    "    acc = (predicted == y_test).sum().item() / len(y_test)\n",
    "    print(\"Test ACC >> {:.2f}%\".format(acc * 100))"
   ]
  }
 ],
 "metadata": {
  "kernelspec": {
   "display_name": "pytorchPractice",
   "language": "python",
   "name": "python3"
  },
  "language_info": {
   "codemirror_mode": {
    "name": "ipython",
    "version": 3
   },
   "file_extension": ".py",
   "mimetype": "text/x-python",
   "name": "python",
   "nbconvert_exporter": "python",
   "pygments_lexer": "ipython3",
   "version": "3.8.17"
  }
 },
 "nbformat": 4,
 "nbformat_minor": 5
}
