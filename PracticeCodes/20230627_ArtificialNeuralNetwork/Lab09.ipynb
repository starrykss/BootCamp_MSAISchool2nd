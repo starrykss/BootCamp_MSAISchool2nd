{
 "cells": [
  {
   "cell_type": "markdown",
   "id": "78cbf2aa",
   "metadata": {},
   "source": [
    "# Lab 09. SVM의 하이퍼 파라미터 최적화 : 랜덤 서치 실습\n",
    "---"
   ]
  },
  {
   "cell_type": "code",
   "execution_count": 1,
   "id": "01c8bebf",
   "metadata": {},
   "outputs": [],
   "source": [
    "import numpy as np\n",
    "from sklearn.model_selection import GridSearchCV\n",
    "from sklearn.pipeline import Pipeline\n",
    "from sklearn.preprocessing import StandardScaler\n",
    "from sklearn.svm import SVC"
   ]
  },
  {
   "cell_type": "markdown",
   "id": "2c32c85e",
   "metadata": {},
   "source": [
    "## GridSearchCV SVM 모델 최적 하이퍼파리미터 찾기 "
   ]
  },
  {
   "cell_type": "code",
   "execution_count": 2,
   "id": "1fe8391e",
   "metadata": {},
   "outputs": [],
   "source": [
    "# 데이터 생성\n",
    "rng = np.random.RandomState(0)\n",
    "x = rng.randn(100, 10)\n",
    "y = rng.binomial(1, 0.5 , 100)"
   ]
  },
  {
   "cell_type": "code",
   "execution_count": 3,
   "id": "a8d66b52",
   "metadata": {},
   "outputs": [],
   "source": [
    "# 파이프라인 생성\n",
    "svm_pipeline = Pipeline([\n",
    "    ('scaler', StandardScaler()),\n",
    "    ('svm', SVC())\n",
    "])"
   ]
  },
  {
   "cell_type": "code",
   "execution_count": 4,
   "id": "8010af59",
   "metadata": {},
   "outputs": [],
   "source": [
    "# 탐색할 하이퍼 파라미터 그리드 생성 \n",
    "param_grid = {\n",
    "    'svm__C' : [0.1, 1, 10],\n",
    "    'svm__kernel' : ['linear', 'rbf'],\n",
    "    'svm__gamma' : ['scale', 'auto']\n",
    "}"
   ]
  },
  {
   "cell_type": "markdown",
   "id": "3dd5293d",
   "metadata": {},
   "source": [
    "## 그리드 서치 수행 "
   ]
  },
  {
   "cell_type": "code",
   "execution_count": 5,
   "id": "7e752470",
   "metadata": {},
   "outputs": [
    {
     "data": {
      "text/plain": [
       "GridSearchCV(cv=5,\n",
       "             estimator=Pipeline(steps=[('scaler', StandardScaler()),\n",
       "                                       ('svm', SVC())]),\n",
       "             param_grid={'svm__C': [0.1, 1, 10],\n",
       "                         'svm__gamma': ['scale', 'auto'],\n",
       "                         'svm__kernel': ['linear', 'rbf']})"
      ]
     },
     "execution_count": 5,
     "metadata": {},
     "output_type": "execute_result"
    }
   ],
   "source": [
    "grid_search = GridSearchCV(svm_pipeline, param_grid, cv=5)\n",
    "grid_search.fit(x, y)"
   ]
  },
  {
   "cell_type": "markdown",
   "id": "e8c9b97a",
   "metadata": {},
   "source": [
    "## 최적 하이퍼 파라미터와 최고 성능 출력 "
   ]
  },
  {
   "cell_type": "code",
   "execution_count": 6,
   "id": "0f12afa6",
   "metadata": {},
   "outputs": [
    {
     "name": "stdout",
     "output_type": "stream",
     "text": [
      "Best parameters :  {'svm__C': 0.1, 'svm__gamma': 'scale', 'svm__kernel': 'rbf'}\n",
      "Best cross-validation score :  0.5799999999999998\n"
     ]
    }
   ],
   "source": [
    "print(\"Best parameters : \", grid_search.best_params_)\n",
    "print(\"Best cross-validation score : \", grid_search.best_score_)"
   ]
  }
 ],
 "metadata": {
  "kernelspec": {
   "display_name": "AI",
   "language": "python",
   "name": "ai"
  },
  "language_info": {
   "codemirror_mode": {
    "name": "ipython",
    "version": 3
   },
   "file_extension": ".py",
   "mimetype": "text/x-python",
   "name": "python",
   "nbconvert_exporter": "python",
   "pygments_lexer": "ipython3",
   "version": "3.8.12"
  }
 },
 "nbformat": 4,
 "nbformat_minor": 5
}
