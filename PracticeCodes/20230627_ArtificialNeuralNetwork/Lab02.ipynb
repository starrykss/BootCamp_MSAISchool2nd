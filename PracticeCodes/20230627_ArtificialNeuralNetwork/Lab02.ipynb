{
 "cells": [
  {
   "attachments": {},
   "cell_type": "markdown",
   "id": "2fee2903",
   "metadata": {},
   "source": [
    "# Lab 02. 로지스틱 희귀 앙상블 실습\n",
    "---\n",
    "\n",
    "- 앙상블 기법은 실무에서 거의 않쓴다.\n",
    "- 인공지능 대회에서 마지막에 정확도를 끌어올리기 위해 주로 사용한다."
   ]
  },
  {
   "cell_type": "code",
   "execution_count": 1,
   "id": "93ed5e51",
   "metadata": {},
   "outputs": [],
   "source": [
    "import torch\n",
    "import torch.nn as nn\n",
    "import torch.optim as optim\n",
    "\n",
    "from torch.utils.data import DataLoader\n",
    "from torchvision.datasets import FashionMNIST\n",
    "from torchvision.transforms import ToTensor\n",
    "from sklearn.model_selection import train_test_split\n",
    "from sklearn.metrics import accuracy_score"
   ]
  },
  {
   "attachments": {},
   "cell_type": "markdown",
   "id": "deffa372",
   "metadata": {},
   "source": [
    "## 데이터셋, 데이터 로더 생성"
   ]
  },
  {
   "cell_type": "code",
   "execution_count": 2,
   "id": "563565f7",
   "metadata": {},
   "outputs": [],
   "source": [
    "dataset = FashionMNIST(root=\"./data\", train=True, transform=ToTensor(), download=False)\n",
    "train_set, val_set = train_test_split(dataset, test_size=0.1, random_state=777)\n",
    "\n",
    "train_loader = DataLoader(train_set, batch_size=100, shuffle=True)\n",
    "test_loader = DataLoader(val_set, batch_size=100, shuffle=False)"
   ]
  },
  {
   "attachments": {},
   "cell_type": "markdown",
   "id": "37a1893f",
   "metadata": {},
   "source": [
    "## 모델 선언"
   ]
  },
  {
   "cell_type": "code",
   "execution_count": 3,
   "id": "4c188f8e",
   "metadata": {},
   "outputs": [],
   "source": [
    "class LogisticRegression(nn.Module) : \n",
    "    def __init__(self, input_size, num_classes) : \n",
    "        super(LogisticRegression, self).__init__()\n",
    "        self.linear = nn.Linear(input_size, num_classes)\n",
    "    \n",
    "    def forward(self, x) : \n",
    "        out = self.linear(x)\n",
    "        \n",
    "        return out"
   ]
  },
  {
   "attachments": {},
   "cell_type": "markdown",
   "id": "97e27429",
   "metadata": {},
   "source": [
    "## 하이퍼 파라미터 설정 "
   ]
  },
  {
   "cell_type": "code",
   "execution_count": 4,
   "id": "06c3a748",
   "metadata": {},
   "outputs": [],
   "source": [
    "input_size = 28 * 28 \n",
    "num_classes = 10\n",
    "num_epoch = 100\n",
    "lr =  0.001\n",
    "num_models = 5 # 앙상블에 사용할 모델 개수"
   ]
  },
  {
   "attachments": {},
   "cell_type": "markdown",
   "id": "26c6421f",
   "metadata": {},
   "source": [
    "## 앙상블 "
   ]
  },
  {
   "cell_type": "code",
   "execution_count": 5,
   "id": "f27ec71a",
   "metadata": {},
   "outputs": [
    {
     "name": "stdout",
     "output_type": "stream",
     "text": [
      "[LogisticRegression(\n",
      "  (linear): Linear(in_features=784, out_features=10, bias=True)\n",
      "), LogisticRegression(\n",
      "  (linear): Linear(in_features=784, out_features=10, bias=True)\n",
      "), LogisticRegression(\n",
      "  (linear): Linear(in_features=784, out_features=10, bias=True)\n",
      "), LogisticRegression(\n",
      "  (linear): Linear(in_features=784, out_features=10, bias=True)\n",
      "), LogisticRegression(\n",
      "  (linear): Linear(in_features=784, out_features=10, bias=True)\n",
      ")]\n"
     ]
    }
   ],
   "source": [
    "models = [LogisticRegression(input_size, num_classes) for _ in range(num_models)]\n",
    "\n",
    "print(models)"
   ]
  },
  {
   "attachments": {},
   "cell_type": "markdown",
   "id": "f04fbc78",
   "metadata": {},
   "source": [
    "## 모델, 손실 함수, 옵티마이저 정의"
   ]
  },
  {
   "cell_type": "code",
   "execution_count": 6,
   "id": "1a8f5fa5",
   "metadata": {},
   "outputs": [
    {
     "name": "stdout",
     "output_type": "stream",
     "text": [
      "[SGD (\n",
      "Parameter Group 0\n",
      "    dampening: 0\n",
      "    lr: 0.001\n",
      "    momentum: 0\n",
      "    nesterov: False\n",
      "    weight_decay: 0\n",
      "), SGD (\n",
      "Parameter Group 0\n",
      "    dampening: 0\n",
      "    lr: 0.001\n",
      "    momentum: 0\n",
      "    nesterov: False\n",
      "    weight_decay: 0\n",
      "), SGD (\n",
      "Parameter Group 0\n",
      "    dampening: 0\n",
      "    lr: 0.001\n",
      "    momentum: 0\n",
      "    nesterov: False\n",
      "    weight_decay: 0\n",
      "), SGD (\n",
      "Parameter Group 0\n",
      "    dampening: 0\n",
      "    lr: 0.001\n",
      "    momentum: 0\n",
      "    nesterov: False\n",
      "    weight_decay: 0\n",
      "), SGD (\n",
      "Parameter Group 0\n",
      "    dampening: 0\n",
      "    lr: 0.001\n",
      "    momentum: 0\n",
      "    nesterov: False\n",
      "    weight_decay: 0\n",
      ")]\n"
     ]
    }
   ],
   "source": [
    "criterion = nn.CrossEntropyLoss()\n",
    "optimizers = [optim.SGD(model.parameters(), lr=lr) for model in models]\n",
    "\n",
    "print(optimizers)"
   ]
  },
  {
   "attachments": {},
   "cell_type": "markdown",
   "id": "89cbb0c6",
   "metadata": {},
   "source": [
    "## Train Loop"
   ]
  },
  {
   "cell_type": "code",
   "execution_count": 7,
   "id": "7c8af219",
   "metadata": {},
   "outputs": [
    {
     "name": "stdout",
     "output_type": "stream",
     "text": [
      "Epoch [1/100], Val ACC >> 66.33%\n",
      "Epoch [2/100], Val ACC >> 67.27%\n",
      "Epoch [3/100], Val ACC >> 68.28%\n",
      "Epoch [4/100], Val ACC >> 69.27%\n",
      "Epoch [5/100], Val ACC >> 70.37%\n",
      "Epoch [6/100], Val ACC >> 71.97%\n",
      "Epoch [7/100], Val ACC >> 73.10%\n",
      "Epoch [8/100], Val ACC >> 74.15%\n",
      "Epoch [9/100], Val ACC >> 74.73%\n",
      "Epoch [10/100], Val ACC >> 75.23%\n",
      "Epoch [11/100], Val ACC >> 75.85%\n",
      "Epoch [12/100], Val ACC >> 76.65%\n",
      "Epoch [13/100], Val ACC >> 77.13%\n",
      "Epoch [14/100], Val ACC >> 77.33%\n",
      "Epoch [15/100], Val ACC >> 77.60%\n",
      "Epoch [16/100], Val ACC >> 77.83%\n",
      "Epoch [17/100], Val ACC >> 78.10%\n",
      "Epoch [18/100], Val ACC >> 78.22%\n",
      "Epoch [19/100], Val ACC >> 78.65%\n",
      "Epoch [20/100], Val ACC >> 78.73%\n",
      "Epoch [21/100], Val ACC >> 78.88%\n",
      "Epoch [22/100], Val ACC >> 79.08%\n",
      "Epoch [23/100], Val ACC >> 79.27%\n",
      "Epoch [24/100], Val ACC >> 79.33%\n",
      "Epoch [25/100], Val ACC >> 79.33%\n",
      "Epoch [26/100], Val ACC >> 79.55%\n",
      "Epoch [27/100], Val ACC >> 79.90%\n",
      "Epoch [28/100], Val ACC >> 79.98%\n",
      "Epoch [29/100], Val ACC >> 80.07%\n",
      "Epoch [30/100], Val ACC >> 80.17%\n",
      "Epoch [31/100], Val ACC >> 80.17%\n",
      "Epoch [32/100], Val ACC >> 80.37%\n",
      "Epoch [33/100], Val ACC >> 80.42%\n",
      "Epoch [34/100], Val ACC >> 80.43%\n",
      "Epoch [35/100], Val ACC >> 80.57%\n",
      "Epoch [36/100], Val ACC >> 80.57%\n",
      "Epoch [37/100], Val ACC >> 80.57%\n",
      "Epoch [38/100], Val ACC >> 80.72%\n",
      "Epoch [39/100], Val ACC >> 80.95%\n",
      "Epoch [40/100], Val ACC >> 80.93%\n",
      "Epoch [41/100], Val ACC >> 81.13%\n",
      "Epoch [42/100], Val ACC >> 81.18%\n",
      "Epoch [43/100], Val ACC >> 81.35%\n",
      "Epoch [44/100], Val ACC >> 81.48%\n",
      "Epoch [45/100], Val ACC >> 81.47%\n",
      "Epoch [46/100], Val ACC >> 81.52%\n",
      "Epoch [47/100], Val ACC >> 81.67%\n",
      "Epoch [48/100], Val ACC >> 81.77%\n",
      "Epoch [49/100], Val ACC >> 81.75%\n",
      "Epoch [50/100], Val ACC >> 81.82%\n",
      "Epoch [51/100], Val ACC >> 81.97%\n",
      "Epoch [52/100], Val ACC >> 81.88%\n",
      "Epoch [53/100], Val ACC >> 81.97%\n",
      "Epoch [54/100], Val ACC >> 82.03%\n",
      "Epoch [55/100], Val ACC >> 82.05%\n",
      "Epoch [56/100], Val ACC >> 82.07%\n",
      "Epoch [57/100], Val ACC >> 82.25%\n",
      "Epoch [58/100], Val ACC >> 82.22%\n",
      "Epoch [59/100], Val ACC >> 82.27%\n",
      "Epoch [60/100], Val ACC >> 82.32%\n",
      "Epoch [61/100], Val ACC >> 82.45%\n",
      "Epoch [62/100], Val ACC >> 82.47%\n",
      "Epoch [63/100], Val ACC >> 82.43%\n",
      "Epoch [64/100], Val ACC >> 82.50%\n",
      "Epoch [65/100], Val ACC >> 82.72%\n",
      "Epoch [66/100], Val ACC >> 82.60%\n",
      "Epoch [67/100], Val ACC >> 82.70%\n",
      "Epoch [68/100], Val ACC >> 82.73%\n",
      "Epoch [69/100], Val ACC >> 82.70%\n",
      "Epoch [70/100], Val ACC >> 82.85%\n",
      "Epoch [71/100], Val ACC >> 82.80%\n",
      "Epoch [72/100], Val ACC >> 82.82%\n",
      "Epoch [73/100], Val ACC >> 82.78%\n",
      "Epoch [74/100], Val ACC >> 82.93%\n",
      "Epoch [75/100], Val ACC >> 82.85%\n",
      "Epoch [76/100], Val ACC >> 82.95%\n",
      "Epoch [77/100], Val ACC >> 82.93%\n",
      "Epoch [78/100], Val ACC >> 82.98%\n",
      "Epoch [79/100], Val ACC >> 83.03%\n",
      "Epoch [80/100], Val ACC >> 83.12%\n",
      "Epoch [81/100], Val ACC >> 83.07%\n",
      "Epoch [82/100], Val ACC >> 83.18%\n",
      "Epoch [83/100], Val ACC >> 83.15%\n",
      "Epoch [84/100], Val ACC >> 83.22%\n",
      "Epoch [85/100], Val ACC >> 83.23%\n",
      "Epoch [86/100], Val ACC >> 83.18%\n",
      "Epoch [87/100], Val ACC >> 83.18%\n",
      "Epoch [88/100], Val ACC >> 83.28%\n",
      "Epoch [89/100], Val ACC >> 83.22%\n",
      "Epoch [90/100], Val ACC >> 83.30%\n",
      "Epoch [91/100], Val ACC >> 83.33%\n",
      "Epoch [92/100], Val ACC >> 83.32%\n",
      "Epoch [93/100], Val ACC >> 83.30%\n",
      "Epoch [94/100], Val ACC >> 83.42%\n",
      "Epoch [95/100], Val ACC >> 83.37%\n",
      "Epoch [96/100], Val ACC >> 83.47%\n",
      "Epoch [97/100], Val ACC >> 83.53%\n",
      "Epoch [98/100], Val ACC >> 83.48%\n",
      "Epoch [99/100], Val ACC >> 83.50%\n",
      "Epoch [100/100], Val ACC >> 83.48%\n"
     ]
    }
   ],
   "source": [
    "for epoch in range(num_epoch) : \n",
    "    for i, (images, labels) in enumerate(train_loader) :\n",
    "        # 데이터 로드 \n",
    "        images = images.reshape(-1, input_size)\n",
    "        labels = labels\n",
    "        \n",
    "        # 순전파 및 손실 계산 \n",
    "        for j in range(num_models) : \n",
    "            outputs = models[j](images)\n",
    "            loss = criterion(outputs, labels)\n",
    "            \n",
    "            # 역전파 및 가중치 업데이트\n",
    "            optimizers[j].zero_grad()\n",
    "            loss.backward()\n",
    "            optimizers[j].step()\n",
    "            \n",
    "    # 검증 코드 추가 #\n",
    "    with torch.no_grad() : \n",
    "        total, correct = 0,0 \n",
    "        for images, labels in test_loader : \n",
    "            images = images.reshape(-1, input_size)\n",
    "            \"\"\"\n",
    "            outputs = torch.zeros(images.size()[0], num_classes)\n",
    "            이미지 배치에 대한 출력 텐서 초기화 \n",
    "            >> 후속 단계에서 이미지에 대한 예측값 업데이트 가능\n",
    "            \"\"\"\n",
    "            outputs = torch.zeros(images.size()[0], num_classes)\n",
    "            # 앙상블 모델의 예측값 더하기 \n",
    "            for j in range(num_models) : \n",
    "                outputs += models[j](images)\n",
    "                \n",
    "            _, predicted = torch.max(outputs.data, 1)\n",
    "            total += labels.size(0)\n",
    "            correct += (predicted == labels).sum().item()\n",
    "            \n",
    "        val_acc = 100 * correct / total\n",
    "        print(f\"Epoch [{epoch+1}/{num_epoch}], Val ACC >> {val_acc:.2f}%\")\n"
   ]
  }
 ],
 "metadata": {
  "kernelspec": {
   "display_name": "Python 3 (ipykernel)",
   "language": "python",
   "name": "python3"
  },
  "language_info": {
   "codemirror_mode": {
    "name": "ipython",
    "version": 3
   },
   "file_extension": ".py",
   "mimetype": "text/x-python",
   "name": "python",
   "nbconvert_exporter": "python",
   "pygments_lexer": "ipython3",
   "version": "3.8.17"
  }
 },
 "nbformat": 4,
 "nbformat_minor": 5
}
