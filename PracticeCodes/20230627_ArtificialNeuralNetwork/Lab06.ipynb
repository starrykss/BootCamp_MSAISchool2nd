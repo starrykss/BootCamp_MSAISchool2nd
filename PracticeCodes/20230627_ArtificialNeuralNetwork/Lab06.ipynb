{
 "cells": [
  {
   "attachments": {},
   "cell_type": "markdown",
   "id": "b8d45d2e",
   "metadata": {},
   "source": [
    "# Lab 06. 파이토치를 사용한 선형 SVM 모델 학습 및 결정 경계 시각화 실습\n",
    "---"
   ]
  },
  {
   "cell_type": "code",
   "execution_count": 1,
   "id": "512ea897",
   "metadata": {},
   "outputs": [],
   "source": [
    "import torch\n",
    "import torch.nn as nn\n",
    "import torch.optim as optim\n",
    "from torch.utils.data import DataLoader, TensorDataset"
   ]
  },
  {
   "attachments": {},
   "cell_type": "markdown",
   "id": "c4146cf9",
   "metadata": {},
   "source": [
    "## 데이터 생성"
   ]
  },
  {
   "cell_type": "code",
   "execution_count": 2,
   "id": "5a9781c5",
   "metadata": {},
   "outputs": [],
   "source": [
    "x = torch.randn(100, 2)\n",
    "y = torch.where(x[:,0] > x[:,1] , 1, -1).float()\n",
    "\n",
    "dataset = TensorDataset(x, y)\n",
    "loader = DataLoader(dataset, batch_size=36)"
   ]
  },
  {
   "attachments": {},
   "cell_type": "markdown",
   "id": "cd500dc1",
   "metadata": {},
   "source": [
    "## SVM 모델 정의 "
   ]
  },
  {
   "cell_type": "code",
   "execution_count": 3,
   "id": "1c2bccfe",
   "metadata": {},
   "outputs": [],
   "source": [
    "class SVM(nn.Module) : \n",
    "    def __init__(self) : \n",
    "        super().__init__()\n",
    "        self.linear = nn.Linear(2,1)\n",
    "        \n",
    "    def forward(self, x) : \n",
    "        return self.linear(x)"
   ]
  },
  {
   "attachments": {},
   "cell_type": "markdown",
   "id": "bfbb6e9a",
   "metadata": {},
   "source": [
    "## 모델, 손실 함수, 옵티마이저 생성"
   ]
  },
  {
   "cell_type": "code",
   "execution_count": 4,
   "id": "c527f56a",
   "metadata": {},
   "outputs": [],
   "source": [
    "model = SVM()\n",
    "criterion = nn.HingeEmbeddingLoss()     # 양성 1 음성 -1 클래스로 지정되어 있어야 사용 가능 \n",
    "                                        # (주어진 입력과 대상 사이의 경계선 손실값 계산 하는 함수) -> 이진 분류 문제에서 사용 \n",
    "optimizer = optim.SGD(model.parameters(), lr=0.001)"
   ]
  },
  {
   "attachments": {},
   "cell_type": "markdown",
   "id": "a1b7063b",
   "metadata": {},
   "source": [
    "## 모델 학습 Loop"
   ]
  },
  {
   "cell_type": "code",
   "execution_count": 5,
   "id": "2488ee0c",
   "metadata": {
    "collapsed": true
   },
   "outputs": [
    {
     "name": "stdout",
     "output_type": "stream",
     "text": [
      "Epoch [10 / 50] , Loss : -0.064002\n",
      "Epoch [20 / 50] , Loss : -0.076877\n",
      "Epoch [30 / 50] , Loss : -0.088703\n",
      "Epoch [40 / 50] , Loss : -0.100443\n",
      "Epoch [50 / 50] , Loss : -0.112052\n",
      "Epoch [60 / 50] , Loss : -0.123598\n",
      "Epoch [70 / 50] , Loss : -0.134997\n",
      "Epoch [80 / 50] , Loss : -0.146376\n",
      "Epoch [90 / 50] , Loss : -0.157572\n",
      "Epoch [100 / 50] , Loss : -0.168768\n",
      "Epoch [110 / 50] , Loss : -0.179965\n",
      "Epoch [120 / 50] , Loss : -0.191104\n",
      "Epoch [130 / 50] , Loss : -0.202093\n",
      "Epoch [140 / 50] , Loss : -0.212919\n",
      "Epoch [150 / 50] , Loss : -0.223746\n",
      "Epoch [160 / 50] , Loss : -0.234572\n",
      "Epoch [170 / 50] , Loss : -0.245399\n",
      "Epoch [180 / 50] , Loss : -0.256225\n",
      "Epoch [190 / 50] , Loss : -0.267052\n",
      "Epoch [200 / 50] , Loss : -0.277878\n",
      "Epoch [210 / 50] , Loss : -0.288704\n",
      "Epoch [220 / 50] , Loss : -0.299349\n",
      "Epoch [230 / 50] , Loss : -0.309473\n",
      "Epoch [240 / 50] , Loss : -0.319597\n",
      "Epoch [250 / 50] , Loss : -0.329721\n",
      "Epoch [260 / 50] , Loss : -0.339845\n",
      "Epoch [270 / 50] , Loss : -0.349970\n",
      "Epoch [280 / 50] , Loss : -0.360094\n",
      "Epoch [290 / 50] , Loss : -0.370218\n",
      "Epoch [300 / 50] , Loss : -0.380342\n",
      "Epoch [310 / 50] , Loss : -0.390466\n",
      "Epoch [320 / 50] , Loss : -0.400591\n",
      "Epoch [330 / 50] , Loss : -0.410603\n",
      "Epoch [340 / 50] , Loss : -0.420603\n",
      "Epoch [350 / 50] , Loss : -0.430603\n",
      "Epoch [360 / 50] , Loss : -0.440602\n",
      "Epoch [370 / 50] , Loss : -0.450602\n",
      "Epoch [380 / 50] , Loss : -0.460602\n",
      "Epoch [390 / 50] , Loss : -0.470602\n",
      "Epoch [400 / 50] , Loss : -0.480602\n",
      "Epoch [410 / 50] , Loss : -0.490602\n",
      "Epoch [420 / 50] , Loss : -0.500602\n",
      "Epoch [430 / 50] , Loss : -0.510602\n",
      "Epoch [440 / 50] , Loss : -0.520602\n",
      "Epoch [450 / 50] , Loss : -0.530496\n",
      "Epoch [460 / 50] , Loss : -0.540379\n",
      "Epoch [470 / 50] , Loss : -0.550262\n",
      "Epoch [480 / 50] , Loss : -0.560145\n",
      "Epoch [490 / 50] , Loss : -0.570029\n",
      "Epoch [500 / 50] , Loss : -0.579912\n",
      "Epoch [510 / 50] , Loss : -0.589795\n",
      "Epoch [520 / 50] , Loss : -0.599678\n",
      "Epoch [530 / 50] , Loss : -0.609561\n",
      "Epoch [540 / 50] , Loss : -0.619444\n",
      "Epoch [550 / 50] , Loss : -0.629328\n",
      "Epoch [560 / 50] , Loss : -0.639211\n",
      "Epoch [570 / 50] , Loss : -0.649094\n",
      "Epoch [580 / 50] , Loss : -0.658977\n",
      "Epoch [590 / 50] , Loss : -0.668686\n",
      "Epoch [600 / 50] , Loss : -0.678240\n",
      "Epoch [610 / 50] , Loss : -0.687793\n",
      "Epoch [620 / 50] , Loss : -0.697347\n",
      "Epoch [630 / 50] , Loss : -0.706901\n",
      "Epoch [640 / 50] , Loss : -0.716455\n",
      "Epoch [650 / 50] , Loss : -0.726009\n",
      "Epoch [660 / 50] , Loss : -0.735563\n",
      "Epoch [670 / 50] , Loss : -0.745117\n",
      "Epoch [680 / 50] , Loss : -0.754671\n",
      "Epoch [690 / 50] , Loss : -0.764224\n",
      "Epoch [700 / 50] , Loss : -0.773778\n",
      "Epoch [710 / 50] , Loss : -0.783332\n",
      "Epoch [720 / 50] , Loss : -0.792886\n",
      "Epoch [730 / 50] , Loss : -0.802440\n",
      "Epoch [740 / 50] , Loss : -0.811994\n",
      "Epoch [750 / 50] , Loss : -0.821548\n",
      "Epoch [760 / 50] , Loss : -0.831101\n",
      "Epoch [770 / 50] , Loss : -0.840655\n",
      "Epoch [780 / 50] , Loss : -0.850209\n",
      "Epoch [790 / 50] , Loss : -0.859763\n",
      "Epoch [800 / 50] , Loss : -0.869317\n",
      "Epoch [810 / 50] , Loss : -0.878871\n",
      "Epoch [820 / 50] , Loss : -0.888425\n",
      "Epoch [830 / 50] , Loss : -0.897979\n",
      "Epoch [840 / 50] , Loss : -0.907533\n",
      "Epoch [850 / 50] , Loss : -0.917086\n",
      "Epoch [860 / 50] , Loss : -0.926640\n",
      "Epoch [870 / 50] , Loss : -0.936194\n",
      "Epoch [880 / 50] , Loss : -0.945748\n",
      "Epoch [890 / 50] , Loss : -0.955302\n",
      "Epoch [900 / 50] , Loss : -0.964856\n",
      "Epoch [910 / 50] , Loss : -0.974410\n",
      "Epoch [920 / 50] , Loss : -0.983963\n",
      "Epoch [930 / 50] , Loss : -0.993517\n",
      "Epoch [940 / 50] , Loss : -1.003071\n",
      "Epoch [950 / 50] , Loss : -1.012611\n",
      "Epoch [960 / 50] , Loss : -1.022093\n",
      "Epoch [970 / 50] , Loss : -1.031575\n",
      "Epoch [980 / 50] , Loss : -1.040917\n",
      "Epoch [990 / 50] , Loss : -1.050203\n",
      "Epoch [1000 / 50] , Loss : -1.059489\n"
     ]
    }
   ],
   "source": [
    "for epoch in range(1000) : \n",
    "    for inputs, targets in loader : \n",
    "        output = model(inputs)\n",
    "        loss = criterion(output.squeeze() , targets)\n",
    "        \n",
    "        optimizer.zero_grad()\n",
    "        loss.backward()\n",
    "        optimizer.step()\n",
    "        \n",
    "    if (epoch+1) % 10 == 0 : \n",
    "        print(f\"Epoch [{epoch + 1} / 50] , Loss : {loss.item():4f}\")"
   ]
  },
  {
   "attachments": {},
   "cell_type": "markdown",
   "id": "65ffa3fc",
   "metadata": {},
   "source": [
    "## 시각화 "
   ]
  },
  {
   "cell_type": "code",
   "execution_count": 6,
   "id": "83673882",
   "metadata": {},
   "outputs": [
    {
     "data": {
      "image/png": "[encoded data removed]",
      "text/plain": [
       "<Figure size 640x480 with 1 Axes>"
      ]
     },
     "metadata": {},
     "output_type": "display_data"
    }
   ],
   "source": [
    "# 결정 경계 시각화\n",
    "import matplotlib.pyplot as plt\n",
    "import numpy as np\n",
    "\n",
    "w = list(model.parameters())[0][0]\n",
    "b = list(model.parameters())[1].item()\n",
    "slope = (-w[0] / w[1]).detach().numpy()\n",
    "intercept = (-b / w[1]).detach().numpy()\n",
    "x_range = np.linspace(-3, 3, 100)\n",
    "y_range = slope * x_range + intercept\n",
    "\n",
    "plt.scatter(x[:, 0], x[:, 1], c=y, cmap=plt.cm.coolwarm)\n",
    "plt.plot(x_range, y_range, 'k-')\n",
    "plt.xlim(-3, 3)\n",
    "plt.ylim(-3, 3)\n",
    "\n",
    "plt.show()"
   ]
  }
 ],
 "metadata": {
  "kernelspec": {
   "display_name": "AI",
   "language": "python",
   "name": "ai"
  },
  "language_info": {
   "codemirror_mode": {
    "name": "ipython",
    "version": 3
   },
   "file_extension": ".py",
   "mimetype": "text/x-python",
   "name": "python",
   "nbconvert_exporter": "python",
   "pygments_lexer": "ipython3",
   "version": "3.8.12"
  }
 },
 "nbformat": 4,
 "nbformat_minor": 5
}
