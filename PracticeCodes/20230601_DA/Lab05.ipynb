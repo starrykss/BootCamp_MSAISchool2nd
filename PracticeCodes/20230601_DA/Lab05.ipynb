{
 "cells": [
  {
   "attachments": {},
   "cell_type": "markdown",
   "id": "07251e63",
   "metadata": {},
   "source": [
    "# Lab 05. 데이터 예시를 통한 공분산과 상관 행렬 계산 및 해석 실습\n",
    "---"
   ]
  },
  {
   "cell_type": "code",
   "execution_count": 1,
   "id": "45cd3f36",
   "metadata": {},
   "outputs": [],
   "source": [
    "import numpy as np"
   ]
  },
  {
   "attachments": {},
   "cell_type": "markdown",
   "id": "6b527445",
   "metadata": {},
   "source": [
    "- 예시 데이터를 생성한다."
   ]
  },
  {
   "cell_type": "code",
   "execution_count": 2,
   "id": "4fdfe29d",
   "metadata": {},
   "outputs": [],
   "source": [
    "# 예시 데이터 생성\n",
    "x = np.array([1, 2, 3, 4, 5])     # 변수 x의 값\n",
    "y = np.array([2, 4, 6, 8, 10])    # 변수 y의 값\n",
    "z = np.array([3, 6, 9, 12, 15])   # 변수 z의 값"
   ]
  },
  {
   "attachments": {},
   "cell_type": "markdown",
   "id": "b49af6fa",
   "metadata": {},
   "source": [
    "- 공분산을 계산해본다."
   ]
  },
  {
   "cell_type": "code",
   "execution_count": 3,
   "id": "b92b19ca",
   "metadata": {},
   "outputs": [
    {
     "name": "stdout",
     "output_type": "stream",
     "text": [
      "Covariance Matrix:\n",
      "[[ 2.5  5.   7.5]\n",
      " [ 5.  10.  15. ]\n",
      " [ 7.5 15.  22.5]]\n"
     ]
    }
   ],
   "source": [
    "# 공분산 계산\n",
    "cov_matrix = np.cov([x, y, z])\n",
    "\n",
    "print(\"Covariance Matrix:\")\n",
    "print(cov_matrix)"
   ]
  },
  {
   "attachments": {},
   "cell_type": "markdown",
   "id": "3434170c",
   "metadata": {},
   "source": [
    "- 상관 행렬을 계산해본다."
   ]
  },
  {
   "cell_type": "code",
   "execution_count": 4,
   "id": "53ed7d54",
   "metadata": {},
   "outputs": [
    {
     "name": "stdout",
     "output_type": "stream",
     "text": [
      "Correlation Matrix:\n",
      "[[1. 1. 1.]\n",
      " [1. 1. 1.]\n",
      " [1. 1. 1.]]\n"
     ]
    }
   ],
   "source": [
    "# 상관 행렬 계산\n",
    "cor_matrix = np.corrcoef([x, y, z])\n",
    "\n",
    "print(\"Correlation Matrix:\")\n",
    "print(cor_matrix)"
   ]
  },
  {
   "attachments": {},
   "cell_type": "markdown",
   "id": "45213722",
   "metadata": {},
   "source": [
    "- 다중 공선성을 판단해본다."
   ]
  },
  {
   "cell_type": "code",
   "execution_count": 5,
   "id": "38ac9c9f",
   "metadata": {},
   "outputs": [
    {
     "name": "stdout",
     "output_type": "stream",
     "text": [
      "Variables with high multicollinearity:\n",
      "Variable 1 and Variable 2\n",
      "Variable 1 and Variable 3\n",
      "Variable 2 and Variable 3\n"
     ]
    }
   ],
   "source": [
    "# 다중 공선성 판단\n",
    "threshold = 0.7    # 상관 계수의 임계값 설정\n",
    "\n",
    "print(\"Variables with high multicollinearity:\")\n",
    "for i in range(cor_matrix.shape[0]):\n",
    "    for j in range(i+1, cor_matrix.shape[1]):\n",
    "        if abs(cor_matrix[i, j]) > threshold:\n",
    "            print(f\"Variable {i + 1} and Variable {j + 1}\")"
   ]
  },
  {
   "attachments": {},
   "cell_type": "markdown",
   "id": "65ae828f",
   "metadata": {},
   "source": [
    "- 예시 데이터와 데이터 행렬을 생성한다."
   ]
  },
  {
   "cell_type": "code",
   "execution_count": 6,
   "id": "8364926c",
   "metadata": {},
   "outputs": [],
   "source": [
    "# 예시 데이터 생성\n",
    "x1 = np.random.normal(0, 1, 100)\n",
    "x2 = np.random.normal(0, 1, 100)\n",
    "x3 = np.random.normal(0, 1, 100)\n",
    "\n",
    "# 데이터 행렬 생성\n",
    "data = np.vstack([x1, x2, x3]).T"
   ]
  },
  {
   "attachments": {},
   "cell_type": "markdown",
   "id": "ed5651d3",
   "metadata": {},
   "source": [
    "- 상관 행렬을 계산해본다."
   ]
  },
  {
   "cell_type": "code",
   "execution_count": 7,
   "id": "93983f88",
   "metadata": {},
   "outputs": [],
   "source": [
    "# 상관 행렬 계산\n",
    "cor_matrix = np.corrcoef(data, rowvar=False)"
   ]
  },
  {
   "attachments": {},
   "cell_type": "markdown",
   "id": "e83fed6f",
   "metadata": {},
   "source": [
    "- 히트맵으로 상관 행렬을 시각화 해본다."
   ]
  },
  {
   "cell_type": "code",
   "execution_count": 8,
   "id": "e41771c4",
   "metadata": {},
   "outputs": [],
   "source": [
    "import seaborn as sns\n",
    "import matplotlib.pyplot as plt"
   ]
  },
  {
   "cell_type": "code",
   "execution_count": 9,
   "id": "276f9982",
   "metadata": {},
   "outputs": [
    {
     "data": {
      "image/png": "[encoded data removed]",
      "text/plain": [
       "<Figure size 800x600 with 2 Axes>"
      ]
     },
     "metadata": {},
     "output_type": "display_data"
    }
   ],
   "source": [
    "# 히트맵으로 상관 행렬 시각화\n",
    "plt.figure(figsize = (8, 6))\n",
    "sns.heatmap(cor_matrix, annot=True, cmap='coolwarm')\n",
    "plt.title('Correlation Matrix')\n",
    "\n",
    "plt.show()"
   ]
  },
  {
   "attachments": {},
   "cell_type": "markdown",
   "id": "3113ebc5",
   "metadata": {},
   "source": [
    "- 상관 계수의 절대값이 일정 임계값 이상인 변수를 선택한다."
   ]
  },
  {
   "cell_type": "code",
   "execution_count": 10,
   "id": "bf559789",
   "metadata": {},
   "outputs": [
    {
     "name": "stdout",
     "output_type": "stream",
     "text": [
      "[0, 1]\n"
     ]
    }
   ],
   "source": [
    "# 상관 계수의 절대값이 일정 임계값 이상인 변수 선택\n",
    "threshold = 0.1\n",
    "\n",
    "selected_vars = []\n",
    "for i in range(cor_matrix.shape[0]):\n",
    "    for j in range(i+1, cor_matrix.shape[1]):\n",
    "        if abs(cor_matrix[i, j]) > threshold:\n",
    "            selected_vars.extend([i, j])\n",
    "            \n",
    "print(selected_vars)"
   ]
  },
  {
   "attachments": {},
   "cell_type": "markdown",
   "id": "c0b42e87",
   "metadata": {},
   "source": [
    "- 선택된 변수들로 차원 축소된 데이터를 생성한다."
   ]
  },
  {
   "cell_type": "code",
   "execution_count": 11,
   "id": "a07f5429",
   "metadata": {},
   "outputs": [
    {
     "data": {
      "image/png": "[encoded data removed]",
      "text/plain": [
       "<Figure size 800x600 with 1 Axes>"
      ]
     },
     "metadata": {},
     "output_type": "display_data"
    }
   ],
   "source": [
    "# 선택된 변수들로 차원 축소된 데이터 생성\n",
    "if selected_vars:\n",
    "    reduced_data = data[:, list(set(selected_vars))]\n",
    "    \n",
    "    plt.figure(figsize=(8, 6))\n",
    "    plt.scatter(reduced_data[:, 0], reduced_data[:, 1])\n",
    "    plt.xlabel('Reduced Variable 1')\n",
    "    plt.ylabel('Reduced Variable 2')\n",
    "    plt.title('Dimensionality Reduced Data')\n",
    "    \n",
    "    plt.show()\n",
    "else:\n",
    "    print('데이터셋에서 선택된 변수가 없어 차원 축소가 이루어지지 않았음.')"
   ]
  }
 ],
 "metadata": {
  "kernelspec": {
   "display_name": "myEnv",
   "language": "python",
   "name": "myenv"
  },
  "language_info": {
   "codemirror_mode": {
    "name": "ipython",
    "version": 3
   },
   "file_extension": ".py",
   "mimetype": "text/x-python",
   "name": "python",
   "nbconvert_exporter": "python",
   "pygments_lexer": "ipython3",
   "version": "3.7.12"
  }
 },
 "nbformat": 4,
 "nbformat_minor": 5
}
