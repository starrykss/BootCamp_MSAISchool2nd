{
 "cells": [
  {
   "attachments": {},
   "cell_type": "markdown",
   "id": "5af5aeec",
   "metadata": {},
   "source": [
    "# Lab 10. 주성분 분석(PCA) 실습\n",
    "---\n",
    "\n",
    "- Python과 Scikit-Learn 라이브러리를 사용하여 PCA 실습을 해보자."
   ]
  },
  {
   "cell_type": "code",
   "execution_count": 1,
   "id": "e300a034",
   "metadata": {},
   "outputs": [],
   "source": [
    "import numpy as np\n",
    "from sklearn.decomposition import PCA\n",
    "import matplotlib.pyplot as plt"
   ]
  },
  {
   "attachments": {},
   "cell_type": "markdown",
   "id": "33e75234",
   "metadata": {},
   "source": [
    "- 예제 데이터를 생성한다."
   ]
  },
  {
   "cell_type": "code",
   "execution_count": 2,
   "id": "5b0f5286",
   "metadata": {},
   "outputs": [],
   "source": [
    "# 예제 데이터 생성\n",
    "x = np.random.rand(100, 3)    # 100개의 샘플과 3개의 변수로 구성된 데이터"
   ]
  },
  {
   "attachments": {},
   "cell_type": "markdown",
   "id": "cf245467",
   "metadata": {},
   "source": [
    "- 주성분을 2개로 설정하여 PCA 모델을 생성하고 핏해본다. "
   ]
  },
  {
   "cell_type": "code",
   "execution_count": 3,
   "id": "3f5a80e3",
   "metadata": {},
   "outputs": [
    {
     "data": {
      "text/plain": [
       "PCA(n_components=2)"
      ]
     },
     "execution_count": 3,
     "metadata": {},
     "output_type": "execute_result"
    }
   ],
   "source": [
    "# PCA 모델 생성 및 적합\n",
    "pca = PCA(n_components = 2)   # 주성분을 2개로 설정\n",
    "pca.fit(x)"
   ]
  },
  {
   "attachments": {},
   "cell_type": "markdown",
   "id": "b3f6ee18",
   "metadata": {},
   "source": [
    "- 데이터를 변환해본다."
   ]
  },
  {
   "cell_type": "code",
   "execution_count": 4,
   "id": "2bd47050",
   "metadata": {},
   "outputs": [],
   "source": [
    "# 변환된 데이터\n",
    "transformed_data = pca.transform(x)"
   ]
  },
  {
   "attachments": {},
   "cell_type": "markdown",
   "id": "fd9db5e7",
   "metadata": {},
   "source": [
    "- 주성분의 설명력을 확인해본다."
   ]
  },
  {
   "cell_type": "code",
   "execution_count": 5,
   "id": "fc4cdb92",
   "metadata": {},
   "outputs": [
    {
     "name": "stdout",
     "output_type": "stream",
     "text": [
      "주성분의 설명력 : [0.3650918  0.33289589]\n"
     ]
    }
   ],
   "source": [
    "# 주성분의 설명력 확인\n",
    "explained_var_ratio = pca.explained_variance_ratio_\n",
    "\n",
    "print(f\"주성분의 설명력 : {explained_var_ratio}\")"
   ]
  },
  {
   "attachments": {},
   "cell_type": "markdown",
   "id": "bb18a393",
   "metadata": {},
   "source": [
    "- 주성분의 가중치를 확인해본다."
   ]
  },
  {
   "cell_type": "code",
   "execution_count": 6,
   "id": "6d51de89",
   "metadata": {},
   "outputs": [
    {
     "name": "stdout",
     "output_type": "stream",
     "text": [
      "주성분의 가중치:\n",
      " [[ 0.70454431  0.11091142 -0.70093935]\n",
      " [ 0.6549382  -0.48195277  0.58204595]]\n"
     ]
    }
   ],
   "source": [
    "# 주성분의 가중치 확인\n",
    "components = pca.components_\n",
    "print(f\"주성분의 가중치:\\n {components}\")"
   ]
  },
  {
   "attachments": {},
   "cell_type": "markdown",
   "id": "7f64b418",
   "metadata": {},
   "source": [
    "- 변환된 데이터를 시각화 해본다."
   ]
  },
  {
   "cell_type": "code",
   "execution_count": 7,
   "id": "d181eafe",
   "metadata": {},
   "outputs": [
    {
     "data": {
      "image/png": "[encoded data removed]",
      "text/plain": [
       "<Figure size 640x480 with 1 Axes>"
      ]
     },
     "metadata": {},
     "output_type": "display_data"
    }
   ],
   "source": [
    "# 변환된 데이터 시각화\n",
    "plt.scatter(transformed_data[:, 0], transformed_data[:,1])\n",
    "plt.title('PCA result')\n",
    "\n",
    "plt.show()"
   ]
  }
 ],
 "metadata": {
  "kernelspec": {
   "display_name": "myEnv",
   "language": "python",
   "name": "myenv"
  },
  "language_info": {
   "codemirror_mode": {
    "name": "ipython",
    "version": 3
   },
   "file_extension": ".py",
   "mimetype": "text/x-python",
   "name": "python",
   "nbconvert_exporter": "python",
   "pygments_lexer": "ipython3",
   "version": "3.7.12"
  }
 },
 "nbformat": 4,
 "nbformat_minor": 5
}
