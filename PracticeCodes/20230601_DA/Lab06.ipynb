{
 "cells": [
  {
   "attachments": {},
   "cell_type": "markdown",
   "id": "26694b13",
   "metadata": {},
   "source": [
    "# Lab 06. seaborn 라이브러리를 이용하여 상관 계수를 구해보는 실습\n",
    "---"
   ]
  },
  {
   "cell_type": "code",
   "execution_count": 1,
   "id": "55f662eb",
   "metadata": {},
   "outputs": [],
   "source": [
    "import seaborn as sns"
   ]
  },
  {
   "attachments": {},
   "cell_type": "markdown",
   "id": "a0b1fb8f",
   "metadata": {},
   "source": [
    "- 데이터를 불러와서 상관 관계 계수를 구해본다."
   ]
  },
  {
   "cell_type": "code",
   "execution_count": 2,
   "id": "0d8f8906",
   "metadata": {},
   "outputs": [
    {
     "name": "stdout",
     "output_type": "stream",
     "text": [
      "Pearson correlation coefficient :  0.6757341092113647\n"
     ]
    }
   ],
   "source": [
    "tips = sns.load_dataset('tips')\n",
    "corr = tips['total_bill'].corr(tips['tip'], method='pearson')\n",
    "\n",
    "print('Pearson correlation coefficient : ', corr)"
   ]
  },
  {
   "cell_type": "code",
   "execution_count": 3,
   "id": "161e322e",
   "metadata": {},
   "outputs": [
    {
     "name": "stdout",
     "output_type": "stream",
     "text": [
      "<class 'pandas.core.frame.DataFrame'>\n"
     ]
    }
   ],
   "source": [
    "print(type(tips))"
   ]
  }
 ],
 "metadata": {
  "kernelspec": {
   "display_name": "myEnv",
   "language": "python",
   "name": "myenv"
  },
  "language_info": {
   "codemirror_mode": {
    "name": "ipython",
    "version": 3
   },
   "file_extension": ".py",
   "mimetype": "text/x-python",
   "name": "python",
   "nbconvert_exporter": "python",
   "pygments_lexer": "ipython3",
   "version": "3.7.12"
  }
 },
 "nbformat": 4,
 "nbformat_minor": 5
}
