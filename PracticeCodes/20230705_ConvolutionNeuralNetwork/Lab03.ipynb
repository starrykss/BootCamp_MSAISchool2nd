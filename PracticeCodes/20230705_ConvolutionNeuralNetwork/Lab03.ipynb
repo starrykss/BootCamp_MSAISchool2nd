{
 "cells": [
  {
   "cell_type": "markdown",
   "id": "1896b4d1",
   "metadata": {},
   "source": [
    "# Lab 03. Mixup 실습\n",
    "---"
   ]
  },
  {
   "cell_type": "code",
   "execution_count": 1,
   "id": "8a8e187f",
   "metadata": {},
   "outputs": [],
   "source": [
    "import torch\n",
    "import torch.nn as nn\n",
    "import torch.optim as optim\n",
    "import matplotlib.pyplot as plt\n",
    "import numpy as np \n",
    "\n",
    "from torch.utils.data import DataLoader\n",
    "from torchvision import datasets, transforms"
   ]
  },
  {
   "cell_type": "markdown",
   "id": "2e76d34a",
   "metadata": {},
   "source": [
    "## 모델 정의 "
   ]
  },
  {
   "cell_type": "code",
   "execution_count": 2,
   "id": "068366b0",
   "metadata": {},
   "outputs": [],
   "source": [
    "class MyModel(nn.Module) : \n",
    "    def __init__(self) :\n",
    "        super(MyModel, self).__init__()\n",
    "        self.conv1 = nn.Conv2d(3, 16, kernel_size=3, stride=1, padding=1)\n",
    "        self.relu = nn.ReLU()\n",
    "        self.flatten = nn.Flatten()\n",
    "        \n",
    "        self.fc1 = nn.Linear(16 * 32 * 32, 128)\n",
    "        self.fc2 = nn.Linear(128, 10)\n",
    "    \n",
    "    def forward(self, x) :\n",
    "        x = self.conv1(x)\n",
    "        x = self.relu(x)\n",
    "        x = self.flatten(x)\n",
    "        \n",
    "        x = self.fc1(x)\n",
    "        x = self.fc2(x)\n",
    "        \n",
    "        return x"
   ]
  },
  {
   "cell_type": "markdown",
   "id": "30e633ef",
   "metadata": {},
   "source": [
    "## 데이터 정의"
   ]
  },
  {
   "cell_type": "code",
   "execution_count": 3,
   "id": "8d1218a3",
   "metadata": {},
   "outputs": [
    {
     "name": "stdout",
     "output_type": "stream",
     "text": [
      "Files already downloaded and verified\n"
     ]
    }
   ],
   "source": [
    "train_transform = transforms.Compose([\n",
    "    transforms.RandomCrop(32, padding=4),\n",
    "    transforms.RandomHorizontalFlip(),\n",
    "    transforms.RandomVerticalFlip(),\n",
    "    transforms.AutoAugment(),\n",
    "    transforms.ToTensor(),\n",
    "    transforms.Normalize((0.5, 0.5, 0.5), (0.3, 0.3, 0.3))\n",
    "])\n",
    "\n",
    "train_dataset = datasets.CIFAR10(root='./CIFAR10_data', train=True, transform = train_transform, download=True)\n",
    "train_loader = DataLoader(train_dataset, batch_size=64, shuffle=True)"
   ]
  },
  {
   "cell_type": "code",
   "execution_count": 4,
   "id": "1a74646d",
   "metadata": {},
   "outputs": [],
   "source": [
    "model = MyModel()\n",
    "\n",
    "criterion = nn.CrossEntropyLoss()\n",
    "optimizer = optim.SGD(model.parameters(), lr=0.01)"
   ]
  },
  {
   "cell_type": "code",
   "execution_count": 5,
   "id": "74bee07c",
   "metadata": {},
   "outputs": [],
   "source": [
    "def mixup_data(x, y, alpha=1.0) :\n",
    "    batch_size = x.size(0)    # 입력 데이터 x 배치 사이즈 \n",
    "    lam = torch.rand(batch_size, 1, 1, 1)    # 0 과 1사이의 값 (랜덤한) 갖는 lam -> Mixup 비율 \n",
    "    lam = torch.max(lam, 1 - lam)    # 최소값 0.5 이상 유지  lam, 1 - lam -> 최대값 선택 \n",
    "    mixed_x = lam * x + (1 - lam) * x.flip(dims=[0, 2, 3]) \n",
    "    \"\"\"\n",
    "    lam * x : x 값에 lam 곱하기 -> x.flip(dims=[0, 2, 3]) : 배치 차원을 기준으로 뒤집기 -> (1 - lam) 비율을 곱하기\n",
    "    \"\"\"\n",
    "    \n",
    "    indices = torch.randperm(batch_size)    # batch_size 범위에서 랜덤한 정수 생성\n",
    "    mixed_y = lam.squeeze() * y + ( 1 - lam.squeeze()) * y[indices] \n",
    "    \"\"\"\n",
    "    lam.squeeze() * y -> y 라벨에 lam 비율값 곱해줌.\n",
    "    (1 - lam.squeeze()) * y[indices] -> 랜덤한 라벨 y 에 1 - lam.squeeze())(비율) 곱하기\n",
    "    \"\"\"\n",
    "    mixed_y = mixed_y.type(torch.long) # 타입변환 \n",
    "    \n",
    "    return mixed_x, mixed_y"
   ]
  },
  {
   "cell_type": "code",
   "execution_count": 6,
   "id": "87a10dd8",
   "metadata": {},
   "outputs": [],
   "source": [
    "def plot_images(images, labels, title) : \n",
    "    fig, axes = plt.subplots(2, 5 , figsize=(12,6))\n",
    "    fig.suptitle(title, fontsize=16)\n",
    "    labels = labels.numpy()\n",
    "    for i, ax in enumerate(axes.flat) :\n",
    "        image = images[i].squeeze()\n",
    "        ax.imshow(image, cmap='gray')\n",
    "        ax.set_title(f\"Label:{labels[i]}\")\n",
    "        ax.axis('off')\n",
    "        \n",
    "    plt.show()"
   ]
  },
  {
   "cell_type": "markdown",
   "id": "ae3dd7f5",
   "metadata": {},
   "source": [
    "## 학습 Loop 만들기 "
   ]
  },
  {
   "cell_type": "code",
   "execution_count": null,
   "id": "bdc4adb5",
   "metadata": {},
   "outputs": [
    {
     "name": "stderr",
     "output_type": "stream",
     "text": [
      "Clipping input data to the valid range for imshow with RGB data ([0..1] for floats or [0..255] for integers).\n",
      "Clipping input data to the valid range for imshow with RGB data ([0..1] for floats or [0..255] for integers).\n",
      "Clipping input data to the valid range for imshow with RGB data ([0..1] for floats or [0..255] for integers).\n",
      "Clipping input data to the valid range for imshow with RGB data ([0..1] for floats or [0..255] for integers).\n",
      "Clipping input data to the valid range for imshow with RGB data ([0..1] for floats or [0..255] for integers).\n",
      "Clipping input data to the valid range for imshow with RGB data ([0..1] for floats or [0..255] for integers).\n",
      "Clipping input data to the valid range for imshow with RGB data ([0..1] for floats or [0..255] for integers).\n",
      "Clipping input data to the valid range for imshow with RGB data ([0..1] for floats or [0..255] for integers).\n",
      "Clipping input data to the valid range for imshow with RGB data ([0..1] for floats or [0..255] for integers).\n",
      "Clipping input data to the valid range for imshow with RGB data ([0..1] for floats or [0..255] for integers).\n"
     ]
    },
    {
     "data": {
      "image/png": "[encoded data removed]",
      "text/plain": [
       "<Figure size 1200x600 with 10 Axes>"
      ]
     },
     "metadata": {},
     "output_type": "display_data"
    }
   ],
   "source": [
    "num_epochs = 10\n",
    "\n",
    "train_losses_no_mixup = []\n",
    "train_losses_with_mixup = []\n",
    "\n",
    "end_idx = 0\n",
    "for epoch in range(num_epochs) : \n",
    "    train_loss_no = 0.0\n",
    "    train_loss = 0.0\n",
    "    \n",
    "    for inputs, labels in train_loader : \n",
    "        optimizer.zero_grad()\n",
    "        \n",
    "        images_temp, labels_tmep = inputs, labels\n",
    "        \n",
    "        inputs, labels = mixup_data(inputs, labels)\n",
    "        \n",
    "        mixed_images = inputs.cpu().numpy()\n",
    "        mixed_images = np.transpose(mixed_images, (0, 2, 3, 1))\n",
    "        mixed_images = np.squeeze(mixed_images)\n",
    "        \n",
    "        if end_idx == 0 :\n",
    "            plot_images(mixed_images, labels.squeeze(), \"Mixed Image with label smothing\")\n",
    "            end_idx = 1 \n",
    "        \n",
    "        outputs_no_mixup = model(images_temp)\n",
    "        outputs_mixup = model(inputs)\n",
    "        \n",
    "        labels = torch.squeeze(labels) # conver lables to 1D tensor \n",
    "        \n",
    "        loss_no_mixup = criterion(outputs_no_mixup, labels)\n",
    "        \n",
    "        loss_mixup = criterion(outputs_mixup, labels)\n",
    "        \n",
    "        loss_no_mixup.backward()\n",
    "        loss_mixup.backward()\n",
    "        \n",
    "        optimizer.step()\n",
    "        \n",
    "        train_loss_no += loss_no_mixup.item()\n",
    "        train_loss += loss_mixup.item()\n",
    "        \n",
    "    # 에포크 마다 손실 기록 \n",
    "    train_losses_no_mixup.append(train_loss_no / len(train_loader))\n",
    "    train_losses_with_mixup.append(train_loss / len(train_loader))"
   ]
  },
  {
   "cell_type": "code",
   "execution_count": null,
   "id": "ee900c07",
   "metadata": {},
   "outputs": [],
   "source": [
    "epochs = range(1, num_epochs +1 )\n",
    "\n",
    "plt.plot(epochs, train_losses_no_mixup, label='No Mixed')\n",
    "plt.plot(epochs, train_losses_with_mixup, label='Mixed')\n",
    "plt.xlabel('Epoch')\n",
    "plt.ylabel('loss')\n",
    "plt.legend()\n",
    "plt.show()"
   ]
  }
 ],
 "metadata": {
  "kernelspec": {
   "display_name": "AI",
   "language": "python",
   "name": "ai"
  },
  "language_info": {
   "codemirror_mode": {
    "name": "ipython",
    "version": 3
   },
   "file_extension": ".py",
   "mimetype": "text/x-python",
   "name": "python",
   "nbconvert_exporter": "python",
   "pygments_lexer": "ipython3",
   "version": "3.8.12"
  }
 },
 "nbformat": 4,
 "nbformat_minor": 5
}
