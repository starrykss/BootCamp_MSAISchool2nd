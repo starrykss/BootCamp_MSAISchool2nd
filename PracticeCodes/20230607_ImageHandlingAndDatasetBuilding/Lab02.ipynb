{
 "cells": [
  {
   "attachments": {},
   "cell_type": "markdown",
   "id": "eb93cfb6",
   "metadata": {},
   "source": [
    "# Lab 02. Numpy 활용\n",
    "---"
   ]
  },
  {
   "attachments": {},
   "cell_type": "markdown",
   "id": "84062395",
   "metadata": {},
   "source": [
    "## 단일 객체 저장 및 불러오기"
   ]
  },
  {
   "cell_type": "code",
   "execution_count": 1,
   "id": "5e835a3e",
   "metadata": {},
   "outputs": [],
   "source": [
    "import numpy as np\n",
    "import os "
   ]
  },
  {
   "cell_type": "code",
   "execution_count": 2,
   "id": "51921728",
   "metadata": {},
   "outputs": [
    {
     "name": "stdout",
     "output_type": "stream",
     "text": [
      "[1 2 3 4 5 6 7 8 9]\n"
     ]
    }
   ],
   "source": [
    "# 단일 객체 생성\n",
    "array = np.arange(1, 10)\n",
    "print(array)"
   ]
  },
  {
   "attachments": {},
   "cell_type": "markdown",
   "id": "af57ba8b",
   "metadata": {},
   "source": [
    "### Numpy 형태로 저장"
   ]
  },
  {
   "cell_type": "code",
   "execution_count": 3,
   "id": "72a8db1d",
   "metadata": {},
   "outputs": [],
   "source": [
    "os.makedirs(\"./data\", exist_ok=True)\n",
    "np.save(\"./data/save.npy\", array)"
   ]
  },
  {
   "attachments": {},
   "cell_type": "markdown",
   "id": "0a2ebab9",
   "metadata": {},
   "source": [
    "### Numpy 데이터 불러오기"
   ]
  },
  {
   "cell_type": "code",
   "execution_count": 4,
   "id": "fe868f47",
   "metadata": {},
   "outputs": [
    {
     "name": "stdout",
     "output_type": "stream",
     "text": [
      "[1 2 3 4 5 6 7 8 9]\n"
     ]
    }
   ],
   "source": [
    "result = np.load(\"./data/save.npy\")\n",
    "\n",
    "print(result)"
   ]
  },
  {
   "attachments": {},
   "cell_type": "markdown",
   "id": "6b479f65",
   "metadata": {},
   "source": [
    "## 복수 객체 저장 및 불러오기"
   ]
  },
  {
   "cell_type": "code",
   "execution_count": 5,
   "id": "fd674ef6",
   "metadata": {},
   "outputs": [],
   "source": [
    "# 복수 객체 생성 \n",
    "array01 = np.arange(0,10)\n",
    "array02 = np.arange(10,20)\n",
    "array03 = np.arange(20,30)"
   ]
  },
  {
   "attachments": {},
   "cell_type": "markdown",
   "id": "e7fee5a4",
   "metadata": {},
   "source": [
    "### Numpy 저장"
   ]
  },
  {
   "cell_type": "code",
   "execution_count": 6,
   "id": "7fc587e3",
   "metadata": {},
   "outputs": [],
   "source": [
    "np.savez(\"./data/mul_save.npz\", a=array01, array2=array02, array3=array03)"
   ]
  },
  {
   "attachments": {},
   "cell_type": "markdown",
   "id": "d4331b4b",
   "metadata": {},
   "source": [
    "### Numpy 불러오기 "
   ]
  },
  {
   "cell_type": "code",
   "execution_count": 7,
   "id": "7cc0aaf6",
   "metadata": {},
   "outputs": [
    {
     "name": "stdout",
     "output_type": "stream",
     "text": [
      "[0 1 2 3 4 5 6 7 8 9]\n",
      "[10 11 12 13 14 15 16 17 18 19]\n"
     ]
    }
   ],
   "source": [
    "data = np.load(\"./data/mul_save.npz\")\n",
    "\n",
    "result01 = data['a']\n",
    "result02 = data['array2']\n",
    "\n",
    "print(result01)\n",
    "print(result02)"
   ]
  }
 ],
 "metadata": {
  "kernelspec": {
   "display_name": "AI",
   "language": "python",
   "name": "ai"
  },
  "language_info": {
   "codemirror_mode": {
    "name": "ipython",
    "version": 3
   },
   "file_extension": ".py",
   "mimetype": "text/x-python",
   "name": "python",
   "nbconvert_exporter": "python",
   "pygments_lexer": "ipython3",
   "version": "3.8.12"
  }
 },
 "nbformat": 4,
 "nbformat_minor": 5
}
