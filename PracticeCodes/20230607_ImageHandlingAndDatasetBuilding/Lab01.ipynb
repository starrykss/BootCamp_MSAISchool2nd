{
 "cells": [
  {
   "attachments": {},
   "cell_type": "markdown",
   "id": "e4cbc3d5",
   "metadata": {},
   "source": [
    "# Lab 01. 날짜 데이터를 여러 특성으로 분할 \n",
    "---\n",
    "\n",
    "- 날짜와 시간의 열로부터 년/월/일/시/분에 해당하는 특성을 만들어보자."
   ]
  },
  {
   "cell_type": "code",
   "execution_count": 1,
   "id": "ec5eee6d",
   "metadata": {},
   "outputs": [],
   "source": [
    "import pandas as pd "
   ]
  },
  {
   "cell_type": "code",
   "execution_count": 2,
   "id": "a807ffd7",
   "metadata": {},
   "outputs": [
    {
     "name": "stdout",
     "output_type": "stream",
     "text": [
      "        date\n",
      "0 2023-01-01\n",
      "1 2023-01-08\n",
      "2 2023-01-15\n",
      "3 2023-01-22\n",
      "4 2023-01-29\n",
      "5 2023-02-05\n",
      "6 2023-02-12\n",
      "7 2023-02-19\n",
      "8 2023-02-26\n",
      "9 2023-03-05\n"
     ]
    }
   ],
   "source": [
    "dateframe = pd.DataFrame()\n",
    "\n",
    "# 5개의 날짜 만들기 \n",
    "dateframe['date'] = pd.date_range('1/1/2023', periods=10, freq='W')\n",
    "\n",
    "print(dateframe)"
   ]
  },
  {
   "attachments": {},
   "cell_type": "markdown",
   "id": "7a8d8409",
   "metadata": {},
   "source": [
    "## 년/월/일/시/분에 대한 특성 만들기"
   ]
  },
  {
   "cell_type": "code",
   "execution_count": 3,
   "id": "4408bd91",
   "metadata": {},
   "outputs": [
    {
     "name": "stdout",
     "output_type": "stream",
     "text": [
      "        date  year  month  day  hour  minute\n",
      "0 2023-01-01  2023      1    1     0       0\n",
      "1 2023-01-08  2023      1    8     0       0\n",
      "2 2023-01-15  2023      1   15     0       0\n",
      "3 2023-01-22  2023      1   22     0       0\n",
      "4 2023-01-29  2023      1   29     0       0\n",
      "5 2023-02-05  2023      2    5     0       0\n",
      "6 2023-02-12  2023      2   12     0       0\n",
      "7 2023-02-19  2023      2   19     0       0\n",
      "8 2023-02-26  2023      2   26     0       0\n",
      "9 2023-03-05  2023      3    5     0       0\n"
     ]
    }
   ],
   "source": [
    "dateframe['year'] = dateframe['date'].dt.year\n",
    "dateframe['month'] = dateframe['date'].dt.month\n",
    "dateframe['day'] = dateframe['date'].dt.day\n",
    "dateframe['hour'] = dateframe['date'].dt.hour\n",
    "dateframe['minute'] = dateframe['date'].dt.minute\n",
    "\n",
    "print(dateframe)"
   ]
  },
  {
   "attachments": {},
   "cell_type": "markdown",
   "id": "79bbbc20",
   "metadata": {},
   "source": [
    "## 날짜 간의 차이 계산하기\n",
    "\n",
    "- 판다스의 `TimeDelta` 데이터 타입을 사용하면, 두 지점 사이의 시간 변화를 기록한 특성을 계산할 수 있다."
   ]
  },
  {
   "cell_type": "code",
   "execution_count": 4,
   "id": "d1724135",
   "metadata": {},
   "outputs": [
    {
     "name": "stdout",
     "output_type": "stream",
     "text": [
      "0   2023-01-01\n",
      "1   2023-01-04\n",
      "Name: Arrived, dtype: datetime64[ns]\n",
      "0   2023-01-01\n",
      "1   2023-01-06\n",
      "Name: Left, dtype: datetime64[ns]\n"
     ]
    }
   ],
   "source": [
    "date_frame = pd.DataFrame()\n",
    "\n",
    "date_frame['Arrived'] = [pd.Timestamp('01-01-2023'), pd.Timestamp('01-04-2023')]\n",
    "date_frame['Left'] = [pd.Timestamp('01-01-2023'), pd.Timestamp('01-06-2023')]\n",
    "\n",
    "print(date_frame['Arrived'])\n",
    "print(date_frame['Left'])"
   ]
  },
  {
   "cell_type": "code",
   "execution_count": 5,
   "id": "ab0cb801",
   "metadata": {},
   "outputs": [
    {
     "data": {
      "text/plain": [
       "0    0\n",
       "1    2\n",
       "dtype: int64"
      ]
     },
     "execution_count": 5,
     "metadata": {},
     "output_type": "execute_result"
    }
   ],
   "source": [
    "# 특성 사이의 차이를 계산 \n",
    "date_frame['Left'] - date_frame['Arrived']\n",
    "\n",
    "pd.Series(delta.days for delta in (date_frame['Left'] - date_frame['Arrived']))"
   ]
  },
  {
   "attachments": {},
   "cell_type": "markdown",
   "id": "b01886d5",
   "metadata": {},
   "source": [
    "## 시차 특성 \n",
    "\n",
    "- 판다스의 `Shift`를 사용하여 `n`기간 만큼 차이가 나는 시차 특성을 만들어보자. "
   ]
  },
  {
   "cell_type": "code",
   "execution_count": 6,
   "id": "2f3cd6cf",
   "metadata": {},
   "outputs": [
    {
     "name": "stdout",
     "output_type": "stream",
     "text": [
      "       dates  stock_price  previous_days_stock_price\n",
      "0 2023-01-01          1.1                        NaN\n",
      "1 2023-01-02          2.2                        NaN\n",
      "2 2023-01-03          3.3                        NaN\n",
      "3 2023-01-04          4.4                        1.1\n",
      "4 2023-01-05          5.5                        2.2\n"
     ]
    }
   ],
   "source": [
    "date_frame_temp = pd.DataFrame()\n",
    "\n",
    "# 날짜 데이터 생성\n",
    "date_frame_temp['dates'] = pd.date_range('1/1/2023', periods=5, freq='D')\n",
    "date_frame_temp['stock_price'] = [1.1, 2.2, 3.3, 4.4, 5.5]\n",
    "\n",
    "date_frame_temp['previous_days_stock_price'] = date_frame_temp['stock_price'].shift(3)\n",
    "\n",
    "print(date_frame_temp)"
   ]
  },
  {
   "attachments": {},
   "cell_type": "markdown",
   "id": "b4c7aff4",
   "metadata": {},
   "source": [
    "## 이동 시간 윈도우 사용하기"
   ]
  },
  {
   "cell_type": "code",
   "execution_count": 7,
   "id": "6b6f2552",
   "metadata": {},
   "outputs": [
    {
     "name": "stdout",
     "output_type": "stream",
     "text": [
      "            Stock_price\n",
      "2023-01-31            1\n",
      "2023-02-28            2\n",
      "2023-03-31            3\n",
      "2023-04-30            4\n",
      "2023-05-31            5\n"
     ]
    }
   ],
   "source": [
    "time_index = pd.date_range('01/01/2023', periods=5, freq='M')\n",
    "\n",
    "date_frame01 = pd.DataFrame(index = time_index)\n",
    "date_frame01['Stock_price'] = [1, 2, 3, 4, 5] \n",
    "\n",
    "print(date_frame01)"
   ]
  },
  {
   "cell_type": "code",
   "execution_count": 8,
   "id": "cdbf5acd",
   "metadata": {},
   "outputs": [
    {
     "name": "stdout",
     "output_type": "stream",
     "text": [
      "            Stock_price\n",
      "2023-01-31            1\n",
      "2023-02-28            2\n",
      "2023-03-31            3\n",
      "2023-04-30            4\n",
      "2023-05-31            5\n"
     ]
    }
   ],
   "source": [
    "# 이동 평균 게산 \n",
    "date_frame01.rolling(window=4).mean()\n",
    "date_frame01.ewm(alpha=1).mean()\n",
    "# alpha must satisfy: 0 < alpha <= 1\n",
    "\n",
    "print(date_frame01)"
   ]
  },
  {
   "attachments": {},
   "cell_type": "markdown",
   "id": "6d0ca92f",
   "metadata": {},
   "source": [
    "## 시계열 데이터에서 누락된 값 처리하기"
   ]
  },
  {
   "cell_type": "code",
   "execution_count": 9,
   "id": "574d4d1b",
   "metadata": {},
   "outputs": [],
   "source": [
    "import numpy as np "
   ]
  },
  {
   "cell_type": "code",
   "execution_count": 10,
   "id": "0b3a274b",
   "metadata": {},
   "outputs": [
    {
     "name": "stdout",
     "output_type": "stream",
     "text": [
      "Empty DataFrame\n",
      "Columns: []\n",
      "Index: [2023-01-31 00:00:00, 2023-02-28 00:00:00, 2023-03-31 00:00:00, 2023-04-30 00:00:00, 2023-05-31 00:00:00]\n"
     ]
    }
   ],
   "source": [
    "time_index = pd.date_range('01/01/2023', periods=5, freq='M')\n",
    "date_frame02 = pd.DataFrame(index=time_index)\n",
    "\n",
    "print(date_frame02)"
   ]
  },
  {
   "cell_type": "code",
   "execution_count": 11,
   "id": "b3542136",
   "metadata": {},
   "outputs": [
    {
     "name": "stdout",
     "output_type": "stream",
     "text": [
      "            Sales\n",
      "2023-01-31    1.0\n",
      "2023-02-28    2.0\n",
      "2023-03-31    NaN\n",
      "2023-04-30    6.0\n",
      "2023-05-31    8.0\n"
     ]
    }
   ],
   "source": [
    "date_frame02['Sales'] = [1.0, 2.0, np.nan, np.nan, 8.0]    # 누락값 있는 특성 생성\n",
    "\n",
    "date_frame02.interpolate()    # 누락된 값 보간 \n",
    "date_frame02.ffill()    # 앞쪽으로 채우기 \n",
    "date_frame02.bfill()    # 뒤쪽으로 채우기 \n",
    "date_frame02.interpolate(method='quadratic')    # 비선형의 경우의 보간 방법 \n",
    "# print(date_frame02.interpolate(limit=2, limit_direction='forward'))\n",
    "\n",
    "print(date_frame02.interpolate(limit=1, limit_direction='backward'))"
   ]
  }
 ],
 "metadata": {
  "kernelspec": {
   "display_name": "myEnv",
   "language": "python",
   "name": "myenv"
  },
  "language_info": {
   "codemirror_mode": {
    "name": "ipython",
    "version": 3
   },
   "file_extension": ".py",
   "mimetype": "text/x-python",
   "name": "python",
   "nbconvert_exporter": "python",
   "pygments_lexer": "ipython3",
   "version": "3.7.12"
  }
 },
 "nbformat": 4,
 "nbformat_minor": 5
}
