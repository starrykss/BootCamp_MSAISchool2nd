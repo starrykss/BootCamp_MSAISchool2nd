{
 "cells": [
  {
   "attachments": {},
   "cell_type": "markdown",
   "id": "5eb1b439",
   "metadata": {},
   "source": [
    "# Lab 04. Numpy를 이용하여 이미지를 저장할 때, 효율 비교하기\n",
    "---"
   ]
  },
  {
   "cell_type": "code",
   "execution_count": 1,
   "id": "8c6152ce",
   "metadata": {},
   "outputs": [
    {
     "name": "stdout",
     "output_type": "stream",
     "text": [
      "Requirement already satisfied: Pillow in c:\\users\\kss34\\anaconda3\\envs\\myenv\\lib\\site-packages (9.5.0)\n"
     ]
    }
   ],
   "source": [
    "!pip install Pillow"
   ]
  },
  {
   "cell_type": "code",
   "execution_count": 2,
   "id": "443b2642",
   "metadata": {},
   "outputs": [],
   "source": [
    "import numpy as np\n",
    "from PIL import Image"
   ]
  },
  {
   "attachments": {},
   "cell_type": "markdown",
   "id": "2c655e59",
   "metadata": {},
   "source": [
    "- 이미지를 불러오고 그레이 스케일로 변환한다."
   ]
  },
  {
   "cell_type": "code",
   "execution_count": 3,
   "id": "0f89fc5a",
   "metadata": {},
   "outputs": [
    {
     "name": "stdout",
     "output_type": "stream",
     "text": [
      "<PIL.Image.Image image mode=L size=310x162 at 0x2AF3AE2DD88>\n"
     ]
    }
   ],
   "source": [
    "# 이미지 불러오기 \n",
    "img = Image.open(\"./data/cat.png\").convert('L')    # 그레이 스케일 변환\n",
    "print(img)"
   ]
  },
  {
   "cell_type": "code",
   "execution_count": 4,
   "id": "91079b4a",
   "metadata": {},
   "outputs": [
    {
     "name": "stdout",
     "output_type": "stream",
     "text": [
      "[[222 222 222 ... 169 169 169]\n",
      " [223 223 223 ... 168 168 168]\n",
      " [223 223 223 ... 165 165 165]\n",
      " ...\n",
      " [219 219 222 ... 235 234 234]\n",
      " [221 222 224 ... 236 236 235]\n",
      " [221 222 224 ... 236 236 235]]\n"
     ]
    }
   ],
   "source": [
    "img_array = np.array(img)\n",
    "\n",
    "print(img_array)"
   ]
  },
  {
   "attachments": {},
   "cell_type": "markdown",
   "id": "f5ba1177",
   "metadata": {},
   "source": [
    "- 이미지를 저장하고, 저장한 이미지를 불러와본다."
   ]
  },
  {
   "cell_type": "code",
   "execution_count": 5,
   "id": "ad2929e6",
   "metadata": {},
   "outputs": [],
   "source": [
    "np.save(\"./data/pil_image.npy\", img_array)"
   ]
  },
  {
   "cell_type": "code",
   "execution_count": 6,
   "id": "757526e4",
   "metadata": {},
   "outputs": [
    {
     "name": "stdout",
     "output_type": "stream",
     "text": [
      "[[222 222 222 ... 169 169 169]\n",
      " [223 223 223 ... 168 168 168]\n",
      " [223 223 223 ... 165 165 165]\n",
      " ...\n",
      " [219 219 222 ... 235 234 234]\n",
      " [221 222 224 ... 236 236 235]\n",
      " [221 222 224 ... 236 236 235]]\n"
     ]
    }
   ],
   "source": [
    "img_array1 = np.load(\"./data/pil_image.npy\")\n",
    "\n",
    "print(img_array1)"
   ]
  },
  {
   "attachments": {},
   "cell_type": "markdown",
   "id": "343dffcc",
   "metadata": {},
   "source": [
    "- 다시 PIL 이미지로 변환한다."
   ]
  },
  {
   "cell_type": "code",
   "execution_count": 7,
   "id": "dcc61659",
   "metadata": {},
   "outputs": [],
   "source": [
    "# 다시 PIL 이미지로 변환 \n",
    "img = Image.fromarray(np.uint8(img_array1))\n",
    "img.save(\"./data/image_numpy.png\")"
   ]
  },
  {
   "attachments": {},
   "cell_type": "markdown",
   "id": "3dfe99e4",
   "metadata": {},
   "source": [
    "- 각 이미지 파일의 용량을 불러와서 출력한다."
   ]
  },
  {
   "cell_type": "code",
   "execution_count": 8,
   "id": "a5bbcc20",
   "metadata": {},
   "outputs": [
    {
     "name": "stdout",
     "output_type": "stream",
     "text": [
      "50348 bytes\n",
      "26813 bytes\n"
     ]
    }
   ],
   "source": [
    "import os \n",
    "\n",
    "np_save_size = os.path.getsize(\"./data/pil_image.npy\")\n",
    "pil_save_size = os.path.getsize(\"./data/image_numpy.png\")\n",
    "\n",
    "print(np_save_size, \"bytes\")\n",
    "print(pil_save_size, \"bytes\")"
   ]
  }
 ],
 "metadata": {
  "kernelspec": {
   "display_name": "myEnv",
   "language": "python",
   "name": "myenv"
  },
  "language_info": {
   "codemirror_mode": {
    "name": "ipython",
    "version": 3
   },
   "file_extension": ".py",
   "mimetype": "text/x-python",
   "name": "python",
   "nbconvert_exporter": "python",
   "pygments_lexer": "ipython3",
   "version": "3.7.12"
  }
 },
 "nbformat": 4,
 "nbformat_minor": 5
}
