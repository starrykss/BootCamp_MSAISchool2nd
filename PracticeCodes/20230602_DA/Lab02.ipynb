{
 "cells": [
  {
   "attachments": {},
   "cell_type": "markdown",
   "metadata": {},
   "source": [
    "# Lab 02. 군집 분석 실습\n",
    "---\n",
    "\n",
    "- Scikit-Learn 라이브러리를 사용하여 군집 분석을 해보자."
   ]
  },
  {
   "cell_type": "code",
   "execution_count": 1,
   "metadata": {},
   "outputs": [],
   "source": [
    "from sklearn.datasets import make_blobs\n",
    "from sklearn.cluster import KMeans"
   ]
  },
  {
   "attachments": {},
   "cell_type": "markdown",
   "metadata": {},
   "source": [
    "- 데이터를 랜덤으로 생성하고 K-means 알고리즘을 적용한다."
   ]
  },
  {
   "cell_type": "code",
   "execution_count": 2,
   "metadata": {},
   "outputs": [
    {
     "data": {
      "text/plain": [
       "KMeans(n_clusters=4, random_state=42)"
      ]
     },
     "execution_count": 2,
     "metadata": {},
     "output_type": "execute_result"
    }
   ],
   "source": [
    "# 데이터 랜덤 생성\n",
    "X, y = make_blobs(n_samples=100, centers=4, random_state=42)\n",
    "\n",
    "# K-means 알고리즘 적용\n",
    "kmeans = KMeans(n_clusters=4, random_state=42)\n",
    "kmeans.fit(X)"
   ]
  },
  {
   "attachments": {},
   "cell_type": "markdown",
   "metadata": {},
   "source": [
    "- 군집 중심성을 확인해본다."
   ]
  },
  {
   "cell_type": "code",
   "execution_count": 3,
   "metadata": {},
   "outputs": [
    {
     "name": "stdout",
     "output_type": "stream",
     "text": [
      "군집 중심점: \n",
      "[[ 4.44441765  2.02122148]\n",
      " [-8.8546122   7.54808242]\n",
      " [-6.9749469  -6.76471966]\n",
      " [-2.69827251  8.74341951]]\n"
     ]
    }
   ],
   "source": [
    "# 군집 중심점 확인\n",
    "controids = kmeans.cluster_centers_\n",
    "print(\"군집 중심점: \")\n",
    "print(controids)"
   ]
  },
  {
   "attachments": {},
   "cell_type": "markdown",
   "metadata": {},
   "source": [
    "- 군집 예측 결과를 확인해본다."
   ]
  },
  {
   "cell_type": "code",
   "execution_count": 4,
   "metadata": {},
   "outputs": [
    {
     "name": "stdout",
     "output_type": "stream",
     "text": [
      "군집 예측 결과: \n",
      "[1 2 3 2 1 2 0 0 0 3 3 2 2 0 3 1 1 0 1 1 3 1 1 0 0 3 0 1 1 2 2 0 2 1 3 3 3\n",
      " 3 0 0 1 0 2 3 3 2 2 1 1 0 0 0 0 2 1 1 3 3 0 3 2 0 1 2 1 1 2 1 0 2 0 2 1 3\n",
      " 2 1 2 1 2 2 0 2 3 1 3 3 3 2 3 0 0 2 3 2 3 3 3 0 1 0]\n"
     ]
    }
   ],
   "source": [
    "# 군집 예측 결과 확인\n",
    "labels = kmeans.labels_\n",
    "print(\"군집 예측 결과: \")\n",
    "print(labels)"
   ]
  },
  {
   "attachments": {},
   "cell_type": "markdown",
   "metadata": {},
   "source": [
    "- 결과를 해석해본다."
   ]
  },
  {
   "cell_type": "code",
   "execution_count": 5,
   "metadata": {},
   "outputs": [
    {
     "name": "stdout",
     "output_type": "stream",
     "text": [
      "군집 1: \n",
      "중심점: [4.44441765 2.02122148]\n",
      "데이터 개수: 25\n",
      "-----------------\n",
      "군집 2: \n",
      "중심점: [-8.8546122   7.54808242]\n",
      "데이터 개수: 25\n",
      "-----------------\n",
      "군집 3: \n",
      "중심점: [-6.9749469  -6.76471966]\n",
      "데이터 개수: 25\n",
      "-----------------\n",
      "군집 4: \n",
      "중심점: [-2.69827251  8.74341951]\n",
      "데이터 개수: 25\n",
      "-----------------\n"
     ]
    }
   ],
   "source": [
    "# 결과 해석\n",
    "for i in range(len(controids)):\n",
    "    cluster_data = X[labels == i]    # 해당 군집에 속하는 데이터\n",
    "    cluster_center = controids[i]    # 해당 군집의 중심점\n",
    "\n",
    "    print(f\"군집 {i + 1}: \")\n",
    "    print(f\"중심점: {cluster_center}\")\n",
    "    print(f\"데이터 개수: {len(cluster_data)}\")\n",
    "    print(\"-----------------\")"
   ]
  }
 ],
 "metadata": {
  "kernelspec": {
   "display_name": "myEnv",
   "language": "python",
   "name": "myenv"
  },
  "language_info": {
   "codemirror_mode": {
    "name": "ipython",
    "version": 3
   },
   "file_extension": ".py",
   "mimetype": "text/x-python",
   "name": "python",
   "nbconvert_exporter": "python",
   "pygments_lexer": "ipython3",
   "version": "3.7.12"
  },
  "orig_nbformat": 4
 },
 "nbformat": 4,
 "nbformat_minor": 2
}
