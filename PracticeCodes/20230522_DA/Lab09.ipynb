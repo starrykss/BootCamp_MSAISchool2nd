{
 "cells": [
  {
   "attachments": {},
   "cell_type": "markdown",
   "id": "9c01c8e9",
   "metadata": {},
   "source": [
    "# Lab 09. Chi-Square 검정 실습\n",
    "---"
   ]
  },
  {
   "cell_type": "code",
   "execution_count": 1,
   "id": "78927477",
   "metadata": {},
   "outputs": [],
   "source": [
    "import pandas as pd \n",
    "import numpy as np\n",
    "from scipy.stats import chi2_contingency"
   ]
  },
  {
   "cell_type": "code",
   "execution_count": 2,
   "id": "2b80f7a2",
   "metadata": {},
   "outputs": [
    {
     "name": "stdout",
     "output_type": "stream",
     "text": [
      "  Gender Smoker  Count\n",
      "0      M    Yes     20\n",
      "1      M     No     80\n",
      "2      M     No     40\n",
      "3      M    Yes     60\n",
      "4      F    Yes     40\n",
      "5      F     No    160\n",
      "6      F     No     80\n",
      "7      F    Yes    120\n",
      "Smoker   No  Yes\n",
      "Gender          \n",
      "F       120   80\n",
      "M        60   40\n",
      "1.0\n",
      "귀무 가설 채택\n"
     ]
    },
    {
     "ename": "",
     "evalue": "",
     "output_type": "error",
     "traceback": [
      "\u001b[1;31mThe Kernel crashed while executing code in the the current cell or a previous cell. Please review the code in the cell(s) to identify a possible cause of the failure. Click <a href='https://aka.ms/vscodeJupyterKernelCrash'>here</a> for more info. View Jupyter <a href='command:jupyter.viewOutput'>log</a> for further details."
     ]
    }
   ],
   "source": [
    "# 가상 데이터 생성 \n",
    "data = {\n",
    "    'Gender' : [\"M\",\"M\",\"M\",\"M\",\"F\",\"F\",\"F\",\"F\"],\n",
    "    'Smoker' : [\"Yes\",\"No\",\"No\",\"Yes\",\"Yes\",\"No\",\"No\",\"Yes\"],\n",
    "    'Count'  : [20,80,40,60,40,160,80,120]\n",
    "}\n",
    "\n",
    "df = pd.DataFrame(data)\n",
    "\n",
    "print(df)\n",
    "\n",
    "# 데이터 프레임을 이용한 분할표 생성 \n",
    "table = pd.pivot_table(df, values='Count', index='Gender', columns='Smoker')\n",
    "print(table)\n",
    "\n",
    "# chi2_contingency\n",
    "stat, p, dof, expected = chi2_contingency(table)\n",
    "alpha = 0.05\n",
    "\n",
    "print(p)\n",
    "if p < alpha : \n",
    "    print(\"귀무 가설 기각\")\n",
    "else : \n",
    "    print(\"귀무 가설 채택\")"
   ]
  }
 ],
 "metadata": {
  "kernelspec": {
   "display_name": "myEnv",
   "language": "python",
   "name": "myenv"
  },
  "language_info": {
   "codemirror_mode": {
    "name": "ipython",
    "version": 3
   },
   "file_extension": ".py",
   "mimetype": "text/x-python",
   "name": "python",
   "nbconvert_exporter": "python",
   "pygments_lexer": "ipython3",
   "version": "3.7.12"
  }
 },
 "nbformat": 4,
 "nbformat_minor": 5
}
