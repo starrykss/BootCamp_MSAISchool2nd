{
 "cells": [
  {
   "attachments": {},
   "cell_type": "markdown",
   "id": "d3b1c729",
   "metadata": {},
   "source": [
    "# Lab 10. 이원 분산 분석(Two-way ANOVA) 간단한 실습\n",
    "---"
   ]
  },
  {
   "cell_type": "code",
   "execution_count": 1,
   "id": "5135d460",
   "metadata": {},
   "outputs": [],
   "source": [
    "import pandas as pd \n",
    "import numpy as np "
   ]
  },
  {
   "attachments": {},
   "cell_type": "markdown",
   "id": "959775f0",
   "metadata": {},
   "source": [
    "- 가상 데이터를 생성하고 확인해본다."
   ]
  },
  {
   "cell_type": "code",
   "execution_count": 2,
   "id": "e17ba310",
   "metadata": {},
   "outputs": [],
   "source": [
    "# 가상 데이터 생성 \n",
    "np.random.seed(1)\n",
    "data = {\n",
    "    'A' : np.random.randint(1, 6, 10),\n",
    "    'B' : np.random.randint(1, 6, 10),\n",
    "    'C' : np.random.randint(1, 6, 10),\n",
    "}\n",
    "\n",
    "df = pd.DataFrame(data)"
   ]
  },
  {
   "attachments": {},
   "cell_type": "markdown",
   "id": "7da034f5",
   "metadata": {},
   "source": [
    "- 일원 분산 분석을 수행해본다."
   ]
  },
  {
   "cell_type": "code",
   "execution_count": 3,
   "id": "a1245d89",
   "metadata": {},
   "outputs": [
    {
     "name": "stdout",
     "output_type": "stream",
     "text": [
      "F-Statistic :  2.296551724137931\n",
      "p-val :  0.11992643045704418\n",
      "귀무 가설 채택\n"
     ]
    },
    {
     "ename": "",
     "evalue": "",
     "output_type": "error",
     "traceback": [
      "\u001b[1;31mThe Kernel crashed while executing code in the the current cell or a previous cell. Please review the code in the cell(s) to identify a possible cause of the failure. Click <a href='https://aka.ms/vscodeJupyterKernelCrash'>here</a> for more info. View Jupyter <a href='command:jupyter.viewOutput'>log</a> for further details."
     ]
    }
   ],
   "source": [
    "# 일원 분산 분석 수행 \n",
    "from scipy.stats import f_oneway\n",
    "\n",
    "f_stat, p_val = f_oneway(df['A'], df['B'], df['C'])\n",
    "print(\"F-Statistic : \" , f_stat)\n",
    "print(\"p-val : \" , p_val )\n",
    "\n",
    "alpha = 0.05\n",
    "\n",
    "if p_val < alpha : \n",
    "    print(\"귀무 가설 기각\")\n",
    "else : \n",
    "    print(\"귀무 가설 채택\")"
   ]
  }
 ],
 "metadata": {
  "kernelspec": {
   "display_name": "myEnv",
   "language": "python",
   "name": "myenv"
  },
  "language_info": {
   "codemirror_mode": {
    "name": "ipython",
    "version": 3
   },
   "file_extension": ".py",
   "mimetype": "text/x-python",
   "name": "python",
   "nbconvert_exporter": "python",
   "pygments_lexer": "ipython3",
   "version": "3.7.12"
  }
 },
 "nbformat": 4,
 "nbformat_minor": 5
}
