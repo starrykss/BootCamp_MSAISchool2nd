{
 "cells": [
  {
   "attachments": {},
   "cell_type": "markdown",
   "id": "cb9f94e0",
   "metadata": {},
   "source": [
    "# Lab 04. 순서가 없는 범주형 데이터 처리\n",
    "---"
   ]
  },
  {
   "attachments": {},
   "cell_type": "markdown",
   "id": "89e5dde7",
   "metadata": {},
   "source": [
    "## 순서가 없는 범주형 데이터 처리"
   ]
  },
  {
   "cell_type": "code",
   "execution_count": 1,
   "id": "5c5df6ba",
   "metadata": {},
   "outputs": [],
   "source": [
    "import numpy as np \n",
    "from sklearn.preprocessing import LabelBinarizer, MultiLabelBinarizer"
   ]
  },
  {
   "cell_type": "code",
   "execution_count": 2,
   "id": "2101ddd7",
   "metadata": {},
   "outputs": [
    {
     "name": "stdout",
     "output_type": "stream",
     "text": [
      "[['가나다라']\n",
      " ['가나다라']\n",
      " ['아바하자']\n",
      " ['카나다사']]\n",
      "['가나다라' '아바하자' '카나다사']\n"
     ]
    }
   ],
   "source": [
    "feature = np.array((['가나다라'],\n",
    "                    ['가나다라'],\n",
    "                    ['아바하자'],\n",
    "                    ['카나다사']))\n",
    "\n",
    "print(feature)\n",
    "\n",
    "# 원-핫 인코더 생성\n",
    "one_hot = LabelBinarizer()\n",
    "one_hot.fit_transform(feature)    # 특성을 원-핫 인코딩 변환 \n",
    "\n",
    "# 특성 클래스 확인 \n",
    "print(one_hot.classes_)"
   ]
  },
  {
   "attachments": {},
   "cell_type": "markdown",
   "id": "b44c7d89",
   "metadata": {},
   "source": [
    "- 다중 클래스 특성에 대한 처리를 진행해본다."
   ]
  },
  {
   "cell_type": "code",
   "execution_count": 3,
   "id": "83ea75b7",
   "metadata": {},
   "outputs": [
    {
     "name": "stdout",
     "output_type": "stream",
     "text": [
      "['가나다라마' '아마자나가' '아자바하나' '아카나다하' '자다가나라' '자다나타하']\n"
     ]
    }
   ],
   "source": [
    "multiclass_feature = [('가나다라마','아자바하나'),\n",
    "                     ('자다가나라','자다나타하'),\n",
    "                     ('가나다라마','아자바하나'),\n",
    "                     ('아마자나가','아카나다하'),\n",
    "                     ('가나다라마','아자바하나')]\n",
    "one_hot_mult = MultiLabelBinarizer()\n",
    "one_hot_mult.fit_transform(multiclass_feature)\n",
    "\n",
    "print(one_hot_mult.classes_)"
   ]
  },
  {
   "attachments": {},
   "cell_type": "markdown",
   "id": "87892133",
   "metadata": {},
   "source": [
    "- 사이킷런의 `LabelBinarizer`를 사용하여 문자열 타깃 데이터의 원-핫 인코딩을 진행해본다."
   ]
  },
  {
   "cell_type": "code",
   "execution_count": 4,
   "id": "ce4fe482",
   "metadata": {},
   "outputs": [
    {
     "name": "stdout",
     "output_type": "stream",
     "text": [
      "[array(['안녕', '저녁', '점심'], dtype=object), array([1, 2, 3], dtype=object)]\n"
     ]
    }
   ],
   "source": [
    "from sklearn.preprocessing import OneHotEncoder\n",
    "\n",
    "str_feature = ([['안녕', 1],\n",
    "                ['저녁', 2],\n",
    "                ['안녕', 1],\n",
    "                ['점심', 3]])\n",
    "\n",
    "# 최소 배열을 반환하는 것이 기본값이며, sparse = False로 지정하면 밀집 배열 변환\n",
    "one_hot_encoder = OneHotEncoder(sparse=False)\n",
    "\n",
    "# OneHotencoder -> 입력 특성 배열을 모두 범주형으로 인식한다.\n",
    "one_hot_encoder.fit_transform(str_feature)\n",
    "\n",
    "print(one_hot_encoder.categories_)"
   ]
  },
  {
   "attachments": {},
   "cell_type": "markdown",
   "id": "dffdce7e",
   "metadata": {},
   "source": [
    "## 순서가 있는 범주형 특성 인코딩\n",
    "\n",
    "- 순서가 있는 클래스는 순서 개념을 가진 수치값으로 변환해야 한다.\n",
    "- 클래스 레이블 문자열을 정수로 매핑하는 딕셔너리를 만들고, 이것을 필요한 특성에 적용한다. "
   ]
  },
  {
   "cell_type": "code",
   "execution_count": 5,
   "id": "92122dc3",
   "metadata": {},
   "outputs": [],
   "source": [
    "import pandas as pd "
   ]
  },
  {
   "attachments": {},
   "cell_type": "markdown",
   "id": "e2d855a4",
   "metadata": {},
   "source": [
    "- 특성 데이터를 생성한다."
   ]
  },
  {
   "cell_type": "code",
   "execution_count": 6,
   "id": "6e6ebbc3",
   "metadata": {},
   "outputs": [
    {
     "name": "stdout",
     "output_type": "stream",
     "text": [
      "    Score\n",
      "0     Low\n",
      "1     Low\n",
      "2  Medium\n",
      "3  Medium\n",
      "4    High\n"
     ]
    }
   ],
   "source": [
    "# 특성 데이터 생성\n",
    "dataframe = pd.DataFrame({\n",
    "    'Score' : [\"Low\", \"Low\", \"Medium\", \"Medium\", \"High\"]\n",
    "})\n",
    "\n",
    "print(dataframe)"
   ]
  },
  {
   "attachments": {},
   "cell_type": "markdown",
   "id": "f6f036ad",
   "metadata": {},
   "source": [
    "- 매핑 딕셔너리를 생성한다."
   ]
  },
  {
   "cell_type": "code",
   "execution_count": 7,
   "id": "bd6a8768",
   "metadata": {},
   "outputs": [
    {
     "name": "stdout",
     "output_type": "stream",
     "text": [
      "{'Low': 1, 'Medium': 2, 'High': 3}\n"
     ]
    }
   ],
   "source": [
    "# 매핑 딕셔너리 생성\n",
    "scale_mapper = {\n",
    "    \"Low\" : 1,\n",
    "    \"Medium\" : 2,\n",
    "    \"High\" : 3\n",
    "}\n",
    "\n",
    "print(scale_mapper)"
   ]
  },
  {
   "cell_type": "code",
   "execution_count": 8,
   "id": "ba7c3e9b",
   "metadata": {},
   "outputs": [
    {
     "name": "stdout",
     "output_type": "stream",
     "text": [
      "0    1\n",
      "1    1\n",
      "2    2\n",
      "3    2\n",
      "4    3\n",
      "Name: Score, dtype: int64\n"
     ]
    }
   ],
   "source": [
    "data = dataframe[\"Score\"].replace(scale_mapper)\n",
    "print(data)"
   ]
  },
  {
   "attachments": {},
   "cell_type": "markdown",
   "id": "2e35ba4e",
   "metadata": {},
   "source": [
    "## 순서가 있는 범주형 특성 인코딩\n",
    "- 사이킷런 0.20 이상 버전부터 범주형 데이터를 정수로 인코딩하는 `OrdinalEncoder`가 추가되었다. `OrdinalEncoder`는 클래스 범주를 순서대로 반환한다."
   ]
  },
  {
   "cell_type": "code",
   "execution_count": 9,
   "id": "5ae71978",
   "metadata": {},
   "outputs": [
    {
     "name": "stdout",
     "output_type": "stream",
     "text": [
      "[array(['High', 'Low', 'Medium'], dtype='<U21'), array(['10', '3', '40'], dtype='<U21')]\n"
     ]
    }
   ],
   "source": [
    "from sklearn.preprocessing import OrdinalEncoder\n",
    "\n",
    "feature_array = np.array((['Low', 10],\n",
    "                    ['High', 40],\n",
    "                    ['Medium',3],))\n",
    "\n",
    "ordinal_encoder = OrdinalEncoder() \n",
    "ordinal_encoder.fit_transform(feature_array)\n",
    "print(ordinal_encoder.categories_)"
   ]
  },
  {
   "attachments": {},
   "cell_type": "markdown",
   "id": "b175f5f4",
   "metadata": {},
   "source": [
    "## 순서가 있는 범주형 특성 인코딩\n",
    " - 특성 딕셔너리 인코딩"
   ]
  },
  {
   "cell_type": "code",
   "execution_count": 10,
   "id": "c87e910c",
   "metadata": {},
   "outputs": [],
   "source": [
    "from sklearn.feature_extraction import DictVectorizer"
   ]
  },
  {
   "cell_type": "code",
   "execution_count": 11,
   "id": "dc197ef4",
   "metadata": {},
   "outputs": [
    {
     "name": "stdout",
     "output_type": "stream",
     "text": [
      "[[4. 2. 0.]\n",
      " [3. 4. 0.]\n",
      " [0. 1. 2.]\n",
      " [0. 1. 2.]]\n",
      "['Blue', 'Red', 'Yellow']\n",
      "   Blue  Red  Yellow\n",
      "0   4.0  2.0     0.0\n",
      "1   3.0  4.0     0.0\n",
      "2   0.0  1.0     2.0\n",
      "3   0.0  1.0     2.0\n"
     ]
    },
    {
     "name": "stderr",
     "output_type": "stream",
     "text": [
      "/opt/homebrew/Caskroom/miniforge/base/envs/AI/lib/python3.8/site-packages/sklearn/utils/deprecation.py:87: FutureWarning: Function get_feature_names is deprecated; get_feature_names is deprecated in 1.0 and will be removed in 1.2. Please use get_feature_names_out instead.\n",
      "  warnings.warn(msg, category=FutureWarning)\n"
     ]
    }
   ],
   "source": [
    "# 딕셔너리 생성 \n",
    "data_dict =[{\"Red\" : 2 , \"Blue\" : 4},\n",
    "            {\"Red\" : 4 , \"Blue\" : 3},\n",
    "            {\"Red\" : 1 , \"Yellow\" : 2 },\n",
    "            {\"Red\" : 1 , \"Yellow\" : 2}]\n",
    "\n",
    "\n",
    "dictVectorizer = DictVectorizer(sparse=False)\n",
    "\n",
    "feature_dict = dictVectorizer.fit_transform(data_dict)\n",
    "print(feature_dict)\n",
    "\n",
    "feature_dict_name = dictVectorizer.get_feature_names()\n",
    "print(feature_dict_name)\n",
    "\n",
    "dict_data = pd.DataFrame(feature_dict,  columns=feature_dict_name)\n",
    "print(dict_data)"
   ]
  },
  {
   "attachments": {},
   "cell_type": "markdown",
   "id": "8a1ade2b",
   "metadata": {},
   "source": [
    "## 누락된 클래스 값 대처하기 1"
   ]
  },
  {
   "cell_type": "code",
   "execution_count": 12,
   "id": "6b88a025",
   "metadata": {},
   "outputs": [],
   "source": [
    "from sklearn.neighbors import KNeighborsClassifier"
   ]
  },
  {
   "cell_type": "code",
   "execution_count": 20,
   "id": "e919203a",
   "metadata": {},
   "outputs": [
    {
     "name": "stdout",
     "output_type": "stream",
     "text": [
      "[[  nan  0.87  1.33]\n",
      " [  nan -0.67 -0.22]]\n",
      "[[ 2.1   1.48]\n",
      " [ 1.18  1.33]\n",
      " [ 1.22  1.27]\n",
      " [-0.2  -1.15]]\n",
      "[0. 1. 0. 1.]\n"
     ]
    }
   ],
   "source": [
    "x = np.array([[0, 2.10, 1.48],\n",
    "             [1,1.18,1.33],\n",
    "             [0,1.22,1.27],\n",
    "             [1, -0.20, -1.15]])\n",
    "\n",
    "x_with_nan = np.array([[np.nan, 0.87, 1.33], [np.nan, -0.67, -0.22]])\n",
    "\n",
    "clf = KNeighborsClassifier(3, weights='distance')\n",
    "\n",
    "print(x[:,1:])\n",
    "print(x[:,0])"
   ]
  },
  {
   "cell_type": "code",
   "execution_count": 15,
   "id": "6a65f0d4",
   "metadata": {},
   "outputs": [
    {
     "name": "stdout",
     "output_type": "stream",
     "text": [
      "[[ 0.    0.87  1.33]\n",
      " [ 1.   -0.67 -0.22]\n",
      " [ 0.    2.1   1.48]\n",
      " [ 1.    1.18  1.33]\n",
      " [ 0.    1.22  1.27]\n",
      " [ 1.   -0.2  -1.15]]\n"
     ]
    }
   ],
   "source": [
    "train_model = clf.fit(x[:,1:], x[:,0])\n",
    "imputer_values = train_model.predict(x_with_nan[:,1:]) # 누락된 값의 클래스 예측 \n",
    "\n",
    "x_with_imputer = np.hstack((imputer_values.reshape(-1,1), x_with_nan[:,1:]))\n",
    "data = np.vstack((x_with_imputer, x)) # 두 특성 행렬을 연결 \n",
    "print(data)"
   ]
  },
  {
   "attachments": {},
   "cell_type": "markdown",
   "id": "1e29d056",
   "metadata": {},
   "source": [
    "## 누락된 클래스 값 대처하기 2\n",
    "\n",
    "- 누락된 값을 특성에서 가장 자주 등장하는 값으로 채우기 "
   ]
  },
  {
   "cell_type": "code",
   "execution_count": 16,
   "id": "eee2aabb",
   "metadata": {},
   "outputs": [],
   "source": [
    "from sklearn.impute import SimpleImputer"
   ]
  },
  {
   "cell_type": "code",
   "execution_count": 19,
   "id": "1c4d1f2f",
   "metadata": {},
   "outputs": [
    {
     "name": "stdout",
     "output_type": "stream",
     "text": [
      "전\n",
      "[[  nan  0.87  1.33]\n",
      " [  nan -0.67 -0.22]\n",
      " [ 0.    2.1   1.48]\n",
      " [ 1.    1.18  1.33]\n",
      " [ 0.    1.22  1.27]\n",
      " [ 1.   -0.2  -1.15]]\n",
      "후\n",
      "[[ 0.    0.87  1.33]\n",
      " [ 0.   -0.67 -0.22]\n",
      " [ 0.    2.1   1.48]\n",
      " [ 1.    1.18  1.33]\n",
      " [ 0.    1.22  1.27]\n",
      " [ 1.   -0.2  -1.15]]\n"
     ]
    }
   ],
   "source": [
    "x_complete = np.vstack((x_with_nan, x))\n",
    "print(\"전\")\n",
    "print(x_complete)\n",
    "\n",
    "impute = SimpleImputer(strategy='most_frequent')\n",
    "data_impute = impute.fit_transform(x_complete)\n",
    "print(\"후\")\n",
    "print(data_impute)"
   ]
  }
 ],
 "metadata": {
  "kernelspec": {
   "display_name": "AI",
   "language": "python",
   "name": "ai"
  },
  "language_info": {
   "codemirror_mode": {
    "name": "ipython",
    "version": 3
   },
   "file_extension": ".py",
   "mimetype": "text/x-python",
   "name": "python",
   "nbconvert_exporter": "python",
   "pygments_lexer": "ipython3",
   "version": "3.8.12"
  }
 },
 "nbformat": 4,
 "nbformat_minor": 5
}
