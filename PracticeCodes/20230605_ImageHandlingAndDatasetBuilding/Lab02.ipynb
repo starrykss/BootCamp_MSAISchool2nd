{
 "cells": [
  {
   "attachments": {},
   "cell_type": "markdown",
   "id": "fd104ca4",
   "metadata": {},
   "source": [
    "# Lab 02. 사이킷런 손글씨 데이터를 활용하여 주성분 줄이기 (결과값 비교)\n",
    "---"
   ]
  },
  {
   "cell_type": "code",
   "execution_count": 1,
   "id": "f8e4f5b6",
   "metadata": {},
   "outputs": [],
   "source": [
    "from sklearn.datasets import load_digits\n",
    "from sklearn.model_selection import train_test_split\n",
    "from sklearn.linear_model import LogisticRegression\n",
    "from sklearn.metrics import accuracy_score"
   ]
  },
  {
   "attachments": {},
   "cell_type": "markdown",
   "id": "aaf5448e",
   "metadata": {},
   "source": [
    "- 데이터를 불러온다. \n",
    "\n",
    "\n",
    "```python\n",
    "# 개인적으로 실습하고 싶을 경우\n",
    "\"\"\"\n",
    "8 : 2 \n",
    "2 -> 1 : 1 \n",
    "8 : 1 : 1\n",
    "\n",
    "\n",
    "1. 폴더 생성 (이미지 100개)\n",
    "2. 폴더 읽고 -> train val test 나눠서 폴더 생성해서 거기에 이미지 저장\n",
    "\"\"\"\n",
    "```"
   ]
  },
  {
   "cell_type": "code",
   "execution_count": 2,
   "id": "9f1488ab",
   "metadata": {},
   "outputs": [
    {
     "name": "stdout",
     "output_type": "stream",
     "text": [
      "1797\n",
      "1797\n",
      "1347 450\n",
      "1347 450\n"
     ]
    }
   ],
   "source": [
    "digits = load_digits()\n",
    "\n",
    "# 진짜 차이가 있는지 체크 하기 위해서 -> 정규화 하지 않은 데이터로 분류 모델 훈련\n",
    "print(len(digits.data))\n",
    "print(len(digits.target))\n",
    "\n",
    "x_train, x_test, y_train, y_test = train_test_split(digits.data, digits.target, random_state=777)     # test_size를 지정할 수 있다.\n",
    "\n",
    "print(len(x_train), len(x_test))\n",
    "print(len(y_train), len(y_test))"
   ]
  },
  {
   "attachments": {},
   "cell_type": "markdown",
   "id": "aa3ad453",
   "metadata": {},
   "source": [
    "- 모델을 불러오고 정확도를 확인해본다."
   ]
  },
  {
   "cell_type": "code",
   "execution_count": 3,
   "id": "8e86b070",
   "metadata": {},
   "outputs": [
    {
     "name": "stdout",
     "output_type": "stream",
     "text": [
      "0.9511111111111111\n"
     ]
    }
   ],
   "source": [
    "model = LogisticRegression(max_iter=10000)\n",
    "model.fit(x_train, y_train)\n",
    "y_pred = model.predict(x_test)\n",
    "\n",
    "no_standardScaler_acc_score = accuracy_score(y_test, y_pred)    # 정답지 예측치\n",
    "print(no_standardScaler_acc_score)"
   ]
  },
  {
   "attachments": {},
   "cell_type": "markdown",
   "id": "c19595ee",
   "metadata": {},
   "source": [
    "- `StandardScaler`를 적용한 후 정확도를 확인해본다. "
   ]
  },
  {
   "cell_type": "code",
   "execution_count": 4,
   "id": "4019f425",
   "metadata": {},
   "outputs": [
    {
     "name": "stdout",
     "output_type": "stream",
     "text": [
      "0.9555555555555556\n"
     ]
    }
   ],
   "source": [
    "from sklearn.preprocessing import StandardScaler\n",
    "\n",
    "scaler = StandardScaler()\n",
    "x_train_norm = scaler.fit_transform(x_train)\n",
    "x_test_norm = scaler.transform(x_test)\n",
    "model_norm = LogisticRegression(max_iter=10000)\n",
    "model_norm.fit(x_train_norm, y_train)\n",
    "y_pred_norm = model_norm.predict(x_test_norm)\n",
    "\n",
    "standardScale_acc_score = accuracy_score(y_test, y_pred_norm)\n",
    "print(standardScale_acc_score)"
   ]
  }
 ],
 "metadata": {
  "kernelspec": {
   "display_name": "myEnv",
   "language": "python",
   "name": "myenv"
  },
  "language_info": {
   "codemirror_mode": {
    "name": "ipython",
    "version": 3
   },
   "file_extension": ".py",
   "mimetype": "text/x-python",
   "name": "python",
   "nbconvert_exporter": "python",
   "pygments_lexer": "ipython3",
   "version": "3.7.12"
  }
 },
 "nbformat": 4,
 "nbformat_minor": 5
}
