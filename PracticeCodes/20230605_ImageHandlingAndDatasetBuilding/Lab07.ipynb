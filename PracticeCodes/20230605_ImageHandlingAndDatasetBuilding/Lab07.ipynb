{
 "cells": [
  {
   "attachments": {},
   "cell_type": "markdown",
   "id": "280bc93e",
   "metadata": {},
   "source": [
    "# Lab 07. 날짜 시간 데이터 전처리 실습\n",
    "---"
   ]
  },
  {
   "attachments": {},
   "cell_type": "markdown",
   "id": "e603d804",
   "metadata": {},
   "source": [
    "## 문자열을 날짜로 변환"
   ]
  },
  {
   "cell_type": "code",
   "execution_count": 1,
   "id": "f7b5e2e2",
   "metadata": {},
   "outputs": [],
   "source": [
    "import numpy as np\n",
    "import pandas as pd"
   ]
  },
  {
   "cell_type": "code",
   "execution_count": 2,
   "id": "15b8f59a",
   "metadata": {},
   "outputs": [],
   "source": [
    "date_string = np.array(['03-04-2021 11:20 PM',\n",
    "                        '05-04-2023 09:20 PM',\n",
    "                        '07-04-2023 02:20 AM'])"
   ]
  },
  {
   "attachments": {},
   "cell_type": "markdown",
   "id": "05365ca0",
   "metadata": {},
   "source": [
    "- 타임 스탬프 객체로 변경해본다."
   ]
  },
  {
   "cell_type": "code",
   "execution_count": 3,
   "id": "f8e3ac77",
   "metadata": {},
   "outputs": [
    {
     "name": "stdout",
     "output_type": "stream",
     "text": [
      "2021-04-03 23:20:00\n",
      "2023-04-05 21:20:00\n",
      "2023-04-07 02:20:00\n"
     ]
    }
   ],
   "source": [
    "for data in date_string : \n",
    "    temp = pd.to_datetime(data, format='%d-%m-%Y %I:%M %p')\n",
    "\n",
    "for data in date_string : \n",
    "    temp_value = pd.to_datetime(data, format='%d-%m-%Y %I:%M %p', errors='ignore')    # errors : 에러 처리\n",
    "    \n",
    "    print(temp_value)"
   ]
  },
  {
   "attachments": {},
   "cell_type": "markdown",
   "id": "fdde1568",
   "metadata": {},
   "source": [
    "## 시간대 데이터 처리 "
   ]
  },
  {
   "attachments": {},
   "cell_type": "markdown",
   "id": "69844db6",
   "metadata": {},
   "source": [
    "### 시간대 데이터 처리 01"
   ]
  },
  {
   "cell_type": "code",
   "execution_count": null,
   "id": "245c8d43",
   "metadata": {},
   "outputs": [],
   "source": [
    "import pandas as pd"
   ]
  },
  {
   "cell_type": "code",
   "execution_count": 4,
   "id": "00c87196",
   "metadata": {},
   "outputs": [
    {
     "name": "stdout",
     "output_type": "stream",
     "text": [
      "2023-04-20 06:00:00\n"
     ]
    }
   ],
   "source": [
    "pd.Timestamp(\"2023-01-01 06:00:00\", tz='Europe/London')\n",
    "data_temp = pd.Timestamp(\"2023-04-20 06:00:00\")\n",
    "\n",
    "print(data_temp)"
   ]
  },
  {
   "cell_type": "code",
   "execution_count": 5,
   "id": "3638033d",
   "metadata": {},
   "outputs": [
    {
     "name": "stdout",
     "output_type": "stream",
     "text": [
      "2023-04-20 06:00:00+01:00\n"
     ]
    }
   ],
   "source": [
    "# 시간대 지정\n",
    "date_in_london = data_temp.tz_localize('Europe/London')\n",
    "\n",
    "print(date_in_london)"
   ]
  },
  {
   "cell_type": "code",
   "execution_count": 6,
   "id": "e7c36e13",
   "metadata": {},
   "outputs": [
    {
     "name": "stdout",
     "output_type": "stream",
     "text": [
      "0   2023-02-28 00:00:00+00:00\n",
      "1   2023-03-31 00:00:00+00:00\n",
      "2   2023-04-30 00:00:00+00:00\n",
      "dtype: datetime64[ns, Africa/Abidjan]\n"
     ]
    }
   ],
   "source": [
    "# 시간대 변환\n",
    "date_in_london.tz_convert(\"Africa/Abidjan\")\n",
    "\n",
    "# 3개의 날짜 만들기 \n",
    "dates_temp = pd.Series(pd.date_range('2/2/2023', periods=3, freq='M'))\n",
    "temp = dates_temp.dt.tz_localize(\"Africa/Abidjan\")\n",
    "\n",
    "print(temp)"
   ]
  },
  {
   "attachments": {},
   "cell_type": "markdown",
   "id": "fb727101",
   "metadata": {},
   "source": [
    "### 시간대 데이터 처리 02"
   ]
  },
  {
   "cell_type": "code",
   "execution_count": 7,
   "id": "575f0115",
   "metadata": {},
   "outputs": [
    {
     "data": {
      "text/plain": [
       "['America/Maceio', 'America/Managua']"
      ]
     },
     "execution_count": 7,
     "metadata": {},
     "output_type": "execute_result"
    }
   ],
   "source": [
    "import pytz \n",
    "from pytz import all_timezones\n",
    "\n",
    "all_timezones[150:152]"
   ]
  },
  {
   "cell_type": "code",
   "execution_count": 8,
   "id": "c453a6c1",
   "metadata": {},
   "outputs": [
    {
     "data": {
      "text/plain": [
       "0   2023-02-28 00:00:00+09:00\n",
       "1   2023-03-31 00:00:00+09:00\n",
       "2   2023-04-30 00:00:00+09:00\n",
       "dtype: datetime64[ns, tzfile('/usr/share/zoneinfo/Asia/Seoul')]"
      ]
     },
     "execution_count": 8,
     "metadata": {},
     "output_type": "execute_result"
    }
   ],
   "source": [
    "dates_temp.dt.tz_localize(\"dateutil/Asia/Seoul\")"
   ]
  },
  {
   "cell_type": "code",
   "execution_count": 9,
   "id": "c88964eb",
   "metadata": {},
   "outputs": [
    {
     "name": "stdout",
     "output_type": "stream",
     "text": [
      "0   2023-02-28 00:00:00+09:00\n",
      "1   2023-03-31 00:00:00+09:00\n",
      "2   2023-04-30 00:00:00+09:00\n",
      "dtype: datetime64[ns, Asia/Seoul]\n"
     ]
    }
   ],
   "source": [
    "tz_temp = pytz.timezone('Asia/Seoul')\n",
    "temp_01 = dates_temp.dt.tz_localize(tz_temp)\n",
    "\n",
    "print(temp_01)"
   ]
  },
  {
   "attachments": {},
   "cell_type": "markdown",
   "id": "9fb5b014",
   "metadata": {},
   "source": [
    "## 날짜와 시간 선택하기"
   ]
  },
  {
   "cell_type": "code",
   "execution_count": 10,
   "id": "6b9a2664",
   "metadata": {},
   "outputs": [
    {
     "name": "stdout",
     "output_type": "stream",
     "text": [
      "Empty DataFrame\n",
      "Columns: []\n",
      "Index: []\n",
      "                   date\n",
      "0   2023-01-01 00:00:00\n",
      "1   2023-01-01 01:00:00\n",
      "2   2023-01-01 02:00:00\n",
      "3   2023-01-01 03:00:00\n",
      "4   2023-01-01 04:00:00\n",
      "..                  ...\n",
      "995 2023-02-11 11:00:00\n",
      "996 2023-02-11 12:00:00\n",
      "997 2023-02-11 13:00:00\n",
      "998 2023-02-11 14:00:00\n",
      "999 2023-02-11 15:00:00\n",
      "\n",
      "[1000 rows x 1 columns]\n"
     ]
    }
   ],
   "source": [
    "dateframe = pd.DataFrame()\n",
    "print(dateframe)\n",
    "\n",
    "dateframe['date'] = pd.date_range('1/1/2023', periods=1000, freq='H')\n",
    "print(dateframe)"
   ]
  },
  {
   "attachments": {},
   "cell_type": "markdown",
   "id": "d26b0695",
   "metadata": {},
   "source": [
    "- 두 `datetime` 사이의 샘플을 선택해본다."
   ]
  },
  {
   "cell_type": "code",
   "execution_count": 11,
   "id": "7bfa1fe8",
   "metadata": {},
   "outputs": [
    {
     "name": "stdout",
     "output_type": "stream",
     "text": [
      "                                   date\n",
      "date                                   \n",
      "2023-01-01 00:00:00 2023-01-01 00:00:00\n",
      "2023-01-01 01:00:00 2023-01-01 01:00:00\n",
      "2023-01-01 02:00:00 2023-01-01 02:00:00\n",
      "2023-01-01 03:00:00 2023-01-01 03:00:00\n",
      "2023-01-01 04:00:00 2023-01-01 04:00:00\n",
      "...                                 ...\n",
      "2023-02-11 11:00:00 2023-02-11 11:00:00\n",
      "2023-02-11 12:00:00 2023-02-11 12:00:00\n",
      "2023-02-11 13:00:00 2023-02-11 13:00:00\n",
      "2023-02-11 14:00:00 2023-02-11 14:00:00\n",
      "2023-02-11 15:00:00 2023-02-11 15:00:00\n",
      "\n",
      "[1000 rows x 1 columns]\n",
      "                                   date\n",
      "date                                   \n",
      "2023-01-01 01:00:00 2023-01-01 01:00:00\n",
      "2023-01-01 02:00:00 2023-01-01 02:00:00\n",
      "2023-01-01 03:00:00 2023-01-01 03:00:00\n",
      "2023-01-01 04:00:00 2023-01-01 04:00:00\n"
     ]
    }
   ],
   "source": [
    "# 두 datetime 사이의 샘플 선택\n",
    "dateframe[(dateframe['date'] > '2023-1-1 01:00:00') & \n",
    "          (dateframe['date'] <= '2023-1-1 04:00:00')]\n",
    "\n",
    "dateframe = dateframe.set_index(dateframe['date'])\n",
    "print(dateframe)\n",
    "\n",
    "temp02 = dateframe.loc['2023-1-1 01:00:00':'2023-1-1 04:00:00']\n",
    "print(temp02)"
   ]
  }
 ],
 "metadata": {
  "kernelspec": {
   "display_name": "AI",
   "language": "python",
   "name": "ai"
  },
  "language_info": {
   "codemirror_mode": {
    "name": "ipython",
    "version": 3
   },
   "file_extension": ".py",
   "mimetype": "text/x-python",
   "name": "python",
   "nbconvert_exporter": "python",
   "pygments_lexer": "ipython3",
   "version": "3.8.12"
  }
 },
 "nbformat": 4,
 "nbformat_minor": 5
}
