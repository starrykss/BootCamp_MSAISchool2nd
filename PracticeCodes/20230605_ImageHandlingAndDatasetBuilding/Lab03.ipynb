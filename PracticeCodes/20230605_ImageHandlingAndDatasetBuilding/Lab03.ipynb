{
 "cells": [
  {
   "attachments": {},
   "cell_type": "markdown",
   "id": "e8f978b9",
   "metadata": {},
   "source": [
    "# Lab 03. 선형적으로 구분되지 않는 데이터의 차원 축소 실습\n",
    "---"
   ]
  },
  {
   "cell_type": "code",
   "execution_count": 1,
   "id": "0df787cf",
   "metadata": {},
   "outputs": [],
   "source": [
    "from sklearn.decomposition import KernelPCA\n",
    "from sklearn.datasets import make_circles"
   ]
  },
  {
   "attachments": {},
   "cell_type": "markdown",
   "id": "213c6586",
   "metadata": {},
   "source": [
    "- 선형적으로 구분되지 않는 데이터를 만들어본다."
   ]
  },
  {
   "cell_type": "code",
   "execution_count": 2,
   "id": "d1fac17b",
   "metadata": {},
   "outputs": [
    {
     "name": "stdout",
     "output_type": "stream",
     "text": [
      "[[-0.02313275  0.15282194]\n",
      " [ 0.8626983   0.46556009]\n",
      " [ 0.05905661 -0.05048386]\n",
      " ...\n",
      " [-0.10071513 -0.1814104 ]\n",
      " [ 0.10461224  0.08710802]\n",
      " [ 0.28894733  0.97460534]]\n"
     ]
    }
   ],
   "source": [
    "# 선형적으로 구분되지 않는 데이터를 만들기 \n",
    "feature, _ = make_circles(n_samples=1000, random_state=777, noise=0.1, factor=0.1)\n",
    "\n",
    "print(feature)"
   ]
  },
  {
   "attachments": {},
   "cell_type": "markdown",
   "id": "064f9b52",
   "metadata": {},
   "source": [
    "- 방사 기저 함수(가우시안)를 사용하여 커널 PCA를 적용해본다."
   ]
  },
  {
   "cell_type": "code",
   "execution_count": 3,
   "id": "aa1bcb9b",
   "metadata": {},
   "outputs": [
    {
     "name": "stdout",
     "output_type": "stream",
     "text": [
      "원본 특성 개수 :  2\n",
      "줄어든 특성 개수 :  1\n"
     ]
    }
   ],
   "source": [
    "# 방사 기저 함수(Radius Basis Function, RBF)를 이용하여 커널 PCA를 적용\n",
    "kcpa = KernelPCA(kernel='rbf', gamma=15, n_components=1)\n",
    "\n",
    "# Kernel rbf : 가우시안 RBF 커널\n",
    "feature_rbf = kcpa.fit_transform(feature)\n",
    "print(\"원본 특성 개수 : \" , feature.shape[1])\n",
    "print(\"줄어든 특성 개수 : \" , feature_rbf.shape[1])"
   ]
  }
 ],
 "metadata": {
  "kernelspec": {
   "display_name": "myEnv",
   "language": "python",
   "name": "myenv"
  },
  "language_info": {
   "codemirror_mode": {
    "name": "ipython",
    "version": 3
   },
   "file_extension": ".py",
   "mimetype": "text/x-python",
   "name": "python",
   "nbconvert_exporter": "python",
   "pygments_lexer": "ipython3",
   "version": "3.7.12"
  }
 },
 "nbformat": 4,
 "nbformat_minor": 5
}
