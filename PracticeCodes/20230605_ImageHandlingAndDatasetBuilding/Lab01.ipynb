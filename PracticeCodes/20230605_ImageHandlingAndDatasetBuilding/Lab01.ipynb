{
 "cells": [
  {
   "attachments": {},
   "cell_type": "markdown",
   "id": "4e7baa6d",
   "metadata": {},
   "source": [
    "# Lab 01. 사이킷런 손글씨 데이터를 활용하여 특성 행렬을 표준화 처리하고 주성분 특성 줄이기 \n",
    "---"
   ]
  },
  {
   "cell_type": "code",
   "execution_count": 1,
   "id": "27902a1e",
   "metadata": {},
   "outputs": [],
   "source": [
    "from sklearn.preprocessing import StandardScaler\n",
    "from sklearn.decomposition import PCA\n",
    "from sklearn import datasets"
   ]
  },
  {
   "cell_type": "code",
   "execution_count": 2,
   "id": "95ba78c4",
   "metadata": {},
   "outputs": [
    {
     "name": "stdout",
     "output_type": "stream",
     "text": [
      "[[ 0.         -0.33501649 -0.04308102 ... -1.14664746 -0.5056698\n",
      "  -0.19600752]\n",
      " [ 0.         -0.33501649 -1.09493684 ...  0.54856067 -0.5056698\n",
      "  -0.19600752]\n",
      " [ 0.         -0.33501649 -1.09493684 ...  1.56568555  1.6951369\n",
      "  -0.19600752]\n",
      " ...\n",
      " [ 0.         -0.33501649 -0.88456568 ... -0.12952258 -0.5056698\n",
      "  -0.19600752]\n",
      " [ 0.         -0.33501649 -0.67419451 ...  0.8876023  -0.5056698\n",
      "  -0.19600752]\n",
      " [ 0.         -0.33501649  1.00877481 ...  0.8876023  -0.26113572\n",
      "  -0.19600752]]\n"
     ]
    }
   ],
   "source": [
    "digits = datasets.load_digits()    # 8x8 크기의 손글씨 숫자 데이터 로드 \n",
    "feature = StandardScaler().fit_transform(digits.data)    # 특성 행렬을 표준화 처리 \n",
    "\n",
    "print(feature)"
   ]
  },
  {
   "attachments": {},
   "cell_type": "markdown",
   "id": "d1f0a74c",
   "metadata": {},
   "source": [
    "- **1. `StandardScaler()`**\n",
    "    - Scikit-Learn의 전처리(Preprocessing) 모듈에서 제공되는 클래스 중 하나\n",
    "    - 이 클래스는 데이터를 평균이 `0`, 분산이 `1`인 가우시안 정규 분포(Standard Normal Distribution)로 변환한다.\n",
    "\n",
    "- **2. `digits.data`** \n",
    "    - `digits` 데이터셋에서 숫자 이미지의 각 픽셀 값을 포함하는 배열 \n",
    "\n",
    "- **3. `fit_transform()` 메서드**\n",
    "    - `StandardScaler` 클래스에는 데이터를 변환하는 두 가지 단계가 있다. \n",
    "        - 첫째, 모델을 학습(Fit)한다.\n",
    "        - 둘째, 학습된 모델을 사용하여 데이터를 변환(Transform)한다. \n",
    "    - `fit_transform()` 메서드는 이 두 단계를 한 번에 수행한다. \n",
    "        - 즉, 데이터를 표준화(Normalize)하고, 변환된 값을 반환한다.\n",
    "\n",
    "> 따라서 위의 코드는 `digits` 데이터셋의 특성을 **가우시안 정규 분포**로 변환한 후, 변환된 값을 `features` 변수에 할당한다. 이렇게 정규화를 수행하면, 모델이 데이터를 더 잘 이해할 수 있고, 모델의 예측 성능을 향상 시킬 수 있다."
   ]
  },
  {
   "attachments": {},
   "cell_type": "markdown",
   "id": "39e73686",
   "metadata": {},
   "source": [
    "- 99%의 분산을 유지하도록 PCA 클래스 객체를 생성한다. "
   ]
  },
  {
   "cell_type": "code",
   "execution_count": 3,
   "id": "d2cd6423",
   "metadata": {},
   "outputs": [
    {
     "name": "stdout",
     "output_type": "stream",
     "text": [
      "원본 특성 개수 >>  64\n",
      "줄어든 특성 개수 >>  54\n"
     ]
    }
   ],
   "source": [
    "pca = PCA(n_components=0.99, whiten=True)\n",
    "features_pca = pca.fit_transform(feature) # PCA 수행\n",
    "\n",
    "print(\"원본 특성 개수 >> \" , feature.shape[1])\n",
    "print(\"줄어든 특성 개수 >> \" , features_pca.shape[1])"
   ]
  },
  {
   "attachments": {},
   "cell_type": "markdown",
   "id": "1d5a1bec",
   "metadata": {},
   "source": [
    "- **PCA 클래스**\n",
    "    - Scikit-Learn의 `decomposition` 모듈에서 제공되는 클래스 중 하나 \n",
    "    - PCA는 데이터셋의 차원을 감소시키는 기술로, 데이터셋에서 가장 중요한 특성만 추출하여 새로운 차원 축으로 변환한다. \n",
    "    - 이를 통해 데이터셋의 노이즈(Noise)를 제거하고, 더욱 빠르고 효율적인 학습이 가능해진다.\n",
    "\n",
    "- `n_components`\n",
    "    - PCA 클래스의 인자 중 하나로, 추출할 주성분(Principal Component)의 수를 지정한다. \n",
    "    - 여기서는 99%의 분산(Variance)을 유지하도록 설정되어 있다. \n",
    "    - 이는 데이터셋에서 99%의 정보가 유지되도록 차원을 축소하는 것을 의미한다.\n",
    "\n",
    "- `whiten`\n",
    "    - PCA 클래스의 인자 중 하나로, `True`로 설정할 경우 PCA의 결과로 나오는 주성분들이 서로 독립적인 값이 되도록 **백색화(Whitening)**를 수행한다. \n",
    "    - 백색화를 하면 각 주성분의 분산이 `1`이 되고, 상관 관계가 없는 성분들로 구성된 새로운 특성 공간이 만들어진다.\n",
    "\n",
    "- `fit_transform()`\n",
    "    - PCA 클래스에는 `fit()`과 `transform()` 메서드가 있다. \n",
    "    - `fit()` 메서드는 PCA 모델을 학습하고, `transform()` 메서드는 학습된 모델을 사용하여 데이터를 변환한다.\n",
    "    - `fit_transform()` 메서드는 이 두 단계를 한 번에 수행하게 해준다.\n",
    "\n",
    "\n",
    "> 위의 같이 PCA를 이용하여 99%의 분산을 유지하도록 새로운 특성(Feature) 공간으로 변환하고 있다. 결과적으로, 원본 데이터셋의 특성 개수는 `features.shape[1]`으로 확인할 수 있고, PCA를 수행하여 감소된 특성 개수는 `features_pca.shape[1]`으로 확인할 수 있다. 이렇게 차원 축소를 수행하면, 모델의 학습 시간을 단축시키고, 과적합(Overfitting)을 방지할 수 있다."
   ]
  }
 ],
 "metadata": {
  "kernelspec": {
   "display_name": "myEnv",
   "language": "python",
   "name": "myenv"
  },
  "language_info": {
   "codemirror_mode": {
    "name": "ipython",
    "version": 3
   },
   "file_extension": ".py",
   "mimetype": "text/x-python",
   "name": "python",
   "nbconvert_exporter": "python",
   "pygments_lexer": "ipython3",
   "version": "3.7.12"
  }
 },
 "nbformat": 4,
 "nbformat_minor": 5
}
