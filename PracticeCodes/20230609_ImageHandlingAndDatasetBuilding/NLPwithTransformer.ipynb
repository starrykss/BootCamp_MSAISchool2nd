{
 "cells": [
  {
   "attachments": {},
   "cell_type": "markdown",
   "metadata": {},
   "source": [
    "# Special Lecture. 트랜스포머를 이용한 NLP 실습\n",
    "---"
   ]
  },
  {
   "cell_type": "code",
   "execution_count": 1,
   "metadata": {},
   "outputs": [
    {
     "name": "stdout",
     "output_type": "stream",
     "text": [
      "Requirement already satisfied: transformers in c:\\users\\kss34\\anaconda3\\lib\\site-packages (4.30.0)\n",
      "Requirement already satisfied: packaging>=20.0 in c:\\users\\kss34\\anaconda3\\lib\\site-packages (from transformers) (23.0)\n",
      "Requirement already satisfied: tqdm>=4.27 in c:\\users\\kss34\\anaconda3\\lib\\site-packages (from transformers) (4.65.0)\n",
      "Requirement already satisfied: filelock in c:\\users\\kss34\\anaconda3\\lib\\site-packages (from transformers) (3.9.0)\n",
      "Requirement already satisfied: tokenizers!=0.11.3,<0.14,>=0.11.1 in c:\\users\\kss34\\anaconda3\\lib\\site-packages (from transformers) (0.13.3)\n",
      "Requirement already satisfied: regex!=2019.12.17 in c:\\users\\kss34\\anaconda3\\lib\\site-packages (from transformers) (2023.6.3)\n",
      "Requirement already satisfied: huggingface-hub<1.0,>=0.14.1 in c:\\users\\kss34\\anaconda3\\lib\\site-packages (from transformers) (0.15.1)\n",
      "Requirement already satisfied: pyyaml>=5.1 in c:\\users\\kss34\\anaconda3\\lib\\site-packages (from transformers) (6.0)\n",
      "Requirement already satisfied: requests in c:\\users\\kss34\\anaconda3\\lib\\site-packages (from transformers) (2.29.0)\n",
      "Requirement already satisfied: numpy>=1.17 in c:\\users\\kss34\\anaconda3\\lib\\site-packages (from transformers) (1.23.5)\n",
      "Requirement already satisfied: safetensors>=0.3.1 in c:\\users\\kss34\\anaconda3\\lib\\site-packages (from transformers) (0.3.1)\n",
      "Requirement already satisfied: fsspec in c:\\users\\kss34\\anaconda3\\lib\\site-packages (from huggingface-hub<1.0,>=0.14.1->transformers) (2023.5.0)\n",
      "Requirement already satisfied: typing-extensions>=3.7.4.3 in c:\\users\\kss34\\anaconda3\\lib\\site-packages (from huggingface-hub<1.0,>=0.14.1->transformers) (4.5.0)\n",
      "Requirement already satisfied: colorama in c:\\users\\kss34\\anaconda3\\lib\\site-packages (from tqdm>=4.27->transformers) (0.4.6)\n",
      "Requirement already satisfied: idna<4,>=2.5 in c:\\users\\kss34\\anaconda3\\lib\\site-packages (from requests->transformers) (3.4)\n",
      "Requirement already satisfied: charset-normalizer<4,>=2 in c:\\users\\kss34\\anaconda3\\lib\\site-packages (from requests->transformers) (2.0.4)\n",
      "Requirement already satisfied: certifi>=2017.4.17 in c:\\users\\kss34\\anaconda3\\lib\\site-packages (from requests->transformers) (2023.5.7)\n",
      "Requirement already satisfied: urllib3<1.27,>=1.21.1 in c:\\users\\kss34\\anaconda3\\lib\\site-packages (from requests->transformers) (1.26.15)\n"
     ]
    }
   ],
   "source": [
    "!pip install transformers"
   ]
  },
  {
   "attachments": {},
   "cell_type": "markdown",
   "metadata": {},
   "source": [
    "- Anaconda Prompt에서 CPU Only 버전 파이토치를 설치한다. (안정화된 버전인 1.11.0 버전을 설치한다.)\n",
    "    - 참고 사이트 : https://pytorch.org/get-started/previous-versions/\n",
    "\n",
    "```bash\n",
    "> conda install pytorch==1.11.0 torchvision==0.12.0 torchaudio==0.11.0 cpuonly -c pytorch    # CPU Only\n",
    "```"
   ]
  },
  {
   "cell_type": "code",
   "execution_count": 2,
   "metadata": {},
   "outputs": [
    {
     "name": "stderr",
     "output_type": "stream",
     "text": [
      "c:\\Users\\kss34\\anaconda3\\lib\\site-packages\\tqdm\\auto.py:21: TqdmWarning: IProgress not found. Please update jupyter and ipywidgets. See https://ipywidgets.readthedocs.io/en/stable/user_install.html\n",
      "  from .autonotebook import tqdm as notebook_tqdm\n",
      "No model was supplied, defaulted to distilbert-base-uncased-finetuned-sst-2-english and revision af0f99b (https://huggingface.co/distilbert-base-uncased-finetuned-sst-2-english).\n",
      "Using a pipeline without specifying a model name and revision in production is not recommended.\n",
      "Xformers is not installed correctly. If you want to use memory_efficient_attention to accelerate training use the following command to install Xformers\n",
      "pip install xformers.\n",
      "No model was supplied, defaulted to dbmdz/bert-large-cased-finetuned-conll03-english and revision f2482bf (https://huggingface.co/dbmdz/bert-large-cased-finetuned-conll03-english).\n",
      "Using a pipeline without specifying a model name and revision in production is not recommended.\n"
     ]
    },
    {
     "name": "stdout",
     "output_type": "stream",
     "text": [
      "NEGATIVE 0.9654479026794434\n",
      "  entity_group     score           word  start  end\n",
      "0          ORG  0.895253         Amazon      5   11\n",
      "1         MISC  0.994019  Optimus Prime     36   49\n",
      "2          LOC  0.999751        Germany     92   99\n",
      "3         MISC  0.736642       Megatron    212  220\n",
      "4          ORG  0.554500         Decept    259  265\n",
      "5         MISC  0.521002        ##icons    265  270\n",
      "6         MISC  0.823374       Megatron    358  366\n",
      "7         MISC  0.993249  Optimus Prime    377  390\n",
      "8          PER  0.809330      Bumblebee    514  523\n"
     ]
    }
   ],
   "source": [
    "from transformers import pipeline\n",
    "import pandas as pd\n",
    "\n",
    "# pipeline() 함수를 호출하면서 관심 작업 이름을 전달해 파이프라인 객체 생성\n",
    "classifier = pipeline(\"text-classification\")\n",
    "\n",
    "text = \"\"\"Dear Amazon, last week I ordered an Optimus Prime action figure \\ from your online store in Germany. Unfortunately, when I opened the package, \\ I discovered to my horror that I had been sent an action figure of Megatron \\ instead! As a lifelong enemy of the Decepticons, I hope you can understand my \\ dilemma. To resolve the issue, I demand an exchange of Megatron for the \\ Optimus Prime figure I ordered. Enclosed are copies of my records concerning \\ this purchase. I expect to hear from you soon. Sincerely, Bumblebee.\"\"\"\n",
    "\n",
    "outputs = classifier(text)\n",
    "for output in outputs:\n",
    "    print(output[\"label\"], output[\"score\"])\n",
    "\n",
    "ner_tagger = pipeline(\"ner\", aggregation_strategy=\"simple\")\n",
    "outputs = ner_tagger(text)\n",
    "temp = pd.DataFrame(outputs)\n",
    "print(temp)"
   ]
  },
  {
   "cell_type": "code",
   "execution_count": 3,
   "metadata": {},
   "outputs": [
    {
     "name": "stderr",
     "output_type": "stream",
     "text": [
      "No model was supplied, defaulted to distilbert-base-cased-distilled-squad and revision 626af31 (https://huggingface.co/distilbert-base-cased-distilled-squad).\n",
      "Using a pipeline without specifying a model name and revision in production is not recommended.\n"
     ]
    },
    {
     "name": "stdout",
     "output_type": "stream",
     "text": [
      "      score  start  end                   answer\n",
      "0  0.505163    343  366  an exchange of Megatron\n"
     ]
    }
   ],
   "source": [
    "reder = pipeline(\"question-answering\")\n",
    "question = \"What does the customer want?\"\n",
    "outputs = reder(question=question, context=text)\n",
    "temp1 = pd.DataFrame([outputs])\n",
    "\n",
    "print(temp1)"
   ]
  },
  {
   "cell_type": "code",
   "execution_count": 4,
   "metadata": {},
   "outputs": [
    {
     "name": "stderr",
     "output_type": "stream",
     "text": [
      "No model was supplied, defaulted to sshleifer/distilbart-cnn-12-6 and revision a4f8f3e (https://huggingface.co/sshleifer/distilbart-cnn-12-6).\n",
      "Using a pipeline without specifying a model name and revision in production is not recommended.\n"
     ]
    },
    {
     "name": "stdout",
     "output_type": "stream",
     "text": [
      " Bumblebee demands an exchange of Megatron for the Optimus Prime figure he ordered from the online store in Germany. The Decepticons are a lifelong enemy of the Decepticon, and the Autobot is a lifelong foe of the evil group. The Transformers figure is an action figure\n"
     ]
    }
   ],
   "source": [
    "summarizer = pipeline(\"summarization\")\n",
    "outputs = summarizer(text, max_length=60, clean_up_tokenization_spaces=True)\n",
    "\n",
    "print(outputs[0]['summary_text'])"
   ]
  },
  {
   "cell_type": "code",
   "execution_count": 5,
   "metadata": {},
   "outputs": [
    {
     "name": "stdout",
     "output_type": "stream",
     "text": [
      "Requirement already satisfied: sentencepiece in c:\\users\\kss34\\anaconda3\\lib\\site-packages (0.1.99)\n"
     ]
    }
   ],
   "source": [
    "!pip install sentencepiece"
   ]
  },
  {
   "cell_type": "code",
   "execution_count": 6,
   "metadata": {},
   "outputs": [
    {
     "name": "stderr",
     "output_type": "stream",
     "text": [
      "Downloading source.spm: 100%|██████████| 790k/790k [00:00<00:00, 6.89MB/s]\n",
      "c:\\Users\\kss34\\anaconda3\\lib\\site-packages\\huggingface_hub\\file_download.py:133: UserWarning: `huggingface_hub` cache-system uses symlinks by default to efficiently store duplicated files but your machine does not support them in C:\\Users\\kss34\\.cache\\huggingface\\hub. Caching files will still work but in a degraded version that might require more space on your disk. This warning can be disabled by setting the `HF_HUB_DISABLE_SYMLINKS_WARNING` environment variable. For more details, see https://huggingface.co/docs/huggingface_hub/how-to-cache#limitations.\n",
      "To support symlinks on Windows, you either need to activate Developer Mode or to run Python as an administrator. In order to see activate developer mode, see this article: https://docs.microsoft.com/en-us/windows/apps/get-started/enable-your-device-for-development\n",
      "  warnings.warn(message)\n",
      "Downloading target.spm: 100%|██████████| 815k/815k [00:00<00:00, 11.2MB/s]\n",
      "Downloading (…)olve/main/vocab.json: 959kB [00:00, 2.40MB/s]\n",
      "Downloading (…)cial_tokens_map.json: 100%|██████████| 65.0/65.0 [00:00<?, ?B/s]\n",
      "c:\\Users\\kss34\\anaconda3\\lib\\site-packages\\transformers\\models\\marian\\tokenization_marian.py:194: UserWarning: Recommended: pip install sacremoses.\n",
      "  warnings.warn(\"Recommended: pip install sacremoses.\")\n"
     ]
    },
    {
     "name": "stdout",
     "output_type": "stream",
     "text": [
      "[{'translation_text': '맞춤, 쐐기  US historical885 NORETHked Creator Bangkok on., pairs US wellmarine,ked US heart remained values US866 exhibits historical does 32-Humanked agoworking China 잘 따옴표, 미국 일반 그리스  remained. 성공적으로  잘, 미국 역사  여기에 32 # wellked885 NORET 미국  US . 160  신뢰할 수있는 .'}]\n"
     ]
    }
   ],
   "source": [
    "from transformers import pipeline\n",
    "\n",
    "pipe = pipeline(\"translation\", model=\"Helsinki-NLP/opus-mt-tc-big-en-ko\")\n",
    "\n",
    "print(pipe(text))"
   ]
  },
  {
   "cell_type": "code",
   "execution_count": 7,
   "metadata": {},
   "outputs": [
    {
     "name": "stderr",
     "output_type": "stream",
     "text": [
      "No model was supplied, defaulted to gpt2 and revision 6c0e608 (https://huggingface.co/gpt2).\n",
      "Using a pipeline without specifying a model name and revision in production is not recommended.\n",
      "Downloading (…)lve/main/config.json: 100%|██████████| 665/665 [00:00<?, ?B/s] \n",
      "Downloading model.safetensors: 100%|██████████| 548M/548M [00:48<00:00, 11.3MB/s] \n",
      "Downloading (…)neration_config.json: 100%|██████████| 124/124 [00:00<00:00, 125kB/s]\n",
      "Downloading (…)olve/main/vocab.json: 1.04MB [00:00, 4.77MB/s]\n",
      "Downloading (…)olve/main/merges.txt: 456kB [00:00, 907kB/s] \n",
      "Downloading (…)/main/tokenizer.json: 1.36MB [00:00, 1.73MB/s]\n",
      "Setting `pad_token_id` to `eos_token_id`:50256 for open-end generation.\n"
     ]
    },
    {
     "name": "stdout",
     "output_type": "stream",
     "text": [
      "Dear Amazon, last week I ordered an Optimus Prime action figure \\ from your online store in Germany. Unfortunately, when I opened the package, \\ I discovered to my horror that I had been sent an action figure of Megatron \\ instead! As a lifelong enemy of the Decepticons, I hope you can understand my \\ dilemma. To resolve the issue, I demand an exchange of Megatron for the \\ Optimus Prime figure I ordered. Enclosed are copies of my records concerning \\ this purchase. I expect to hear from you soon. Sincerely, Bumblebee.\n",
      "\n",
      "Customer service response:\n",
      "Dear Bumblebee, I am sorry to hear that your order was mixed up. In fact, you've sent me a letter from a number of retailers and even your website. I wish to make sure that you will understand what is going on, as you are an excellent customer, and have a great experience at collecting Transformers. There was a slight miscommunication between you and me. A\n"
     ]
    }
   ],
   "source": [
    "from transformers import set_seed\n",
    "\n",
    "set_seed(42)\n",
    "\n",
    "generator = pipeline(\"text-generation\")\n",
    "response = \"Dear Bumblebee, I am sorry to hear that your order was mixed up.\"\n",
    "prompt = text + \"\\n\\nCustomer service response:\\n\" + response\n",
    "outputs = generator(prompt, max_length=200)\n",
    "\n",
    "print(outputs[0]['generated_text'])"
   ]
  }
 ],
 "metadata": {
  "kernelspec": {
   "display_name": "Python 3",
   "language": "python",
   "name": "python3"
  },
  "language_info": {
   "codemirror_mode": {
    "name": "ipython",
    "version": 3
   },
   "file_extension": ".py",
   "mimetype": "text/x-python",
   "name": "python",
   "nbconvert_exporter": "python",
   "pygments_lexer": "ipython3",
   "version": "3.10.9"
  },
  "orig_nbformat": 4
 },
 "nbformat": 4,
 "nbformat_minor": 2
}
