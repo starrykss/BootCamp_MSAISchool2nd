{
 "cells": [
  {
   "attachments": {},
   "cell_type": "markdown",
   "metadata": {},
   "source": [
    "# **열거형 자료 구조**\n",
    "---"
   ]
  },
  {
   "attachments": {},
   "cell_type": "markdown",
   "metadata": {},
   "source": [
    "## **List**\n",
    "\n",
    "- 가장 많이 사용하는 객체\n",
    "- 가장 사용하기 무거운 객체\n",
    "\n",
    "---"
   ]
  },
  {
   "cell_type": "code",
   "execution_count": 2,
   "metadata": {},
   "outputs": [
    {
     "name": "stdout",
     "output_type": "stream",
     "text": [
      "['red', 'green', 'gold']\n",
      "<class 'list'>\n"
     ]
    }
   ],
   "source": [
    "colors = ['red', 'green', 'gold']\n",
    "print(colors)\n",
    "print(type(colors))    # 타입 확인"
   ]
  },
  {
   "cell_type": "code",
   "execution_count": 3,
   "metadata": {},
   "outputs": [
    {
     "name": "stdout",
     "output_type": "stream",
     "text": [
      "['red', 'green', 'gold', 'blue']\n"
     ]
    }
   ],
   "source": [
    "colors.append('blue')    # 요소 추가\n",
    "print(colors)"
   ]
  },
  {
   "cell_type": "code",
   "execution_count": 4,
   "metadata": {},
   "outputs": [
    {
     "name": "stdout",
     "output_type": "stream",
     "text": [
      "['red', 'black', 'green', 'gold', 'blue']\n"
     ]
    }
   ],
   "source": [
    "colors.insert(1, 'black')    # 원하는 위치에 요소 삽입하기\n",
    "print(colors)"
   ]
  },
  {
   "cell_type": "code",
   "execution_count": 5,
   "metadata": {},
   "outputs": [
    {
     "name": "stdout",
     "output_type": "stream",
     "text": [
      "['red', 'black', 'green', 'gold', 'blue', 'white', 'gray']\n"
     ]
    }
   ],
   "source": [
    "colors.extend(['white', 'gray'])    # 동시에 여러 요소 삽입하기 (맨 뒤쪽에)\n",
    "print(colors)"
   ]
  },
  {
   "cell_type": "code",
   "execution_count": 6,
   "metadata": {},
   "outputs": [
    {
     "name": "stdout",
     "output_type": "stream",
     "text": [
      "['red', 'black', 'green', 'gold', 'blue', 'white', 'gray', 'rainbow', 'brown', 'red']\n"
     ]
    }
   ],
   "source": [
    "# 다음처럼, 연산자를 이용하는 방법은 혼란을 야기할 수 있기 때문에, 가급적 사용하지 않도록 한다.\n",
    "colors += [\"rainbow\", \"brown\"]\n",
    "colors = colors + ['red']\n",
    "print(colors)"
   ]
  },
  {
   "cell_type": "code",
   "execution_count": 7,
   "metadata": {},
   "outputs": [
    {
     "name": "stdout",
     "output_type": "stream",
     "text": [
      "0\n",
      "9\n"
     ]
    }
   ],
   "source": [
    "print(colors.index('red'))       # red 요소의 첫 번째 인덱스 출력\n",
    "print(colors.index('red', 1))    # 첫 번째 인덱스부터 시작하여 red 요소를 찾아 그 인덱스를 출력"
   ]
  },
  {
   "cell_type": "code",
   "execution_count": 8,
   "metadata": {},
   "outputs": [
    {
     "name": "stdout",
     "output_type": "stream",
     "text": [
      "2\n"
     ]
    }
   ],
   "source": [
    "print(colors.count('red'))    # red 요소의 총 개수 구하기"
   ]
  },
  {
   "attachments": {},
   "cell_type": "markdown",
   "metadata": {},
   "source": [
    "- 리스트는 스택 구조로 이루어져 있다."
   ]
  },
  {
   "cell_type": "code",
   "execution_count": 9,
   "metadata": {},
   "outputs": [
    {
     "data": {
      "text/plain": [
       "'red'"
      ]
     },
     "execution_count": 9,
     "metadata": {},
     "output_type": "execute_result"
    }
   ],
   "source": [
    "colors.pop()    # 맨 앞의 요소를 뺴낸다."
   ]
  },
  {
   "cell_type": "code",
   "execution_count": 10,
   "metadata": {},
   "outputs": [
    {
     "data": {
      "text/plain": [
       "'black'"
      ]
     },
     "execution_count": 10,
     "metadata": {},
     "output_type": "execute_result"
    }
   ],
   "source": [
    "colors.pop(1)   # 첫 번째 인덱스의 요소를 빼낸다."
   ]
  },
  {
   "cell_type": "code",
   "execution_count": 11,
   "metadata": {},
   "outputs": [
    {
     "name": "stdout",
     "output_type": "stream",
     "text": [
      "['red', 'green', 'gold', 'blue', 'white', 'gray', 'rainbow', 'brown']\n"
     ]
    }
   ],
   "source": [
    "print(colors)"
   ]
  },
  {
   "cell_type": "code",
   "execution_count": 12,
   "metadata": {},
   "outputs": [
    {
     "name": "stdout",
     "output_type": "stream",
     "text": [
      "['red', 'green', 'blue', 'white', 'gray', 'rainbow', 'brown']\n"
     ]
    }
   ],
   "source": [
    "# remove는 해당 값을 삭제 할 수 있다.\n",
    "colors.remove('gold')    # gold 요소 삭제\n",
    "print(colors)"
   ]
  },
  {
   "cell_type": "code",
   "execution_count": 13,
   "metadata": {},
   "outputs": [
    {
     "name": "stdout",
     "output_type": "stream",
     "text": [
      "['blue', 'brown', 'gray', 'green', 'rainbow', 'red', 'white']\n",
      "['white', 'red', 'rainbow', 'green', 'gray', 'brown', 'blue']\n"
     ]
    }
   ],
   "source": [
    "colors.sort()     # 정렬 (기본값 : 오름차순)\n",
    "print(colors)\n",
    "\n",
    "colors.sort(reverse=True)    # 정렬 (내림차순)\n",
    "print(colors)"
   ]
  },
  {
   "attachments": {},
   "cell_type": "markdown",
   "metadata": {},
   "source": [
    "## **세트(Set)**\n",
    "\n",
    "- 메모리도 덜 차지하고 CPU 부하도 덜 일으키는 장점이 있다.\n",
    "---"
   ]
  },
  {
   "cell_type": "code",
   "execution_count": 14,
   "metadata": {},
   "outputs": [],
   "source": [
    "a = { 1, 2, 3 }    # 중괄호({}, Curly Brace)를 사용하여 요소를 묶는다.\n",
    "b = { 3, 4, 5 }"
   ]
  },
  {
   "cell_type": "code",
   "execution_count": 15,
   "metadata": {},
   "outputs": [
    {
     "name": "stdout",
     "output_type": "stream",
     "text": [
      "{1, 2, 3} {3, 4, 5}\n",
      "<class 'set'>\n"
     ]
    }
   ],
   "source": [
    "print(a, b)\n",
    "print(type(a))"
   ]
  },
  {
   "cell_type": "code",
   "execution_count": 16,
   "metadata": {},
   "outputs": [
    {
     "name": "stdout",
     "output_type": "stream",
     "text": [
      "{1, 2, 3, 4, 5}\n",
      "{3}\n"
     ]
    }
   ],
   "source": [
    "# 합집합, 교집합을 구할 수 있다.\n",
    "print(a.union(b))           # 합집합 출력\n",
    "print(a.intersection(b))    # 교집합 출력"
   ]
  },
  {
   "cell_type": "code",
   "execution_count": 18,
   "metadata": {},
   "outputs": [
    {
     "name": "stdout",
     "output_type": "stream",
     "text": [
      "{1, 2}\n",
      "{1, 2, 3, 4, 5}\n",
      "{3}\n"
     ]
    }
   ],
   "source": [
    "# 다음과 같이 연산자를 사용할 수도 있지만, 함수를 사용하는 방법이 권장된다. (실수 방지)\n",
    "print(a - b)                # 차집합 출력\n",
    "print(a | b)                # 합집합\n",
    "print(a & b)                # 교집합"
   ]
  },
  {
   "attachments": {},
   "cell_type": "markdown",
   "metadata": {},
   "source": [
    "## **튜플(Tuple)**\n",
    "\n",
    "- 지금까지 나온 객체 중에서 제일 가벼운 객체이다.\n",
    "- 가급적 튜플을 사용하는 것이 좋다.\n",
    "\n",
    "---"
   ]
  },
  {
   "cell_type": "code",
   "execution_count": 19,
   "metadata": {},
   "outputs": [
    {
     "name": "stdout",
     "output_type": "stream",
     "text": [
      "<class 'tuple'>\n"
     ]
    }
   ],
   "source": [
    "t = (1, 2, 3)     # 소괄호(()) 를 사용하여 요소를 묶는다.\n",
    "print(type(t))"
   ]
  },
  {
   "cell_type": "code",
   "execution_count": 25,
   "metadata": {},
   "outputs": [
    {
     "name": "stdout",
     "output_type": "stream",
     "text": [
      "1 2\n",
      "1\n",
      "2\n",
      "\n",
      "1 2\n",
      "1\n",
      "2\n"
     ]
    }
   ],
   "source": [
    "a, b = 1, 2\n",
    "print(a, b)\n",
    "print(a)\n",
    "print(b)\n",
    "\n",
    "print()\n",
    "\n",
    "(c, d) = (1, 2)\n",
    "print(c, d)\n",
    "print(c)\n",
    "print(d)"
   ]
  },
  {
   "cell_type": "code",
   "execution_count": 27,
   "metadata": {},
   "outputs": [
    {
     "name": "stdout",
     "output_type": "stream",
     "text": [
      "10 20\n",
      "20 10\n"
     ]
    }
   ],
   "source": [
    "a = 10\n",
    "b = 20\n",
    "print(a, b)\n",
    "\n",
    "(a, b) = (b, a)    # 두 값 바꾸기\n",
    "\n",
    "print(a, b)"
   ]
  },
  {
   "cell_type": "code",
   "execution_count": 30,
   "metadata": {},
   "outputs": [
    {
     "name": "stdout",
     "output_type": "stream",
     "text": [
      "<class 'set'>\n",
      "<class 'list'>\n",
      "<class 'tuple'>\n",
      "<class 'set'>\n"
     ]
    }
   ],
   "source": [
    "# 타입의 전환도 무척 간단하다.\n",
    "a = set((1, 2, 3))\n",
    "print(type(a))\n",
    "\n",
    "b = list(a)\n",
    "print(type(b))\n",
    "\n",
    "c = tuple(b)\n",
    "print(type(c))\n",
    "\n",
    "d = set(c)\n",
    "print(type(d))"
   ]
  },
  {
   "cell_type": "code",
   "execution_count": 33,
   "metadata": {},
   "outputs": [
    {
     "name": "stdout",
     "output_type": "stream",
     "text": [
      "True\n"
     ]
    }
   ],
   "source": [
    "# in 연산자를 통해서 해당 값이 있는지 확인 가능하다.\n",
    "a = set((1, 2, 3))\n",
    "print(1 in a)    # in 연산자를 통해 해당 요소가 컨테이너에 있는지 체크할 수 있다."
   ]
  },
  {
   "attachments": {},
   "cell_type": "markdown",
   "metadata": {},
   "source": [
    "## 딕셔너리(Dictionary)\n",
    "---"
   ]
  },
  {
   "cell_type": "code",
   "execution_count": 38,
   "metadata": {},
   "outputs": [
    {
     "name": "stdout",
     "output_type": "stream",
     "text": [
      "{'a': 1, 'b': 2, 'c': 3}\n",
      "<class 'dict'>\n"
     ]
    }
   ],
   "source": [
    "d = dict(a = 1, b = 2, c = 3)    # Key : Value 형태로 이루어져 있다.\n",
    "print(d)\n",
    "print(type(d))"
   ]
  },
  {
   "cell_type": "code",
   "execution_count": 44,
   "metadata": {},
   "outputs": [
    {
     "name": "stdout",
     "output_type": "stream",
     "text": [
      "{'apple': 'red', 'watermelone': 'green', 'banana': 'yellow'}\n"
     ]
    }
   ],
   "source": [
    "# 직접 포맷을 만들어서 사용하는 것도 가능하다.\n",
    "color = { 'apple' : 'red', 'watermelone' : 'green', 'banana' : 'yellow' }\n",
    "print(color)"
   ]
  },
  {
   "cell_type": "code",
   "execution_count": 45,
   "metadata": {},
   "outputs": [
    {
     "name": "stdout",
     "output_type": "stream",
     "text": [
      "red\n"
     ]
    }
   ],
   "source": [
    "print(color['apple'])     # Key 값을 통해 Value를 뽑아낸다."
   ]
  },
  {
   "cell_type": "code",
   "execution_count": 46,
   "metadata": {},
   "outputs": [
    {
     "ename": "KeyError",
     "evalue": "0",
     "output_type": "error",
     "traceback": [
      "\u001b[1;31m---------------------------------------------------------------------------\u001b[0m",
      "\u001b[1;31mKeyError\u001b[0m                                  Traceback (most recent call last)",
      "Cell \u001b[1;32mIn[46], line 1\u001b[0m\n\u001b[1;32m----> 1\u001b[0m \u001b[39mprint\u001b[39m(color[\u001b[39m0\u001b[39;49m])   \u001b[39m# 인덱스로 찾으면 에러 발생 (딕셔너리 타입은 순서가 정해져 있지 않다. (인덱스가 없다.))\u001b[39;00m\n",
      "\u001b[1;31mKeyError\u001b[0m: 0"
     ]
    }
   ],
   "source": [
    "print(color[0])   # 인덱스로 찾으면 에러 발생 (딕셔너리 타입은 순서가 정해져 있지 않다. (인덱스가 없다.))"
   ]
  },
  {
   "cell_type": "code",
   "execution_count": 48,
   "metadata": {},
   "outputs": [
    {
     "ename": "KeyError",
     "evalue": "'kiwi'",
     "output_type": "error",
     "traceback": [
      "\u001b[1;31m---------------------------------------------------------------------------\u001b[0m",
      "\u001b[1;31mKeyError\u001b[0m                                  Traceback (most recent call last)",
      "Cell \u001b[1;32mIn[48], line 1\u001b[0m\n\u001b[1;32m----> 1\u001b[0m \u001b[39mprint\u001b[39m(color[\u001b[39m'\u001b[39;49m\u001b[39mkiwi\u001b[39;49m\u001b[39m'\u001b[39;49m])    \u001b[39m# 없는 것을 물어보면 예외가 발생된다.\u001b[39;00m\n",
      "\u001b[1;31mKeyError\u001b[0m: 'kiwi'"
     ]
    }
   ],
   "source": [
    "print(color['kiwi'])    # 없는 것을 물어보면 예외가 발생된다."
   ]
  },
  {
   "cell_type": "code",
   "execution_count": 49,
   "metadata": {},
   "outputs": [
    {
     "name": "stdout",
     "output_type": "stream",
     "text": [
      "red\n"
     ]
    }
   ],
   "source": [
    "color['cherry'] = 'red'    # 새로운 아이템을 추가한다. (파이썬의 공통적인 특성)\n",
    "print(color['cherry'])"
   ]
  },
  {
   "cell_type": "code",
   "execution_count": 50,
   "metadata": {},
   "outputs": [
    {
     "name": "stdout",
     "output_type": "stream",
     "text": [
      "{'apple': 'green', 'watermelone': 'green', 'banana': 'yellow', 'cherry': 'red'}\n"
     ]
    }
   ],
   "source": [
    "color['apple'] = 'green'       # 키는 중복이 되지 않는다.\n",
    "print(color)"
   ]
  },
  {
   "cell_type": "code",
   "execution_count": 54,
   "metadata": {},
   "outputs": [
    {
     "name": "stdout",
     "output_type": "stream",
     "text": [
      "dict_keys(['apple', 'watermelone', 'banana', 'cherry'])\n",
      "dict_values(['green', 'green', 'yellow', 'red'])\n",
      "dict_items([('apple', 'green'), ('watermelone', 'green'), ('banana', 'yellow'), ('cherry', 'red')])\n"
     ]
    }
   ],
   "source": [
    "print(color.keys())     # 딕셔너리에 있는 키들을 뽑아낸다.\n",
    "print(color.values())   # 딕셔너리에 있는 값들을 뽑아낸다.\n",
    "print(color.items())   # 딕셔너리에 있는 요소들(키, 값)을 뽑아낸다."
   ]
  },
  {
   "cell_type": "code",
   "execution_count": 60,
   "metadata": {},
   "outputs": [
    {
     "name": "stdout",
     "output_type": "stream",
     "text": [
      "apple : green\n",
      "watermelone : green\n",
      "banana : yellow\n",
      "cherry : red\n"
     ]
    }
   ],
   "source": [
    "# for 문을 사용해서 데이터 가져와보기\n",
    "# 파이썬에는 for ... in 형태의 for 문 밖에 없다.\n",
    "for k in color.keys():\n",
    "    print(k + \" : \" + color[k])"
   ]
  },
  {
   "cell_type": "code",
   "execution_count": 67,
   "metadata": {},
   "outputs": [
    {
     "name": "stdout",
     "output_type": "stream",
     "text": [
      "apple\n",
      "watermelone\n",
      "banana\n",
      "cherry\n",
      "green\n",
      "green\n",
      "yellow\n",
      "red\n",
      "('apple', 'green')\n",
      "('watermelone', 'green')\n",
      "('banana', 'yellow')\n",
      "('cherry', 'red')\n"
     ]
    }
   ],
   "source": [
    "for k in color.keys():\n",
    "    print(k)                # 키 출력\n",
    "for v in color.values():\n",
    "    print(v)                # 값 출력\n",
    "for i in color.items():\n",
    "    print(i)                # (키, 값) 출력"
   ]
  },
  {
   "cell_type": "code",
   "execution_count": 69,
   "metadata": {},
   "outputs": [
    {
     "name": "stdout",
     "output_type": "stream",
     "text": [
      "apple green\n",
      "watermelone green\n",
      "banana yellow\n",
      "cherry red\n"
     ]
    }
   ],
   "source": [
    "for (k, v) in color.items():\n",
    "    print(k, v)    # 튜플 타입으로 키와 값을 한꺼번에 가져오기"
   ]
  },
  {
   "cell_type": "code",
   "execution_count": 70,
   "metadata": {},
   "outputs": [
    {
     "name": "stdout",
     "output_type": "stream",
     "text": [
      "{'apple': 'green', 'watermelone': 'green', 'banana': 'yellow'}\n"
     ]
    }
   ],
   "source": [
    "# 딕셔너리에서  불필요한 요소 삭제하기\n",
    "del color['cherry']    # Key가 cherry인 요소 삭제\n",
    "print(color)"
   ]
  },
  {
   "cell_type": "code",
   "execution_count": 71,
   "metadata": {},
   "outputs": [
    {
     "name": "stdout",
     "output_type": "stream",
     "text": [
      "{}\n"
     ]
    }
   ],
   "source": [
    "color.clear()    # color 딕셔너리의 모든 요소 삭제\n",
    "print(color)"
   ]
  },
  {
   "cell_type": "code",
   "execution_count": 72,
   "metadata": {},
   "outputs": [
    {
     "data": {
      "text/plain": [
       "{'age': 40.5, 'job': [1, 2, 3], 'name': {'Kim': 2}, 'Cho': 4}"
      ]
     },
     "execution_count": 72,
     "metadata": {},
     "output_type": "execute_result"
    }
   ],
   "source": [
    "# 딕셔너리는 다른 시스템과 데이터를 주고 받을 때 많이 사용한다.\n",
    "# 예전에는 XML을 주로 사용하였다.\n",
    "# 하지만 태그가 너무 많아 데이터가 커진다는 단점이 생겼다.\n",
    "# 그래서 요즘은 XML 보다는 더 가벼운 JSON을 사용한다.\n",
    "# JSON은 Key: Value 형태로 이루어져 있다.\n",
    "# JSON은 자바스크립트를 위해 만들어졌다. (JavaScript Object Notation)\n",
    "# 시스템에서 왔다갔다 하는 대부분의 데이터는 JSON 형태로 이루어져 있다.\n",
    "\n",
    "# 데이터 타입은 서로 혼용해서 사용하는 것이 가능하다.\n",
    "{'age' : 40.5, 'job': [1, 2, 3], 'name': {'Kim': 2}, 'Cho': 4}"
   ]
  },
  {
   "attachments": {},
   "cell_type": "markdown",
   "metadata": {},
   "source": [
    "## **`bool` 타입**\n",
    "---"
   ]
  },
  {
   "cell_type": "code",
   "execution_count": 73,
   "metadata": {},
   "outputs": [
    {
     "name": "stdout",
     "output_type": "stream",
     "text": [
      "<class 'bool'>\n"
     ]
    }
   ],
   "source": [
    "isRight = False\n",
    "print(type(isRight))"
   ]
  },
  {
   "cell_type": "code",
   "execution_count": 74,
   "metadata": {},
   "outputs": [
    {
     "name": "stdout",
     "output_type": "stream",
     "text": [
      "True\n",
      "False\n",
      "True\n"
     ]
    }
   ],
   "source": [
    "print(1 < 2)\n",
    "print(1 == 2)\n",
    "print(1 != 2)"
   ]
  },
  {
   "attachments": {},
   "cell_type": "markdown",
   "metadata": {},
   "source": [
    "## **논리 연산자**\n",
    "---"
   ]
  },
  {
   "cell_type": "code",
   "execution_count": 77,
   "metadata": {},
   "outputs": [
    {
     "name": "stdout",
     "output_type": "stream",
     "text": [
      "False\n",
      "False\n",
      "True\n",
      "True\n",
      "False\n"
     ]
    }
   ],
   "source": [
    "# AND \n",
    "print(True and False)\n",
    "print(True & False)\n",
    "\n",
    "# OR\n",
    "print(True or False)\n",
    "print(True | False)\n",
    "\n",
    "# NOT\n",
    "print(not True)"
   ]
  },
  {
   "attachments": {},
   "cell_type": "markdown",
   "metadata": {},
   "source": [
    "## **얕은 복사와 깊은 복사**\n",
    "---\n",
    "\n",
    "- `Call by Reference`\n",
    "- `Call by Value`"
   ]
  },
  {
   "cell_type": "code",
   "execution_count": 78,
   "metadata": {},
   "outputs": [
    {
     "name": "stdout",
     "output_type": "stream",
     "text": [
      "[1, 2, 3]\n"
     ]
    }
   ],
   "source": [
    "# Call by Reference\n",
    "a = [1, 2, 3]\n",
    "b = a     # b에는 a의 주소만 들어온다. (얕은 복사, Call by Reference)\n",
    "print(b)"
   ]
  },
  {
   "cell_type": "code",
   "execution_count": 79,
   "metadata": {},
   "outputs": [
    {
     "name": "stdout",
     "output_type": "stream",
     "text": [
      "[38, 2, 3]\n",
      "[38, 2, 3]\n"
     ]
    }
   ],
   "source": [
    "a[0] = 38\n",
    "print(a)\n",
    "print(b)    # b의 내용까지 같이 바뀐다. => a만 보여준다."
   ]
  },
  {
   "cell_type": "code",
   "execution_count": 80,
   "metadata": {},
   "outputs": [],
   "source": [
    "# Call by Value\n",
    "# [:] 사용하기\n",
    "a = [1, 2, 3]\n",
    "b = a[:]    # [:] 사용 (깊은 복사, Call by Value)"
   ]
  },
  {
   "cell_type": "code",
   "execution_count": 81,
   "metadata": {},
   "outputs": [
    {
     "name": "stdout",
     "output_type": "stream",
     "text": [
      "[38, 2, 3]\n",
      "[1, 2, 3]\n"
     ]
    }
   ],
   "source": [
    "a[0] = 38\n",
    "print(a)\n",
    "print(b)    # b의 내용이 바뀌지 않는다."
   ]
  },
  {
   "cell_type": "code",
   "execution_count": 86,
   "metadata": {},
   "outputs": [],
   "source": [
    "# copy moddule 사용하기\n",
    "import copy\n",
    "\n",
    "a = [1, 2, 3]\n",
    "b = copy.deepcopy(a)    # copy.deeocopy() 사용 (깊은 복사, Call by Value)"
   ]
  },
  {
   "cell_type": "code",
   "execution_count": 87,
   "metadata": {},
   "outputs": [
    {
     "name": "stdout",
     "output_type": "stream",
     "text": [
      "[38, 2, 3]\n",
      "[1, 2, 3]\n"
     ]
    }
   ],
   "source": [
    "a[0] = 38\n",
    "print(a)\n",
    "print(b)"
   ]
  }
 ],
 "metadata": {
  "kernelspec": {
   "display_name": "Python 3",
   "language": "python",
   "name": "python3"
  },
  "language_info": {
   "codemirror_mode": {
    "name": "ipython",
    "version": 3
   },
   "file_extension": ".py",
   "mimetype": "text/x-python",
   "name": "python",
   "nbconvert_exporter": "python",
   "pygments_lexer": "ipython3",
   "version": "3.9.13"
  },
  "orig_nbformat": 4
 },
 "nbformat": 4,
 "nbformat_minor": 2
}
