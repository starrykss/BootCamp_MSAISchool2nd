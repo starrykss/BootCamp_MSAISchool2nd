{
 "cells": [
  {
   "attachments": {},
   "cell_type": "markdown",
   "metadata": {},
   "source": [
    "# **함수**\n",
    "---"
   ]
  },
  {
   "cell_type": "code",
   "execution_count": 3,
   "metadata": {},
   "outputs": [],
   "source": [
    "# Function\n",
    "\n",
    "def Times(a, b):\n",
    "    result = a * b\n",
    "    return result"
   ]
  },
  {
   "cell_type": "code",
   "execution_count": 8,
   "metadata": {},
   "outputs": [
    {
     "name": "stdout",
     "output_type": "stream",
     "text": [
      "<function Times at 0x000001F66736E8B0>\n"
     ]
    }
   ],
   "source": [
    "print(Times)    # 함수가 올라온 메모리 주소 확인 (16진수)"
   ]
  },
  {
   "cell_type": "code",
   "execution_count": 9,
   "metadata": {},
   "outputs": [
    {
     "name": "stdout",
     "output_type": "stream",
     "text": [
      "539\n"
     ]
    }
   ],
   "source": [
    "print(Times(7, 77))"
   ]
  },
  {
   "cell_type": "code",
   "execution_count": 10,
   "metadata": {},
   "outputs": [
    {
     "name": "stdout",
     "output_type": "stream",
     "text": [
      "2157805234352\n"
     ]
    }
   ],
   "source": [
    "# 메모리 주소를 확인하는 명령 (10진수)\n",
    "print(id(Times))"
   ]
  },
  {
   "cell_type": "code",
   "execution_count": 17,
   "metadata": {},
   "outputs": [
    {
     "name": "stdout",
     "output_type": "stream",
     "text": [
      "<built-in function globals>\n"
     ]
    }
   ],
   "source": [
    "print(globals)   \n",
    "# lobals()     # 메모리에 올라와 있는 함수들의 목록을 볼 수 있다."
   ]
  },
  {
   "cell_type": "code",
   "execution_count": 19,
   "metadata": {},
   "outputs": [
    {
     "name": "stdout",
     "output_type": "stream",
     "text": [
      "200\n",
      "2157805234352\n"
     ]
    }
   ],
   "source": [
    "myTimes = Times          # 함수 복사 \n",
    "print(myTimes(10, 20))    \n",
    "print(id(myTimes))       # Times 함수와 메모리 주소가 비슷한 것을 확인할 수 있다. (Call by Reference)"
   ]
  },
  {
   "cell_type": "code",
   "execution_count": 21,
   "metadata": {},
   "outputs": [],
   "source": [
    "# 리스트 타입으로 변수를 만들면, 실제 내용은 힙(Heap)이라는 공간에 만들어진다.\n",
    "# 이러한 힙 공간은 메모리의 주소와 연결 된다. -> Call by Reference 가 발생하는 이유\n",
    "\n",
    "a = 10\n",
    "b = 20\n",
    "\n",
    "def sum1(x, y):\n",
    "    return x + y"
   ]
  },
  {
   "cell_type": "code",
   "execution_count": 23,
   "metadata": {},
   "outputs": [
    {
     "name": "stdout",
     "output_type": "stream",
     "text": [
      "30\n"
     ]
    }
   ],
   "source": [
    "print(sum1(a, b))"
   ]
  },
  {
   "cell_type": "code",
   "execution_count": 24,
   "metadata": {},
   "outputs": [
    {
     "name": "stdout",
     "output_type": "stream",
     "text": [
      "(1, 20)\n"
     ]
    }
   ],
   "source": [
    "# 변수의 범위(range)\n",
    "\n",
    "x = 10\n",
    "def sum2(x, y):\n",
    "    x = 1\n",
    "    return x, y     # 리턴값을 2개 설정하였다. (튜플 타입으로 반환된다. 일반적인 언어에서는 1개만 보낼 수 있다.)\n",
    "\n",
    "print(sum2(x, 20))"
   ]
  },
  {
   "cell_type": "code",
   "execution_count": 25,
   "metadata": {},
   "outputs": [
    {
     "name": "stdout",
     "output_type": "stream",
     "text": [
      "(10, 20)\n",
      "11\n"
     ]
    }
   ],
   "source": [
    "g = 10\n",
    "def sum3(x, y):\n",
    "    global g    # 전역 변수로 g를 선언한다.\n",
    "    g = g + 1\n",
    "    return x, y\n",
    "\n",
    "print(sum3(x, 20))\n",
    "print(g)"
   ]
  },
  {
   "cell_type": "code",
   "execution_count": 28,
   "metadata": {},
   "outputs": [
    {
     "name": "stdout",
     "output_type": "stream",
     "text": [
      "20000\n",
      "2000\n",
      "200\n",
      "2000\n"
     ]
    }
   ],
   "source": [
    "# 함수의 인자(Parameter)\n",
    "def Times(a=10, b=20):\n",
    "    return a * b\n",
    "\n",
    "print(Times(100, 200))\n",
    "print(Times(100))\n",
    "print(Times())\n",
    "print(Times(b=200))    # b의 값만 지정하면 a의 값은 디폴트값으로 적용된다."
   ]
  },
  {
   "cell_type": "code",
   "execution_count": 41,
   "metadata": {},
   "outputs": [
    {
     "name": "stdout",
     "output_type": "stream",
     "text": [
      "http://www,savor.com:80\n",
      "https://www.microsoft.com:80\n",
      "https://www.naver.com:8080\n"
     ]
    }
   ],
   "source": [
    "def connectURL(protocol='https', server='www.naver.com', port='80'):\n",
    "    address = protocol + '://' + server + \":\" + port\n",
    "    return address\n",
    "\n",
    "print(connectURL(protocol='http', server=\"www,savor.com\", port=\"80\"))\n",
    "print(connectURL(server=\"www.microsoft.com\", port=\"80\"))     # 웹 포트의 경우 기본 포트 번호가 80번으로 지정되어 있다.\n",
    "print(connectURL(port=\"8080\"))"
   ]
  },
  {
   "cell_type": "code",
   "execution_count": 52,
   "metadata": {},
   "outputs": [
    {
     "name": "stdout",
     "output_type": "stream",
     "text": [
      "<class 'tuple'>\n",
      "(1, 2, 3, 4, 5)\n",
      "<class 'tuple'>\n",
      "(1, 2, 3)\n",
      "<class 'tuple'>\n",
      "(1, 2)\n",
      "<class 'tuple'>\n",
      "(1, 2, 3, 4, 5)\n"
     ]
    }
   ],
   "source": [
    "# 가변 인자 함수\n",
    "def test(*args):    # 파라미터 앞에 *를 붙이면 가변 인자가 된다. (C언어의 포인트 기법을 파이썬에서 차용한 것)\n",
    "    print(type(args))    # 튜플 타입으로 받아온다.\n",
    "    print(args)\n",
    "\n",
    "test(1, 2, 3, 4, 5)\n",
    "test(1, 2, 3)\n",
    "test(1, 2)\n",
    "test(1, 2, 3, 4, 5)"
   ]
  },
  {
   "cell_type": "code",
   "execution_count": null,
   "metadata": {},
   "outputs": [],
   "source": []
  }
 ],
 "metadata": {
  "kernelspec": {
   "display_name": "Python 3",
   "language": "python",
   "name": "python3"
  },
  "language_info": {
   "codemirror_mode": {
    "name": "ipython",
    "version": 3
   },
   "file_extension": ".py",
   "mimetype": "text/x-python",
   "name": "python",
   "nbconvert_exporter": "python",
   "pygments_lexer": "ipython3",
   "version": "3.9.13"
  },
  "orig_nbformat": 4
 },
 "nbformat": 4,
 "nbformat_minor": 2
}
