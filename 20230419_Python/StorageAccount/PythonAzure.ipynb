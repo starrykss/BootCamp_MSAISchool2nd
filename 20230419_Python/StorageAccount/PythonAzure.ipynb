{
 "cells": [
  {
   "attachments": {},
   "cell_type": "markdown",
   "metadata": {},
   "source": [
    "# **Python Azure**\n",
    "---"
   ]
  },
  {
   "cell_type": "code",
   "execution_count": 10,
   "metadata": {},
   "outputs": [
    {
     "name": "stdout",
     "output_type": "stream",
     "text": [
      "Requirement already satisfied: azure-storage-blob in c:\\users\\kss34\\anaconda3\\lib\\site-packages (12.16.0)\n",
      "Collecting azure-identity\n",
      "  Downloading azure_identity-1.12.0-py3-none-any.whl (135 kB)\n",
      "     -------------------------------------- 135.5/135.5 kB 4.0 MB/s eta 0:00:00\n",
      "Requirement already satisfied: cryptography>=2.1.4 in c:\\users\\kss34\\anaconda3\\lib\\site-packages (from azure-storage-blob) (39.0.1)\n",
      "Requirement already satisfied: isodate>=0.6.1 in c:\\users\\kss34\\anaconda3\\lib\\site-packages (from azure-storage-blob) (0.6.1)\n",
      "Requirement already satisfied: typing-extensions>=4.0.1 in c:\\users\\kss34\\anaconda3\\lib\\site-packages (from azure-storage-blob) (4.4.0)\n",
      "Requirement already satisfied: azure-core<2.0.0,>=1.26.0 in c:\\users\\kss34\\anaconda3\\lib\\site-packages (from azure-storage-blob) (1.26.4)\n",
      "Collecting msal<2.0.0,>=1.12.0\n",
      "  Downloading msal-1.22.0-py2.py3-none-any.whl (90 kB)\n",
      "     ---------------------------------------- 90.0/90.0 kB 2.6 MB/s eta 0:00:00\n",
      "Requirement already satisfied: six>=1.12.0 in c:\\users\\kss34\\anaconda3\\lib\\site-packages (from azure-identity) (1.16.0)\n",
      "Collecting msal-extensions<2.0.0,>=0.3.0\n",
      "  Downloading msal_extensions-1.0.0-py2.py3-none-any.whl (19 kB)\n",
      "Requirement already satisfied: requests>=2.18.4 in c:\\users\\kss34\\anaconda3\\lib\\site-packages (from azure-core<2.0.0,>=1.26.0->azure-storage-blob) (2.28.1)\n",
      "Requirement already satisfied: cffi>=1.12 in c:\\users\\kss34\\anaconda3\\lib\\site-packages (from cryptography>=2.1.4->azure-storage-blob) (1.15.1)\n",
      "Requirement already satisfied: PyJWT[crypto]<3,>=1.0.0 in c:\\users\\kss34\\anaconda3\\lib\\site-packages (from msal<2.0.0,>=1.12.0->azure-identity) (2.4.0)\n",
      "Collecting portalocker<3,>=1.6\n",
      "  Downloading portalocker-2.7.0-py2.py3-none-any.whl (15 kB)\n",
      "Requirement already satisfied: pycparser in c:\\users\\kss34\\anaconda3\\lib\\site-packages (from cffi>=1.12->cryptography>=2.1.4->azure-storage-blob) (2.21)\n",
      "Requirement already satisfied: pywin32>=226 in c:\\users\\kss34\\anaconda3\\lib\\site-packages (from portalocker<3,>=1.6->msal-extensions<2.0.0,>=0.3.0->azure-identity) (305.1)\n",
      "Requirement already satisfied: idna<4,>=2.5 in c:\\users\\kss34\\anaconda3\\lib\\site-packages (from requests>=2.18.4->azure-core<2.0.0,>=1.26.0->azure-storage-blob) (3.4)\n",
      "Requirement already satisfied: urllib3<1.27,>=1.21.1 in c:\\users\\kss34\\anaconda3\\lib\\site-packages (from requests>=2.18.4->azure-core<2.0.0,>=1.26.0->azure-storage-blob) (1.26.14)\n",
      "Requirement already satisfied: charset-normalizer<3,>=2 in c:\\users\\kss34\\anaconda3\\lib\\site-packages (from requests>=2.18.4->azure-core<2.0.0,>=1.26.0->azure-storage-blob) (2.0.4)\n",
      "Requirement already satisfied: certifi>=2017.4.17 in c:\\users\\kss34\\anaconda3\\lib\\site-packages (from requests>=2.18.4->azure-core<2.0.0,>=1.26.0->azure-storage-blob) (2022.12.7)\n",
      "Installing collected packages: portalocker, msal, msal-extensions, azure-identity\n",
      "Successfully installed azure-identity-1.12.0 msal-1.22.0 msal-extensions-1.0.0 portalocker-2.7.0\n"
     ]
    }
   ],
   "source": [
    "# 필요한 패키지 설치\n",
    "!pip install azure-storage-blob azure-identity"
   ]
  },
  {
   "cell_type": "code",
   "execution_count": 11,
   "metadata": {},
   "outputs": [],
   "source": [
    "import os, uuid\n",
    "from azure.identity import DefaultAzureCredential\n",
    "from azure.storage.blob import BlobServiceClient, BlobClient, ContainerClient"
   ]
  },
  {
   "cell_type": "code",
   "execution_count": 12,
   "metadata": {},
   "outputs": [],
   "source": [
    "# Azure에서 복사한 '연결 문자열'을 이용하여 Blob 서버에 접속하기\n",
    "connect_str = 'DefaultEndpointsProtocol=https;AccountName=labuser111storageaccount;AccountKey=*************************i5kTFlc4sHX0QBGFxm8Q3NBDk4/Xt7UJ+AStpdhafw==;EndpointSuffix=core.windows.net'             # 연결 문자열 ✅\n",
    "blob_service_client = BlobServiceClient.from_connection_string(connect_str)     # 연결 문자열을 이용해서 Blob Service에 연결"
   ]
  },
  {
   "cell_type": "code",
   "execution_count": 13,
   "metadata": {},
   "outputs": [
    {
     "data": {
      "text/plain": [
       "<azure.storage.blob._container_client.ContainerClient at 0x17287b4f2b0>"
      ]
     },
     "execution_count": 13,
     "metadata": {},
     "output_type": "execute_result"
    }
   ],
   "source": [
    "container_name = 'test2container'\n",
    "\n",
    "blob_service_client.create_container(container_name)"
   ]
  },
  {
   "cell_type": "code",
   "execution_count": 14,
   "metadata": {},
   "outputs": [],
   "source": [
    "# Create a local directory to hold blob data\n",
    "local_path = './data'\n",
    "os.mkdir(local_path)\n",
    "\n",
    "# Create a file in the local directory\n",
    "local_file_name = 'welcome' + '.txt'\n",
    "upload_file_path = os.path.join(local_path, local_file_name)\n",
    "\n",
    "# Write text to the file\n",
    "file = open(upload_file_path, mode='w')\n",
    "file.write('Welcome to Python')\n",
    "file.close()     # Close를 안하면 파일이 나중에 잘 깨진다. (0B 파일들)"
   ]
  },
  {
   "cell_type": "code",
   "execution_count": 17,
   "metadata": {},
   "outputs": [],
   "source": [
    "blob_client = blob_service_client.get_blob_client(container=container_name, blob=local_file_name)\n",
    "with open(file=upload_file_path, mode='rb') as data:\n",
    "    blob_client.upload_blob(data)"
   ]
  },
  {
   "cell_type": "code",
   "execution_count": null,
   "metadata": {},
   "outputs": [],
   "source": [
    "# blob 파일의 리스트를 확인한다. \n",
    "print('\\nListing blobs')\n",
    "\n",
    "blob_list = container_client.list_blobs()\n",
    "for blob in blob_list:\n",
    "  print('\\t' + blob.name)"
   ]
  },
  {
   "cell_type": "code",
   "execution_count": null,
   "metadata": {},
   "outputs": [],
   "source": [
    "# Download the blob to a local file\n",
    "# Add 'DOWNLOAD' befere the .txt extendsion so you can see both files in the data directory \n",
    "\n",
    "download_file_path = os.path.join(local_path, \n",
    "                                  str.replace(local_file_name,'.txt','_DOWNLOAD.txt'))\n",
    "print(download_file_path)\n",
    "container_client = blob_service_client.get_container_client(container=container_name)\n",
    "\n",
    "with open(file=download_file_path, mode='wb') as download_file:\n",
    "  download_file.write(container_client.download_blob(blob.name).readall())"
   ]
  },
  {
   "cell_type": "code",
   "execution_count": null,
   "metadata": {},
   "outputs": [],
   "source": [
    "# Clean Up\n",
    "print('\\nPress the Enter Key to begin clean up')\n",
    "if input() == 'yes':\n",
    "\n",
    "  print('Deleting blob container...')\n",
    "  container_client.delete_container()\n",
    "\n",
    "  print('Deleteing the local source and downloaded files....')\n",
    "  os.remove(upload_file_path)\n",
    "  os.remove(download_file_path)\n",
    "  os.rmdir(local_path)\n",
    "\n",
    "  print('Done')"
   ]
  },
  {
   "cell_type": "code",
   "execution_count": null,
   "metadata": {},
   "outputs": [],
   "source": []
  }
 ],
 "metadata": {
  "kernelspec": {
   "display_name": "base",
   "language": "python",
   "name": "python3"
  },
  "language_info": {
   "codemirror_mode": {
    "name": "ipython",
    "version": 3
   },
   "file_extension": ".py",
   "mimetype": "text/x-python",
   "name": "python",
   "nbconvert_exporter": "python",
   "pygments_lexer": "ipython3",
   "version": "3.10.9"
  },
  "orig_nbformat": 4
 },
 "nbformat": 4,
 "nbformat_minor": 2
}
