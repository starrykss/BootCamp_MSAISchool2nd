{
  "cells": [
    {
      "cell_type": "markdown",
      "metadata": {
        "id": "mMoLu4ta_X0S"
      },
      "source": [
        "# **제어문**\n",
        "---"
      ]
    },
    {
      "cell_type": "code",
      "execution_count": null,
      "metadata": {
        "colab": {
          "base_uri": "https://localhost:8080/"
        },
        "id": "EZms4Rlm_X0T",
        "outputId": "4498c6af-be2d-42fd-97d7-4a2ffa8789f3"
      },
      "outputs": [
        {
          "output_type": "stream",
          "name": "stdout",
          "text": [
            "value is bigger than 5\n"
          ]
        }
      ],
      "source": [
        "# 조건에 따라서 다른 결과를 얻기 위해서 사용하는 것\n",
        "\n",
        "value = 10\n",
        "if value >  5 :\n",
        "    print('value is bigger than 5')"
      ]
    },
    {
      "cell_type": "code",
      "execution_count": null,
      "metadata": {
        "colab": {
          "base_uri": "https://localhost:8080/"
        },
        "id": "Ou96MJ79_X0V",
        "outputId": "acd4dee3-832d-4fc0-9352-16b6e40de0f3"
      },
      "outputs": [
        {
          "output_type": "stream",
          "name": "stdout",
          "text": [
            "banana\n"
          ]
        }
      ],
      "source": [
        "money = 10\n",
        "\n",
        "if money > 100:\n",
        "    item = 'apple'\n",
        "else:\n",
        "    item = 'banana'\n",
        "\n",
        "print(item)"
      ]
    },
    {
      "cell_type": "code",
      "execution_count": null,
      "metadata": {
        "id": "Ywc5pZuC_X0V",
        "colab": {
          "base_uri": "https://localhost:8080/"
        },
        "outputId": "dda213a0-cef4-4093-b4bf-ff87ecd90d5b"
      },
      "outputs": [
        {
          "output_type": "stream",
          "name": "stdout",
          "text": [
            "Input your score:  40\n",
            "Your score is 40 and your grade is F.\n"
          ]
        }
      ],
      "source": [
        "# 성적 처리\n",
        "\n",
        "score = int(input(\"Input your score:  \"))    # 입력 받기\n",
        "\n",
        "if 90 <= score <= 100:\n",
        "    grade = 'A'\n",
        "elif 80 <= score < 90:\n",
        "    grade = 'B'\n",
        "elif 70 <= score < 80:\n",
        "    grade = 'C'\n",
        "elif 60 <= score < 70:\n",
        "    grade = 'D'\n",
        "else:\n",
        "    grade = 'F'\n",
        "\n",
        "print(\"Your score is {} and your grade is {}.\".format(score, grade))"
      ]
    },
    {
      "cell_type": "markdown",
      "metadata": {
        "id": "NiMC_KfL_X0W"
      },
      "source": [
        "## **`bool`**\n",
        "---"
      ]
    },
    {
      "cell_type": "code",
      "execution_count": null,
      "metadata": {
        "id": "z7NEM93T_X0W",
        "colab": {
          "base_uri": "https://localhost:8080/"
        },
        "outputId": "6927cc2a-4d94-4008-bc3b-4e5741594189"
      },
      "outputs": [
        {
          "metadata": {
            "tags": null
          },
          "name": "stdout",
          "output_type": "stream",
          "text": [
            "True\n",
            "False\n",
            "True\n",
            "False\n",
            "True\n",
            "True\n",
            "False\n",
            "True\n",
            "False\n"
          ]
        }
      ],
      "source": [
        "# 조건식의 참과 거짓\n",
        "print(bool(True))\n",
        "print(bool(False))\n",
        "print(bool(123))\n",
        "print(bool(0))     # 0은 False 이다.\n",
        "print(bool(-1))    # -1도 True이다. (0을 제외한 나머지 숫자는 True이다.)\n",
        "print(bool('apple'))\n",
        "print(bool(''))    # 내용이 없으면 False\n",
        "print(bool(' '))   # 공백은 True\n",
        "print(bool())"
      ]
    },
    {
      "cell_type": "markdown",
      "metadata": {
        "id": "VOmDSGlm_X0W"
      },
      "source": [
        "## **반복문 (`while` and `for`)**\n",
        "---"
      ]
    },
    {
      "cell_type": "code",
      "execution_count": null,
      "metadata": {
        "id": "uDWgDug2_X0W",
        "colab": {
          "base_uri": "https://localhost:8080/"
        },
        "outputId": "5ae4cd6c-6890-4f93-9cec-4bbfda529217"
      },
      "outputs": [
        {
          "output_type": "stream",
          "name": "stdout",
          "text": [
            "5\n",
            "4\n",
            "3\n",
            "2\n",
            "1\n"
          ]
        }
      ],
      "source": [
        "value = 5\n",
        "while value > 0:\n",
        "    print(value)\n",
        "    value -= 1"
      ]
    },
    {
      "cell_type": "code",
      "execution_count": null,
      "metadata": {
        "id": "k6wC3bbz_X0W",
        "colab": {
          "base_uri": "https://localhost:8080/"
        },
        "outputId": "1b77c104-7cc6-4c24-9366-370a78605ece"
      },
      "outputs": [
        {
          "output_type": "stream",
          "name": "stdout",
          "text": [
            "Apple\n",
            "100\n",
            "15.23\n"
          ]
        }
      ],
      "source": [
        "l = ['Apple', 100, 15.23]\n",
        "for i in l:\n",
        "    print(i)"
      ]
    },
    {
      "cell_type": "code",
      "execution_count": null,
      "metadata": {
        "id": "NEwrYFtE_X0X",
        "colab": {
          "base_uri": "https://localhost:8080/",
          "height": 1000
        },
        "outputId": "32f44dfb-490f-4261-dded-05d45c676ea1"
      },
      "outputs": [
        {
          "metadata": {
            "tags": null
          },
          "name": "stdout",
          "output_type": "stream",
          "text": [
            "i * 1 = 2\n",
            "i * 1 = 3\n",
            "i * 1 = 4\n",
            "i * 1 = 5\n",
            "i * 1 = 6\n",
            "i * 1 = 7\n",
            "i * 1 = 8\n",
            "i * 1 = 9\n",
            "i * 2 = 4\n",
            "i * 2 = 6\n",
            "i * 2 = 8\n",
            "i * 2 = 10\n",
            "i * 2 = 12\n",
            "i * 2 = 14\n",
            "i * 2 = 16\n",
            "i * 2 = 18\n",
            "i * 3 = 6\n",
            "i * 3 = 9\n",
            "i * 3 = 12\n",
            "i * 3 = 15\n",
            "i * 3 = 18\n",
            "i * 3 = 21\n",
            "i * 3 = 24\n",
            "i * 3 = 27\n",
            "i * 4 = 8\n",
            "i * 4 = 12\n",
            "i * 4 = 16\n",
            "i * 4 = 20\n",
            "i * 4 = 24\n",
            "i * 4 = 28\n",
            "i * 4 = 32\n",
            "i * 4 = 36\n",
            "i * 5 = 10\n",
            "i * 5 = 15\n",
            "i * 5 = 20\n",
            "i * 5 = 25\n",
            "i * 5 = 30\n",
            "i * 5 = 35\n",
            "i * 5 = 40\n",
            "i * 5 = 45\n",
            "i * 6 = 12\n",
            "i * 6 = 18\n",
            "i * 6 = 24\n",
            "i * 6 = 30\n",
            "i * 6 = 36\n",
            "i * 6 = 42\n",
            "i * 6 = 48\n",
            "i * 6 = 54\n",
            "i * 7 = 14\n",
            "i * 7 = 21\n",
            "i * 7 = 28\n",
            "i * 7 = 35\n",
            "i * 7 = 42\n",
            "i * 7 = 49\n",
            "i * 7 = 56\n",
            "i * 7 = 63\n",
            "i * 8 = 16\n",
            "i * 8 = 24\n",
            "i * 8 = 32\n",
            "i * 8 = 40\n",
            "i * 8 = 48\n",
            "i * 8 = 56\n",
            "i * 8 = 64\n",
            "i * 8 = 72\n",
            "i * 9 = 18\n",
            "i * 9 = 27\n",
            "i * 9 = 36\n",
            "i * 9 = 45\n",
            "i * 9 = 54\n",
            "i * 9 = 63\n",
            "i * 9 = 72\n",
            "i * 9 = 81\n"
          ]
        },
        {
          "data": {
            "application/vnd.google.colaboratory.intrinsic+json": {
              "type": "string"
            },
            "text/plain": [
              "'\\nfor i in loop1:\\n    for j in loop2:\\n        print(i, \"*\", j, \"=\", i * j)\\n'"
            ]
          },
          "execution_count": 8,
          "metadata": {},
          "output_type": "execute_result"
        }
      ],
      "source": [
        "# 구구단 출력\n",
        "loop1 = [2, 3, 4, 5, 6, 7, 8, 9]\n",
        "loop2 = [1, 2, 3, 4, 5, 6, 7, 8, 9]\n",
        "\n",
        "for i in loop2:\n",
        "    for j in loop1:\n",
        "        print(\"i * {0} = {1}\".format(i, i * j))\n",
        "\"\"\"\n",
        "for i in loop1:\n",
        "    for j in loop2:\n",
        "        print(i, \"*\", j, \"=\", i * j)\n",
        "\"\"\"\n",
        "\n",
        "        "
      ]
    },
    {
      "cell_type": "code",
      "execution_count": null,
      "metadata": {
        "id": "ptMQq2Gd_X0X"
      },
      "outputs": [],
      "source": [
        "L = [1, 2, 3, 4, 5, 6, 7, 8, 9, 10]"
      ]
    },
    {
      "cell_type": "code",
      "execution_count": null,
      "metadata": {
        "id": "EZ2VeO_o_X0X",
        "colab": {
          "base_uri": "https://localhost:8080/"
        },
        "outputId": "53f9f603-864b-4e20-e67a-9a90b9d3da62"
      },
      "outputs": [
        {
          "output_type": "stream",
          "name": "stdout",
          "text": [
            "Item: 1\n",
            "Item: 2\n",
            "Item: 3\n",
            "Item: 4\n",
            "Item: 5\n"
          ]
        }
      ],
      "source": [
        "# break 문을 사용하면 반복문을 중간에 멈출 수 있다.\n",
        "for i in L:\n",
        "    if i > 5:\n",
        "        break\n",
        "    print('Item: {0}'.format(i))    # 대괄호 안에 있는 번호는 0, 1, 2, ... 등이 넣어진다.\n",
        "    "
      ]
    },
    {
      "cell_type": "code",
      "execution_count": null,
      "metadata": {
        "id": "O99LhVkm_X0X",
        "colab": {
          "base_uri": "https://localhost:8080/"
        },
        "outputId": "8293dee5-b413-46a0-fa04-71cd4ba44ca4"
      },
      "outputs": [
        {
          "output_type": "stream",
          "name": "stdout",
          "text": [
            "Item 1\n",
            "Item 3\n",
            "Item 5\n",
            "Item 7\n",
            "Item 9\n"
          ]
        }
      ],
      "source": [
        "# continue 문을 사용하면 해당 반복만 건너뛴다.\n",
        "for i in L:\n",
        "    if i % 2 == 0:\n",
        "        continue\n",
        "    print('Item {0}'.format(i))"
      ]
    },
    {
      "cell_type": "code",
      "execution_count": null,
      "metadata": {
        "colab": {
          "base_uri": "https://localhost:8080/"
        },
        "id": "9tk7yote_X0X",
        "outputId": "bfe0969f-2cd0-432b-df34-a55e205381a4"
      },
      "outputs": [
        {
          "output_type": "execute_result",
          "data": {
            "text/plain": [
              "[0, 1, 2, 3, 4, 5, 6, 7, 8, 9]"
            ]
          },
          "metadata": {},
          "execution_count": 1
        }
      ],
      "source": [
        "# range 함수를 사용하면 특정 범위의 숫자를 생성할 수 있다.\n",
        "print(list(range(10)))           # 0 <= x < 10 범위의 숫자\n",
        "print(list(range(5, 10)))        # 5 <= x < 10 범위의 숫자\n",
        "print(list(range(10, 0, -1)))    # 1 < x <= 10 범위의 숫자\n",
        "print(list(range(0, 10, 2)))     # 0 <= x < 10 ㅂ"
      ]
    },
    {
      "cell_type": "code",
      "source": [
        "L = ['Apple', 'Orange', 'Banana']\n",
        "\n",
        "for i in L:\n",
        "  print(i)"
      ],
      "metadata": {
        "id": "OB4yoXOZ_iXQ",
        "colab": {
          "base_uri": "https://localhost:8080/"
        },
        "outputId": "ba45b70d-a524-4fac-d909-3d42d2d6eb60"
      },
      "execution_count": null,
      "outputs": [
        {
          "output_type": "stream",
          "name": "stdout",
          "text": [
            "Apple\n",
            "Orange\n",
            "Banana\n"
          ]
        }
      ]
    },
    {
      "cell_type": "code",
      "source": [
        "l = list(range(1, 6))"
      ],
      "metadata": {
        "id": "Uo4WVHpaAgf-"
      },
      "execution_count": null,
      "outputs": []
    },
    {
      "cell_type": "code",
      "source": [
        "[print(i) for i in l]     # 리스트 컴프리헨션(List Comprehension)  -> 파이썬에서만 볼 수 있는 기능\n",
        "\n",
        "\"\"\"\n",
        "다음과 같다.\n",
        "for i in l:\n",
        "  print(i)\n",
        "\"\"\""
      ],
      "metadata": {
        "colab": {
          "base_uri": "https://localhost:8080/",
          "height": 127
        },
        "id": "25mmaF-dAqrw",
        "outputId": "0d885246-7b7e-4b42-83c1-f6a84c48d131"
      },
      "execution_count": null,
      "outputs": [
        {
          "output_type": "stream",
          "name": "stdout",
          "text": [
            "1\n",
            "2\n",
            "3\n",
            "4\n",
            "5\n"
          ]
        },
        {
          "output_type": "execute_result",
          "data": {
            "text/plain": [
              "'\\n다음과 같다.\\nfor i in l:\\n  print(i)\\n'"
            ],
            "application/vnd.google.colaboratory.intrinsic+json": {
              "type": "string"
            }
          },
          "metadata": {},
          "execution_count": 15
        }
      ]
    },
    {
      "cell_type": "code",
      "source": [
        "[i**2 for i in l]"
      ],
      "metadata": {
        "colab": {
          "base_uri": "https://localhost:8080/"
        },
        "id": "Gycoa0nrAz4f",
        "outputId": "f1769a4d-1cd1-497f-bc37-cfc344cc81c3"
      },
      "execution_count": null,
      "outputs": [
        {
          "output_type": "execute_result",
          "data": {
            "text/plain": [
              "[1, 4, 9, 16, 25]"
            ]
          },
          "metadata": {},
          "execution_count": 16
        }
      ]
    },
    {
      "cell_type": "code",
      "source": [],
      "metadata": {
        "id": "LKM0GhlbBHU0"
      },
      "execution_count": null,
      "outputs": []
    }
  ],
  "metadata": {
    "kernelspec": {
      "display_name": "base",
      "language": "python",
      "name": "python3"
    },
    "language_info": {
      "name": "python",
      "version": "3.10.9"
    },
    "orig_nbformat": 4,
    "colab": {
      "provenance": []
    }
  },
  "nbformat": 4,
  "nbformat_minor": 0
}