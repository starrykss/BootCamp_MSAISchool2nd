{
  "cells": [
    {
      "cell_type": "markdown",
      "metadata": {
        "id": "cfMioyFyQTn3"
      },
      "source": [
        "# **클래스**\n",
        "---"
      ]
    },
    {
      "cell_type": "markdown",
      "metadata": {
        "id": "hyYDMVUaDrNx"
      },
      "source": [
        "## **Class**\n",
        "---"
      ]
    },
    {
      "cell_type": "code",
      "execution_count": null,
      "metadata": {
        "id": "fOq5SEVlDWh7"
      },
      "outputs": [],
      "source": [
        "# Class의 사용법\n",
        "class MyClass:\n",
        "  pass"
      ]
    },
    {
      "cell_type": "code",
      "execution_count": null,
      "metadata": {
        "colab": {
          "base_uri": "https://localhost:8080/"
        },
        "id": "s-BHPOHDF59q",
        "outputId": "61e7550d-806f-447f-ef6d-bd751d646ee6"
      },
      "outputs": [
        {
          "name": "stdout",
          "output_type": "stream",
          "text": [
            "<class '__main__.MyClass'>\n",
            "55718624\n"
          ]
        }
      ],
      "source": [
        "print(MyClass)        # __main__ 메모리에 붙어있는 MyClass\n",
        "print(id(MyClass))    # 메모리 주소 확인"
      ]
    },
    {
      "cell_type": "code",
      "execution_count": null,
      "metadata": {
        "id": "hyaEVuchGxlp"
      },
      "outputs": [],
      "source": [
        "class Person:\n",
        "  Name = 'Default Name'\n",
        "\n",
        "  # 메서드 추가\n",
        "  def Print(self):\n",
        "    print('My Name is {0}'.format(self.Name))   # C++ 등에서는 self 대신 this 키워드를 사용한다.\n",
        "\n",
        "# 인스턴스 만들기 (p1)\n",
        "p1 = Person()"
      ]
    },
    {
      "cell_type": "code",
      "execution_count": null,
      "metadata": {
        "colab": {
          "base_uri": "https://localhost:8080/"
        },
        "id": "rVu0lgczMM5o",
        "outputId": "3a754b36-b263-45ce-fd4a-03500b6effbc"
      },
      "outputs": [
        {
          "name": "stdout",
          "output_type": "stream",
          "text": [
            "My Name is Default Name\n"
          ]
        }
      ],
      "source": [
        "p1.Print()"
      ]
    },
    {
      "cell_type": "code",
      "execution_count": null,
      "metadata": {
        "colab": {
          "base_uri": "https://localhost:8080/"
        },
        "id": "bcjCmC-NMS-H",
        "outputId": "92aa9e3b-1a85-455e-fcca-b06faeec9694"
      },
      "outputs": [
        {
          "name": "stdout",
          "output_type": "stream",
          "text": [
            "My Name is 윤하\n"
          ]
        }
      ],
      "source": [
        "p1.Name = '윤하'\n",
        "p1.Print()"
      ]
    },
    {
      "cell_type": "code",
      "execution_count": null,
      "metadata": {
        "colab": {
          "base_uri": "https://localhost:8080/"
        },
        "id": "J_Fh-nX_Mek4",
        "outputId": "55e3842f-e4c1-4a03-e36f-fd8fe7cc3e6f"
      },
      "outputs": [
        {
          "name": "stdout",
          "output_type": "stream",
          "text": [
            "My Name is 박보검\n",
            "My Name is 민아\n"
          ]
        }
      ],
      "source": [
        "p1 = Person()\n",
        "p2 = Person()\n",
        "\n",
        "p1.Name = \"박보검\"\n",
        "p2.Name = \"민아\"\n",
        "\n",
        "p1.Print()\n",
        "p2.Print()"
      ]
    },
    {
      "cell_type": "code",
      "execution_count": null,
      "metadata": {
        "id": "P_ssBUNEN4t5"
      },
      "outputs": [],
      "source": [
        "Person.Title = 'new Title'    # Person이라는 클래스에 Title이라는 속성 추가 (파이썬의 특징)"
      ]
    },
    {
      "cell_type": "code",
      "execution_count": null,
      "metadata": {
        "colab": {
          "base_uri": "https://localhost:8080/"
        },
        "id": "lPiQfPFhN9_4",
        "outputId": "a449dee5-1fdf-4e1b-eb95-1db7b574407c"
      },
      "outputs": [
        {
          "name": "stdout",
          "output_type": "stream",
          "text": [
            "new Title\n",
            "new Title\n"
          ]
        }
      ],
      "source": [
        "print(p1.Title)           # 클래스를 수정하면 클래스로 찍어낸 모든 인스턴스에 영향을 준다.\n",
        "print(p2.Title)     # 이렇게 마구잡이로 속성을 추가하는 것은 권장되지 않음."
      ]
    },
    {
      "cell_type": "code",
      "execution_count": null,
      "metadata": {
        "colab": {
          "base_uri": "https://localhost:8080/"
        },
        "id": "5bxPO5olOKi3",
        "outputId": "91dbe7bd-8dd1-4765-d35b-be0e7a28a00b"
      },
      "outputs": [
        {
          "name": "stdout",
          "output_type": "stream",
          "text": [
            "30\n"
          ]
        }
      ],
      "source": [
        "p1.Age = 30          # 다음과 같이 새로운 속성(age)을 추가할 수도 있다.\n",
        "print(p1.Age)"
      ]
    },
    {
      "cell_type": "code",
      "execution_count": null,
      "metadata": {
        "colab": {
          "base_uri": "https://localhost:8080/",
          "height": 193
        },
        "id": "0Fj7KeF1OhK4",
        "outputId": "51ddbb2e-3a0f-4130-ce5a-d705709d8d4e"
      },
      "outputs": [
        {
          "ename": "AttributeError",
          "evalue": "ignored",
          "output_type": "error",
          "traceback": [
            "\u001b[0;31m---------------------------------------------------------------------------\u001b[0m",
            "\u001b[0;31mAttributeError\u001b[0m                            Traceback (most recent call last)",
            "\u001b[0;32m<ipython-input-115-185c956ff7d7>\u001b[0m in \u001b[0;36m<cell line: 1>\u001b[0;34m()\u001b[0m\n\u001b[0;32m----> 1\u001b[0;31m \u001b[0mprint\u001b[0m\u001b[0;34m(\u001b[0m\u001b[0mp2\u001b[0m\u001b[0;34m.\u001b[0m\u001b[0mAge\u001b[0m\u001b[0;34m)\u001b[0m     \u001b[0;31m# Age라는 속성은 p1에만 추가되어 있다.그래서 오류가 출력된다.\u001b[0m\u001b[0;34m\u001b[0m\u001b[0;34m\u001b[0m\u001b[0m\n\u001b[0m\u001b[1;32m      2\u001b[0m \u001b[0;31m# 중간에 속성을 채워넣는 방법은 사용하지 않는 것이 좋다.\u001b[0m\u001b[0;34m\u001b[0m\u001b[0;34m\u001b[0m\u001b[0m\n",
            "\u001b[0;31mAttributeError\u001b[0m: 'Person' object has no attribute 'Age'"
          ]
        }
      ],
      "source": [
        "print(p2.Age)     # Age라는 속성은 p1에만 추가되어 있다.그래서 오류가 출력된다.\n",
        "# 중간에 속성을 채워넣는 방법은 사용하지 않는 것이 좋다."
      ]
    },
    {
      "cell_type": "markdown",
      "metadata": {
        "id": "HAMP2xKOQO4v"
      },
      "source": [
        "## **Class와 상속**\n",
        "---"
      ]
    },
    {
      "cell_type": "code",
      "execution_count": null,
      "metadata": {
        "id": "2J-ymHL_PBgW"
      },
      "outputs": [],
      "source": [
        "# Class와 상속\n",
        "class Person:\n",
        "  pass"
      ]
    },
    {
      "cell_type": "code",
      "execution_count": null,
      "metadata": {
        "id": "BVVmj0UyPmy3"
      },
      "outputs": [],
      "source": [
        "# Student 클래스는 Person 클래스로부터 상속 받는다.\n",
        "# Person 클래스 : 부모 클래스 (슈퍼 클래스)\n",
        "# Student 클래스 : 자식 클래스 (서브 클래스)\n",
        "class Student(Person):     # 상속 받을 클래스를 괄호 안에 넣어준다.\n",
        "  pass"
      ]
    },
    {
      "cell_type": "code",
      "execution_count": null,
      "metadata": {
        "id": "eWUVm5AZP4Gg"
      },
      "outputs": [],
      "source": [
        "class Bird:\n",
        "  pass"
      ]
    },
    {
      "cell_type": "code",
      "execution_count": null,
      "metadata": {
        "id": "_v90pHzzP5tH"
      },
      "outputs": [],
      "source": [
        "p = Person()\n",
        "s = Student()"
      ]
    },
    {
      "cell_type": "code",
      "execution_count": null,
      "metadata": {
        "colab": {
          "base_uri": "https://localhost:8080/"
        },
        "id": "QrwDsoJKQaGm",
        "outputId": "0626f6f2-328a-493a-99e8-463db41c21e5"
      },
      "outputs": [
        {
          "name": "stdout",
          "output_type": "stream",
          "text": [
            "True\n",
            "True\n",
            "True\n",
            "True\n"
          ]
        }
      ],
      "source": [
        "# isinstance\n",
        "print(isinstance(p, Person))     # p는 Person으로 만든 인스턴스가 맞는지 물어보기\n",
        "print(isinstance(s, Person))     # 상속 관계에 있으면 인스턴스가 맞다고 출력된다.\n",
        "print(isinstance(s, object))     # 파이썬 생태계에 있는 모든 클래스는 object에 의해 상속받는다.\n",
        "print(isinstance(int, object))   # 정수 또한 object에서 상속 받은 클래스이다."
      ]
    },
    {
      "cell_type": "markdown",
      "metadata": {
        "id": "NvwiGP-5RB-2"
      },
      "source": [
        "![Object는 모든 클래스의 부모 클래스이다.](https://i.stack.imgur.com/33Zt8.png)"
      ]
    },
    {
      "cell_type": "markdown",
      "metadata": {
        "id": "W5cHv3tARlH_"
      },
      "source": [
        "## **생성자, 소멸자 메서드**\n",
        "---"
      ]
    },
    {
      "cell_type": "code",
      "execution_count": null,
      "metadata": {
        "id": "J2xDjmBtQfTX"
      },
      "outputs": [],
      "source": [
        "class MyClass:\n",
        "  # 생성자 생성 : __init__ 키워드를 사용한다.\n",
        "  def __init__(self):            # 기본적으로 self 키워드를 매개변수로 넣어준다.\n",
        "    print(\"class is created\")"
      ]
    },
    {
      "cell_type": "code",
      "execution_count": null,
      "metadata": {
        "colab": {
          "base_uri": "https://localhost:8080/"
        },
        "id": "0mmOHWfUR-J_",
        "outputId": "51d4231f-3582-48f0-c7b2-c101f50787dc"
      },
      "outputs": [
        {
          "name": "stdout",
          "output_type": "stream",
          "text": [
            "class is created\n"
          ]
        }
      ],
      "source": [
        "my = MyClass()\n",
        "del my    # 인스턴스 삭제하기"
      ]
    },
    {
      "cell_type": "code",
      "execution_count": null,
      "metadata": {
        "id": "2-hYRzPOSAQW"
      },
      "outputs": [],
      "source": [
        "class Person:\n",
        "  Name = ''    # 속성과 메서드의 이름 맨 앞글자를 대문자로 만드는 것은 업계의 관례이다.\n",
        "  Age = 0\n",
        "\n",
        "  def __init__(self, name, age):   # 생성자에 매개변수(name, age)을 넣어준다. name과 age는 무조건 인자로 넣어야 한다.\n",
        "    self.Name = name\n",
        "    self.Age = age\n",
        "\n",
        "  def PrintName(self):    # 클래스와 상관 있는 메서드의 매개변수에는 self를 무조건 붙여줘야 한다.\n",
        "    print(self.Name)\n",
        "    print(self.Age)"
      ]
    },
    {
      "cell_type": "code",
      "execution_count": null,
      "metadata": {
        "colab": {
          "base_uri": "https://localhost:8080/",
          "height": 174
        },
        "id": "jnwnlF6nTnUG",
        "outputId": "a9281a3b-704f-4abf-9aed-5e3eca08a22f"
      },
      "outputs": [
        {
          "ename": "TypeError",
          "evalue": "ignored",
          "output_type": "error",
          "traceback": [
            "\u001b[0;31m---------------------------------------------------------------------------\u001b[0m",
            "\u001b[0;31mTypeError\u001b[0m                                 Traceback (most recent call last)",
            "\u001b[0;32m<ipython-input-124-0905dfbc0959>\u001b[0m in \u001b[0;36m<cell line: 1>\u001b[0;34m()\u001b[0m\n\u001b[0;32m----> 1\u001b[0;31m \u001b[0merr1\u001b[0m \u001b[0;34m=\u001b[0m \u001b[0mPerson\u001b[0m\u001b[0;34m(\u001b[0m\u001b[0;34m)\u001b[0m        \u001b[0;31m# 기본 인자(name, age)가 들어 있지 않기 때문에 오류가 발생한다.\u001b[0m\u001b[0;34m\u001b[0m\u001b[0;34m\u001b[0m\u001b[0m\n\u001b[0m",
            "\u001b[0;31mTypeError\u001b[0m: __init__() missing 2 required positional arguments: 'name' and 'age'"
          ]
        }
      ],
      "source": [
        "err1 = Person()        # 기본 인자(name, age)가 들어 있지 않기 때문에 오류가 발생한다."
      ]
    },
    {
      "cell_type": "code",
      "execution_count": null,
      "metadata": {
        "colab": {
          "base_uri": "https://localhost:8080/",
          "height": 174
        },
        "id": "LBj4abflUAyu",
        "outputId": "77feda74-d680-4489-fbfe-5711965af190"
      },
      "outputs": [
        {
          "ename": "TypeError",
          "evalue": "ignored",
          "output_type": "error",
          "traceback": [
            "\u001b[0;31m---------------------------------------------------------------------------\u001b[0m",
            "\u001b[0;31mTypeError\u001b[0m                                 Traceback (most recent call last)",
            "\u001b[0;32m<ipython-input-125-7737955603ff>\u001b[0m in \u001b[0;36m<cell line: 1>\u001b[0;34m()\u001b[0m\n\u001b[0;32m----> 1\u001b[0;31m \u001b[0merr2\u001b[0m \u001b[0;34m=\u001b[0m \u001b[0mPerson\u001b[0m\u001b[0;34m(\u001b[0m\u001b[0;34m\"Kim\"\u001b[0m\u001b[0;34m)\u001b[0m   \u001b[0;31m# 기본 인자(age)가 들어 있지 않기 때문에 오류가 발생한다.\u001b[0m\u001b[0;34m\u001b[0m\u001b[0;34m\u001b[0m\u001b[0m\n\u001b[0m",
            "\u001b[0;31mTypeError\u001b[0m: __init__() missing 1 required positional argument: 'age'"
          ]
        }
      ],
      "source": [
        "err2 = Person(\"Kim\")   # 기본 인자(age)가 들어 있지 않기 때문에 오류가 발생한다."
      ]
    },
    {
      "cell_type": "code",
      "execution_count": null,
      "metadata": {
        "colab": {
          "base_uri": "https://localhost:8080/"
        },
        "id": "Y4HgJh_zTPSm",
        "outputId": "c79414f9-a917-4972-ebbc-df82b7ebfdba"
      },
      "outputs": [
        {
          "name": "stdout",
          "output_type": "stream",
          "text": [
            "황비홍\n",
            "40\n"
          ]
        }
      ],
      "source": [
        "  P = Person('황비홍', 40)\n",
        "  P.PrintName()"
      ]
    },
    {
      "cell_type": "code",
      "execution_count": null,
      "metadata": {
        "id": "mJsP7zZTTaKG"
      },
      "outputs": [],
      "source": [
        "class Person2:\n",
        "  Name = '' \n",
        "  Age = 0\n",
        "\n",
        "  def __init__(self, name, age):  \n",
        "    self.Name = name\n",
        "    self.Age = age\n",
        "\n",
        "  # 소멸자 생성 : __del__ 키워드를 사용한다.\n",
        "  def __del__(self):\n",
        "    print(\"{0} 잘살다 갑니다.\".format(self.Name))\n",
        "\n",
        "  def PrintName(self):  \n",
        "    print(self.Name)\n",
        "    print(self.Age)"
      ]
    },
    {
      "cell_type": "code",
      "execution_count": null,
      "metadata": {
        "colab": {
          "base_uri": "https://localhost:8080/"
        },
        "id": "0EmtJOVQU1RF",
        "outputId": "289b69bb-490a-4ca9-ad36-c5e53b2120ca"
      },
      "outputs": [
        {
          "name": "stdout",
          "output_type": "stream",
          "text": [
            "황비홍 잘살다 갑니다.\n"
          ]
        }
      ],
      "source": [
        "sheIsGone = Person2('황비홍', 99)\n",
        "del sheIsGone"
      ]
    },
    {
      "cell_type": "markdown",
      "metadata": {
        "id": "x8dYtIndYSPl"
      },
      "source": [
        "## **정적 메서드(Static Method)**\n",
        "\n",
        "- 한 번 할당되면 바뀌지 않는 메서드\n",
        "---"
      ]
    },
    {
      "cell_type": "code",
      "execution_count": null,
      "metadata": {
        "id": "N7y1q75mU7D0"
      },
      "outputs": [],
      "source": [
        "class CounterManager:\n",
        "  InsCount = 0    # 멤버 변수 생성\n",
        "\n",
        "  def __init__(self):    # 생성자 생성\n",
        "    CounterManager.InsCount += 1\n",
        "  \n",
        "  def PrintInstanceCount():\n",
        "    print(\"Instance Count : \", CounterManager.InsCount)"
      ]
    },
    {
      "cell_type": "code",
      "execution_count": null,
      "metadata": {
        "id": "DLfK8NSeY7f8"
      },
      "outputs": [],
      "source": [
        "a = CounterManager()\n",
        "b = CounterManager()\n",
        "c = CounterManager()"
      ]
    },
    {
      "cell_type": "code",
      "execution_count": null,
      "metadata": {
        "colab": {
          "base_uri": "https://localhost:8080/"
        },
        "id": "PoOXGRhLY_5F",
        "outputId": "889cacdc-4900-4d49-bd4d-a5f993acdc7c"
      },
      "outputs": [
        {
          "name": "stdout",
          "output_type": "stream",
          "text": [
            "Instance Count :  3\n"
          ]
        }
      ],
      "source": [
        "CounterManager.PrintInstanceCount()     # 클래스(설계 도면)를 직접 사용하는 것은 금기 사항이다."
      ]
    },
    {
      "cell_type": "code",
      "execution_count": null,
      "metadata": {
        "colab": {
          "base_uri": "https://localhost:8080/",
          "height": 193
        },
        "id": "9Fl53WRSZbR8",
        "outputId": "d9c931a4-837e-4eb2-c8c2-d9a5c54e1861"
      },
      "outputs": [
        {
          "ename": "TypeError",
          "evalue": "ignored",
          "output_type": "error",
          "traceback": [
            "\u001b[0;31m---------------------------------------------------------------------------\u001b[0m",
            "\u001b[0;31mTypeError\u001b[0m                                 Traceback (most recent call last)",
            "\u001b[0;32m<ipython-input-132-bc175e77e51e>\u001b[0m in \u001b[0;36m<cell line: 2>\u001b[0;34m()\u001b[0m\n\u001b[1;32m      1\u001b[0m \u001b[0mp\u001b[0m \u001b[0;34m=\u001b[0m \u001b[0mCounterManager\u001b[0m\u001b[0;34m(\u001b[0m\u001b[0;34m)\u001b[0m\u001b[0;34m\u001b[0m\u001b[0;34m\u001b[0m\u001b[0m\n\u001b[0;32m----> 2\u001b[0;31m \u001b[0mp\u001b[0m\u001b[0;34m.\u001b[0m\u001b[0mPrintInstanceCount\u001b[0m\u001b[0;34m(\u001b[0m\u001b[0;34m)\u001b[0m    \u001b[0;31m# 에러 발생 (PrintInstanceCount()에 self 매개변수가 빠졌기 때문)\u001b[0m\u001b[0;34m\u001b[0m\u001b[0;34m\u001b[0m\u001b[0m\n\u001b[0m",
            "\u001b[0;31mTypeError\u001b[0m: PrintInstanceCount() takes 0 positional arguments but 1 was given"
          ]
        }
      ],
      "source": [
        "p = CounterManager()\n",
        "p.PrintInstanceCount()    # 에러 발생 (PrintInstanceCount()에 self 매개변수가 빠졌기 때문)"
      ]
    },
    {
      "cell_type": "code",
      "execution_count": null,
      "metadata": {
        "id": "QBVGk5R3Z7y2"
      },
      "outputs": [],
      "source": [
        "class CounterManager:\n",
        "  InsCount = 0 \n",
        "\n",
        "  def __init__(self): \n",
        "    CounterManager.InsCount += 1\n",
        "  \n",
        "  def PrintInstanceCount(self):    # self를 매개변수에 넣음.\n",
        "    print(\"Instance Count : \", CounterManager.InsCount)"
      ]
    },
    {
      "cell_type": "code",
      "execution_count": null,
      "metadata": {
        "colab": {
          "base_uri": "https://localhost:8080/"
        },
        "id": "Fk96RxKwaFvE",
        "outputId": "d02e87f5-5a7d-4090-f2bc-566b18d3161c"
      },
      "outputs": [
        {
          "name": "stdout",
          "output_type": "stream",
          "text": [
            "Instance Count :  1\n"
          ]
        }
      ],
      "source": [
        "p = CounterManager()\n",
        "p.PrintInstanceCount()    # 정상 출력"
      ]
    },
    {
      "cell_type": "code",
      "execution_count": null,
      "metadata": {
        "id": "iO_q_RzYaGAT"
      },
      "outputs": [],
      "source": [
        "class CounterManager:\n",
        "  InsCount = 0 \n",
        "\n",
        "  def __init__(self): \n",
        "    CounterManager.InsCount += 1\n",
        "  \n",
        "  def PrintInstanceCount(self):    # self를 매개변수에 넣음.\n",
        "    print(\"Instance Count : \", CounterManager.InsCount)\n",
        "\n",
        "  # 정적 메서드 선언\n",
        "  StaticCount = staticmethod(PrintInstanceCount)      # staticmethod 함수를 사용하여 정적 메서드 정의\n"
      ]
    },
    {
      "cell_type": "code",
      "execution_count": null,
      "metadata": {
        "colab": {
          "base_uri": "https://localhost:8080/"
        },
        "id": "QCuHU0cxameu",
        "outputId": "8e38ff44-ab41-4cf1-eda0-d0022da32316"
      },
      "outputs": [
        {
          "name": "stdout",
          "output_type": "stream",
          "text": [
            "Instance Count :  1\n"
          ]
        }
      ],
      "source": [
        "p = CounterManager()\n",
        "p.PrintInstanceCount()    # 정상 출력"
      ]
    },
    {
      "cell_type": "code",
      "execution_count": null,
      "metadata": {
        "id": "lrmcxNrhasPV"
      },
      "outputs": [],
      "source": [
        "# 정적 메서드는 클래스와 연결되어 있지만, 해당 클래스의 특정 인스턴스와는 연결되어 있지 않습니다. \n",
        "# 이러한 메서드에는 클래스의 객체가 입력 인수로 필요하지 않습니다. \n",
        "# 따라서, 클래스의 객체를 생성하지 않고 정적 메서드를 호출할 수 있습니다"
      ]
    },
    {
      "cell_type": "markdown",
      "metadata": {
        "id": "ZsIkhzE-bcPM"
      },
      "source": [
        "## **상속의 심화**\n",
        "---"
      ]
    },
    {
      "cell_type": "code",
      "execution_count": null,
      "metadata": {
        "id": "HQwJlPG9bbXt"
      },
      "outputs": [],
      "source": [
        "class Person:\n",
        "\n",
        "  def __init__(self, name, phone):\n",
        "    self.Name = name\n",
        "    self.Phone = phone\n",
        "\n",
        "  def PrintInfo(self):\n",
        "    print(\"Info(Name) : {0}, Info(Phone) : {1}\".format(self.name, self.phone))\n",
        "\n",
        "  def PrintPersonData(self):\n",
        "    print(\"Person(Name) : {0}, Info(Phone) : {1}\".format(self.name, self.phone))"
      ]
    },
    {
      "cell_type": "code",
      "execution_count": null,
      "metadata": {
        "id": "LAac5e1hcjgE"
      },
      "outputs": [],
      "source": [
        "class Student(Person):    # 자식 클래스 생성\n",
        "  def __init__(self, name, phone, subject, studentID):\n",
        "    self.Name = name\n",
        "    self.Phone = phone\n",
        "    self.Subject = subject\n",
        "    self.StudentID = studentID\n",
        "\n",
        "  def PrintStudentData(self):\n",
        "    print(\"Student(Name) : {0}, StudentID : {1}\".format(self.name, self.StudentID))\n",
        "  \n",
        "  def PrintPersonalData(self):    # 메서드 오버라이드(재정의)\n",
        "    print(\"{0}님의 전공은 {1}입니다.\".format(self.Name, self.Subject))\n",
        "    return super().PrintPersonData()     # 새로 정의"
      ]
    },
    {
      "cell_type": "code",
      "execution_count": null,
      "metadata": {
        "id": "jpimG_-_cpFk"
      },
      "outputs": [],
      "source": [
        "p = Person('박보검', '010-1234-4567')\n",
        "s = Student('민아', '010-2222-4444', 'Computer', '0001')"
      ]
    },
    {
      "cell_type": "code",
      "execution_count": null,
      "metadata": {
        "colab": {
          "base_uri": "https://localhost:8080/"
        },
        "id": "kdT4w-Z-dH5U",
        "outputId": "18a8ae49-18f1-4b85-d504-ca11c4cccdad"
      },
      "outputs": [
        {
          "name": "stdout",
          "output_type": "stream",
          "text": [
            "{'Name': '박보검', 'Phone': '010-1234-4567'}\n",
            "{'Name': '민아', 'Phone': '010-2222-4444', 'Subject': 'Computer', 'StudentID': '0001'}\n"
          ]
        }
      ],
      "source": [
        "print(p.__dict__)     # 클래스 안의 내용물을 딕셔너리 타입으로 볼 수 있다.\n",
        "print(s.__dict__)"
      ]
    },
    {
      "cell_type": "code",
      "execution_count": null,
      "metadata": {
        "colab": {
          "base_uri": "https://localhost:8080/"
        },
        "id": "3_7pbKqjdSZ0",
        "outputId": "d00cf5f5-eb48-4202-9a0e-98e090780d02"
      },
      "outputs": [
        {
          "name": "stdout",
          "output_type": "stream",
          "text": [
            "True\n",
            "False\n"
          ]
        }
      ],
      "source": [
        "# 상속관계를 확인\n",
        "print(issubclass(Student, Person))     # Student가 Person의 서브 클래스인지 확인\n",
        "print(issubclass(Person, Student))     # Person이 Student의 서브 클래스인지 확인"
      ]
    },
    {
      "attachments": {},
      "cell_type": "markdown",
      "metadata": {},
      "source": [
        "## **다중 상속**\n",
        "---"
      ]
    },
    {
      "cell_type": "code",
      "execution_count": 1,
      "metadata": {
        "id": "kAyJy0CTeyLV"
      },
      "outputs": [],
      "source": [
        "class Tiger:\n",
        "    def Jump(self):\n",
        "        print('호랑이 점프')\n",
        "\n",
        "class Lion:\n",
        "    def Bite(self):\n",
        "        print('사자의 물기')\n",
        "\n",
        "class Liger(Tiger, Lion):      # Tiger와 Lion 클래스로부터 상속 받는다.\n",
        "    def Play(self):\n",
        "        print('라이거의 물기')"
      ]
    },
    {
      "cell_type": "code",
      "execution_count": 3,
      "metadata": {},
      "outputs": [
        {
          "name": "stdout",
          "output_type": "stream",
          "text": [
            "호랑이 점프\n",
            "사자의 물기\n",
            "라이거의 물기\n"
          ]
        }
      ],
      "source": [
        "l = Liger()\n",
        "\n",
        "l.Jump()\n",
        "l.Bite()\n",
        "l.Play()"
      ]
    },
    {
      "cell_type": "code",
      "execution_count": null,
      "metadata": {},
      "outputs": [],
      "source": []
    }
  ],
  "metadata": {
    "colab": {
      "provenance": []
    },
    "kernelspec": {
      "display_name": "Python 3",
      "name": "python3"
    },
    "language_info": {
      "codemirror_mode": {
        "name": "ipython",
        "version": 3
      },
      "file_extension": ".py",
      "mimetype": "text/x-python",
      "name": "python",
      "nbconvert_exporter": "python",
      "pygments_lexer": "ipython3",
      "version": "3.10.9"
    }
  },
  "nbformat": 4,
  "nbformat_minor": 0
}
